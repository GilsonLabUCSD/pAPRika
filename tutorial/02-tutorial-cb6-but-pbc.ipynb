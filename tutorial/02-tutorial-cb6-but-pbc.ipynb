{
 "cells": [
  {
   "cell_type": "markdown",
   "metadata": {},
   "source": [
    "# pAPRika tutorial 2\n",
    "\n",
    "In this example, we will setup and simulate butane (BUT) as a guest molecule for the host [cucurbit[6]uril](https://en.wikipedia.org/wiki/Cucurbituril) (CB6). \n",
    "\n",
    "Unlike the previous tutorial, in this one, we will solvate the host-guest complex in water with additional Na<sup>+</sup> and Cl<sup>-</sup> ions. This tutorial builds off tutorial 1. I've marked new pieces of information with a blue square, like so:\n",
    "\n",
    "![#1589F0](https://placehold.it/15/1589F0/000000?text=+) Since we have a prepared host-guest-dummy setup from the first tutorial, I'm going to skip the initial `tleap` steps and go right into initializing the restraints. \n",
    "\n",
    "![#1589F0](https://placehold.it/15/1589F0/000000?text=+) The default mode of pAPRika is to detect whether a simulation has completed successfully, and if so, skip that window. This helps when launching mulitple jobs on a cluster or queuing system that might kill jobs after a pre-determined time. That means that running this notebook with the same set of windows as the first tutorial will not re-run the simulations and the results won't change. The easiest thing to do is to rename or delete the existing `windows` directory, if you would like to compare the results between the two methods."
   ]
  },
  {
   "cell_type": "markdown",
   "metadata": {},
   "source": [
    "## Determine the number of windows\n",
    "\n",
    "Before we add the restraints, it is helpful to set the $\\lambda$ fractions that control the strength of the force constants during attach and release, and to define the distances for the pulling phase.\n",
    "\n",
    "The attach fractions go from 0 to 1 and we place more points at the bottom of the range to sample the curvature of $dU/d \\lambda$. Next, we generally apply a distance restraint until the guest is ~18 Angstroms away from the host, in increments of 0.4 Angstroms. This distance should be at least twice the Lennard-Jones cutoff in the system. These values have worked well for us, but this is one aspect that should be carefully checked for new systems."
   ]
  },
  {
   "cell_type": "code",
   "execution_count": 54,
   "metadata": {},
   "outputs": [],
   "source": [
    "attach_string = \"0.00 0.40 0.80 1.60 2.40 4.00 5.50 8.65 11.80 18.10 24.40 37.00 49.60 74.80 100.00\"\n",
    "attach_fractions = [float(i) / 100 for i in attach_string.split()]"
   ]
  },
  {
   "cell_type": "code",
   "execution_count": 55,
   "metadata": {},
   "outputs": [],
   "source": [
    "import numpy as np\n",
    "initial_distance = 6.0\n",
    "pull_distances = np.arange(0.0 + initial_distance, 18.0 + initial_distance, 1.0)"
   ]
  },
  {
   "cell_type": "markdown",
   "metadata": {},
   "source": [
    "These values will be used to measure distance relative to the first dummy atom, hence the addition of `6.00`."
   ]
  },
  {
   "cell_type": "code",
   "execution_count": 56,
   "metadata": {},
   "outputs": [],
   "source": [
    "release_fractions = attach_fractions[::-1]"
   ]
  },
  {
   "cell_type": "code",
   "execution_count": 57,
   "metadata": {},
   "outputs": [
    {
     "name": "stdout",
     "output_type": "stream",
     "text": [
      "There are [15, 18, 15] windows in this attach-pull-release calculation.\n"
     ]
    }
   ],
   "source": [
    "windows = [len(attach_fractions), len(pull_distances), len(release_fractions)]\n",
    "print(f\"There are {windows} windows in this attach-pull-release calculation.\")"
   ]
  },
  {
   "cell_type": "markdown",
   "metadata": {},
   "source": [
    "Alternatively, we could specify the number of windows for each phase and the force constants and targets will be linearly interpolated. Other ways of specifying these values are documented in the code."
   ]
  },
  {
   "cell_type": "markdown",
   "metadata": {},
   "source": [
    "## Add restraints using pAPRika\n",
    "\n",
    "`pAPRika` supports four different types of restraints:\n",
    "\n",
    "\n",
    "- Static restraints: these six restraints keep the host and in the proper orientation during the simulation (necessary),\n",
    "- Guest restraints: these restraints pull the guest away from the host along the $z$ axis (necessary),\n",
    "- Conformational restraints: these restraints alter the conformational sampling of the host molecule (optional), and\n",
    "- Wall restraints: these restraints help define the bound state of the guest (optional).\n",
    "\n",
    "More information on these restraints can be found in:\n",
    "\n",
    "Henriksen, N.M., Fenley, A.T., and Gilson, M.K. (2015). Computational Calorimetry: High-Precision Calculation of Host-Guest Binding Thermodynamics. J. Chem. Theory Comput. 11, 4377–4394. [DOI](http://doi.org/10.1021/acs.jctc.5b00405)\n",
    "\n",
    "In this example, I will show how to setup the static restraints and the guest restraints.\n",
    "\n",
    "We have already added the dummy atoms and we have already defined the guest anchor atoms. Now we need to define the host anchor atoms (H1, H2, and H3) in the above diagram. The host anchors should be heavy atoms distributed around the cavity (and around the pulling axis). One caveat is that the host anchors should be rigid relative to each other, so conformational restraints do not shift the alignment of the pulling axis relative to the solvation box. For CB6, I have chosen carbons around the central ridge."
   ]
  },
  {
   "cell_type": "code",
   "execution_count": 58,
   "metadata": {},
   "outputs": [],
   "source": [
    "G1 = \":BUT@C\"\n",
    "G2 = \":BUT@C3\""
   ]
  },
  {
   "cell_type": "code",
   "execution_count": 59,
   "metadata": {},
   "outputs": [],
   "source": [
    "H1 = \":CB6@C\"\n",
    "H2 = \":CB6@C31\"\n",
    "H3 = \":CB6@C18\""
   ]
  },
  {
   "cell_type": "markdown",
   "metadata": {},
   "source": [
    "I'll also make a shorthand for the dummy atoms."
   ]
  },
  {
   "cell_type": "code",
   "execution_count": 60,
   "metadata": {},
   "outputs": [],
   "source": [
    "D1 = \":DM1\"\n",
    "D2 = \":DM2\"\n",
    "D3 = \":DM3\""
   ]
  },
  {
   "cell_type": "markdown",
   "metadata": {},
   "source": [
    "### Static restraints\n",
    "\n",
    "These harmonic restraints are constant throughout the entire simulation. These restraints are used to control the distances and angles between the host and guest relative to the dummy atom. We have created a special class for these restrains, `static_DAT_restraint`, that uses the initial value as the restraint target (this is why the starting structure should be a reasonable facsimile of the bound state).\n",
    "\n",
    "Note that these restraints are not \"attached\" and they don't need to be \"released\" -- their force constants do not change in magnitude.\n",
    "\n",
    "The first three static restraints affect the translational distance, angle, and torsion angle between the host and the dummy atoms. These control the position of the host, via the first anchor atom, from moving relative to the dummy atoms.\n",
    "\n",
    "There is no *correct* value for the force constants. From experience, we know that a distance force constant of 5.0 kcal/mol/Angstrom$^2$ won't nail down the host and yet it also won't wander away. Likewise, we have had good results using 100.0 kcal/mol/radian$^2$ for the angle force constant."
   ]
  },
  {
   "cell_type": "markdown",
   "metadata": {},
   "source": [
    "![](../images/static-restraints-1.png)"
   ]
  },
  {
   "cell_type": "code",
   "execution_count": 65,
   "metadata": {},
   "outputs": [],
   "source": [
    "from paprika import restraints\n",
    "static_restraints = []"
   ]
  },
  {
   "cell_type": "code",
   "execution_count": 66,
   "metadata": {},
   "outputs": [],
   "source": [
    "r = restraints.static_DAT_restraint(restraint_mask_list = [D1, H1],\n",
    "                                    num_window_list = windows,\n",
    "                                    ref_structure = structure,\n",
    "                                    force_constant = 5.0,\n",
    "                                    amber_index=True)\n",
    "\n",
    "static_restraints.append(r)"
   ]
  },
  {
   "cell_type": "code",
   "execution_count": 67,
   "metadata": {},
   "outputs": [],
   "source": [
    "r = restraints.static_DAT_restraint(restraint_mask_list = [D2, D1, H1],\n",
    "                                    num_window_list = windows,\n",
    "                                    ref_structure = structure,\n",
    "                                    force_constant = 100.0,\n",
    "                                    amber_index=True)\n",
    "\n",
    "static_restraints.append(r)"
   ]
  },
  {
   "cell_type": "code",
   "execution_count": 68,
   "metadata": {},
   "outputs": [],
   "source": [
    "r = restraints.static_DAT_restraint(restraint_mask_list = [D3, D2, D1, H1],\n",
    "                                    num_window_list = windows,\n",
    "                                    ref_structure = structure,\n",
    "                                    force_constant = 100.0,\n",
    "                                    amber_index=True)\n",
    "\n",
    "static_restraints.append(r)"
   ]
  },
  {
   "cell_type": "markdown",
   "metadata": {},
   "source": [
    "The next three restraints control the orientation of the host relative to the dummy atoms. These angle and torsion restraints prevent the host from rotating relative to the dummy atoms."
   ]
  },
  {
   "cell_type": "markdown",
   "metadata": {},
   "source": [
    "![](images/static-restraints-2.png)"
   ]
  },
  {
   "cell_type": "code",
   "execution_count": 69,
   "metadata": {},
   "outputs": [],
   "source": [
    "r = restraints.static_DAT_restraint(restraint_mask_list = [D1, H1, H2],\n",
    "                                    num_window_list = windows,\n",
    "                                    ref_structure = structure,\n",
    "                                    force_constant = 100.0,\n",
    "                                    amber_index=True)\n",
    "\n",
    "static_restraints.append(r)"
   ]
  },
  {
   "cell_type": "code",
   "execution_count": 70,
   "metadata": {},
   "outputs": [],
   "source": [
    "r = restraints.static_DAT_restraint(restraint_mask_list = [D2, D1, H1, H2],\n",
    "                                    num_window_list = windows,\n",
    "                                    ref_structure = structure,\n",
    "                                    force_constant = 100.0,\n",
    "                                    amber_index=True)\n",
    "\n",
    "static_restraints.append(r)"
   ]
  },
  {
   "cell_type": "code",
   "execution_count": 71,
   "metadata": {},
   "outputs": [],
   "source": [
    "r = restraints.static_DAT_restraint(restraint_mask_list = [D1, H1, H2, H3],\n",
    "                                    num_window_list = windows,\n",
    "                                    ref_structure = structure,\n",
    "                                    force_constant = 100.0,\n",
    "                                    amber_index=True)\n",
    "\n",
    "static_restraints.append(r)"
   ]
  },
  {
   "cell_type": "markdown",
   "metadata": {},
   "source": [
    "Next, we add restraints on the guest. These restraints control the position of the guest and are the key to the attach-pull-release method. During the attach phase, the *force constants* for these restraints is increased from zero. During the pull phase, the *target* for the distance restraint is increased (in the orange box, below), translating the guest away from the host cavity. And during the release phase, the *force constants* are reduced from their \"full\" value back down to zero.\n",
    "\n",
    "![](images/guest-restraints.png)\n",
    "\n",
    "We use the class `DAT_restraint` to create these three restraints. We will use the same anchor atoms as before, with the same distance and angle force constants. Note that unlike `static_DAT_restraint`, we will first create the restraint, *then* set the attributes, *then* initialize the restraint which does some checks to make sure everything is copacetic.\n",
    "\n",
    "There are two additional convenience options here:\n",
    "\n",
    "- `auto_apr = True` sets the force constant during pull to be the final force constant after attach and sets the initial restraint target during pull to be the final attach target.\n",
    "\n",
    "- `continuous_apr = True` sets the last window of attach to be the same as the first window as pull (and likewise for release)\n",
    "\n",
    "Also note, due to a quirk with AMBER, we specifcy angle and torsion targets in degrees but the force constant using radians!"
   ]
  },
  {
   "cell_type": "code",
   "execution_count": 72,
   "metadata": {},
   "outputs": [],
   "source": [
    "guest_restraints = []"
   ]
  },
  {
   "cell_type": "code",
   "execution_count": 73,
   "metadata": {},
   "outputs": [],
   "source": [
    "r = restraints.DAT_restraint()\n",
    "r.mask1 = D1\n",
    "r.mask2 = G1\n",
    "r.topology = structure\n",
    "r.auto_apr = True\n",
    "r.continuous_apr = True\n",
    "r.amber_index = True\n",
    "\n",
    "r.attach[\"target\"] = 6.0                            # Angstroms\n",
    "r.attach[\"fraction_list\"] = attach_fractions\n",
    "r.attach[\"fc_final\"] = 5.0                          # kcal/mol/Angstroms**2\n",
    "\n",
    "r.pull[\"target_final\"] = 24.0                       # Angstroms\n",
    "r.pull[\"num_windows\"] = windows[1]\n",
    "\n",
    "r.release[\"target\"] = 6.0                           # Angstroms\n",
    "r.release[\"fraction_list\"] = attach_fractions[::-1]\n",
    "r.release[\"fc_final\"] = 5.0\n",
    "\n",
    "r.initialize()\n",
    "guest_restraints.append(r)"
   ]
  },
  {
   "cell_type": "code",
   "execution_count": 74,
   "metadata": {},
   "outputs": [],
   "source": [
    "r = restraints.DAT_restraint()\n",
    "r.mask1 = D2\n",
    "r.mask2 = D1\n",
    "r.mask3 = G1\n",
    "r.topology = structure\n",
    "r.auto_apr = True\n",
    "r.continuous_apr = True\n",
    "r.amber_index = True\n",
    "\n",
    "r.attach[\"target\"] = 180.0                          # Degrees\n",
    "r.attach[\"fraction_list\"] = attach_fractions\n",
    "r.attach[\"fc_final\"] = 100.0                        # kcal/mol/radian**2\n",
    "\n",
    "r.pull[\"target_final\"] = 180.0                      # Degrees\n",
    "r.pull[\"num_windows\"] = windows[1]\n",
    "\n",
    "r.release[\"target\"] = 180.0                         # Degrees\n",
    "r.release[\"fraction_list\"] = attach_fractions[::-1]\n",
    "r.release[\"fc_final\"] = 100.0                       # kcal/mol/radian**2\n",
    "\n",
    "r.initialize()\n",
    "guest_restraints.append(r)"
   ]
  },
  {
   "cell_type": "code",
   "execution_count": 75,
   "metadata": {},
   "outputs": [],
   "source": [
    "r = restraints.DAT_restraint()\n",
    "r.mask1 = D1\n",
    "r.mask2 = G1\n",
    "r.mask3 = G2\n",
    "r.topology = structure\n",
    "r.auto_apr = True\n",
    "r.continuous_apr = True\n",
    "r.amber_index = True\n",
    "\n",
    "r.attach[\"target\"] = 180.0                          # Degrees\n",
    "r.attach[\"fraction_list\"] = attach_fractions\n",
    "r.attach[\"fc_final\"] = 100.0                        # kcal/mol/radian**2\n",
    "\n",
    "r.pull[\"target_final\"] = 180.0                      # Degrees\n",
    "r.pull[\"num_windows\"] = windows[1]\n",
    "\n",
    "r.release[\"target\"] = 180.0                         # Degrees\n",
    "r.release[\"fraction_list\"] = attach_fractions[::-1]\n",
    "r.release[\"fc_final\"] = 100.0                       # kcal/mol/radian**2\n",
    "\n",
    "r.initialize()\n",
    "guest_restraints.append(r)"
   ]
  },
  {
   "cell_type": "markdown",
   "metadata": {},
   "source": [
    "## Create the directory structure\n",
    "\n",
    "We use the guest restraints to create a list of windows with the appropriate names and then we create the directories."
   ]
  },
  {
   "cell_type": "code",
   "execution_count": 34,
   "metadata": {},
   "outputs": [],
   "source": [
    "import os\n",
    "\n",
    "window_list = restraints.create_window_list(guest_restraints)\n",
    "for window in window_list:\n",
    "    os.makedirs(f\"windows/{window}\")"
   ]
  },
  {
   "cell_type": "markdown",
   "metadata": {},
   "source": [
    "## Next, we ask pAPRika to write the restraint information in each window"
   ]
  },
  {
   "cell_type": "markdown",
   "metadata": {},
   "source": [
    "In each window, we create a file named `disang.rest` to hold all of the restraint information that is required to run the simulation with AMBER. We feed the list of restraints to pAPRika, one by one, and it returns the appropriate line.\n",
    "\n",
    "The functional form of the restraints is specified in section 25.1 of the AMBER18 manual. Specifically, these restraints have a square bottom with parabolic sides out to a specific distance and then linear sides beyond that. The square bottom can be eliminated by setting `r2=r3` and the linear extension can be eliminated by setting the the `r4 = 999` and `r1 = 0`, creating a harmonic restraint "
   ]
  },
  {
   "cell_type": "code",
   "execution_count": 35,
   "metadata": {},
   "outputs": [],
   "source": [
    "host_guest_restraints = static_restraints + guest_restraints\n",
    "for window in window_list:\n",
    "    with open(f\"windows/{window}/disang.rest\", \"a\") as file:\n",
    "        for restraint in host_guest_restraints:\n",
    "            string = restraints.amber_restraint_line(restraint, window)\n",
    "            if string is not None:\n",
    "                file.write(string)"
   ]
  },
  {
   "cell_type": "markdown",
   "metadata": {},
   "source": [
    "It is a good idea to open up the `disang.rest` files and see that the force constants and targets make sense (and there are no `NaN` values). Do the force constants for the guest restraints start at zero? Do the targets for the pull slowly increase?"
   ]
  },
  {
   "cell_type": "markdown",
   "metadata": {},
   "source": [
    "## ![#1589F0](https://placehold.it/15/1589F0/000000?text=+) Save restraints as JSON\n",
    "\n",
    "\n",
    "The previous code block writes restraints in a format that AMBER uses to run simulations in each window, but pAPRika uses other information stored in the `DAT_restraint` class in the anlaysis module. By saving the restraints in a file, it is easy to chunk up setup, simulation, and analysis in different sessions or python scripts.\n",
    "\n",
    "Note: the API for saving and loading restraints is not stable and may be moved into another submodule. The output notes that pAPRika is not including the entire topology in the restraint JSON, but will contain a reference to the file that was used to setup th restraints, in this case, `cb6-but-dum.prmtop`."
   ]
  },
  {
   "cell_type": "code",
   "execution_count": 80,
   "metadata": {},
   "outputs": [],
   "source": [
    "from paprika.restraints_json import save_restraints"
   ]
  },
  {
   "cell_type": "code",
   "execution_count": 82,
   "metadata": {},
   "outputs": [
    {
     "name": "stdout",
     "output_type": "stream",
     "text": [
      "Encountered AmberParm, returning prmtop name.\n",
      "Encountered AmberParm, returning prmtop name.\n",
      "Encountered AmberParm, returning prmtop name.\n",
      "Encountered AmberParm, returning prmtop name.\n",
      "Encountered AmberParm, returning prmtop name.\n",
      "Encountered AmberParm, returning prmtop name.\n",
      "Encountered AmberParm, returning prmtop name.\n",
      "Encountered AmberParm, returning prmtop name.\n",
      "Encountered AmberParm, returning prmtop name.\n"
     ]
    }
   ],
   "source": [
    "save_restraints(host_guest_restraints, filepath=\"restraints.json\")"
   ]
  },
  {
   "cell_type": "markdown",
   "metadata": {},
   "source": [
    "## Create the coordinates for each window\n",
    "\n",
    "### Translation of the guest (before solvation)\n",
    "\n",
    "For the attach windows, we will use the initial, bound coordinates for the host-guest complex. Only the force constants change during this phase, so a single set of coordinates is sufficient. For the pull windows, we will translate the guest to the target value of the restraint before solvation, and for the release windows, we will use the coordinates from the final pull window."
   ]
  },
  {
   "cell_type": "code",
   "execution_count": 36,
   "metadata": {},
   "outputs": [
    {
     "name": "stdout",
     "output_type": "stream",
     "text": [
      "In window p000 we will translate the guest 0.0 Angstroms.\n",
      "In window p001 we will translate the guest 1.1 Angstroms.\n",
      "In window p002 we will translate the guest 2.1 Angstroms.\n",
      "In window p003 we will translate the guest 3.2 Angstroms.\n",
      "In window p004 we will translate the guest 4.2 Angstroms.\n",
      "In window p005 we will translate the guest 5.3 Angstroms.\n",
      "In window p006 we will translate the guest 6.4 Angstroms.\n",
      "In window p007 we will translate the guest 7.4 Angstroms.\n",
      "In window p008 we will translate the guest 8.5 Angstroms.\n",
      "In window p009 we will translate the guest 9.5 Angstroms.\n",
      "In window p010 we will translate the guest 10.6 Angstroms.\n",
      "In window p011 we will translate the guest 11.6 Angstroms.\n",
      "In window p012 we will translate the guest 12.7 Angstroms.\n",
      "In window p013 we will translate the guest 13.8 Angstroms.\n",
      "In window p014 we will translate the guest 14.8 Angstroms.\n",
      "In window p015 we will translate the guest 15.9 Angstroms.\n",
      "In window p016 we will translate the guest 16.9 Angstroms.\n",
      "In window p017 we will translate the guest 18.0 Angstroms.\n"
     ]
    }
   ],
   "source": [
    "import shutil\n",
    "\n",
    "for window in window_list:\n",
    "    if window[0] == \"a\":\n",
    "        shutil.copy(\"complex/cb6-but-dum.prmtop\", f\"windows/{window}/cb6-but-dum.prmtop\")\n",
    "        shutil.copy(\"complex/cb6-but-dum.rst7\", f\"windows/{window}/cb6-but-dum.rst7\")\n",
    "    elif window[0] == \"p\":\n",
    "        structure = pmd.load_file(\"complex/cb6-but-dum.prmtop\", \"complex/cb6-but-dum.rst7\",\n",
    "                          structure = True)\n",
    "        target_difference = guest_restraints[0].phase['pull']['targets'][int(window[1:])] - guest_restraints[0].pull['target_initial']\n",
    "        print(f\"In window {window} we will translate the guest {target_difference:0.1f} Angstroms.\")\n",
    "        for atom in structure.atoms:\n",
    "            if atom.residue.name == \"BUT\":\n",
    "                atom.xz += target_difference\n",
    "        structure.save(f\"windows/{window}/cb6-but-dum.prmtop\")\n",
    "        structure.save(f\"windows/{window}/cb6-but-dum.rst7\")\n",
    "    elif window[0] == \"r\":\n",
    "        shutil.copy(f\"windows/{window_list[windows[0] - 1 + windows[1] - 1]}/cb6-but-dum.prmtop\",\n",
    "                    f\"windows/{window}/cb6-but-dum.prmtop\")\n",
    "        shutil.copy(f\"windows/{window_list[windows[0] - 1 + windows[1] - 1]}/cb6-but-dum.rst7\",\n",
    "                    f\"windows/{window}/cb6-but-dum.rst7\")"
   ]
  },
  {
   "cell_type": "markdown",
   "metadata": {},
   "source": [
    "Before running a simulation, open each window and check that the position of the host and dummy atoms are fixed and that the position of the guest is bound during the attach windows, moves progressively further during pull, and is away from the host during the release windows."
   ]
  },
  {
   "cell_type": "markdown",
   "metadata": {},
   "source": [
    "## ![#1589F0](https://placehold.it/15/1589F0/000000?text=+) Solvate each window"
   ]
  },
  {
   "cell_type": "code",
   "execution_count": 39,
   "metadata": {},
   "outputs": [],
   "source": [
    "from paprika.tleap import System"
   ]
  },
  {
   "cell_type": "code",
   "execution_count": 53,
   "metadata": {},
   "outputs": [],
   "source": [
    "for window in window_list:\n",
    "    \n",
    "    structure = pmd.load_file(f\"windows/{window}/cb6-but-dum.prmtop\",\n",
    "                              f\"windows/{window}/cb6-but-dum.rst7\")\n",
    "    \n",
    "    if not os.path.exists(f\"windows/{window}/cb6-but-dum.pdb\"):\n",
    "        structure.save(f\"windows/{window}/cb6-but-dum.pdb\")\n",
    "    \n",
    "    system = System()\n",
    "    system.output_path = os.path.join(\"windows\", window)\n",
    "    system.output_prefix = \"cb6-but-dum-sol\"\n",
    "    \n",
    "    system.target_waters = 2000\n",
    "    system.neutralize = True\n",
    "    system.add_ions = [\"Na+\", 6, \"Cl-\", 6]\n",
    "    system.template_lines = [\n",
    "    \"source leaprc.gaff\",\n",
    "    \"source leaprc.water.tip3p\",\n",
    "    \"loadamberparams ../../complex/cb6.frcmod\",\n",
    "    \"loadamberparams ../../complex/dummy.frcmod\",\n",
    "    \"CB6 = loadmol2 ../../complex/cb6.mol2\",\n",
    "    \"BUT = loadmol2 ../../complex/but.mol2\",\n",
    "    \"DM1 = loadmol2 ../../complex/dm1.mol2\",\n",
    "    \"DM2 = loadmol2 ../../complex/dm2.mol2\",\n",
    "    \"DM3 = loadmol2 ../../complex/dm3.mol2\",\n",
    "    \"model = loadpdb cb6-but-dum.pdb\",\n",
    "    ]\n",
    "    system.build()\n"
   ]
  },
  {
   "cell_type": "markdown",
   "metadata": {},
   "source": [
    "![](../images/cb6-but-dum-sol-diagram.png)"
   ]
  },
  {
   "cell_type": "markdown",
   "metadata": {},
   "source": [
    "## ![#1589F0](https://placehold.it/15/1589F0/000000?text=+) Simulate using PBC\n",
    "\n",
    "This is going to look very similar to the the implicit solvent simulation setup, except instead of using `config_gb_min` and `config_gb_sim`, we will use `config_pdb_min` and `config_pbc_sim`. \n",
    "\n",
    "For this part, you need to have the AMBER executables in your path."
   ]
  },
  {
   "cell_type": "code",
   "execution_count": 83,
   "metadata": {},
   "outputs": [],
   "source": [
    "from paprika import amber"
   ]
  },
  {
   "cell_type": "markdown",
   "metadata": {},
   "source": [
    "Run a quick minimization in every window. Note that we need to specify `simulation.cntrl[\"ntr\"] = 1` to enable the positional restraints on the dummy atoms.\n",
    "\n",
    "I'm using the `logging` module to keep track of time."
   ]
  },
  {
   "cell_type": "code",
   "execution_count": 84,
   "metadata": {},
   "outputs": [],
   "source": [
    "import logging\n",
    "from importlib import reload\n",
    "reload(logging)\n",
    "\n",
    "logger = logging.getLogger()\n",
    "logging.basicConfig(\n",
    "    format='%(asctime)s %(message)s',\n",
    "    datefmt='%Y-%m-%d %I:%M:%S %p',\n",
    "    level=logging.INFO\n",
    ")"
   ]
  },
  {
   "cell_type": "code",
   "execution_count": 86,
   "metadata": {},
   "outputs": [
    {
     "name": "stderr",
     "output_type": "stream",
     "text": [
      "2018-10-13 11:25:49 AM Running minimization in window a000...\n",
      "2018-10-13 11:25:49 AM Completed output detected ... Skipping. Use: run(overwrite=True) to overwrite\n",
      "2018-10-13 11:25:49 AM Running minimization in window a001...\n",
      "2018-10-13 11:25:49 AM Completed output detected ... Skipping. Use: run(overwrite=True) to overwrite\n",
      "2018-10-13 11:25:49 AM Running minimization in window a002...\n",
      "2018-10-13 11:25:49 AM Completed output detected ... Skipping. Use: run(overwrite=True) to overwrite\n",
      "2018-10-13 11:25:49 AM Running minimization in window a003...\n",
      "2018-10-13 11:25:49 AM Completed output detected ... Skipping. Use: run(overwrite=True) to overwrite\n",
      "2018-10-13 11:25:49 AM Running minimization in window a004...\n",
      "2018-10-13 11:25:49 AM Completed output detected ... Skipping. Use: run(overwrite=True) to overwrite\n",
      "2018-10-13 11:25:49 AM Running minimization in window a005...\n",
      "2018-10-13 11:25:49 AM Completed output detected ... Skipping. Use: run(overwrite=True) to overwrite\n",
      "2018-10-13 11:25:49 AM Running minimization in window a006...\n",
      "2018-10-13 11:25:49 AM Completed output detected ... Skipping. Use: run(overwrite=True) to overwrite\n",
      "2018-10-13 11:25:49 AM Running minimization in window a007...\n",
      "2018-10-13 11:25:49 AM Completed output detected ... Skipping. Use: run(overwrite=True) to overwrite\n",
      "2018-10-13 11:25:49 AM Running minimization in window a008...\n",
      "2018-10-13 11:25:49 AM Running Minimization at windows/a008/\n",
      "2018-10-13 11:25:55 AM Minimization completed...\n",
      "2018-10-13 11:25:55 AM Running minimization in window a009...\n",
      "2018-10-13 11:25:55 AM Running Minimization at windows/a009/\n",
      "2018-10-13 11:26:00 AM Minimization completed...\n",
      "2018-10-13 11:26:00 AM Running minimization in window a010...\n",
      "2018-10-13 11:26:00 AM Running Minimization at windows/a010/\n",
      "2018-10-13 11:26:06 AM Minimization completed...\n",
      "2018-10-13 11:26:06 AM Running minimization in window a011...\n",
      "2018-10-13 11:26:06 AM Running Minimization at windows/a011/\n",
      "2018-10-13 11:26:11 AM Minimization completed...\n",
      "2018-10-13 11:26:11 AM Running minimization in window a012...\n",
      "2018-10-13 11:26:11 AM Running Minimization at windows/a012/\n",
      "2018-10-13 11:26:16 AM Minimization completed...\n",
      "2018-10-13 11:26:16 AM Running minimization in window a013...\n",
      "2018-10-13 11:26:16 AM Running Minimization at windows/a013/\n",
      "2018-10-13 11:26:21 AM Minimization completed...\n",
      "2018-10-13 11:26:21 AM Running minimization in window p000...\n",
      "2018-10-13 11:26:21 AM Running Minimization at windows/p000/\n",
      "2018-10-13 11:26:27 AM Minimization completed...\n",
      "2018-10-13 11:26:27 AM Running minimization in window p001...\n",
      "2018-10-13 11:26:27 AM Running Minimization at windows/p001/\n",
      "2018-10-13 11:26:32 AM Minimization completed...\n",
      "2018-10-13 11:26:32 AM Running minimization in window p002...\n",
      "2018-10-13 11:26:32 AM Running Minimization at windows/p002/\n",
      "2018-10-13 11:26:37 AM Minimization completed...\n",
      "2018-10-13 11:26:37 AM Running minimization in window p003...\n",
      "2018-10-13 11:26:37 AM Running Minimization at windows/p003/\n",
      "2018-10-13 11:26:42 AM Minimization completed...\n",
      "2018-10-13 11:26:42 AM Running minimization in window p004...\n",
      "2018-10-13 11:26:42 AM Running Minimization at windows/p004/\n",
      "2018-10-13 11:26:47 AM Minimization completed...\n",
      "2018-10-13 11:26:47 AM Running minimization in window p005...\n",
      "2018-10-13 11:26:47 AM Running Minimization at windows/p005/\n",
      "2018-10-13 11:26:53 AM Minimization completed...\n",
      "2018-10-13 11:26:53 AM Running minimization in window p006...\n",
      "2018-10-13 11:26:53 AM Running Minimization at windows/p006/\n",
      "2018-10-13 11:26:58 AM Minimization completed...\n",
      "2018-10-13 11:26:58 AM Running minimization in window p007...\n",
      "2018-10-13 11:26:58 AM Running Minimization at windows/p007/\n",
      "2018-10-13 11:27:03 AM Minimization completed...\n",
      "2018-10-13 11:27:03 AM Running minimization in window p008...\n",
      "2018-10-13 11:27:03 AM Running Minimization at windows/p008/\n",
      "2018-10-13 11:27:09 AM Minimization completed...\n",
      "2018-10-13 11:27:09 AM Running minimization in window p009...\n",
      "2018-10-13 11:27:09 AM Running Minimization at windows/p009/\n",
      "2018-10-13 11:27:14 AM Minimization completed...\n",
      "2018-10-13 11:27:14 AM Running minimization in window p010...\n",
      "2018-10-13 11:27:14 AM Running Minimization at windows/p010/\n",
      "2018-10-13 11:27:19 AM Minimization completed...\n",
      "2018-10-13 11:27:19 AM Running minimization in window p011...\n",
      "2018-10-13 11:27:19 AM Running Minimization at windows/p011/\n",
      "2018-10-13 11:27:24 AM Minimization completed...\n",
      "2018-10-13 11:27:24 AM Running minimization in window p012...\n",
      "2018-10-13 11:27:24 AM Running Minimization at windows/p012/\n",
      "2018-10-13 11:27:29 AM Minimization completed...\n",
      "2018-10-13 11:27:29 AM Running minimization in window p013...\n",
      "2018-10-13 11:27:29 AM Running Minimization at windows/p013/\n",
      "2018-10-13 11:27:35 AM Minimization completed...\n",
      "2018-10-13 11:27:35 AM Running minimization in window p014...\n",
      "2018-10-13 11:27:35 AM Running Minimization at windows/p014/\n",
      "2018-10-13 11:27:40 AM Minimization completed...\n",
      "2018-10-13 11:27:40 AM Running minimization in window p015...\n",
      "2018-10-13 11:27:40 AM Running Minimization at windows/p015/\n",
      "2018-10-13 11:27:45 AM Minimization completed...\n",
      "2018-10-13 11:27:45 AM Running minimization in window p016...\n",
      "2018-10-13 11:27:45 AM Running Minimization at windows/p016/\n",
      "2018-10-13 11:27:50 AM Minimization completed...\n",
      "2018-10-13 11:27:50 AM Running minimization in window p017...\n",
      "2018-10-13 11:27:50 AM Running Minimization at windows/p017/\n",
      "2018-10-13 11:27:55 AM Minimization completed...\n",
      "2018-10-13 11:27:55 AM Running minimization in window r001...\n",
      "2018-10-13 11:27:55 AM Running Minimization at windows/r001/\n",
      "2018-10-13 11:28:01 AM Minimization completed...\n",
      "2018-10-13 11:28:01 AM Running minimization in window r002...\n",
      "2018-10-13 11:28:01 AM Running Minimization at windows/r002/\n",
      "2018-10-13 11:28:06 AM Minimization completed...\n",
      "2018-10-13 11:28:06 AM Running minimization in window r003...\n",
      "2018-10-13 11:28:06 AM Running Minimization at windows/r003/\n",
      "2018-10-13 11:28:11 AM Minimization completed...\n",
      "2018-10-13 11:28:11 AM Running minimization in window r004...\n",
      "2018-10-13 11:28:11 AM Running Minimization at windows/r004/\n",
      "2018-10-13 11:28:16 AM Minimization completed...\n",
      "2018-10-13 11:28:16 AM Running minimization in window r005...\n",
      "2018-10-13 11:28:16 AM Running Minimization at windows/r005/\n",
      "2018-10-13 11:28:22 AM Minimization completed...\n",
      "2018-10-13 11:28:22 AM Running minimization in window r006...\n",
      "2018-10-13 11:28:22 AM Running Minimization at windows/r006/\n",
      "2018-10-13 11:28:27 AM Minimization completed...\n",
      "2018-10-13 11:28:27 AM Running minimization in window r007...\n",
      "2018-10-13 11:28:27 AM Running Minimization at windows/r007/\n",
      "2018-10-13 11:28:32 AM Minimization completed...\n",
      "2018-10-13 11:28:32 AM Running minimization in window r008...\n",
      "2018-10-13 11:28:32 AM Running Minimization at windows/r008/\n",
      "2018-10-13 11:28:37 AM Minimization completed...\n",
      "2018-10-13 11:28:37 AM Running minimization in window r009...\n",
      "2018-10-13 11:28:37 AM Running Minimization at windows/r009/\n",
      "2018-10-13 11:28:42 AM Minimization completed...\n",
      "2018-10-13 11:28:42 AM Running minimization in window r010...\n",
      "2018-10-13 11:28:42 AM Running Minimization at windows/r010/\n",
      "2018-10-13 11:28:48 AM Minimization completed...\n",
      "2018-10-13 11:28:48 AM Running minimization in window r011...\n",
      "2018-10-13 11:28:48 AM Running Minimization at windows/r011/\n",
      "2018-10-13 11:28:53 AM Minimization completed...\n",
      "2018-10-13 11:28:53 AM Running minimization in window r012...\n",
      "2018-10-13 11:28:53 AM Running Minimization at windows/r012/\n",
      "2018-10-13 11:28:58 AM Minimization completed...\n",
      "2018-10-13 11:28:58 AM Running minimization in window r013...\n",
      "2018-10-13 11:28:58 AM Running Minimization at windows/r013/\n",
      "2018-10-13 11:29:03 AM Minimization completed...\n",
      "2018-10-13 11:29:03 AM Running minimization in window r014...\n",
      "2018-10-13 11:29:03 AM Running Minimization at windows/r014/\n",
      "2018-10-13 11:29:09 AM Minimization completed...\n"
     ]
    }
   ],
   "source": [
    "for window in window_list:\n",
    "    simulation = amber.Simulation()\n",
    "    simulation.executable = \"pmemd.cuda\"\n",
    "\n",
    "    simulation.path = f\"windows/{window}/\"\n",
    "    simulation.prefix = \"minimize\"\n",
    "\n",
    "    simulation.inpcrd = \"cb6-but-dum-sol.rst7\"\n",
    "    simulation.ref = \"cb6-but-dum-sol.rst7\"\n",
    "    simulation.topology = \"cb6-but-dum-sol.prmtop\"\n",
    "    simulation.restraint_file = \"disang.rest\"\n",
    "\n",
    "    simulation.config_pbc_min()\n",
    "    simulation.cntrl[\"ntr\"] = 1\n",
    "    simulation.cntrl[\"restraint_wt\"] = 50.0\n",
    "    simulation.cntrl[\"restraintmask\"] = \"'@DUM'\"\n",
    "\n",
    "    logging.info(f\"Running minimization in window {window}...\")\n",
    "    simulation.run()"
   ]
  },
  {
   "cell_type": "markdown",
   "metadata": {},
   "source": [
    "For simplicity, I am going to skip equilibration and go straight to production!\n",
    "\n",
    "![#1589F0](https://placehold.it/15/1589F0/000000?text=+) I'm also going to run a little bit longer in each window, because the additional atoms increases the convergence time. The total simulation time per window, in nanoseconds, is (nstlim) × (dt in fs / 1000) = (50000) × (0.002 / 1000) = 0.1 ns. This is still very short and just for demonstration. A production simulation might require as much as 15 ns per window for binding free energies and up to 1 us per window for binding enthalpies."
   ]
  },
  {
   "cell_type": "code",
   "execution_count": 104,
   "metadata": {},
   "outputs": [
    {
     "name": "stderr",
     "output_type": "stream",
     "text": [
      "2018-10-13 12:13:30 PM Running MD at windows/a000/\n",
      "2018-10-13 12:14:00 PM MD completed ...\n",
      "2018-10-13 12:14:00 PM Running MD at windows/a001/\n",
      "2018-10-13 12:14:30 PM MD completed ...\n",
      "2018-10-13 12:14:30 PM Running MD at windows/a002/\n",
      "2018-10-13 12:14:59 PM MD completed ...\n",
      "2018-10-13 12:14:59 PM Running MD at windows/a003/\n",
      "2018-10-13 12:15:29 PM MD completed ...\n",
      "2018-10-13 12:15:29 PM Running MD at windows/a004/\n",
      "2018-10-13 12:15:59 PM MD completed ...\n",
      "2018-10-13 12:15:59 PM Running MD at windows/a005/\n",
      "2018-10-13 12:16:29 PM MD completed ...\n",
      "2018-10-13 12:16:29 PM Running MD at windows/a006/\n",
      "2018-10-13 12:16:59 PM MD completed ...\n",
      "2018-10-13 12:16:59 PM Running MD at windows/a007/\n",
      "2018-10-13 12:17:29 PM MD completed ...\n",
      "2018-10-13 12:17:29 PM Running MD at windows/a008/\n",
      "2018-10-13 12:17:59 PM MD completed ...\n",
      "2018-10-13 12:17:59 PM Running MD at windows/a009/\n",
      "2018-10-13 12:18:29 PM MD completed ...\n",
      "2018-10-13 12:18:29 PM Running MD at windows/a010/\n",
      "2018-10-13 12:18:59 PM MD completed ...\n",
      "2018-10-13 12:18:59 PM Running MD at windows/a011/\n",
      "2018-10-13 12:19:29 PM MD completed ...\n",
      "2018-10-13 12:19:29 PM Running MD at windows/a012/\n",
      "2018-10-13 12:19:59 PM MD completed ...\n",
      "2018-10-13 12:19:59 PM Running MD at windows/a013/\n",
      "2018-10-13 12:20:29 PM MD completed ...\n",
      "2018-10-13 12:20:29 PM Running MD at windows/p000/\n",
      "2018-10-13 12:20:59 PM MD completed ...\n",
      "2018-10-13 12:20:59 PM Running MD at windows/p001/\n",
      "2018-10-13 12:21:30 PM MD completed ...\n",
      "2018-10-13 12:21:30 PM Running MD at windows/p002/\n",
      "2018-10-13 12:22:00 PM MD completed ...\n",
      "2018-10-13 12:22:00 PM Running MD at windows/p003/\n",
      "2018-10-13 12:22:30 PM MD completed ...\n",
      "2018-10-13 12:22:30 PM Running MD at windows/p004/\n",
      "2018-10-13 12:23:00 PM MD completed ...\n",
      "2018-10-13 12:23:00 PM Running MD at windows/p005/\n",
      "2018-10-13 12:23:30 PM MD completed ...\n",
      "2018-10-13 12:23:30 PM Running MD at windows/p006/\n",
      "2018-10-13 12:24:00 PM MD completed ...\n",
      "2018-10-13 12:24:00 PM Running MD at windows/p007/\n",
      "2018-10-13 12:24:30 PM MD completed ...\n",
      "2018-10-13 12:24:30 PM Running MD at windows/p008/\n",
      "2018-10-13 12:25:01 PM MD completed ...\n",
      "2018-10-13 12:25:01 PM Running MD at windows/p009/\n",
      "2018-10-13 12:25:31 PM MD completed ...\n",
      "2018-10-13 12:25:31 PM Running MD at windows/p010/\n",
      "2018-10-13 12:26:01 PM MD completed ...\n",
      "2018-10-13 12:26:01 PM Running MD at windows/p011/\n",
      "2018-10-13 12:26:31 PM MD completed ...\n",
      "2018-10-13 12:26:31 PM Running MD at windows/p012/\n",
      "2018-10-13 12:27:01 PM MD completed ...\n",
      "2018-10-13 12:27:01 PM Running MD at windows/p013/\n",
      "2018-10-13 12:27:31 PM MD completed ...\n",
      "2018-10-13 12:27:31 PM Running MD at windows/p014/\n",
      "2018-10-13 12:28:02 PM MD completed ...\n",
      "2018-10-13 12:28:02 PM Running MD at windows/p015/\n",
      "2018-10-13 12:28:32 PM MD completed ...\n",
      "2018-10-13 12:28:32 PM Running MD at windows/p016/\n",
      "2018-10-13 12:29:02 PM MD completed ...\n",
      "2018-10-13 12:29:02 PM Running MD at windows/p017/\n",
      "2018-10-13 12:29:32 PM MD completed ...\n",
      "2018-10-13 12:29:32 PM Running MD at windows/r001/\n",
      "2018-10-13 12:30:02 PM MD completed ...\n",
      "2018-10-13 12:30:02 PM Running MD at windows/r002/\n",
      "2018-10-13 12:30:32 PM MD completed ...\n",
      "2018-10-13 12:30:32 PM Running MD at windows/r003/\n",
      "2018-10-13 12:31:02 PM MD completed ...\n",
      "2018-10-13 12:31:02 PM Running MD at windows/r004/\n",
      "2018-10-13 12:31:33 PM MD completed ...\n",
      "2018-10-13 12:31:33 PM Running MD at windows/r005/\n",
      "2018-10-13 12:32:03 PM MD completed ...\n",
      "2018-10-13 12:32:03 PM Running MD at windows/r006/\n",
      "2018-10-13 12:32:33 PM MD completed ...\n",
      "2018-10-13 12:32:33 PM Running MD at windows/r007/\n",
      "2018-10-13 12:33:03 PM MD completed ...\n",
      "2018-10-13 12:33:03 PM Running MD at windows/r008/\n",
      "2018-10-13 12:33:34 PM MD completed ...\n",
      "2018-10-13 12:33:34 PM Running MD at windows/r009/\n",
      "2018-10-13 12:34:04 PM MD completed ...\n",
      "2018-10-13 12:34:04 PM Running MD at windows/r010/\n",
      "2018-10-13 12:34:34 PM MD completed ...\n",
      "2018-10-13 12:34:34 PM Running MD at windows/r011/\n",
      "2018-10-13 12:35:04 PM MD completed ...\n",
      "2018-10-13 12:35:04 PM Running MD at windows/r012/\n",
      "2018-10-13 12:35:34 PM MD completed ...\n",
      "2018-10-13 12:35:34 PM Running MD at windows/r013/\n",
      "2018-10-13 12:36:04 PM MD completed ...\n",
      "2018-10-13 12:36:04 PM Running MD at windows/r014/\n",
      "2018-10-13 12:36:35 PM MD completed ...\n"
     ]
    }
   ],
   "source": [
    "for window in window_list:\n",
    "    simulation = amber.Simulation()\n",
    "    simulation.executable = \"pmemd.cuda\"\n",
    "    \n",
    "    simulation.path = f\"windows/{window}/\"\n",
    "    simulation.prefix = \"production\"\n",
    "\n",
    "    simulation.inpcrd = \"minimize.rst7\"\n",
    "    simulation.ref = \"cb6-but-dum-sol.rst7\"\n",
    "    simulation.topology = \"cb6-but-dum-sol.prmtop\"\n",
    "    simulation.restraint_file = \"disang.rest\"\n",
    "\n",
    "    simulation.config_pbc_md()\n",
    "    simulation.cntrl[\"ntr\"] = 1\n",
    "    simulation.cntrl[\"restraint_wt\"] = 50.0\n",
    "    simulation.cntrl[\"restraintmask\"] = \"'@DUM'\"\n",
    "    simulation.cntrl[\"nstlim\"] = 50000\n",
    "    \n",
    "    simulation.run()"
   ]
  },
  {
   "cell_type": "markdown",
   "metadata": {},
   "source": [
    "## ![#1589F0](https://placehold.it/15/1589F0/000000?text=+) Analyze by loading restraints from JSON"
   ]
  },
  {
   "cell_type": "markdown",
   "metadata": {},
   "source": [
    "Once the simulation is completed, we can using the `analysis` module to determine the binding free energy. We supply the location of the parameter information, a string or list for the file names (wildcards supported), the location of the windows, and the restraints on the guest.\n",
    "\n",
    "In this example, we use the method `ti-block` which determines the free energy using **t**hermodynamic **i**integration and then estimates the standard error of the mean at each data point using blocking analysis. Bootstrapping it used to determine the uncertainty of the  full thermodynamic integral for each phase.\n",
    "\n",
    "After running `compute_free_energy()`, a dictionary called `results` will be populated, that contains the free energy and SEM for each phase of the simulation."
   ]
  },
  {
   "cell_type": "code",
   "execution_count": 105,
   "metadata": {},
   "outputs": [],
   "source": [
    "from paprika.restraints_json import load_restraints"
   ]
  },
  {
   "cell_type": "code",
   "execution_count": 106,
   "metadata": {},
   "outputs": [],
   "source": [
    "guest_restraints = load_restraints(\"restraints.json\")"
   ]
  },
  {
   "cell_type": "code",
   "execution_count": 107,
   "metadata": {},
   "outputs": [],
   "source": [
    "from paprika import analysis"
   ]
  },
  {
   "cell_type": "code",
   "execution_count": 108,
   "metadata": {},
   "outputs": [],
   "source": [
    "free_energy = analysis.fe_calc()\n",
    "free_energy.prmtop = \"cb6-but-dum-sol.prmtop\"\n",
    "free_energy.trajectory = 'production*.nc'\n",
    "free_energy.path = \"windows\"\n",
    "free_energy.restraint_list = guest_restraints\n",
    "free_energy.collect_data()\n",
    "free_energy.methods = ['ti-block']\n",
    "free_energy.ti_matrix = \"full\"\n",
    "free_energy.bootcycles = 1000\n",
    "free_energy.compute_free_energy()"
   ]
  },
  {
   "cell_type": "code",
   "execution_count": 109,
   "metadata": {},
   "outputs": [],
   "source": [
    "binding_affinity = -1 * (\n",
    "free_energy.results[\"attach\"][\"ti-block\"][\"fe\"] + \\\n",
    "free_energy.results[\"pull\"][\"ti-block\"][\"fe\"] - \\\n",
    "free_energy.results[\"release\"][\"ti-block\"][\"fe\"]\n",
    ")\n",
    "\n",
    "sem = np.sqrt(\n",
    "free_energy.results[\"attach\"][\"ti-block\"][\"sem\"]**2 + \\\n",
    "free_energy.results[\"pull\"][\"ti-block\"][\"sem\"]**2 + \\\n",
    "free_energy.results[\"release\"][\"ti-block\"][\"sem\"]**2\n",
    ")"
   ]
  },
  {
   "cell_type": "code",
   "execution_count": 110,
   "metadata": {},
   "outputs": [
    {
     "name": "stdout",
     "output_type": "stream",
     "text": [
      "The binding affinity for butane and cucurbit[6]uril = -3.81 +/- 2.58 kcal/mol\n"
     ]
    }
   ],
   "source": [
    "print(f\"The binding affinity for butane and cucurbit[6]uril = {binding_affinity:0.2f} +/- {sem:0.2f} kcal/mol\")"
   ]
  },
  {
   "cell_type": "markdown",
   "metadata": {},
   "source": [
    "In the first tutorial, using implicit solvation, the binding affinity estimate was -5.76 +/- 5.53 kcal/mol. Now, the affinity estimate is less favorable, by almost 2 kcal/mol, and we've halved the uncertainty. As before, with more windows and more simulation time per window, this value would continue to be refined."
   ]
  },
  {
   "cell_type": "code",
   "execution_count": null,
   "metadata": {},
   "outputs": [],
   "source": []
  }
 ],
 "metadata": {
  "kernelspec": {
   "display_name": "Python [default]",
   "language": "python",
   "name": "python3"
  },
  "language_info": {
   "codemirror_mode": {
    "name": "ipython",
    "version": 3
   },
   "file_extension": ".py",
   "mimetype": "text/x-python",
   "name": "python",
   "nbconvert_exporter": "python",
   "pygments_lexer": "ipython3",
   "version": "3.6.4"
  }
 },
 "nbformat": 4,
 "nbformat_minor": 2
}
