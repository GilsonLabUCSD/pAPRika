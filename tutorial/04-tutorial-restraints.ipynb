{
 "cells": [
  {
   "cell_type": "code",
   "execution_count": 1,
   "metadata": {
    "pycharm": {
     "name": "#%%\n"
    }
   },
   "outputs": [],
   "source": [
    "import os\n",
    "import json\n",
    "import shutil\n",
    "import numpy as np\n",
    "import parmed as pmd\n",
    "\n",
    "import paprika.io as io\n",
    "import paprika.restraints as restraints\n",
    "import paprika.restraints.amber as amber\n",
    "import paprika.restraints.utils as utils\n",
    "import paprika.restraints.plumed as plumed\n",
    "import paprika.restraints.colvars as colvars"
   ]
  },
  {
   "cell_type": "markdown",
   "metadata": {
    "pycharm": {
     "name": "#%% md\n"
    }
   },
   "source": [
    "### Initialize"
   ]
  },
  {
   "cell_type": "code",
   "execution_count": 2,
   "metadata": {
    "pycharm": {
     "name": "#%%\n"
    }
   },
   "outputs": [],
   "source": [
    "base_name = \"cb6-but-dum\""
   ]
  },
  {
   "cell_type": "markdown",
   "metadata": {},
   "source": [
    "### Define the number of windows"
   ]
  },
  {
   "cell_type": "code",
   "execution_count": 3,
   "metadata": {
    "pycharm": {
     "name": "#%%\n"
    }
   },
   "outputs": [
    {
     "name": "stdout",
     "output_type": "stream",
     "text": [
      "There are [15, 18, 15] windows in this attach-pull-release calculation.\n"
     ]
    }
   ],
   "source": [
    "attach_string = \"0.00 0.40 0.80 1.60 2.40 4.00 5.50 8.65 11.80 18.10 24.40 37.00 49.60 74.80 100.00\"\n",
    "attach_fractions = [float(i) / 100 for i in attach_string.split()]\n",
    "\n",
    "initial_distance = 6.0\n",
    "pull_distances = np.arange(0.0 + initial_distance, 18.0 + initial_distance, 1.0)\n",
    "\n",
    "release_fractions = attach_fractions[::-1]\n",
    "\n",
    "windows = [len(attach_fractions), len(pull_distances), len(release_fractions)]\n",
    "print(f\"There are {windows} windows in this attach-pull-release calculation.\")"
   ]
  },
  {
   "cell_type": "markdown",
   "metadata": {
    "pycharm": {
     "name": "#%% md\n"
    }
   },
   "source": [
    "### Define anchor atoms"
   ]
  },
  {
   "cell_type": "code",
   "execution_count": 4,
   "metadata": {
    "pycharm": {
     "name": "#%%\n"
    }
   },
   "outputs": [],
   "source": [
    "# Guest atoms\n",
    "G1 = \":BUT@C\"\n",
    "G2 = \":BUT@C3\"\n",
    "\n",
    "# Host atoms\n",
    "H1 = \":CB6@C\"\n",
    "H2 = \":CB6@C31\"\n",
    "H3 = \":CB6@C18\"\n",
    "\n",
    "# Dummy atoms\n",
    "D1 = \":DM1\"\n",
    "D2 = \":DM2\"\n",
    "D3 = \":DM3\""
   ]
  },
  {
   "cell_type": "markdown",
   "metadata": {
    "pycharm": {
     "name": "#%% md\n"
    }
   },
   "source": [
    "### Load vacuum structure"
   ]
  },
  {
   "cell_type": "code",
   "execution_count": 5,
   "metadata": {
    "pycharm": {
     "name": "#%%\n"
    }
   },
   "outputs": [],
   "source": [
    "structure = pmd.load_file(\n",
    "    f\"complex/{base_name}.prmtop\",\n",
    "    f\"complex/{base_name}.rst7\",\n",
    "    structure = True,\n",
    ") "
   ]
  },
  {
   "cell_type": "markdown",
   "metadata": {
    "pycharm": {
     "name": "#%% md\n"
    }
   },
   "source": [
    "### Host Static Restraints"
   ]
  },
  {
   "cell_type": "code",
   "execution_count": 6,
   "metadata": {
    "pycharm": {
     "name": "#%%\n"
    }
   },
   "outputs": [],
   "source": [
    "static_restraints = []"
   ]
  },
  {
   "cell_type": "code",
   "execution_count": 7,
   "metadata": {
    "pycharm": {
     "name": "#%%\n"
    }
   },
   "outputs": [],
   "source": [
    "r = restraints.static_DAT_restraint(restraint_mask_list = [D1, H1],\n",
    "                                    num_window_list = windows,\n",
    "                                    ref_structure = structure,\n",
    "                                    force_constant = 5.0,\n",
    "                                    amber_index=True)\n",
    "\n",
    "static_restraints.append(r)"
   ]
  },
  {
   "cell_type": "code",
   "execution_count": 8,
   "metadata": {
    "pycharm": {
     "name": "#%%\n"
    }
   },
   "outputs": [],
   "source": [
    "r = restraints.static_DAT_restraint(restraint_mask_list = [D2, D1, H1],\n",
    "                                    num_window_list = windows,\n",
    "                                    ref_structure = structure,\n",
    "                                    force_constant = 100.0,\n",
    "                                    amber_index=True)\n",
    "\n",
    "static_restraints.append(r)"
   ]
  },
  {
   "cell_type": "code",
   "execution_count": 9,
   "metadata": {
    "pycharm": {
     "name": "#%%\n"
    }
   },
   "outputs": [],
   "source": [
    "r = restraints.static_DAT_restraint(restraint_mask_list = [D3, D2, D1, H1],\n",
    "                                    num_window_list = windows,\n",
    "                                    ref_structure = structure,\n",
    "                                    force_constant = 100.0,\n",
    "                                    amber_index=True)\n",
    "\n",
    "static_restraints.append(r)"
   ]
  },
  {
   "cell_type": "code",
   "execution_count": 10,
   "metadata": {
    "pycharm": {
     "name": "#%%\n"
    }
   },
   "outputs": [],
   "source": [
    "r = restraints.static_DAT_restraint(restraint_mask_list = [D1, H1, H2],\n",
    "                                    num_window_list = windows,\n",
    "                                    ref_structure = structure,\n",
    "                                    force_constant = 100.0,\n",
    "                                    amber_index=True)\n",
    "\n",
    "static_restraints.append(r)"
   ]
  },
  {
   "cell_type": "code",
   "execution_count": 11,
   "metadata": {
    "pycharm": {
     "name": "#%%\n"
    }
   },
   "outputs": [],
   "source": [
    "r = restraints.static_DAT_restraint(restraint_mask_list = [D2, D1, H1, H2],\n",
    "                                    num_window_list = windows,\n",
    "                                    ref_structure = structure,\n",
    "                                    force_constant = 100.0,\n",
    "                                    amber_index=True)\n",
    "\n",
    "static_restraints.append(r)"
   ]
  },
  {
   "cell_type": "code",
   "execution_count": 12,
   "metadata": {
    "pycharm": {
     "name": "#%%\n"
    }
   },
   "outputs": [],
   "source": [
    "r = restraints.static_DAT_restraint(restraint_mask_list = [D1, H1, H2, H3],\n",
    "                                    num_window_list = windows,\n",
    "                                    ref_structure = structure,\n",
    "                                    force_constant = 100.0,\n",
    "                                    amber_index=True)\n",
    "\n",
    "static_restraints.append(r)"
   ]
  },
  {
   "cell_type": "markdown",
   "metadata": {
    "pycharm": {
     "name": "#%% md\n"
    }
   },
   "source": [
    "### Host Conformational Restraints (Jack restraints)"
   ]
  },
  {
   "cell_type": "code",
   "execution_count": 13,
   "metadata": {
    "pycharm": {
     "name": "#%%\n"
    }
   },
   "outputs": [],
   "source": [
    "host_restraints = []\n",
    "r0 = 11.5\n",
    "kr = 15.0\n",
    "bonds = [\n",
    "    [':CB6@N1', ':CB6@N13'],\n",
    "    [':CB6@N3', ':CB6@N15'],\n",
    "    [':CB6@N5', ':CB6@N17'],\n",
    "    [':CB6@N7', ':CB6@N19'],\n",
    "    [':CB6@N9', ':CB6@N21'],\n",
    "    [':CB6@N11', ':CB6@N23'],\n",
    "    [':CB6@N2', ':CB6@N14'],\n",
    "    [':CB6@N', ':CB6@N12'],\n",
    "    [':CB6@N10', ':CB6@N22'],\n",
    "    [':CB6@N8', ':CB6@N20'],\n",
    "    [':CB6@N6', ':CB6@N18'],\n",
    "    [':CB6@N4', ':CB6@N16'],\n",
    "]"
   ]
  },
  {
   "cell_type": "code",
   "execution_count": 14,
   "metadata": {
    "pycharm": {
     "name": "#%%\n"
    }
   },
   "outputs": [],
   "source": [
    "for bond in bonds:\n",
    "    r = restraints.DAT_restraint()\n",
    "    r.mask1 = bond[0]\n",
    "    r.mask2 = bond[1]\n",
    "    r.topology = structure\n",
    "    r.auto_apr = True\n",
    "    r.continuous_apr = True\n",
    "    r.amber_index = True\n",
    "\n",
    "    r.attach[\"target\"] = r0                        # Angstroms\n",
    "    r.attach[\"fraction_list\"] = attach_fractions\n",
    "    r.attach[\"fc_final\"] = kr                      # kcal/mol/Angstroms**2\n",
    "\n",
    "    r.pull[\"target_final\"] = r0                    # Angstroms\n",
    "    r.pull[\"num_windows\"] = windows[1]\n",
    "    \n",
    "    r.release[\"target\"] = r0                       # Angstroms\n",
    "    r.release[\"fraction_list\"] = release_fractions\n",
    "    r.release[\"fc_final\"] = kr                     # kcal/mol/Angstroms**2\n",
    "\n",
    "    r.initialize()\n",
    "    \n",
    "    host_restraints.append(r)"
   ]
  },
  {
   "cell_type": "markdown",
   "metadata": {
    "pycharm": {
     "name": "#%% md\n"
    }
   },
   "source": [
    "### Guest translational and rotational restraints"
   ]
  },
  {
   "cell_type": "code",
   "execution_count": 15,
   "metadata": {
    "pycharm": {
     "name": "#%%\n"
    }
   },
   "outputs": [],
   "source": [
    "guest_restraints = []"
   ]
  },
  {
   "cell_type": "code",
   "execution_count": 16,
   "metadata": {
    "pycharm": {
     "name": "#%%\n"
    }
   },
   "outputs": [],
   "source": [
    "r = restraints.DAT_restraint()\n",
    "r.mask1 = D1\n",
    "r.mask2 = G1\n",
    "r.topology = structure\n",
    "r.auto_apr = True\n",
    "r.continuous_apr = True\n",
    "r.amber_index = True\n",
    "\n",
    "r.attach[\"target\"] = pull_distances[0]          # Angstroms\n",
    "r.attach[\"fraction_list\"] = attach_fractions\n",
    "r.attach[\"fc_final\"] = 5.0                      # kcal/mol/Angstroms**2\n",
    "\n",
    "r.pull[\"target_final\"] = 24.0                   # Angstroms\n",
    "r.pull[\"num_windows\"] = windows[1]\n",
    "\n",
    "r.release[\"target\"] = pull_distances[-1]        # Angstroms\n",
    "r.release[\"fraction_list\"] = [1.0] * windows[2]\n",
    "r.release[\"fc_final\"] = 5.0                     # kcal/mol/Angstroms**2\n",
    "\n",
    "r.initialize()\n",
    "guest_restraints.append(r)"
   ]
  },
  {
   "cell_type": "code",
   "execution_count": 17,
   "metadata": {
    "pycharm": {
     "name": "#%%\n"
    }
   },
   "outputs": [],
   "source": [
    "r = restraints.DAT_restraint()\n",
    "r.mask1 = D2\n",
    "r.mask2 = D1\n",
    "r.mask3 = G1\n",
    "r.topology = structure\n",
    "r.auto_apr = True\n",
    "r.continuous_apr = True\n",
    "r.amber_index = True\n",
    "\n",
    "r.attach[\"target\"] = 180.0                      # Degrees\n",
    "r.attach[\"fraction_list\"] = attach_fractions\n",
    "r.attach[\"fc_final\"] = 100.0                    # kcal/mol/radian**2\n",
    "\n",
    "r.pull[\"target_final\"] = 180.0                  # Degrees\n",
    "r.pull[\"num_windows\"] = windows[1]\n",
    "\n",
    "r.release[\"target\"] = 180.0                     # Degrees\n",
    "r.release[\"fraction_list\"] = [1.0] * windows[2]\n",
    "r.release[\"fc_final\"] = 100.0                   # kcal/mol/radian**2\n",
    "\n",
    "r.initialize()\n",
    "guest_restraints.append(r)"
   ]
  },
  {
   "cell_type": "code",
   "execution_count": 18,
   "metadata": {
    "pycharm": {
     "name": "#%%\n"
    }
   },
   "outputs": [],
   "source": [
    "r = restraints.DAT_restraint()\n",
    "r.mask1 = D1\n",
    "r.mask2 = G1\n",
    "r.mask3 = G2\n",
    "r.topology = structure\n",
    "r.auto_apr = True\n",
    "r.continuous_apr = True\n",
    "r.amber_index = True\n",
    "\n",
    "r.attach[\"target\"] = 180.0                      # Degrees\n",
    "r.attach[\"fraction_list\"] = attach_fractions\n",
    "r.attach[\"fc_final\"] = 100.0                    # kcal/mol/radian**2\n",
    "\n",
    "r.pull[\"target_final\"] = 180.0                  # Degrees\n",
    "r.pull[\"num_windows\"] = windows[1]\n",
    "\n",
    "r.release[\"target\"] = 180.0                     # Degrees\n",
    "r.release[\"fraction_list\"] = [1.0] * windows[2]\n",
    "r.release[\"fc_final\"] = 100.0                   # kcal/mol/radian**2\n",
    "\n",
    "r.initialize()\n",
    "guest_restraints.append(r)"
   ]
  },
  {
   "cell_type": "markdown",
   "metadata": {
    "pycharm": {
     "name": "#%% md\n"
    }
   },
   "source": [
    "### Create APR windows and save restraints to Json file"
   ]
  },
  {
   "cell_type": "code",
   "execution_count": 19,
   "metadata": {
    "pycharm": {
     "name": "#%%\n"
    }
   },
   "outputs": [],
   "source": [
    "window_list = restraints.restraints.create_window_list(guest_restraints)\n",
    "\n",
    "apr_windows = {'attach': [], 'pull': [], 'release': []}\n",
    "for window in window_list:\n",
    "    if window[0] == \"a\":\n",
    "        apr_windows[\"attach\"].append(window)\n",
    "    if window[0] == \"p\":\n",
    "        apr_windows[\"pull\"].append(window)\n",
    "    if window[0] == \"r\":\n",
    "        apr_windows[\"release\"].append(window)\n",
    "        \n",
    "with open(\"windows/windows.json\", \"w\") as f:\n",
    "    dumped = json.dumps(apr_windows, cls=io.NumpyEncoder)\n",
    "    f.write(dumped)\n",
    "\n",
    "for window in window_list:\n",
    "    if os.path.isdir(f\"windows/{window}\"):\n",
    "        shutil.rmtree(f\"windows/{window}\")\n",
    "    os.makedirs(f\"windows/{window}\")\n",
    "    \n",
    "host_guest_restraints = (static_restraints + host_restraints + guest_restraints)\n",
    "io.save_restraints(host_guest_restraints, filepath=\"windows/restraints.json\")"
   ]
  },
  {
   "cell_type": "markdown",
   "metadata": {
    "pycharm": {
     "name": "#%% md\n"
    }
   },
   "source": [
    "### Translate guest molecule"
   ]
  },
  {
   "cell_type": "code",
   "execution_count": 20,
   "metadata": {
    "pycharm": {
     "name": "#%%\n"
    }
   },
   "outputs": [
    {
     "name": "stdout",
     "output_type": "stream",
     "text": [
      "In window p000 we will translate the guest 0.0 Angstroms.\n",
      "In window p001 we will translate the guest 1.1 Angstroms.\n",
      "In window p002 we will translate the guest 2.1 Angstroms.\n",
      "In window p003 we will translate the guest 3.2 Angstroms.\n",
      "In window p004 we will translate the guest 4.2 Angstroms.\n",
      "In window p005 we will translate the guest 5.3 Angstroms.\n",
      "In window p006 we will translate the guest 6.4 Angstroms.\n",
      "In window p007 we will translate the guest 7.4 Angstroms.\n",
      "In window p008 we will translate the guest 8.5 Angstroms.\n",
      "In window p009 we will translate the guest 9.5 Angstroms.\n",
      "In window p010 we will translate the guest 10.6 Angstroms.\n",
      "In window p011 we will translate the guest 11.6 Angstroms.\n",
      "In window p012 we will translate the guest 12.7 Angstroms.\n",
      "In window p013 we will translate the guest 13.8 Angstroms.\n",
      "In window p014 we will translate the guest 14.8 Angstroms.\n",
      "In window p015 we will translate the guest 15.9 Angstroms.\n",
      "In window p016 we will translate the guest 16.9 Angstroms.\n",
      "In window p017 we will translate the guest 18.0 Angstroms.\n"
     ]
    }
   ],
   "source": [
    "for window in window_list:\n",
    "    if window[0] == \"a\":\n",
    "        shutil.copy(f\"complex/{base_name}.prmtop\", f\"windows/{window}/{base_name}.prmtop\")\n",
    "        shutil.copy(f\"complex/{base_name}.rst7\",   f\"windows/{window}/{base_name}.rst7\")\n",
    "\n",
    "    elif window[0] == \"p\":\n",
    "        structure = pmd.load_file(f\"complex/{base_name}.prmtop\", f\"complex/{base_name}.rst7\", structure = True)\n",
    "        target_difference = guest_restraints[0].phase['pull']['targets'][int(window[1:])] - guest_restraints[0].pull['target_initial']\n",
    "        print(f\"In window {window} we will translate the guest {target_difference:0.1f} Angstroms.\")\n",
    "        \n",
    "        for atom in structure.atoms:\n",
    "            if atom.residue.name == \"BUT\":\n",
    "                atom.xz += target_difference\n",
    "                \n",
    "        structure.save(f\"windows/{window}/{base_name}.prmtop\", overwrite=True)\n",
    "        structure.save(f\"windows/{window}/{base_name}.rst7\", overwrite=True)\n",
    "\n",
    "    elif window[0] == \"r\":\n",
    "        last_pull_window = f\"windows/p0{len(pull_distances)-1}\"\n",
    "        shutil.copy(f\"{os.path.join(last_pull_window, f'{base_name}.prmtop')}\", \n",
    "                    f\"windows/{window}/{base_name}.prmtop\")\n",
    "        shutil.copy(f\"{os.path.join(last_pull_window, f'{base_name}.rst7')}\", \n",
    "                    f\"windows/{window}/{base_name}.rst7\")"
   ]
  },
  {
   "cell_type": "markdown",
   "metadata": {
    "pycharm": {
     "name": "#%% md\n"
    }
   },
   "source": [
    "### Write Amber NMR-style restraints"
   ]
  },
  {
   "cell_type": "code",
   "execution_count": 21,
   "metadata": {
    "pycharm": {
     "name": "#%%\n"
    }
   },
   "outputs": [],
   "source": [
    "for window in window_list:\n",
    "    with open(f\"windows/{window}/disang.rest\", \"w\") as file:\n",
    "        restraints = utils.parse_restraints(\n",
    "            static=static_restraints,\n",
    "            host=host_restraints,\n",
    "            guest=guest_restraints,\n",
    "            list_type='tuple',\n",
    "        )\n",
    "        for restraint in restraints:\n",
    "            string = amber.amber_restraint_line(restraint, window)\n",
    "            if string is not None:\n",
    "                file.write(string)"
   ]
  },
  {
   "cell_type": "markdown",
   "metadata": {
    "pycharm": {
     "name": "#%% md\n"
    }
   },
   "source": [
    "### Write PLUMED-based restraints"
   ]
  },
  {
   "cell_type": "code",
   "execution_count": 22,
   "metadata": {
    "pycharm": {
     "name": "#%%\n"
    }
   },
   "outputs": [],
   "source": [
    "for window in window_list:\n",
    "    with open(f\"windows/{window}/plumed.dat\", \"w\") as file:\n",
    "        restraints = utils.parse_restraints(\n",
    "            static=static_restraints,\n",
    "            host=host_restraints,\n",
    "            guest=guest_restraints,\n",
    "            list_type='dict',\n",
    "        )\n",
    "        plumed.plumed_colvar_file(file, restraints, window, legacy_k=True)\n",
    "    \n",
    "    # Add dummy atoms\n",
    "    with open(f\"windows/{window}/plumed.dat\", \"a\") as file:\n",
    "        \n",
    "        structure = pmd.load_file(\n",
    "            f\"windows/{window}/{base_name}.prmtop\", \n",
    "            f\"windows/{window}/{base_name}.rst7\", \n",
    "            structure=True\n",
    "        )\n",
    "        plumed.add_dummy_to_plumed(structure, plumed_file=f\"windows/{window}/plumed.dat\")"
   ]
  },
  {
   "cell_type": "markdown",
   "metadata": {
    "pycharm": {
     "name": "#%% md\n"
    }
   },
   "source": [
    "### Write COLVAR Module-based restraints"
   ]
  },
  {
   "cell_type": "code",
   "execution_count": 23,
   "metadata": {
    "pycharm": {
     "name": "#%%\n"
    }
   },
   "outputs": [],
   "source": [
    "for window in window_list:\n",
    "    with open(f\"windows/{window}/colvars.tcl\", \"w\") as file:\n",
    "        restraints = utils.parse_restraints(\n",
    "            static=static_restraints,\n",
    "            host=host_restraints,\n",
    "            guest=guest_restraints,\n",
    "            list_type='dict',\n",
    "        )\n",
    "        colvars.colvar_module_file(file, restraints, window, legacy_k=True)\n",
    "    \n",
    "    with open(f\"windows/{window}/colvars.tcl\", \"a\") as file:\n",
    "        # Add dummy atoms\n",
    "        structure = pmd.load_file(\n",
    "            f\"windows/{window}/{base_name}.prmtop\", \n",
    "            f\"windows/{window}/{base_name}.rst7\", \n",
    "            structure=True\n",
    "        )\n",
    "        colvars.add_dummy_to_colvar(structure, colvar_file=f\"windows/{window}/colvars.tcl\")"
   ]
  },
  {
   "cell_type": "code",
   "execution_count": null,
   "metadata": {},
   "outputs": [],
   "source": []
  }
 ],
 "metadata": {
  "kernelspec": {
   "display_name": "Python 3",
   "language": "python",
   "name": "python3"
  },
  "language_info": {
   "codemirror_mode": {
    "name": "ipython",
    "version": 3
   },
   "file_extension": ".py",
   "mimetype": "text/x-python",
   "name": "python",
   "nbconvert_exporter": "python",
   "pygments_lexer": "ipython3",
   "version": "3.7.3"
  },
  "pycharm": {
   "stem_cell": {
    "cell_type": "raw",
    "metadata": {
     "collapsed": false
    },
    "source": []
   }
  }
 },
 "nbformat": 4,
 "nbformat_minor": 1
}
