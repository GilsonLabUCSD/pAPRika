{
 "cells": [
  {
   "cell_type": "markdown",
   "metadata": {},
   "source": [
    "# pAPRika tutorial 4 - APR/OpenMM\n",
    "\n",
    "In this tutorial, we will perform APR calculations for butane (BUT)--cucurbit[6]uril (CB6). This is a repeat of [tutorial 1](01-tutorial-cb6-but.ipynb) using `OpenMM` instead of `AMBER` as the simulation engine. We will go through the process of converting APR restraints constructed with *pAPRika* and `AMBER` structure files to an `OpenMM` system. \n",
    "\n",
    "🔵 Since we have a prepared the host-guest-dummy setup from the first tutorial, we will skip the initial `tleap` steps and go right into initializing the restraints."
   ]
  },
  {
   "cell_type": "markdown",
   "metadata": {
    "pycharm": {
     "name": "#%% md\n"
    }
   },
   "source": [
    "## Initialize"
   ]
  },
  {
   "cell_type": "code",
   "execution_count": 1,
   "metadata": {
    "tags": []
   },
   "outputs": [],
   "source": [
    "import json\n",
    "import os\n",
    "import shutil\n",
    "\n",
    "import numpy as np\n",
    "import parmed as pmd"
   ]
  },
  {
   "cell_type": "markdown",
   "metadata": {},
   "source": [
    "Initialize logger"
   ]
  },
  {
   "cell_type": "code",
   "execution_count": 2,
   "metadata": {
    "tags": []
   },
   "outputs": [],
   "source": [
    "import logging\n",
    "from importlib import reload\n",
    "\n",
    "reload(logging)\n",
    "\n",
    "logger = logging.getLogger()\n",
    "logging.basicConfig(\n",
    "    format=\"%(asctime)s %(message)s\", datefmt=\"%Y-%m-%d %I:%M:%S %p\", level=logging.INFO\n",
    ")"
   ]
  },
  {
   "cell_type": "markdown",
   "metadata": {},
   "source": [
    "### Define names\n",
    "We will store the files created in this tutorial in a folder called `openmm` so we don't mix files with the previous tutorial."
   ]
  },
  {
   "cell_type": "code",
   "execution_count": 3,
   "metadata": {
    "tags": []
   },
   "outputs": [],
   "source": [
    "base_name = \"cb6-but-dum\"\n",
    "work_dir = \"openmm\"\n",
    "complex_dir = \"complex\""
   ]
  },
  {
   "cell_type": "markdown",
   "metadata": {
    "pycharm": {
     "name": "#%% md\n"
    }
   },
   "source": [
    "## Generate APR Restraints\n",
    "*NOTE*: The only difference here is to set `amber_index` to `False` since `OpenMM` atom numbering starts from 0."
   ]
  },
  {
   "cell_type": "markdown",
   "metadata": {},
   "source": [
    "### Define anchor atoms\n",
    "See [tutorial 1](01-tutorial-cb6-but.ipynb) for the choice of selection"
   ]
  },
  {
   "cell_type": "code",
   "execution_count": 4,
   "metadata": {
    "tags": []
   },
   "outputs": [],
   "source": [
    "# Guest atoms\n",
    "G1 = \":BUT@C\"\n",
    "G2 = \":BUT@C3\"\n",
    "\n",
    "# Host atoms\n",
    "H1 = \":CB6@C\"\n",
    "H2 = \":CB6@C31\"\n",
    "H3 = \":CB6@C18\"\n",
    "\n",
    "# Dummy atoms\n",
    "D1 = \":DM1\"\n",
    "D2 = \":DM2\"\n",
    "D3 = \":DM3\""
   ]
  },
  {
   "cell_type": "markdown",
   "metadata": {},
   "source": [
    "### Determine the number of windows\n",
    "Before we add the restraints, it is helpful to set the $\\lambda$ fractions that control the strength of the force constants during attach and release, and to define the distances for the pulling phase.\n",
    "\n",
    "The attach fractions go from 0 to 1 and we place more points at the bottom of the range to sample the curvature of $dU/d \\lambda$. Next, we generally apply a distance restraint until the guest is ~18 Angstroms away from the host, in increments of 0.4 Angstroms. This distance should be at least twice the Lennard-Jones cutoff in the system. These values have worked well for us, but this is one aspect that should be carefully checked for new systems."
   ]
  },
  {
   "cell_type": "code",
   "execution_count": 5,
   "metadata": {
    "tags": []
   },
   "outputs": [
    {
     "name": "stderr",
     "output_type": "stream",
     "text": [
      "2023-06-20 02:46:44 PM There are [15, 18, 15] windows in this attach-pull-release calculation.\n"
     ]
    }
   ],
   "source": [
    "attach_string = (\n",
    "    \"0.00 0.40 0.80 1.60 2.40 4.00 5.50 8.65 11.80 18.10 24.40 37.00 49.60 74.80 100.00\"\n",
    ")\n",
    "attach_fractions = [float(i) / 100 for i in attach_string.split()]\n",
    "\n",
    "initial_distance = 6.0\n",
    "pull_distances = np.arange(0.0 + initial_distance, 18.0 + initial_distance, 1.0)\n",
    "\n",
    "release_fractions = attach_fractions[::-1]\n",
    "\n",
    "windows = [len(attach_fractions), len(pull_distances), len(release_fractions)]\n",
    "logging.info(f\"There are {windows} windows in this attach-pull-release calculation.\")"
   ]
  },
  {
   "cell_type": "markdown",
   "metadata": {},
   "source": [
    "### Load complex structure"
   ]
  },
  {
   "cell_type": "code",
   "execution_count": 6,
   "metadata": {
    "tags": []
   },
   "outputs": [],
   "source": [
    "structure = pmd.load_file(\n",
    "    os.path.join(complex_dir, f\"{base_name}.prmtop\"),\n",
    "    os.path.join(complex_dir, f\"{base_name}.rst7\"),\n",
    "    structure=True,\n",
    ")"
   ]
  },
  {
   "cell_type": "markdown",
   "metadata": {
    "pycharm": {
     "name": "#%% md\n"
    }
   },
   "source": [
    "### Host Static Restraints\n",
    "See [tutorial 1](01-tutorial-cb6-but.ipynb#host_static) for an explanation of the static restraints"
   ]
  },
  {
   "cell_type": "code",
   "execution_count": 7,
   "metadata": {
    "pycharm": {
     "name": "#%%\n"
    },
    "tags": []
   },
   "outputs": [
    {
     "name": "stderr",
     "output_type": "stream",
     "text": [
      "2023-06-20 02:46:44 PM NumExpr defaulting to 8 threads.\n"
     ]
    }
   ],
   "source": [
    "import paprika.restraints as restraints"
   ]
  },
  {
   "cell_type": "code",
   "execution_count": 8,
   "metadata": {
    "pycharm": {
     "name": "#%%\n"
    },
    "tags": []
   },
   "outputs": [],
   "source": [
    "static_restraints = []"
   ]
  },
  {
   "cell_type": "code",
   "execution_count": 9,
   "metadata": {
    "pycharm": {
     "name": "#%%\n"
    },
    "tags": []
   },
   "outputs": [],
   "source": [
    "r = restraints.static_DAT_restraint(\n",
    "    restraint_mask_list=[D1, H1],\n",
    "    num_window_list=windows,\n",
    "    ref_structure=structure,\n",
    "    force_constant=5.0,\n",
    "    amber_index=False,\n",
    ")\n",
    "\n",
    "static_restraints.append(r)"
   ]
  },
  {
   "cell_type": "code",
   "execution_count": 10,
   "metadata": {
    "pycharm": {
     "name": "#%%\n"
    },
    "tags": []
   },
   "outputs": [],
   "source": [
    "r = restraints.static_DAT_restraint(\n",
    "    restraint_mask_list=[D2, D1, H1],\n",
    "    num_window_list=windows,\n",
    "    ref_structure=structure,\n",
    "    force_constant=100.0,\n",
    "    amber_index=False,\n",
    ")\n",
    "\n",
    "static_restraints.append(r)"
   ]
  },
  {
   "cell_type": "code",
   "execution_count": 11,
   "metadata": {
    "pycharm": {
     "name": "#%%\n"
    },
    "tags": []
   },
   "outputs": [],
   "source": [
    "r = restraints.static_DAT_restraint(\n",
    "    restraint_mask_list=[D3, D2, D1, H1],\n",
    "    num_window_list=windows,\n",
    "    ref_structure=structure,\n",
    "    force_constant=100.0,\n",
    "    amber_index=False,\n",
    ")\n",
    "\n",
    "static_restraints.append(r)"
   ]
  },
  {
   "cell_type": "code",
   "execution_count": 12,
   "metadata": {
    "pycharm": {
     "name": "#%%\n"
    },
    "tags": []
   },
   "outputs": [],
   "source": [
    "r = restraints.static_DAT_restraint(\n",
    "    restraint_mask_list=[D1, H1, H2],\n",
    "    num_window_list=windows,\n",
    "    ref_structure=structure,\n",
    "    force_constant=100.0,\n",
    "    amber_index=False,\n",
    ")\n",
    "\n",
    "static_restraints.append(r)"
   ]
  },
  {
   "cell_type": "code",
   "execution_count": 13,
   "metadata": {
    "pycharm": {
     "name": "#%%\n"
    },
    "tags": []
   },
   "outputs": [],
   "source": [
    "r = restraints.static_DAT_restraint(\n",
    "    restraint_mask_list=[D2, D1, H1, H2],\n",
    "    num_window_list=windows,\n",
    "    ref_structure=structure,\n",
    "    force_constant=100.0,\n",
    "    amber_index=False,\n",
    ")\n",
    "\n",
    "static_restraints.append(r)"
   ]
  },
  {
   "cell_type": "code",
   "execution_count": 14,
   "metadata": {
    "pycharm": {
     "name": "#%%\n"
    },
    "tags": []
   },
   "outputs": [],
   "source": [
    "r = restraints.static_DAT_restraint(\n",
    "    restraint_mask_list=[D1, H1, H2, H3],\n",
    "    num_window_list=windows,\n",
    "    ref_structure=structure,\n",
    "    force_constant=100.0,\n",
    "    amber_index=False,\n",
    ")\n",
    "\n",
    "static_restraints.append(r)"
   ]
  },
  {
   "cell_type": "markdown",
   "metadata": {},
   "source": [
    "### Host jack restraints"
   ]
  },
  {
   "cell_type": "code",
   "execution_count": 15,
   "metadata": {
    "tags": []
   },
   "outputs": [],
   "source": [
    "k_jack = 15.0  # kcal/mol/Ang^2\n",
    "r0_jack = 12.5  # Angstrom\n",
    "\n",
    "jacks = [\n",
    "    \":1@N1 :1@N15\",\n",
    "    \":1@N3 :1@N13\",\n",
    "    \":1@N11 :1@N21\",\n",
    "    \":1@N9 :1@N23\",\n",
    "    \":1@N7 :1@N17\",\n",
    "    \":1@N5 :1@N19\",\n",
    "    \":1@N6 :1@N16\",\n",
    "    \":1@N4 :1@N18\",\n",
    "    \":1@N10 :1@N20\",\n",
    "    \":1@N8 :1@N22\",\n",
    "    \":1@N :1@N14\",\n",
    "    \":1@N2 :1@N12\",\n",
    "]"
   ]
  },
  {
   "cell_type": "code",
   "execution_count": 16,
   "metadata": {
    "tags": []
   },
   "outputs": [],
   "source": [
    "jack_restraints = []\n",
    "\n",
    "for jack in jacks:\n",
    "    atom_i = jack.split()[0]\n",
    "    atom_j = jack.split()[1]\n",
    "\n",
    "    r = restraints.DAT_restraint()\n",
    "    r.mask1 = atom_i\n",
    "    r.mask2 = atom_j\n",
    "    r.topology = structure\n",
    "    r.auto_apr = True\n",
    "    r.continuous_apr = True\n",
    "    r.amber_index = False\n",
    "\n",
    "    r.attach[\"target\"] = r0_jack\n",
    "    r.attach[\"fraction_list\"] = attach_fractions\n",
    "    r.attach[\"fc_final\"] = k_jack\n",
    "\n",
    "    r.pull[\"target_final\"] = r0_jack\n",
    "    r.pull[\"num_windows\"] = windows[1]\n",
    "\n",
    "    r.release[\"target\"] = r0_jack\n",
    "    r.release[\"fraction_list\"] = release_fractions\n",
    "    r.release[\"fc_final\"] = k_jack\n",
    "\n",
    "    r.initialize()\n",
    "    jack_restraints.append(r)"
   ]
  },
  {
   "cell_type": "markdown",
   "metadata": {
    "pycharm": {
     "name": "#%% md\n"
    }
   },
   "source": [
    "### Guest translational and rotational restraints\n",
    "See [tutorial 1](01-tutorial-cb6-but.ipynb#guest) for an explanation of the guest restraints"
   ]
  },
  {
   "cell_type": "code",
   "execution_count": 17,
   "metadata": {
    "pycharm": {
     "name": "#%%\n"
    },
    "tags": []
   },
   "outputs": [],
   "source": [
    "guest_restraints = []"
   ]
  },
  {
   "cell_type": "code",
   "execution_count": 18,
   "metadata": {
    "pycharm": {
     "name": "#%%\n"
    },
    "tags": []
   },
   "outputs": [],
   "source": [
    "r = restraints.DAT_restraint()\n",
    "r.mask1 = D1\n",
    "r.mask2 = G1\n",
    "r.topology = structure\n",
    "r.auto_apr = True\n",
    "r.continuous_apr = True\n",
    "r.amber_index = False\n",
    "\n",
    "r.attach[\"target\"] = pull_distances[0]  # Angstroms\n",
    "r.attach[\"fraction_list\"] = attach_fractions\n",
    "r.attach[\"fc_final\"] = 5.0  # kcal/mol/Angstroms**2\n",
    "\n",
    "r.pull[\"target_final\"] = pull_distances[-1]  # Angstroms\n",
    "r.pull[\"num_windows\"] = windows[1]\n",
    "\n",
    "r.release[\"target\"] = r.pull[\"target_final\"]\n",
    "r.release[\"fraction_list\"] = [1.0] * windows[2]\n",
    "r.release[\"fc_final\"] = r.attach[\"fc_final\"]\n",
    "\n",
    "r.initialize()\n",
    "guest_restraints.append(r)"
   ]
  },
  {
   "cell_type": "code",
   "execution_count": 19,
   "metadata": {
    "pycharm": {
     "name": "#%%\n"
    }
   },
   "outputs": [],
   "source": [
    "r = restraints.DAT_restraint()\n",
    "r.mask1 = D2\n",
    "r.mask2 = D1\n",
    "r.mask3 = G1\n",
    "r.topology = structure\n",
    "r.auto_apr = True\n",
    "r.continuous_apr = True\n",
    "r.amber_index = False\n",
    "\n",
    "r.attach[\"target\"] = 180.0  # Degrees\n",
    "r.attach[\"fraction_list\"] = attach_fractions\n",
    "r.attach[\"fc_final\"] = 100.0  # kcal/mol/radian**2\n",
    "\n",
    "r.pull[\"target_final\"] = 180.0  # Degrees\n",
    "r.pull[\"num_windows\"] = windows[1]\n",
    "\n",
    "r.release[\"target\"] = r.pull[\"target_final\"]\n",
    "r.release[\"fraction_list\"] = [1.0] * windows[2]\n",
    "r.release[\"fc_final\"] = r.attach[\"fc_final\"]\n",
    "\n",
    "r.initialize()\n",
    "guest_restraints.append(r)"
   ]
  },
  {
   "cell_type": "code",
   "execution_count": 20,
   "metadata": {
    "pycharm": {
     "name": "#%%\n"
    },
    "tags": []
   },
   "outputs": [],
   "source": [
    "r = restraints.DAT_restraint()\n",
    "r.mask1 = D1\n",
    "r.mask2 = G1\n",
    "r.mask3 = G2\n",
    "r.topology = structure\n",
    "r.auto_apr = True\n",
    "r.continuous_apr = True\n",
    "r.amber_index = False\n",
    "\n",
    "r.attach[\"target\"] = 180.0  # Degrees\n",
    "r.attach[\"fraction_list\"] = attach_fractions\n",
    "r.attach[\"fc_final\"] = 100.0  # kcal/mol/radian**2\n",
    "\n",
    "r.pull[\"target_final\"] = 180.0  # Degrees\n",
    "r.pull[\"num_windows\"] = windows[1]\n",
    "\n",
    "r.release[\"target\"] = r.pull[\"target_final\"]\n",
    "r.release[\"fraction_list\"] = [1.0] * windows[2]\n",
    "r.release[\"fc_final\"] = r.attach[\"fc_final\"]\n",
    "\n",
    "r.initialize()\n",
    "guest_restraints.append(r)"
   ]
  },
  {
   "cell_type": "markdown",
   "metadata": {
    "pycharm": {
     "name": "#%% md\n"
    }
   },
   "source": [
    "### Create APR windows\n",
    "We use the guest restraints to create a list of windows with the appropriate names and then create the directories."
   ]
  },
  {
   "cell_type": "code",
   "execution_count": 21,
   "metadata": {
    "tags": []
   },
   "outputs": [],
   "source": [
    "from paprika.restraints import create_window_list"
   ]
  },
  {
   "cell_type": "code",
   "execution_count": 22,
   "metadata": {
    "pycharm": {
     "name": "#%%\n"
    },
    "tags": []
   },
   "outputs": [
    {
     "name": "stderr",
     "output_type": "stream",
     "text": [
      "2023-06-20 02:46:45 PM Restraints appear to be consistent\n"
     ]
    },
    {
     "name": "stdout",
     "output_type": "stream",
     "text": [
      "['a000', 'a001', 'a002', 'a003', 'a004', 'a005', 'a006', 'a007', 'a008', 'a009', 'a010', 'a011', 'a012', 'a013', 'p000', 'p001', 'p002', 'p003', 'p004', 'p005', 'p006', 'p007', 'p008', 'p009', 'p010', 'p011', 'p012', 'p013', 'p014', 'p015', 'p016', 'p017', 'r001', 'r002', 'r003', 'r004', 'r005', 'r006', 'r007', 'r008', 'r009', 'r010', 'r011', 'r012', 'r013', 'r014']\n"
     ]
    }
   ],
   "source": [
    "window_list = create_window_list(guest_restraints)\n",
    "print(window_list)"
   ]
  },
  {
   "cell_type": "code",
   "execution_count": 23,
   "metadata": {
    "tags": []
   },
   "outputs": [],
   "source": [
    "for window in window_list:\n",
    "    folder = os.path.join(work_dir, window)\n",
    "    if not os.path.isdir(folder):\n",
    "        os.makedirs(os.path.join(work_dir, window))"
   ]
  },
  {
   "cell_type": "markdown",
   "metadata": {
    "pycharm": {
     "name": "#%% md\n"
    }
   },
   "source": [
    "## Prepare host-guest system"
   ]
  },
  {
   "cell_type": "markdown",
   "metadata": {
    "pycharm": {
     "name": "#%% md\n"
    }
   },
   "source": [
    "### Translate guest molecule\n",
    "For the attach windows, we will use the initial, bound coordinates for the host-guest complex. Only the force constants change during this phase, so a single set of coordinates is sufficient. For the pull windows, we will translate the guest to the target value of the restraint before solvation, and for the release windows, we will use the coordinates from the final pull window."
   ]
  },
  {
   "cell_type": "code",
   "execution_count": 24,
   "metadata": {},
   "outputs": [],
   "source": [
    "from paprika.restraints.utils import parse_window"
   ]
  },
  {
   "cell_type": "code",
   "execution_count": 25,
   "metadata": {
    "pycharm": {
     "name": "#%%\n"
    },
    "tags": []
   },
   "outputs": [
    {
     "name": "stderr",
     "output_type": "stream",
     "text": [
      "2023-06-20 02:46:45 PM In window p000 we will translate the guest 0.0.\n",
      "2023-06-20 02:46:45 PM In window p001 we will translate the guest 1.0.\n",
      "2023-06-20 02:46:45 PM In window p002 we will translate the guest 2.0.\n",
      "2023-06-20 02:46:45 PM In window p003 we will translate the guest 3.0.\n",
      "2023-06-20 02:46:45 PM In window p004 we will translate the guest 4.0.\n",
      "2023-06-20 02:46:45 PM In window p005 we will translate the guest 5.0.\n",
      "2023-06-20 02:46:45 PM In window p006 we will translate the guest 6.0.\n",
      "2023-06-20 02:46:45 PM In window p007 we will translate the guest 7.0.\n",
      "2023-06-20 02:46:45 PM In window p008 we will translate the guest 8.0.\n",
      "2023-06-20 02:46:46 PM In window p009 we will translate the guest 9.0.\n",
      "2023-06-20 02:46:46 PM In window p010 we will translate the guest 10.0.\n",
      "2023-06-20 02:46:46 PM In window p011 we will translate the guest 11.0.\n",
      "2023-06-20 02:46:46 PM In window p012 we will translate the guest 12.0.\n",
      "2023-06-20 02:46:46 PM In window p013 we will translate the guest 13.0.\n",
      "2023-06-20 02:46:46 PM In window p014 we will translate the guest 14.0.\n",
      "2023-06-20 02:46:46 PM In window p015 we will translate the guest 15.0.\n",
      "2023-06-20 02:46:46 PM In window p016 we will translate the guest 16.0.\n",
      "2023-06-20 02:46:46 PM In window p017 we will translate the guest 17.0.\n"
     ]
    }
   ],
   "source": [
    "for window in window_list:\n",
    "    window_number, phase = parse_window(window)\n",
    "\n",
    "    if phase == \"attach\":\n",
    "        shutil.copy(\n",
    "            os.path.join(complex_dir, f\"{base_name}.prmtop\"),\n",
    "            os.path.join(work_dir, window, f\"{base_name}.prmtop\"),\n",
    "        )\n",
    "        shutil.copy(\n",
    "            os.path.join(complex_dir, f\"{base_name}.rst7\"),\n",
    "            os.path.join(work_dir, window, f\"{base_name}.rst7\"),\n",
    "        )\n",
    "\n",
    "    elif phase == \"pull\":\n",
    "        structure = pmd.load_file(\n",
    "            os.path.join(complex_dir, f\"{base_name}.prmtop\"),\n",
    "            os.path.join(complex_dir, f\"{base_name}.rst7\"),\n",
    "            structure=True,\n",
    "        )\n",
    "        target_difference = (\n",
    "            guest_restraints[0].phase[\"pull\"][\"targets\"][int(window[1:])]\n",
    "            - guest_restraints[0].pull[\"target_initial\"]\n",
    "        )\n",
    "        logging.info(\n",
    "            f\"In window {window} we will translate the guest {target_difference.magnitude:0.1f}.\"\n",
    "        )\n",
    "\n",
    "        for atom in structure.atoms:\n",
    "            if atom.residue.name == \"BUT\":\n",
    "                atom.xz += target_difference.magnitude\n",
    "\n",
    "        structure.save(\n",
    "            os.path.join(work_dir, window, f\"{base_name}.prmtop\"), overwrite=True\n",
    "        )\n",
    "        structure.save(\n",
    "            os.path.join(work_dir, window, f\"{base_name}.rst7\"), overwrite=True\n",
    "        )\n",
    "\n",
    "    elif phase == \"release\":\n",
    "        last_pull_window = f\"p{windows[1]-1:03}\"\n",
    "        shutil.copy(\n",
    "            os.path.join(work_dir, last_pull_window, f\"{base_name}.prmtop\"),\n",
    "            os.path.join(work_dir, window, f\"{base_name}.prmtop\"),\n",
    "        )\n",
    "        shutil.copy(\n",
    "            os.path.join(work_dir, last_pull_window, f\"{base_name}.rst7\"),\n",
    "            os.path.join(work_dir, window, f\"{base_name}.rst7\"),\n",
    "        )"
   ]
  },
  {
   "cell_type": "markdown",
   "metadata": {
    "pycharm": {
     "name": "#%% md\n"
    }
   },
   "source": [
    "### Create OpenMM system and apply restraints"
   ]
  },
  {
   "cell_type": "markdown",
   "metadata": {},
   "source": [
    "Here, we will convert the *AMBER* `*.prmtop` & `*.rst7` to an *OpenMM* system object for each window and convert it to a *XML* file. The Generalized Born Implicit Solvent model we will use is `HCT`, which is equivalent to `igb=1` in *AMBER*. Afterwords, we will apply restraints on the dummy atoms using `apply_positional_restraints` and the static & guest restraints with `apply_dat_restraint`. "
   ]
  },
  {
   "cell_type": "code",
   "execution_count": 26,
   "metadata": {
    "tags": []
   },
   "outputs": [],
   "source": [
    "import openmm as openmm\n",
    "import openmm.app as app\n",
    "import openmm.unit as unit\n",
    "from paprika.restraints.openmm import apply_dat_restraint, apply_positional_restraints"
   ]
  },
  {
   "cell_type": "code",
   "execution_count": 27,
   "metadata": {
    "pycharm": {
     "name": "#%%\n"
    },
    "tags": []
   },
   "outputs": [
    {
     "name": "stderr",
     "output_type": "stream",
     "text": [
      "2023-06-20 02:46:46 PM Creating XML for in window a000\n",
      "2023-06-20 02:46:46 PM Creating XML for in window a001\n",
      "2023-06-20 02:46:46 PM Creating XML for in window a002\n",
      "2023-06-20 02:46:46 PM Creating XML for in window a003\n",
      "2023-06-20 02:46:46 PM Creating XML for in window a004\n",
      "2023-06-20 02:46:46 PM Creating XML for in window a005\n",
      "2023-06-20 02:46:46 PM Creating XML for in window a006\n",
      "2023-06-20 02:46:46 PM Creating XML for in window a007\n",
      "2023-06-20 02:46:46 PM Creating XML for in window a008\n",
      "2023-06-20 02:46:46 PM Creating XML for in window a009\n",
      "2023-06-20 02:46:46 PM Creating XML for in window a010\n",
      "2023-06-20 02:46:46 PM Creating XML for in window a011\n",
      "2023-06-20 02:46:46 PM Creating XML for in window a012\n",
      "2023-06-20 02:46:46 PM Creating XML for in window a013\n",
      "2023-06-20 02:46:46 PM Creating XML for in window p000\n",
      "2023-06-20 02:46:46 PM Creating XML for in window p001\n",
      "2023-06-20 02:46:46 PM Creating XML for in window p002\n",
      "2023-06-20 02:46:46 PM Creating XML for in window p003\n",
      "2023-06-20 02:46:46 PM Creating XML for in window p004\n",
      "2023-06-20 02:46:46 PM Creating XML for in window p005\n",
      "2023-06-20 02:46:46 PM Creating XML for in window p006\n",
      "2023-06-20 02:46:46 PM Creating XML for in window p007\n",
      "2023-06-20 02:46:47 PM Creating XML for in window p008\n",
      "2023-06-20 02:46:47 PM Creating XML for in window p009\n",
      "2023-06-20 02:46:47 PM Creating XML for in window p010\n",
      "2023-06-20 02:46:47 PM Creating XML for in window p011\n",
      "2023-06-20 02:46:47 PM Creating XML for in window p012\n",
      "2023-06-20 02:46:47 PM Creating XML for in window p013\n",
      "2023-06-20 02:46:47 PM Creating XML for in window p014\n",
      "2023-06-20 02:46:47 PM Creating XML for in window p015\n",
      "2023-06-20 02:46:47 PM Creating XML for in window p016\n",
      "2023-06-20 02:46:47 PM Creating XML for in window p017\n",
      "2023-06-20 02:46:47 PM Creating XML for in window r001\n",
      "2023-06-20 02:46:47 PM Creating XML for in window r002\n",
      "2023-06-20 02:46:47 PM Creating XML for in window r003\n",
      "2023-06-20 02:46:47 PM Creating XML for in window r004\n",
      "2023-06-20 02:46:47 PM Creating XML for in window r005\n",
      "2023-06-20 02:46:47 PM Creating XML for in window r006\n",
      "2023-06-20 02:46:47 PM Creating XML for in window r007\n",
      "2023-06-20 02:46:47 PM Creating XML for in window r008\n",
      "2023-06-20 02:46:47 PM Creating XML for in window r009\n",
      "2023-06-20 02:46:47 PM Creating XML for in window r010\n",
      "2023-06-20 02:46:47 PM Creating XML for in window r011\n",
      "2023-06-20 02:46:47 PM Creating XML for in window r012\n",
      "2023-06-20 02:46:47 PM Creating XML for in window r013\n",
      "2023-06-20 02:46:47 PM Creating XML for in window r014\n"
     ]
    }
   ],
   "source": [
    "for window in window_list:\n",
    "    # Current window\n",
    "    folder = os.path.join(work_dir, window)\n",
    "    window_number, phase = parse_window(window)\n",
    "    logging.info(f\"Creating XML for in window {window}\")\n",
    "\n",
    "    # Load Amber\n",
    "    prmtop = app.AmberPrmtopFile(os.path.join(folder, f\"{base_name}.prmtop\"))\n",
    "    inpcrd = app.AmberInpcrdFile(os.path.join(folder, f\"{base_name}.rst7\"))\n",
    "\n",
    "    # Create PDB file\n",
    "    with open(os.path.join(folder, \"system.pdb\"), \"w\") as file:\n",
    "        app.PDBFile.writeFile(prmtop.topology, inpcrd.positions, file, keepIds=True)\n",
    "\n",
    "    # Create an OpenMM system from the Amber topology\n",
    "    system = prmtop.createSystem(\n",
    "        nonbondedMethod=app.NoCutoff,\n",
    "        constraints=app.HBonds,\n",
    "        implicitSolvent=app.HCT,\n",
    "    )\n",
    "\n",
    "    # Apply positional restraints on the dummy atoms\n",
    "    apply_positional_restraints(\n",
    "        os.path.join(folder, \"system.pdb\"), system, force_group=15\n",
    "    )\n",
    "\n",
    "    # Apply host static restraints\n",
    "    for restraint in static_restraints:\n",
    "        apply_dat_restraint(system, restraint, phase, window_number, force_group=10)\n",
    "\n",
    "    # Apply guest restraints\n",
    "    for restraint in guest_restraints:\n",
    "        apply_dat_restraint(system, restraint, phase, window_number, force_group=11)\n",
    "\n",
    "    # Apply Jack restraints\n",
    "    for restraint in jack_restraints:\n",
    "        apply_dat_restraint(system, restraint, phase, window_number, force_group=12)\n",
    "\n",
    "    # Save OpenMM system to XML file\n",
    "    system_xml = openmm.XmlSerializer.serialize(system)\n",
    "    with open(os.path.join(folder, \"system.xml\"), \"w\") as file:\n",
    "        file.write(system_xml)"
   ]
  },
  {
   "cell_type": "markdown",
   "metadata": {},
   "source": [
    "## Simulation"
   ]
  },
  {
   "cell_type": "markdown",
   "metadata": {},
   "source": [
    "For this part, you need to have `OpenMM` installed and by default the simulations will run on the CPU. See the `OpenMM` documentation if you want to run the simulation on the GPU. We will set the integrator time step to 1 fs with a total of 50,000 steps for production run and the temperature is set to 300 K."
   ]
  },
  {
   "cell_type": "markdown",
   "metadata": {},
   "source": [
    "### Energy Minimization"
   ]
  },
  {
   "cell_type": "code",
   "execution_count": 28,
   "metadata": {
    "tags": []
   },
   "outputs": [
    {
     "name": "stderr",
     "output_type": "stream",
     "text": [
      "2023-06-20 02:46:47 PM Running minimization in window a000...\n",
      "2023-06-20 02:46:48 PM Running minimization in window a001...\n",
      "2023-06-20 02:46:48 PM Running minimization in window a002...\n",
      "2023-06-20 02:46:48 PM Running minimization in window a003...\n",
      "2023-06-20 02:46:48 PM Running minimization in window a004...\n",
      "2023-06-20 02:46:48 PM Running minimization in window a005...\n",
      "2023-06-20 02:46:49 PM Running minimization in window a006...\n",
      "2023-06-20 02:46:49 PM Running minimization in window a007...\n",
      "2023-06-20 02:46:49 PM Running minimization in window a008...\n",
      "2023-06-20 02:46:49 PM Running minimization in window a009...\n",
      "2023-06-20 02:46:49 PM Running minimization in window a010...\n",
      "2023-06-20 02:46:49 PM Running minimization in window a011...\n",
      "2023-06-20 02:46:49 PM Running minimization in window a012...\n",
      "2023-06-20 02:46:50 PM Running minimization in window a013...\n",
      "2023-06-20 02:46:50 PM Running minimization in window p000...\n",
      "2023-06-20 02:46:50 PM Running minimization in window p001...\n",
      "2023-06-20 02:46:50 PM Running minimization in window p002...\n",
      "2023-06-20 02:46:50 PM Running minimization in window p003...\n",
      "2023-06-20 02:46:50 PM Running minimization in window p004...\n",
      "2023-06-20 02:46:50 PM Running minimization in window p005...\n",
      "2023-06-20 02:46:50 PM Running minimization in window p006...\n",
      "2023-06-20 02:46:51 PM Running minimization in window p007...\n",
      "2023-06-20 02:46:51 PM Running minimization in window p008...\n",
      "2023-06-20 02:46:51 PM Running minimization in window p009...\n",
      "2023-06-20 02:46:51 PM Running minimization in window p010...\n",
      "2023-06-20 02:46:51 PM Running minimization in window p011...\n",
      "2023-06-20 02:46:51 PM Running minimization in window p012...\n",
      "2023-06-20 02:46:51 PM Running minimization in window p013...\n",
      "2023-06-20 02:46:51 PM Running minimization in window p014...\n",
      "2023-06-20 02:46:52 PM Running minimization in window p015...\n",
      "2023-06-20 02:46:52 PM Running minimization in window p016...\n",
      "2023-06-20 02:46:52 PM Running minimization in window p017...\n",
      "2023-06-20 02:46:52 PM Running minimization in window r001...\n",
      "2023-06-20 02:46:52 PM Running minimization in window r002...\n",
      "2023-06-20 02:46:52 PM Running minimization in window r003...\n",
      "2023-06-20 02:46:52 PM Running minimization in window r004...\n",
      "2023-06-20 02:46:52 PM Running minimization in window r005...\n",
      "2023-06-20 02:46:53 PM Running minimization in window r006...\n",
      "2023-06-20 02:46:53 PM Running minimization in window r007...\n",
      "2023-06-20 02:46:53 PM Running minimization in window r008...\n",
      "2023-06-20 02:46:53 PM Running minimization in window r009...\n",
      "2023-06-20 02:46:53 PM Running minimization in window r010...\n",
      "2023-06-20 02:46:53 PM Running minimization in window r011...\n",
      "2023-06-20 02:46:53 PM Running minimization in window r012...\n",
      "2023-06-20 02:46:54 PM Running minimization in window r013...\n",
      "2023-06-20 02:46:54 PM Running minimization in window r014...\n"
     ]
    }
   ],
   "source": [
    "for window in window_list:\n",
    "    folder = os.path.join(work_dir, window)\n",
    "    logging.info(f\"Running minimization in window {window}...\")\n",
    "\n",
    "    # Load XML and input coordinates\n",
    "    with open(os.path.join(folder, \"system.xml\"), \"r\") as file:\n",
    "        system = openmm.XmlSerializer.deserialize(file.read())\n",
    "    coords = app.PDBFile(os.path.join(folder, \"system.pdb\"))\n",
    "\n",
    "    # Integrator\n",
    "    integrator = openmm.LangevinIntegrator(\n",
    "        300 * unit.kelvin, 1.0 / unit.picoseconds, 1.0 * unit.femtoseconds\n",
    "    )\n",
    "\n",
    "    # Simulation Object\n",
    "    simulation = app.Simulation(coords.topology, system, integrator)\n",
    "    simulation.context.setPositions(coords.positions)\n",
    "\n",
    "    # Minimize Energy\n",
    "    simulation.minimizeEnergy(\n",
    "        tolerance=1.0 * unit.kilojoules_per_mole, maxIterations=5000\n",
    "    )\n",
    "\n",
    "    # Save final coordinates\n",
    "    positions = simulation.context.getState(getPositions=True).getPositions()\n",
    "    with open(os.path.join(folder, \"minimized.pdb\"), \"w\") as file:\n",
    "        app.PDBFile.writeFile(simulation.topology, positions, file, keepIds=True)"
   ]
  },
  {
   "cell_type": "markdown",
   "metadata": {},
   "source": [
    "* Here we will skip the equilibration step and go straight to production!"
   ]
  },
  {
   "cell_type": "markdown",
   "metadata": {},
   "source": [
    "### Production Run"
   ]
  },
  {
   "cell_type": "code",
   "execution_count": 29,
   "metadata": {
    "tags": []
   },
   "outputs": [
    {
     "name": "stderr",
     "output_type": "stream",
     "text": [
      "2023-06-20 02:46:54 PM Running production in window a000...\n",
      "2023-06-20 02:46:57 PM Running production in window a001...\n",
      "2023-06-20 02:47:00 PM Running production in window a002...\n",
      "2023-06-20 02:47:03 PM Running production in window a003...\n",
      "2023-06-20 02:47:06 PM Running production in window a004...\n",
      "2023-06-20 02:47:09 PM Running production in window a005...\n",
      "2023-06-20 02:47:12 PM Running production in window a006...\n",
      "2023-06-20 02:47:15 PM Running production in window a007...\n",
      "2023-06-20 02:47:18 PM Running production in window a008...\n",
      "2023-06-20 02:47:21 PM Running production in window a009...\n",
      "2023-06-20 02:47:24 PM Running production in window a010...\n",
      "2023-06-20 02:47:27 PM Running production in window a011...\n",
      "2023-06-20 02:47:30 PM Running production in window a012...\n",
      "2023-06-20 02:47:33 PM Running production in window a013...\n",
      "2023-06-20 02:47:36 PM Running production in window p000...\n",
      "2023-06-20 02:47:39 PM Running production in window p001...\n",
      "2023-06-20 02:47:42 PM Running production in window p002...\n",
      "2023-06-20 02:47:45 PM Running production in window p003...\n",
      "2023-06-20 02:47:48 PM Running production in window p004...\n",
      "2023-06-20 02:47:51 PM Running production in window p005...\n",
      "2023-06-20 02:47:54 PM Running production in window p006...\n",
      "2023-06-20 02:47:57 PM Running production in window p007...\n",
      "2023-06-20 02:48:01 PM Running production in window p008...\n",
      "2023-06-20 02:48:04 PM Running production in window p009...\n",
      "2023-06-20 02:48:07 PM Running production in window p010...\n",
      "2023-06-20 02:48:10 PM Running production in window p011...\n",
      "2023-06-20 02:48:13 PM Running production in window p012...\n",
      "2023-06-20 02:48:16 PM Running production in window p013...\n",
      "2023-06-20 02:48:19 PM Running production in window p014...\n",
      "2023-06-20 02:48:22 PM Running production in window p015...\n",
      "2023-06-20 02:48:25 PM Running production in window p016...\n",
      "2023-06-20 02:48:28 PM Running production in window p017...\n",
      "2023-06-20 02:48:31 PM Running production in window r001...\n",
      "2023-06-20 02:48:34 PM Running production in window r002...\n",
      "2023-06-20 02:48:37 PM Running production in window r003...\n",
      "2023-06-20 02:48:40 PM Running production in window r004...\n",
      "2023-06-20 02:48:43 PM Running production in window r005...\n",
      "2023-06-20 02:48:46 PM Running production in window r006...\n",
      "2023-06-20 02:48:49 PM Running production in window r007...\n",
      "2023-06-20 02:48:52 PM Running production in window r008...\n",
      "2023-06-20 02:48:55 PM Running production in window r009...\n",
      "2023-06-20 02:48:58 PM Running production in window r010...\n",
      "2023-06-20 02:49:01 PM Running production in window r011...\n",
      "2023-06-20 02:49:04 PM Running production in window r012...\n",
      "2023-06-20 02:49:07 PM Running production in window r013...\n",
      "2023-06-20 02:49:10 PM Running production in window r014...\n"
     ]
    }
   ],
   "source": [
    "for window in window_list:\n",
    "    folder = os.path.join(work_dir, window)\n",
    "    logging.info(f\"Running production in window {window}...\")\n",
    "\n",
    "    # Load XML and input coordinates\n",
    "    with open(os.path.join(folder, \"system.xml\"), \"r\") as file:\n",
    "        system = openmm.XmlSerializer.deserialize(file.read())\n",
    "    coords = app.PDBFile(os.path.join(folder, \"minimized.pdb\"))\n",
    "\n",
    "    # Integrator\n",
    "    integrator = openmm.LangevinIntegrator(\n",
    "        300 * unit.kelvin, 1.0 / unit.picoseconds, 1.0 * unit.femtoseconds\n",
    "    )\n",
    "\n",
    "    # Reporters\n",
    "    dcd_reporter = app.DCDReporter(os.path.join(folder, \"production.dcd\"), 500)\n",
    "    state_reporter = app.StateDataReporter(\n",
    "        os.path.join(folder, \"production.log\"),\n",
    "        500,\n",
    "        step=True,\n",
    "        kineticEnergy=True,\n",
    "        potentialEnergy=True,\n",
    "        totalEnergy=True,\n",
    "        temperature=True,\n",
    "    )\n",
    "\n",
    "    # Simulation Object\n",
    "    simulation = app.Simulation(coords.topology, system, integrator)\n",
    "    simulation.context.setPositions(coords.positions)\n",
    "    simulation.reporters.append(dcd_reporter)\n",
    "    simulation.reporters.append(state_reporter)\n",
    "\n",
    "    # MD steps\n",
    "    simulation.step(50000)\n",
    "\n",
    "    # Save final coordinates\n",
    "    positions = simulation.context.getState(getPositions=True).getPositions()\n",
    "    with open(os.path.join(folder, \"production.pdb\"), \"w\") as file:\n",
    "        app.PDBFile.writeFile(simulation.topology, positions, file, keepIds=True)"
   ]
  },
  {
   "cell_type": "markdown",
   "metadata": {},
   "source": [
    "## Analysis"
   ]
  },
  {
   "cell_type": "markdown",
   "metadata": {},
   "source": [
    "Once the simulation is completed, we can using the `analysis` module to determine the binding free energy. We supply the location of the parameter information, a string or list for the file names (wildcards supported), the location of the windows, and the restraints on the guest.\n",
    "\n",
    "In this example, we use the method `ti-block` which determines the free energy using **t**hermodynamic **i**integration and then estimates the standard error of the mean at each data point using blocking analysis. Bootstrapping it used to determine the uncertainty of the  full thermodynamic integral for each phase.\n",
    "\n",
    "After running `compute_free_energy()`, a dictionary called `results` will be populated, that contains the free energy and SEM for each phase of the simulation."
   ]
  },
  {
   "cell_type": "code",
   "execution_count": 30,
   "metadata": {
    "tags": []
   },
   "outputs": [],
   "source": [
    "import paprika.analysis as analysis"
   ]
  },
  {
   "cell_type": "code",
   "execution_count": 33,
   "metadata": {
    "tags": []
   },
   "outputs": [],
   "source": [
    "free_energy = analysis.fe_calc()\n",
    "free_energy.topology = \"system.pdb\"\n",
    "free_energy.trajectory = \"production.dcd\"\n",
    "free_energy.path = work_dir\n",
    "free_energy.restraint_list = guest_restraints + jack_restraints\n",
    "free_energy.collect_data()\n",
    "free_energy.methods = [\"ti-block\"]\n",
    "free_energy.ti_matrix = \"diagonal\"\n",
    "free_energy.boot_cycles = 1000\n",
    "free_energy.compute_free_energy()"
   ]
  },
  {
   "cell_type": "code",
   "execution_count": 34,
   "metadata": {
    "tags": []
   },
   "outputs": [
    {
     "name": "stderr",
     "output_type": "stream",
     "text": [
      "/home/jsetiadi/Documents/Software/pAPRika/paprika/analysis/analysis.py:1359: UserWarning: Converting restraint list to dictionary, make sure the restraints are listed in the order of [`r`, `theta`,`phi`, `alpha`, `beta`, `gamma`].\n",
      "  warnings.warn(\n"
     ]
    }
   ],
   "source": [
    "free_energy.compute_ref_state_work(\n",
    "    [guest_restraints[0], guest_restraints[1], None, None, guest_restraints[2], None]\n",
    ")\n",
    "\n",
    "binding_affinity = -1 * (\n",
    "    free_energy.results[\"attach\"][\"ti-block\"][\"fe\"]\n",
    "    + free_energy.results[\"pull\"][\"ti-block\"][\"fe\"]\n",
    "    - free_energy.results[\"release\"][\"ti-block\"][\"fe\"]\n",
    "    + free_energy.results[\"ref_state_work\"]\n",
    ")\n",
    "\n",
    "sem = np.sqrt(\n",
    "    free_energy.results[\"attach\"][\"ti-block\"][\"sem\"] ** 2\n",
    "    + free_energy.results[\"pull\"][\"ti-block\"][\"sem\"] ** 2\n",
    "    + free_energy.results[\"release\"][\"ti-block\"][\"sem\"] ** 2\n",
    ")"
   ]
  },
  {
   "cell_type": "code",
   "execution_count": 35,
   "metadata": {},
   "outputs": [
    {
     "name": "stdout",
     "output_type": "stream",
     "text": [
      "The binding affinity of butane to cucurbit[6]uril = -11.60 +/- 3.59 kcal/mol\n"
     ]
    }
   ],
   "source": [
    "print(\n",
    "    f\"The binding affinity of butane to cucurbit[6]uril = {binding_affinity.magnitude:0.2f} +/- {sem.magnitude:0.2f} kcal/mol\"\n",
    ")"
   ]
  },
  {
   "cell_type": "markdown",
   "metadata": {
    "pycharm": {
     "name": "#%% md\n"
    }
   },
   "source": [
    "The value above is very close to the value obtained from running the APR calculations with [Amber](01-tutorial-cb6-but.ipynb#results). "
   ]
  }
 ],
 "metadata": {
  "kernelspec": {
   "display_name": "Python 3 (ipykernel)",
   "language": "python",
   "name": "python3"
  },
  "language_info": {
   "codemirror_mode": {
    "name": "ipython",
    "version": 3
   },
   "file_extension": ".py",
   "mimetype": "text/x-python",
   "name": "python",
   "nbconvert_exporter": "python",
   "pygments_lexer": "ipython3",
   "version": "3.10.6"
  },
  "pycharm": {
   "stem_cell": {
    "cell_type": "raw",
    "metadata": {
     "collapsed": false
    },
    "source": []
   }
  }
 },
 "nbformat": 4,
 "nbformat_minor": 4
}
