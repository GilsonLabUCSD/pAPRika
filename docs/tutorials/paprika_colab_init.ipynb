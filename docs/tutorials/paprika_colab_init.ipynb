{
  "nbformat": 4,
  "nbformat_minor": 0,
  "metadata": {
    "colab": {
      "name": "paprika_colab_init.ipynb",
      "provenance": [],
      "collapsed_sections": []
    },
    "kernelspec": {
      "name": "python3",
      "display_name": "Python 3"
    },
    "language_info": {
      "name": "python"
    },
    "accelerator": "GPU"
  },
  "cells": [
    {
      "cell_type": "code",
      "source": [
        "script = \"\"\"\n",
        "#!/bin/bash\n",
        "\n",
        "#Download the miniconda setup script\n",
        "echo $(rm *Miniconda3-latest-Linux-x86_64.sh*)\n",
        "echo $(wget https://repo.anaconda.com/miniconda/Miniconda3-latest-Linux-x86_64.sh)\n",
        "\n",
        "#Get the SHA-256 hashsum of the script\n",
        "current_hash=$(sha256sum Miniconda3-latest-Linux-x86_64.sh)\n",
        "\n",
        "#Reference hash from https://docs.conda.io/en/latest/miniconda.html retrieved April 2022\n",
        "reference_hash=\"4ee9c3aa53329cd7a63b49877c0babb49b19b7e5af29807b793a76bdb1d362b4  Miniconda3-latest-Linux-x86_64.sh\"\n",
        "\n",
        "echo Verifying Miniconda hash...\n",
        "echo $current_hash ; echo $reference_hash\n",
        "\n",
        "#Check if the hashes match\n",
        "if [ \"$current_hash\" == \"$reference_hash\" ]; then\n",
        "  echo Hash verified. Continuing with installation...\n",
        "  bash Miniconda3-latest-Linux-x86_64.sh -b -f -p /usr/local\n",
        "else\n",
        "  echo Hash verification failed. Make sure the reference_hash variable in download_miniconda.sh matches the most recent hash at https://docs.conda.io/en/latest/miniconda.html. Installation halted.\n",
        "  echo $(rm *Miniconda3-latest-Linux-x86_64.sh*)\n",
        "fi\n",
        "\n",
        "echo Exiting Miniconda installation script.\n",
        "\"\"\"\n",
        "with open('download_miniconda.sh', 'w') as file:\n",
        "  file.write(script)\n",
        "\n",
        "!chmod +x download_miniconda.sh; bash download_miniconda.sh"
      ],
      "metadata": {
        "id": "znDiDP1cPs18",
        "collapsed": true
      },
      "execution_count": null,
      "outputs": []
    },
    {
      "cell_type": "code",
      "execution_count": null,
      "metadata": {
        "id": "MPKcMqiVOBLT",
        "collapsed": true
      },
      "outputs": [],
      "source": [
        "#!unset PYTHONPATH\n",
        "#!export PATH=\"/root/miniconda/bin:$PATH\"\n",
        "#!source /root/.bashrc"
      ]
    },
    {
      "cell_type": "code",
      "source": [
        "!git clone https://github.com/slochower/pAPRika.git\n",
        "!sed -i -z 's/python\\n/python ==3.9\\n/g' pAPRika/devtools/conda-envs/test_env.yaml\n",
        "!. /usr/local/etc/profile.d/conda.sh && conda env update --name base --file pAPRika/devtools/conda-envs/test_env.yaml && conda list\n",
        "!pip install git+https://github.com/slochower/pAPRika.git@master"
      ],
      "metadata": {
        "id": "8QxCvQS8mnjN"
      },
      "execution_count": null,
      "outputs": []
    },
    {
      "cell_type": "code",
      "source": [
        "import sys\n",
        "import os\n",
        "sys.path.append('/usr/local/lib/python3.9/site-packages/')\n",
        "os.environ[\"CUDA_VISIBLE_DEVICES\"] = \"0\""
      ],
      "metadata": {
        "id": "7PGZfe6NPJYT",
        "collapsed": true
      },
      "execution_count": null,
      "outputs": []
    }
  ]
}
