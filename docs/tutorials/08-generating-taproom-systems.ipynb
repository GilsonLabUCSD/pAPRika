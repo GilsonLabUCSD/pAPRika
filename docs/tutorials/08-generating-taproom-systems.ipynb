{
 "cells": [
  {
   "cell_type": "code",
   "execution_count": 1,
   "id": "4fa4e04a-c418-46d6-b4c0-92c4f20a484a",
   "metadata": {
    "tags": []
   },
   "outputs": [
    {
     "data": {
      "application/vnd.jupyter.widget-view+json": {
       "model_id": "75b2575fb44c49bdaa8c58541c1212ae",
       "version_major": 2,
       "version_minor": 0
      },
      "text/plain": []
     },
     "metadata": {},
     "output_type": "display_data"
    }
   ],
   "source": [
    "import os\n",
    "import warnings\n",
    "\n",
    "warnings.filterwarnings(action=\"ignore\")\n",
    "\n",
    "from openff.toolkit.typing.engines.smirnoff import ForceField\n",
    "from paprika.build.system.taproom import BuildTaproomAPR\n",
    "from pkg_resources import resource_filename\n",
    "from tqdm.auto import tqdm"
   ]
  },
  {
   "cell_type": "code",
   "execution_count": 2,
   "id": "e9e0c9bd-1771-4c52-9c46-b5ece3d8c7c2",
   "metadata": {
    "tags": []
   },
   "outputs": [],
   "source": [
    "os.environ[\"INTERCHANGE_EXPERIMENTAL\"] = \"1\""
   ]
  },
  {
   "cell_type": "markdown",
   "id": "e5140dbf",
   "metadata": {},
   "source": [
    "* The `BuildTaproomAPR` class requires the OpenFF-Interchange modules. Install in your conda environment with:\n",
    "\n",
    "`conda install -c conda-forge openff-interchange`"
   ]
  },
  {
   "cell_type": "markdown",
   "id": "ac82a11a",
   "metadata": {},
   "source": [
    "## 01) Build System in explicit solvent"
   ]
  },
  {
   "cell_type": "code",
   "execution_count": 3,
   "id": "b8c3ab15",
   "metadata": {
    "tags": []
   },
   "outputs": [],
   "source": [
    "# Define force field (OpenFF)\n",
    "force_field = ForceField(\"openff-2.0.0.offxml\")"
   ]
  },
  {
   "cell_type": "code",
   "execution_count": 4,
   "id": "50986520",
   "metadata": {
    "tags": []
   },
   "outputs": [],
   "source": [
    "system = BuildTaproomAPR(\n",
    "    host_code=\"acd\",\n",
    "    guest_code=\"bam\",\n",
    "    n_water=2200,\n",
    "    force_field=force_field,\n",
    "    working_folder=\"explicit_solvent\",\n",
    "    disable_progress=False,\n",
    ")"
   ]
  },
  {
   "cell_type": "code",
   "execution_count": 5,
   "id": "2c92a6bc",
   "metadata": {
    "tags": []
   },
   "outputs": [
    {
     "data": {
      "application/vnd.jupyter.widget-view+json": {
       "model_id": "bc5a31ad3ec3440e9bc7074ac0a05542",
       "version_major": 2,
       "version_minor": 0
      },
      "text/plain": [
       "generating files `pull-s`:   0%|          | 0/46 [00:00<?, ?it/s]"
      ]
     },
     "metadata": {},
     "output_type": "display_data"
    },
    {
     "name": "stderr",
     "output_type": "stream",
     "text": [
      "/Users/jsetiadi/anaconda3/envs/paprika-dev/lib/python3.10/site-packages/openff/interchange/_experimental.py:35: UserWarning: Interchange object combination is experimental and likely to produce strange results. Any workflow using this method is not guaranteed to be suitable for production. Use with extreme caution and thoroughly validate results!\n",
      "  return func(*args, **kwargs)\n",
      "/Users/jsetiadi/anaconda3/envs/paprika-dev/lib/python3.10/site-packages/openff/interchange/_experimental.py:35: UserWarning: Interchange object combination is experimental and likely to produce strange results. Any workflow using this method is not guaranteed to be suitable for production. Use with extreme caution and thoroughly validate results!\n",
      "  return func(*args, **kwargs)\n",
      "/Users/jsetiadi/anaconda3/envs/paprika-dev/lib/python3.10/site-packages/openff/interchange/_experimental.py:35: UserWarning: Interchange object combination is experimental and likely to produce strange results. Any workflow using this method is not guaranteed to be suitable for production. Use with extreme caution and thoroughly validate results!\n",
      "  return func(*args, **kwargs)\n",
      "/Users/jsetiadi/anaconda3/envs/paprika-dev/lib/python3.10/site-packages/openff/interchange/_experimental.py:35: UserWarning: Interchange object combination is experimental and likely to produce strange results. Any workflow using this method is not guaranteed to be suitable for production. Use with extreme caution and thoroughly validate results!\n",
      "  return func(*args, **kwargs)\n",
      "/Users/jsetiadi/anaconda3/envs/paprika-dev/lib/python3.10/site-packages/openff/interchange/components/interchange.py:811: UserWarning: Setting positions to None because one or both objects added together were missing positions.\n",
      "  warnings.warn(\n",
      "/Users/jsetiadi/anaconda3/envs/paprika-dev/lib/python3.10/site-packages/openff/interchange/components/interchange.py:811: UserWarning: Setting positions to None because one or both objects added together were missing positions.\n",
      "  warnings.warn(\n",
      "/Users/jsetiadi/anaconda3/envs/paprika-dev/lib/python3.10/site-packages/openff/interchange/components/interchange.py:811: UserWarning: Setting positions to None because one or both objects added together were missing positions.\n",
      "  warnings.warn(\n",
      "/Users/jsetiadi/anaconda3/envs/paprika-dev/lib/python3.10/site-packages/openff/interchange/components/interchange.py:811: UserWarning: Setting positions to None because one or both objects added together were missing positions.\n",
      "  warnings.warn(\n"
     ]
    },
    {
     "data": {
      "application/vnd.jupyter.widget-view+json": {
       "model_id": "574f92f037bc4f0e9e3196804324d558",
       "version_major": 2,
       "version_minor": 0
      },
      "text/plain": [
       "generating files `attach-s`:   0%|          | 0/15 [00:00<?, ?it/s]"
      ]
     },
     "metadata": {},
     "output_type": "display_data"
    },
    {
     "data": {
      "application/vnd.jupyter.widget-view+json": {
       "model_id": "c4517a4e1de5441c8a9d51fa3928546b",
       "version_major": 2,
       "version_minor": 0
      },
      "text/plain": [
       "generating files `pull-p`:   0%|          | 0/46 [00:00<?, ?it/s]"
      ]
     },
     "metadata": {},
     "output_type": "display_data"
    },
    {
     "data": {
      "application/vnd.jupyter.widget-view+json": {
       "model_id": "6d79ccd352d447ebb49bc189ae6fc0ba",
       "version_major": 2,
       "version_minor": 0
      },
      "text/plain": [
       "generating files `attach-p`:   0%|          | 0/15 [00:00<?, ?it/s]"
      ]
     },
     "metadata": {},
     "output_type": "display_data"
    },
    {
     "data": {
      "application/vnd.jupyter.widget-view+json": {
       "model_id": "d0498dfedf09469e85ab392abf652ec0",
       "version_major": 2,
       "version_minor": 0
      },
      "text/plain": [
       "generating files `release`:   0%|          | 0/15 [00:00<?, ?it/s]"
      ]
     },
     "metadata": {},
     "output_type": "display_data"
    },
    {
     "name": "stderr",
     "output_type": "stream",
     "text": [
      "WARNING:root:Encountered Structure, which does not store filename.\n",
      "WARNING:root:Encountered Structure, which does not store filename.\n",
      "WARNING:root:Encountered Structure, which does not store filename.\n",
      "WARNING:root:Encountered Structure, which does not store filename.\n",
      "WARNING:root:Encountered Structure, which does not store filename.\n",
      "WARNING:root:Encountered Structure, which does not store filename.\n"
     ]
    },
    {
     "data": {
      "application/vnd.jupyter.widget-view+json": {
       "model_id": "b6347fa2697c4913a2a4bb047283d9b4",
       "version_major": 2,
       "version_minor": 0
      },
      "text/plain": [
       "applying restraints `attach-s`:   0%|          | 0/15 [00:00<?, ?it/s]"
      ]
     },
     "metadata": {},
     "output_type": "display_data"
    },
    {
     "name": "stderr",
     "output_type": "stream",
     "text": [
      "WARNING:root:Encountered Structure, which does not store filename.\n",
      "WARNING:root:Encountered Structure, which does not store filename.\n",
      "WARNING:root:Encountered Structure, which does not store filename.\n",
      "WARNING:root:Encountered Structure, which does not store filename.\n",
      "WARNING:root:Encountered Structure, which does not store filename.\n",
      "WARNING:root:Encountered Structure, which does not store filename.\n"
     ]
    },
    {
     "data": {
      "application/vnd.jupyter.widget-view+json": {
       "model_id": "801e11660ab94a619fd250c682d3cb0b",
       "version_major": 2,
       "version_minor": 0
      },
      "text/plain": [
       "applying restraints `attach-p`:   0%|          | 0/15 [00:00<?, ?it/s]"
      ]
     },
     "metadata": {},
     "output_type": "display_data"
    },
    {
     "name": "stderr",
     "output_type": "stream",
     "text": [
      "WARNING:root:Encountered Structure, which does not store filename.\n",
      "WARNING:root:Encountered Structure, which does not store filename.\n",
      "WARNING:root:Encountered Structure, which does not store filename.\n",
      "WARNING:root:Encountered Structure, which does not store filename.\n",
      "WARNING:root:Encountered Structure, which does not store filename.\n",
      "WARNING:root:Encountered Structure, which does not store filename.\n"
     ]
    },
    {
     "data": {
      "application/vnd.jupyter.widget-view+json": {
       "model_id": "ea07db81dbc74ace8b1607f62947efdc",
       "version_major": 2,
       "version_minor": 0
      },
      "text/plain": [
       "applying restraints `pull-s`:   0%|          | 0/46 [00:00<?, ?it/s]"
      ]
     },
     "metadata": {},
     "output_type": "display_data"
    },
    {
     "name": "stderr",
     "output_type": "stream",
     "text": [
      "WARNING:root:Encountered Structure, which does not store filename.\n",
      "WARNING:root:Encountered Structure, which does not store filename.\n",
      "WARNING:root:Encountered Structure, which does not store filename.\n",
      "WARNING:root:Encountered Structure, which does not store filename.\n",
      "WARNING:root:Encountered Structure, which does not store filename.\n",
      "WARNING:root:Encountered Structure, which does not store filename.\n"
     ]
    },
    {
     "data": {
      "application/vnd.jupyter.widget-view+json": {
       "model_id": "e6de81d34427443cad37225f4ecd1aa4",
       "version_major": 2,
       "version_minor": 0
      },
      "text/plain": [
       "applying restraints `pull-p`:   0%|          | 0/46 [00:00<?, ?it/s]"
      ]
     },
     "metadata": {},
     "output_type": "display_data"
    },
    {
     "name": "stderr",
     "output_type": "stream",
     "text": [
      "WARNING:root:Encountered Structure, which does not store filename.\n",
      "WARNING:root:Encountered Structure, which does not store filename.\n",
      "WARNING:root:Encountered Structure, which does not store filename.\n",
      "WARNING:root:Encountered Structure, which does not store filename.\n",
      "WARNING:root:Encountered Structure, which does not store filename.\n",
      "WARNING:root:Encountered Structure, which does not store filename.\n"
     ]
    },
    {
     "data": {
      "application/vnd.jupyter.widget-view+json": {
       "model_id": "13a5d6920d4f4d9b9894a2f558242c88",
       "version_major": 2,
       "version_minor": 0
      },
      "text/plain": [
       "applying restraints `release`:   0%|          | 0/15 [00:00<?, ?it/s]"
      ]
     },
     "metadata": {},
     "output_type": "display_data"
    }
   ],
   "source": [
    "# Build APR files -- parallelize over 4 CPUs\n",
    "system.build_system(n_cpus=4, clean_files=True)"
   ]
  },
  {
   "cell_type": "markdown",
   "id": "0bae63d4-0ef7-4b99-8cb0-27ce90694bef",
   "metadata": {},
   "source": [
    "## 02) Build System in implicit solvent"
   ]
  },
  {
   "cell_type": "code",
   "execution_count": 6,
   "id": "cde8cd8e",
   "metadata": {},
   "outputs": [],
   "source": [
    "# Define force field (OpenFF)\n",
    "gbsa = resource_filename(\n",
    "    \"openff.toolkit\",\n",
    "    os.path.join(\"data\", \"test_forcefields\", \"GBSA_OBC2-1.0.offxml\"),\n",
    ")\n",
    "force_field = ForceField(\"openff-2.0.0.offxml\", gbsa)"
   ]
  },
  {
   "cell_type": "code",
   "execution_count": 7,
   "id": "57d2f8af-9a34-4395-9b72-aaea82c0b7d6",
   "metadata": {},
   "outputs": [],
   "source": [
    "system = BuildTaproomAPR(\n",
    "    host_code=\"acd\",\n",
    "    guest_code=\"bam\",\n",
    "    n_water=None, #<-- Set to None to build system in vacuum\n",
    "    force_field=force_field,\n",
    "    working_folder=\"implicit_solvent\",\n",
    "    disable_progress=False,\n",
    ")"
   ]
  },
  {
   "cell_type": "code",
   "execution_count": 8,
   "id": "04dbf25d-01cd-4bbd-b8e3-93576869edc4",
   "metadata": {},
   "outputs": [
    {
     "data": {
      "application/vnd.jupyter.widget-view+json": {
       "model_id": "67fb894483b8426880537bca9b512910",
       "version_major": 2,
       "version_minor": 0
      },
      "text/plain": [
       "generating files `pull-s`:   0%|          | 0/46 [00:00<?, ?it/s]"
      ]
     },
     "metadata": {},
     "output_type": "display_data"
    },
    {
     "data": {
      "application/vnd.jupyter.widget-view+json": {
       "model_id": "a69cb871a616409c85477fd64a8633b4",
       "version_major": 2,
       "version_minor": 0
      },
      "text/plain": [
       "generating files `attach-s`:   0%|          | 0/15 [00:00<?, ?it/s]"
      ]
     },
     "metadata": {},
     "output_type": "display_data"
    },
    {
     "data": {
      "application/vnd.jupyter.widget-view+json": {
       "model_id": "863c618dfa2c42ef8f8c63c5122a68b3",
       "version_major": 2,
       "version_minor": 0
      },
      "text/plain": [
       "generating files `pull-p`:   0%|          | 0/46 [00:00<?, ?it/s]"
      ]
     },
     "metadata": {},
     "output_type": "display_data"
    },
    {
     "data": {
      "application/vnd.jupyter.widget-view+json": {
       "model_id": "805b67f3bd9b48479b2b70e54e6fafae",
       "version_major": 2,
       "version_minor": 0
      },
      "text/plain": [
       "generating files `attach-p`:   0%|          | 0/15 [00:00<?, ?it/s]"
      ]
     },
     "metadata": {},
     "output_type": "display_data"
    },
    {
     "data": {
      "application/vnd.jupyter.widget-view+json": {
       "model_id": "dd4b845070e749949f8e81ce4954ac23",
       "version_major": 2,
       "version_minor": 0
      },
      "text/plain": [
       "generating files `release`:   0%|          | 0/15 [00:00<?, ?it/s]"
      ]
     },
     "metadata": {},
     "output_type": "display_data"
    },
    {
     "name": "stderr",
     "output_type": "stream",
     "text": [
      "WARNING:root:Encountered Structure, which does not store filename.\n",
      "WARNING:root:Encountered Structure, which does not store filename.\n",
      "WARNING:root:Encountered Structure, which does not store filename.\n",
      "WARNING:root:Encountered Structure, which does not store filename.\n",
      "WARNING:root:Encountered Structure, which does not store filename.\n",
      "WARNING:root:Encountered Structure, which does not store filename.\n"
     ]
    },
    {
     "data": {
      "application/vnd.jupyter.widget-view+json": {
       "model_id": "af1795b98e15486680e4c819e7f069b3",
       "version_major": 2,
       "version_minor": 0
      },
      "text/plain": [
       "applying restraints `attach-s`:   0%|          | 0/15 [00:00<?, ?it/s]"
      ]
     },
     "metadata": {},
     "output_type": "display_data"
    },
    {
     "name": "stderr",
     "output_type": "stream",
     "text": [
      "WARNING:root:Encountered Structure, which does not store filename.\n",
      "WARNING:root:Encountered Structure, which does not store filename.\n",
      "WARNING:root:Encountered Structure, which does not store filename.\n",
      "WARNING:root:Encountered Structure, which does not store filename.\n",
      "WARNING:root:Encountered Structure, which does not store filename.\n",
      "WARNING:root:Encountered Structure, which does not store filename.\n"
     ]
    },
    {
     "data": {
      "application/vnd.jupyter.widget-view+json": {
       "model_id": "7d595ecd283949f9ab05773eefc1aa15",
       "version_major": 2,
       "version_minor": 0
      },
      "text/plain": [
       "applying restraints `attach-p`:   0%|          | 0/15 [00:00<?, ?it/s]"
      ]
     },
     "metadata": {},
     "output_type": "display_data"
    },
    {
     "name": "stderr",
     "output_type": "stream",
     "text": [
      "WARNING:root:Encountered Structure, which does not store filename.\n",
      "WARNING:root:Encountered Structure, which does not store filename.\n",
      "WARNING:root:Encountered Structure, which does not store filename.\n",
      "WARNING:root:Encountered Structure, which does not store filename.\n",
      "WARNING:root:Encountered Structure, which does not store filename.\n",
      "WARNING:root:Encountered Structure, which does not store filename.\n"
     ]
    },
    {
     "data": {
      "application/vnd.jupyter.widget-view+json": {
       "model_id": "1caefe0f462449a3a445210c53b7745d",
       "version_major": 2,
       "version_minor": 0
      },
      "text/plain": [
       "applying restraints `pull-s`:   0%|          | 0/46 [00:00<?, ?it/s]"
      ]
     },
     "metadata": {},
     "output_type": "display_data"
    },
    {
     "name": "stderr",
     "output_type": "stream",
     "text": [
      "WARNING:root:Encountered Structure, which does not store filename.\n",
      "WARNING:root:Encountered Structure, which does not store filename.\n",
      "WARNING:root:Encountered Structure, which does not store filename.\n",
      "WARNING:root:Encountered Structure, which does not store filename.\n",
      "WARNING:root:Encountered Structure, which does not store filename.\n",
      "WARNING:root:Encountered Structure, which does not store filename.\n"
     ]
    },
    {
     "data": {
      "application/vnd.jupyter.widget-view+json": {
       "model_id": "b056baf58b31439fa1a8c4bfd2e633fb",
       "version_major": 2,
       "version_minor": 0
      },
      "text/plain": [
       "applying restraints `pull-p`:   0%|          | 0/46 [00:00<?, ?it/s]"
      ]
     },
     "metadata": {},
     "output_type": "display_data"
    },
    {
     "name": "stderr",
     "output_type": "stream",
     "text": [
      "WARNING:root:Encountered Structure, which does not store filename.\n",
      "WARNING:root:Encountered Structure, which does not store filename.\n",
      "WARNING:root:Encountered Structure, which does not store filename.\n",
      "WARNING:root:Encountered Structure, which does not store filename.\n",
      "WARNING:root:Encountered Structure, which does not store filename.\n",
      "WARNING:root:Encountered Structure, which does not store filename.\n"
     ]
    },
    {
     "data": {
      "application/vnd.jupyter.widget-view+json": {
       "model_id": "d2542a6124a04ae7a41eb7afec4166e3",
       "version_major": 2,
       "version_minor": 0
      },
      "text/plain": [
       "applying restraints `release`:   0%|          | 0/15 [00:00<?, ?it/s]"
      ]
     },
     "metadata": {},
     "output_type": "display_data"
    }
   ],
   "source": [
    "# Build APR files -- parallelize over 4 CPUs\n",
    "system.build_system(n_cpus=4, clean_files=True)"
   ]
  },
  {
   "cell_type": "markdown",
   "id": "6764b34a",
   "metadata": {},
   "source": [
    "## 03) Generate files for multiple host-guest complexes"
   ]
  },
  {
   "cell_type": "code",
   "execution_count": 9,
   "id": "64239f8e",
   "metadata": {},
   "outputs": [],
   "source": [
    "host_guest_codes = {\n",
    "    \"acd\": [\"bam\", \"cbu\"],\n",
    "    \"bcd\": [\"ben\", \"hex\"],\n",
    "}"
   ]
  },
  {
   "cell_type": "code",
   "execution_count": 10,
   "id": "4fa40b02",
   "metadata": {},
   "outputs": [
    {
     "data": {
      "application/vnd.jupyter.widget-view+json": {
       "model_id": "0b1b6809b87a4b22909d3543e6a1f43f",
       "version_major": 2,
       "version_minor": 0
      },
      "text/plain": [
       "Host:   0%|          | 0/2 [00:00<?, ?it/s]"
      ]
     },
     "metadata": {},
     "output_type": "display_data"
    },
    {
     "data": {
      "application/vnd.jupyter.widget-view+json": {
       "model_id": "",
       "version_major": 2,
       "version_minor": 0
      },
      "text/plain": [
       "Guests:   0%|          | 0/2 [00:00<?, ?it/s]"
      ]
     },
     "metadata": {},
     "output_type": "display_data"
    },
    {
     "name": "stderr",
     "output_type": "stream",
     "text": [
      "WARNING:root:Encountered Structure, which does not store filename.\n",
      "WARNING:root:Encountered Structure, which does not store filename.\n",
      "WARNING:root:Encountered Structure, which does not store filename.\n",
      "WARNING:root:Encountered Structure, which does not store filename.\n",
      "WARNING:root:Encountered Structure, which does not store filename.\n",
      "WARNING:root:Encountered Structure, which does not store filename.\n",
      "WARNING:root:Encountered Structure, which does not store filename.\n",
      "WARNING:root:Encountered Structure, which does not store filename.\n",
      "WARNING:root:Encountered Structure, which does not store filename.\n",
      "WARNING:root:Encountered Structure, which does not store filename.\n",
      "WARNING:root:Encountered Structure, which does not store filename.\n",
      "WARNING:root:Encountered Structure, which does not store filename.\n",
      "WARNING:root:Encountered Structure, which does not store filename.\n",
      "WARNING:root:Encountered Structure, which does not store filename.\n",
      "WARNING:root:Encountered Structure, which does not store filename.\n",
      "WARNING:root:Encountered Structure, which does not store filename.\n",
      "WARNING:root:Encountered Structure, which does not store filename.\n",
      "WARNING:root:Encountered Structure, which does not store filename.\n",
      "WARNING:root:Encountered Structure, which does not store filename.\n",
      "WARNING:root:Encountered Structure, which does not store filename.\n",
      "WARNING:root:Encountered Structure, which does not store filename.\n",
      "WARNING:root:Encountered Structure, which does not store filename.\n",
      "WARNING:root:Encountered Structure, which does not store filename.\n",
      "WARNING:root:Encountered Structure, which does not store filename.\n",
      "WARNING:root:Encountered Structure, which does not store filename.\n",
      "WARNING:root:Encountered Structure, which does not store filename.\n",
      "WARNING:root:Encountered Structure, which does not store filename.\n",
      "WARNING:root:Encountered Structure, which does not store filename.\n",
      "WARNING:root:Encountered Structure, which does not store filename.\n",
      "WARNING:root:Encountered Structure, which does not store filename.\n",
      "WARNING:root:Encountered Structure, which does not store filename.\n",
      "WARNING:root:Encountered Structure, which does not store filename.\n",
      "WARNING:root:Encountered Structure, which does not store filename.\n",
      "WARNING:root:Encountered Structure, which does not store filename.\n",
      "WARNING:root:Encountered Structure, which does not store filename.\n",
      "WARNING:root:Encountered Structure, which does not store filename.\n",
      "WARNING:root:Encountered Structure, which does not store filename.\n",
      "WARNING:root:Encountered Structure, which does not store filename.\n",
      "WARNING:root:Encountered Structure, which does not store filename.\n",
      "WARNING:root:Encountered Structure, which does not store filename.\n",
      "WARNING:root:Encountered Structure, which does not store filename.\n",
      "WARNING:root:Encountered Structure, which does not store filename.\n",
      "WARNING:root:Encountered Structure, which does not store filename.\n",
      "WARNING:root:Encountered Structure, which does not store filename.\n",
      "WARNING:root:Encountered Structure, which does not store filename.\n",
      "WARNING:root:Encountered Structure, which does not store filename.\n",
      "WARNING:root:Encountered Structure, which does not store filename.\n",
      "WARNING:root:Encountered Structure, which does not store filename.\n",
      "WARNING:root:Encountered Structure, which does not store filename.\n",
      "WARNING:root:Encountered Structure, which does not store filename.\n",
      "WARNING:root:Encountered Structure, which does not store filename.\n",
      "WARNING:root:Encountered Structure, which does not store filename.\n",
      "WARNING:root:Encountered Structure, which does not store filename.\n",
      "WARNING:root:Encountered Structure, which does not store filename.\n",
      "WARNING:root:Encountered Structure, which does not store filename.\n",
      "WARNING:root:Encountered Structure, which does not store filename.\n",
      "WARNING:root:Encountered Structure, which does not store filename.\n",
      "WARNING:root:Encountered Structure, which does not store filename.\n",
      "WARNING:root:Encountered Structure, which does not store filename.\n",
      "WARNING:root:Encountered Structure, which does not store filename.\n"
     ]
    },
    {
     "data": {
      "application/vnd.jupyter.widget-view+json": {
       "model_id": "",
       "version_major": 2,
       "version_minor": 0
      },
      "text/plain": [
       "Guests:   0%|          | 0/2 [00:00<?, ?it/s]"
      ]
     },
     "metadata": {},
     "output_type": "display_data"
    },
    {
     "name": "stderr",
     "output_type": "stream",
     "text": [
      "WARNING:root:Encountered Structure, which does not store filename.\n",
      "WARNING:root:Encountered Structure, which does not store filename.\n",
      "WARNING:root:Encountered Structure, which does not store filename.\n",
      "WARNING:root:Encountered Structure, which does not store filename.\n",
      "WARNING:root:Encountered Structure, which does not store filename.\n",
      "WARNING:root:Encountered Structure, which does not store filename.\n",
      "WARNING:root:Encountered Structure, which does not store filename.\n",
      "WARNING:root:Encountered Structure, which does not store filename.\n",
      "WARNING:root:Encountered Structure, which does not store filename.\n",
      "WARNING:root:Encountered Structure, which does not store filename.\n",
      "WARNING:root:Encountered Structure, which does not store filename.\n",
      "WARNING:root:Encountered Structure, which does not store filename.\n",
      "WARNING:root:Encountered Structure, which does not store filename.\n",
      "WARNING:root:Encountered Structure, which does not store filename.\n",
      "WARNING:root:Encountered Structure, which does not store filename.\n",
      "WARNING:root:Encountered Structure, which does not store filename.\n",
      "WARNING:root:Encountered Structure, which does not store filename.\n",
      "WARNING:root:Encountered Structure, which does not store filename.\n",
      "WARNING:root:Encountered Structure, which does not store filename.\n",
      "WARNING:root:Encountered Structure, which does not store filename.\n",
      "WARNING:root:Encountered Structure, which does not store filename.\n",
      "WARNING:root:Encountered Structure, which does not store filename.\n",
      "WARNING:root:Encountered Structure, which does not store filename.\n",
      "WARNING:root:Encountered Structure, which does not store filename.\n",
      "WARNING:root:Encountered Structure, which does not store filename.\n",
      "WARNING:root:Encountered Structure, which does not store filename.\n",
      "WARNING:root:Encountered Structure, which does not store filename.\n",
      "WARNING:root:Encountered Structure, which does not store filename.\n",
      "WARNING:root:Encountered Structure, which does not store filename.\n",
      "WARNING:root:Encountered Structure, which does not store filename.\n",
      "WARNING:root:Encountered Structure, which does not store filename.\n",
      "WARNING:root:Encountered Structure, which does not store filename.\n",
      "WARNING:root:Encountered Structure, which does not store filename.\n",
      "WARNING:root:Encountered Structure, which does not store filename.\n",
      "WARNING:root:Encountered Structure, which does not store filename.\n",
      "WARNING:root:Encountered Structure, which does not store filename.\n",
      "WARNING:root:Encountered Structure, which does not store filename.\n",
      "WARNING:root:Encountered Structure, which does not store filename.\n",
      "WARNING:root:Encountered Structure, which does not store filename.\n",
      "WARNING:root:Encountered Structure, which does not store filename.\n",
      "WARNING:root:Encountered Structure, which does not store filename.\n",
      "WARNING:root:Encountered Structure, which does not store filename.\n",
      "WARNING:root:Encountered Structure, which does not store filename.\n",
      "WARNING:root:Encountered Structure, which does not store filename.\n",
      "WARNING:root:Encountered Structure, which does not store filename.\n",
      "WARNING:root:Encountered Structure, which does not store filename.\n",
      "WARNING:root:Encountered Structure, which does not store filename.\n",
      "WARNING:root:Encountered Structure, which does not store filename.\n",
      "WARNING:root:Encountered Structure, which does not store filename.\n",
      "WARNING:root:Encountered Structure, which does not store filename.\n",
      "WARNING:root:Encountered Structure, which does not store filename.\n",
      "WARNING:root:Encountered Structure, which does not store filename.\n",
      "WARNING:root:Encountered Structure, which does not store filename.\n",
      "WARNING:root:Encountered Structure, which does not store filename.\n",
      "WARNING:root:Encountered Structure, which does not store filename.\n",
      "WARNING:root:Encountered Structure, which does not store filename.\n",
      "WARNING:root:Encountered Structure, which does not store filename.\n",
      "WARNING:root:Encountered Structure, which does not store filename.\n",
      "WARNING:root:Encountered Structure, which does not store filename.\n",
      "WARNING:root:Encountered Structure, which does not store filename.\n"
     ]
    }
   ],
   "source": [
    "for host in tqdm(host_guest_codes, desc=\"Host\"):\n",
    "    for guest in tqdm(host_guest_codes[host], desc=\"Guests\", leave=False):\n",
    "        system = BuildTaproomAPR(\n",
    "            host_code=host,\n",
    "            guest_code=guest,\n",
    "            n_water=None,\n",
    "            force_field=force_field,\n",
    "            build_folder=f\"{host}-{guest}/build_files\",\n",
    "            working_folder=f\"{host}-{guest}/simulations\",\n",
    "            disable_progress=True,\n",
    "        )\n",
    "        system.build_system(n_cpus=4)"
   ]
  },
  {
   "cell_type": "code",
   "execution_count": null,
   "id": "78e85ce0",
   "metadata": {},
   "outputs": [],
   "source": []
  }
 ],
 "metadata": {
  "kernelspec": {
   "display_name": "Python 3 (ipykernel)",
   "language": "python",
   "name": "python3"
  },
  "language_info": {
   "codemirror_mode": {
    "name": "ipython",
    "version": 3
   },
   "file_extension": ".py",
   "mimetype": "text/x-python",
   "name": "python",
   "nbconvert_exporter": "python",
   "pygments_lexer": "ipython3",
   "version": "3.10.11"
  }
 },
 "nbformat": 4,
 "nbformat_minor": 5
}
