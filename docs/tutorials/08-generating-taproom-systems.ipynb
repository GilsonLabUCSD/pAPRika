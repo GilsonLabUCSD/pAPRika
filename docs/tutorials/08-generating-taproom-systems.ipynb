{
 "cells": [
  {
   "cell_type": "code",
   "execution_count": 1,
   "id": "4fa4e04a-c418-46d6-b4c0-92c4f20a484a",
   "metadata": {},
   "outputs": [
    {
     "name": "stderr",
     "output_type": "stream",
     "text": [
      "LICENSE: Could not open license file \"oe_license.txt\" in local directory\n",
      "LICENSE: N.B. OE_LICENSE environment variable is not set\n",
      "LICENSE: N.B. OE_DIR environment variable is not set\n",
      "LICENSE: No product keys!\n",
      "LICENSE: No product keys!\n",
      "LICENSE: No product keys!\n",
      "The OpenEye Toolkits are found to be installed but not licensed and therefore will not be used.\n",
      "The OpenEye Toolkits require a (free for academics) license, see https://docs.eyesopen.com/toolkits/python/quickstart-python/license.html\n",
      "LICENSE: No product keys!\n",
      "Warning on use of the timeseries module: If the inherent timescales of the system are long compared to those being analyzed, this statistical inefficiency may be an underestimate.  The estimate presumes the use of many statistically independent samples.  Tests should be performed to assess whether this condition is satisfied.   Be cautious in the interpretation of the data.\n",
      "Warning: importing 'simtk.openmm' is deprecated.  Import 'openmm' instead.\n"
     ]
    },
    {
     "data": {
      "application/vnd.jupyter.widget-view+json": {
       "model_id": "bfebf13af9904306a958d6a4999d0977",
       "version_major": 2,
       "version_minor": 0
      },
      "text/plain": []
     },
     "metadata": {},
     "output_type": "display_data"
    }
   ],
   "source": [
    "import os\n",
    "import warnings\n",
    "\n",
    "warnings.filterwarnings(action=\"ignore\")\n",
    "\n",
    "from openff.toolkit.typing.engines.smirnoff import ForceField\n",
    "from paprika.build.system.taproom import BuildTaproomAPR\n",
    "from pkg_resources import resource_filename\n",
    "from tqdm.auto import tqdm"
   ]
  },
  {
   "cell_type": "code",
   "execution_count": 2,
   "id": "e9e0c9bd-1771-4c52-9c46-b5ece3d8c7c2",
   "metadata": {},
   "outputs": [],
   "source": [
    "os.environ[\"INTERCHANGE_EXPERIMENTAL\"] = \"1\""
   ]
  },
  {
   "cell_type": "markdown",
   "id": "e5140dbf",
   "metadata": {},
   "source": [
    "* The `BuildTaproomAPR` class requires the OpenFF-Interchange modules. Install in your conda environment with:\n",
    "\n",
    "`conda install -c conda-forge openff-interchange`"
   ]
  },
  {
   "cell_type": "markdown",
   "id": "ac82a11a",
   "metadata": {},
   "source": [
    "## 01) Build System in explicit solvent"
   ]
  },
  {
   "cell_type": "code",
   "execution_count": 6,
   "id": "b8c3ab15",
   "metadata": {},
   "outputs": [],
   "source": [
    "# Define force field (OpenFF)\n",
    "force_field = ForceField(\"openff-2.0.0.offxml\")"
   ]
  },
  {
   "cell_type": "code",
   "execution_count": 7,
   "id": "50986520",
   "metadata": {},
   "outputs": [],
   "source": [
    "system = BuildTaproomAPR(\n",
    "    host_code=\"acd\",\n",
    "    guest_code=\"bam\",\n",
    "    n_water=3000,\n",
    "    force_field=force_field,\n",
    "    working_folder=\"explicit_solvent\",\n",
    "    disable_progress=False,\n",
    ")"
   ]
  },
  {
   "cell_type": "code",
   "execution_count": 8,
   "id": "2c92a6bc",
   "metadata": {},
   "outputs": [
    {
     "data": {
      "application/vnd.jupyter.widget-view+json": {
       "model_id": "5b28227a1daf4aa09543454f6355a51b",
       "version_major": 2,
       "version_minor": 0
      },
      "text/plain": [
       "  0%|          | 0/46 [00:00<?, ?it/s]"
      ]
     },
     "metadata": {},
     "output_type": "display_data"
    },
    {
     "data": {
      "application/vnd.jupyter.widget-view+json": {
       "model_id": "93eef04651894158afa9faf328595ede",
       "version_major": 2,
       "version_minor": 0
      },
      "text/plain": [
       "  0%|          | 0/15 [00:00<?, ?it/s]"
      ]
     },
     "metadata": {},
     "output_type": "display_data"
    },
    {
     "data": {
      "application/vnd.jupyter.widget-view+json": {
       "model_id": "9b8b9ebc8404461198677831fc64dc6c",
       "version_major": 2,
       "version_minor": 0
      },
      "text/plain": [
       "  0%|          | 0/46 [00:00<?, ?it/s]"
      ]
     },
     "metadata": {},
     "output_type": "display_data"
    },
    {
     "data": {
      "application/vnd.jupyter.widget-view+json": {
       "model_id": "26e81193bac546999271dba5f7e10da4",
       "version_major": 2,
       "version_minor": 0
      },
      "text/plain": [
       "  0%|          | 0/15 [00:00<?, ?it/s]"
      ]
     },
     "metadata": {},
     "output_type": "display_data"
    },
    {
     "data": {
      "application/vnd.jupyter.widget-view+json": {
       "model_id": "23506c11292f44db85275262c28000c2",
       "version_major": 2,
       "version_minor": 0
      },
      "text/plain": [
       "  0%|          | 0/15 [00:00<?, ?it/s]"
      ]
     },
     "metadata": {},
     "output_type": "display_data"
    },
    {
     "name": "stderr",
     "output_type": "stream",
     "text": [
      "WARNING:root:Encountered Structure, which does not store filename.\n",
      "WARNING:root:Encountered Structure, which does not store filename.\n",
      "WARNING:root:Encountered Structure, which does not store filename.\n",
      "WARNING:root:Encountered Structure, which does not store filename.\n",
      "WARNING:root:Encountered Structure, which does not store filename.\n",
      "WARNING:root:Encountered Structure, which does not store filename.\n"
     ]
    },
    {
     "data": {
      "application/vnd.jupyter.widget-view+json": {
       "model_id": "f9d6baa0fab94fbe9b68a0649c3606a3",
       "version_major": 2,
       "version_minor": 0
      },
      "text/plain": [
       "  0%|          | 0/15 [00:00<?, ?it/s]"
      ]
     },
     "metadata": {},
     "output_type": "display_data"
    },
    {
     "name": "stderr",
     "output_type": "stream",
     "text": [
      "WARNING:root:Encountered Structure, which does not store filename.\n",
      "WARNING:root:Encountered Structure, which does not store filename.\n",
      "WARNING:root:Encountered Structure, which does not store filename.\n",
      "WARNING:root:Encountered Structure, which does not store filename.\n",
      "WARNING:root:Encountered Structure, which does not store filename.\n",
      "WARNING:root:Encountered Structure, which does not store filename.\n"
     ]
    },
    {
     "data": {
      "application/vnd.jupyter.widget-view+json": {
       "model_id": "e8a024f3a5cc49d783e175b31be9bc64",
       "version_major": 2,
       "version_minor": 0
      },
      "text/plain": [
       "  0%|          | 0/15 [00:00<?, ?it/s]"
      ]
     },
     "metadata": {},
     "output_type": "display_data"
    },
    {
     "name": "stderr",
     "output_type": "stream",
     "text": [
      "WARNING:root:Encountered Structure, which does not store filename.\n",
      "WARNING:root:Encountered Structure, which does not store filename.\n",
      "WARNING:root:Encountered Structure, which does not store filename.\n",
      "WARNING:root:Encountered Structure, which does not store filename.\n",
      "WARNING:root:Encountered Structure, which does not store filename.\n",
      "WARNING:root:Encountered Structure, which does not store filename.\n"
     ]
    },
    {
     "data": {
      "application/vnd.jupyter.widget-view+json": {
       "model_id": "162288f9d4584838b78a262922b3f69d",
       "version_major": 2,
       "version_minor": 0
      },
      "text/plain": [
       "  0%|          | 0/46 [00:00<?, ?it/s]"
      ]
     },
     "metadata": {},
     "output_type": "display_data"
    },
    {
     "name": "stderr",
     "output_type": "stream",
     "text": [
      "WARNING:root:Encountered Structure, which does not store filename.\n",
      "WARNING:root:Encountered Structure, which does not store filename.\n",
      "WARNING:root:Encountered Structure, which does not store filename.\n",
      "WARNING:root:Encountered Structure, which does not store filename.\n",
      "WARNING:root:Encountered Structure, which does not store filename.\n",
      "WARNING:root:Encountered Structure, which does not store filename.\n"
     ]
    },
    {
     "data": {
      "application/vnd.jupyter.widget-view+json": {
       "model_id": "9d62168fd87340b6bab869bb81b0c484",
       "version_major": 2,
       "version_minor": 0
      },
      "text/plain": [
       "  0%|          | 0/46 [00:00<?, ?it/s]"
      ]
     },
     "metadata": {},
     "output_type": "display_data"
    },
    {
     "name": "stderr",
     "output_type": "stream",
     "text": [
      "WARNING:root:Encountered Structure, which does not store filename.\n",
      "WARNING:root:Encountered Structure, which does not store filename.\n",
      "WARNING:root:Encountered Structure, which does not store filename.\n",
      "WARNING:root:Encountered Structure, which does not store filename.\n",
      "WARNING:root:Encountered Structure, which does not store filename.\n",
      "WARNING:root:Encountered Structure, which does not store filename.\n"
     ]
    },
    {
     "data": {
      "application/vnd.jupyter.widget-view+json": {
       "model_id": "c44a82966dfa456e94f0e25e1ee396fe",
       "version_major": 2,
       "version_minor": 0
      },
      "text/plain": [
       "  0%|          | 0/15 [00:00<?, ?it/s]"
      ]
     },
     "metadata": {},
     "output_type": "display_data"
    }
   ],
   "source": [
    "# Build APR files -- parallelize over 4 CPUs\n",
    "system.build_system(n_cpus=4, clean_files=True)"
   ]
  },
  {
   "cell_type": "markdown",
   "id": "0bae63d4-0ef7-4b99-8cb0-27ce90694bef",
   "metadata": {},
   "source": [
    "## 02) Build System in implicit solvent"
   ]
  },
  {
   "cell_type": "code",
   "execution_count": 3,
   "id": "cde8cd8e",
   "metadata": {},
   "outputs": [],
   "source": [
    "# Define force field (OpenFF)\n",
    "gbsa = resource_filename(\n",
    "    \"openff.toolkit\",\n",
    "    os.path.join(\"data\", \"test_forcefields\", \"GBSA_OBC2-1.0.offxml\"),\n",
    ")\n",
    "force_field = ForceField(\"openff-2.0.0.offxml\", gbsa)"
   ]
  },
  {
   "cell_type": "code",
   "execution_count": 4,
   "id": "57d2f8af-9a34-4395-9b72-aaea82c0b7d6",
   "metadata": {},
   "outputs": [],
   "source": [
    "system = BuildTaproomAPR(\n",
    "    host_code=\"acd\",\n",
    "    guest_code=\"bam\",\n",
    "    n_water=None,\n",
    "    force_field=force_field,\n",
    "    working_folder=\"implicit_solvent\",\n",
    "    disable_progress=False,\n",
    ")"
   ]
  },
  {
   "cell_type": "code",
   "execution_count": 5,
   "id": "04dbf25d-01cd-4bbd-b8e3-93576869edc4",
   "metadata": {},
   "outputs": [
    {
     "data": {
      "application/vnd.jupyter.widget-view+json": {
       "model_id": "124183e38fe14fb9b4def6134cd3a2f2",
       "version_major": 2,
       "version_minor": 0
      },
      "text/plain": [
       "  0%|          | 0/46 [00:00<?, ?it/s]"
      ]
     },
     "metadata": {},
     "output_type": "display_data"
    },
    {
     "name": "stderr",
     "output_type": "stream",
     "text": [
      "Warning on use of the timeseries module: If the inherent timescales of the system are long compared to those being analyzed, this statistical inefficiency may be an underestimate.  The estimate presumes the use of many statistically independent samples.  Tests should be performed to assess whether this condition is satisfied.   Be cautious in the interpretation of the data.\n",
      "Warning on use of the timeseries module: If the inherent timescales of the system are long compared to those being analyzed, this statistical inefficiency may be an underestimate.  The estimate presumes the use of many statistically independent samples.  Tests should be performed to assess whether this condition is satisfied.   Be cautious in the interpretation of the data.\n",
      "Warning on use of the timeseries module: If the inherent timescales of the system are long compared to those being analyzed, this statistical inefficiency may be an underestimate.  The estimate presumes the use of many statistically independent samples.  Tests should be performed to assess whether this condition is satisfied.   Be cautious in the interpretation of the data.\n",
      "Warning on use of the timeseries module: If the inherent timescales of the system are long compared to those being analyzed, this statistical inefficiency may be an underestimate.  The estimate presumes the use of many statistically independent samples.  Tests should be performed to assess whether this condition is satisfied.   Be cautious in the interpretation of the data.\n",
      "<frozen importlib._bootstrap>:228: RuntimeWarning: scipy._lib.messagestream.MessageStream size changed, may indicate binary incompatibility. Expected 56 from C header, got 64 from PyObject\n",
      "<frozen importlib._bootstrap>:228: RuntimeWarning: scipy._lib.messagestream.MessageStream size changed, may indicate binary incompatibility. Expected 56 from C header, got 64 from PyObject\n",
      "<frozen importlib._bootstrap>:228: RuntimeWarning: scipy._lib.messagestream.MessageStream size changed, may indicate binary incompatibility. Expected 56 from C header, got 64 from PyObject\n",
      "<frozen importlib._bootstrap>:228: RuntimeWarning: scipy._lib.messagestream.MessageStream size changed, may indicate binary incompatibility. Expected 56 from C header, got 64 from PyObject\n",
      "Warning: importing 'simtk.openmm' is deprecated.  Import 'openmm' instead.\n",
      "Warning: importing 'simtk.openmm' is deprecated.  Import 'openmm' instead.\n",
      "Warning: importing 'simtk.openmm' is deprecated.  Import 'openmm' instead.\n",
      "Warning: importing 'simtk.openmm' is deprecated.  Import 'openmm' instead.\n",
      "LICENSE: Could not open license file \"oe_license.txt\" in local directory\n",
      "LICENSE: N.B. OE_LICENSE environment variable is not set\n",
      "LICENSE: N.B. OE_DIR environment variable is not set\n",
      "LICENSE: No product keys!\n",
      "LICENSE: Could not open license file \"oe_license.txt\" in local directory\n",
      "LICENSE: N.B. OE_LICENSE environment variable is not set\n",
      "LICENSE: N.B. OE_DIR environment variable is not set\n",
      "LICENSE: No product keys!\n",
      "LICENSE: Could not open license file \"oe_license.txt\" in local directory\n",
      "LICENSE: N.B. OE_LICENSE environment variable is not set\n",
      "LICENSE: N.B. OE_DIR environment variable is not set\n",
      "LICENSE: No product keys!\n",
      "LICENSE: Could not open license file \"oe_license.txt\" in local directory\n",
      "LICENSE: N.B. OE_LICENSE environment variable is not set\n",
      "LICENSE: N.B. OE_DIR environment variable is not set\n",
      "LICENSE: No product keys!\n",
      "LICENSE: No product keys!\n",
      "LICENSE: No product keys!\n",
      "LICENSE: No product keys!\n",
      "LICENSE: No product keys!\n",
      "LICENSE: No product keys!\n",
      "LICENSE: No product keys!\n",
      "LICENSE: No product keys!\n",
      "LICENSE: No product keys!\n",
      "LICENSE: No product keys!\n",
      "LICENSE: No product keys!\n",
      "LICENSE: No product keys!\n",
      "LICENSE: No product keys!\n",
      "The OpenEye Toolkits are found to be installed but not licensed and therefore will not be used.\n",
      "The OpenEye Toolkits require a (free for academics) license, see https://docs.eyesopen.com/toolkits/python/quickstart-python/license.html\n",
      "The OpenEye Toolkits are found to be installed but not licensed and therefore will not be used.\n",
      "The OpenEye Toolkits require a (free for academics) license, see https://docs.eyesopen.com/toolkits/python/quickstart-python/license.html\n",
      "The OpenEye Toolkits are found to be installed but not licensed and therefore will not be used.\n",
      "The OpenEye Toolkits require a (free for academics) license, see https://docs.eyesopen.com/toolkits/python/quickstart-python/license.html\n",
      "The OpenEye Toolkits are found to be installed but not licensed and therefore will not be used.\n",
      "The OpenEye Toolkits require a (free for academics) license, see https://docs.eyesopen.com/toolkits/python/quickstart-python/license.html\n"
     ]
    },
    {
     "data": {
      "application/vnd.jupyter.widget-view+json": {
       "model_id": "e0146ce9477042388639352d4e24e76e",
       "version_major": 2,
       "version_minor": 0
      },
      "text/plain": [
       "  0%|          | 0/15 [00:00<?, ?it/s]"
      ]
     },
     "metadata": {},
     "output_type": "display_data"
    },
    {
     "data": {
      "application/vnd.jupyter.widget-view+json": {
       "model_id": "8e45dc05e2064cd38061a6d59fe876e3",
       "version_major": 2,
       "version_minor": 0
      },
      "text/plain": [
       "  0%|          | 0/46 [00:00<?, ?it/s]"
      ]
     },
     "metadata": {},
     "output_type": "display_data"
    },
    {
     "data": {
      "application/vnd.jupyter.widget-view+json": {
       "model_id": "9a99d6de204c4fa39b50682d9bf67051",
       "version_major": 2,
       "version_minor": 0
      },
      "text/plain": [
       "  0%|          | 0/15 [00:00<?, ?it/s]"
      ]
     },
     "metadata": {},
     "output_type": "display_data"
    },
    {
     "data": {
      "application/vnd.jupyter.widget-view+json": {
       "model_id": "e205590cb02f49ddbaa340e6a3decd00",
       "version_major": 2,
       "version_minor": 0
      },
      "text/plain": [
       "  0%|          | 0/15 [00:00<?, ?it/s]"
      ]
     },
     "metadata": {},
     "output_type": "display_data"
    },
    {
     "name": "stderr",
     "output_type": "stream",
     "text": [
      "WARNING:root:Encountered Structure, which does not store filename.\n",
      "WARNING:root:Encountered Structure, which does not store filename.\n",
      "WARNING:root:Encountered Structure, which does not store filename.\n",
      "WARNING:root:Encountered Structure, which does not store filename.\n",
      "WARNING:root:Encountered Structure, which does not store filename.\n",
      "WARNING:root:Encountered Structure, which does not store filename.\n"
     ]
    },
    {
     "data": {
      "application/vnd.jupyter.widget-view+json": {
       "model_id": "0215efe498464534a90ba81719c87fed",
       "version_major": 2,
       "version_minor": 0
      },
      "text/plain": [
       "  0%|          | 0/15 [00:00<?, ?it/s]"
      ]
     },
     "metadata": {},
     "output_type": "display_data"
    },
    {
     "name": "stderr",
     "output_type": "stream",
     "text": [
      "WARNING:root:Encountered Structure, which does not store filename.\n",
      "WARNING:root:Encountered Structure, which does not store filename.\n",
      "WARNING:root:Encountered Structure, which does not store filename.\n",
      "WARNING:root:Encountered Structure, which does not store filename.\n",
      "WARNING:root:Encountered Structure, which does not store filename.\n",
      "WARNING:root:Encountered Structure, which does not store filename.\n"
     ]
    },
    {
     "data": {
      "application/vnd.jupyter.widget-view+json": {
       "model_id": "dc0618eb40e648bdb018ed44a6222131",
       "version_major": 2,
       "version_minor": 0
      },
      "text/plain": [
       "  0%|          | 0/15 [00:00<?, ?it/s]"
      ]
     },
     "metadata": {},
     "output_type": "display_data"
    },
    {
     "name": "stderr",
     "output_type": "stream",
     "text": [
      "WARNING:root:Encountered Structure, which does not store filename.\n",
      "WARNING:root:Encountered Structure, which does not store filename.\n",
      "WARNING:root:Encountered Structure, which does not store filename.\n",
      "WARNING:root:Encountered Structure, which does not store filename.\n",
      "WARNING:root:Encountered Structure, which does not store filename.\n",
      "WARNING:root:Encountered Structure, which does not store filename.\n"
     ]
    },
    {
     "data": {
      "application/vnd.jupyter.widget-view+json": {
       "model_id": "946bfd9e55d64a99930e3200bcb0fb13",
       "version_major": 2,
       "version_minor": 0
      },
      "text/plain": [
       "  0%|          | 0/46 [00:00<?, ?it/s]"
      ]
     },
     "metadata": {},
     "output_type": "display_data"
    },
    {
     "name": "stderr",
     "output_type": "stream",
     "text": [
      "WARNING:root:Encountered Structure, which does not store filename.\n",
      "WARNING:root:Encountered Structure, which does not store filename.\n",
      "WARNING:root:Encountered Structure, which does not store filename.\n",
      "WARNING:root:Encountered Structure, which does not store filename.\n",
      "WARNING:root:Encountered Structure, which does not store filename.\n",
      "WARNING:root:Encountered Structure, which does not store filename.\n"
     ]
    },
    {
     "data": {
      "application/vnd.jupyter.widget-view+json": {
       "model_id": "6f46d63d9c994952916c1011c655c094",
       "version_major": 2,
       "version_minor": 0
      },
      "text/plain": [
       "  0%|          | 0/46 [00:00<?, ?it/s]"
      ]
     },
     "metadata": {},
     "output_type": "display_data"
    },
    {
     "name": "stderr",
     "output_type": "stream",
     "text": [
      "WARNING:root:Encountered Structure, which does not store filename.\n",
      "WARNING:root:Encountered Structure, which does not store filename.\n",
      "WARNING:root:Encountered Structure, which does not store filename.\n",
      "WARNING:root:Encountered Structure, which does not store filename.\n",
      "WARNING:root:Encountered Structure, which does not store filename.\n",
      "WARNING:root:Encountered Structure, which does not store filename.\n"
     ]
    },
    {
     "data": {
      "application/vnd.jupyter.widget-view+json": {
       "model_id": "d67faebdba754dbfa90b049772e6acdf",
       "version_major": 2,
       "version_minor": 0
      },
      "text/plain": [
       "  0%|          | 0/15 [00:00<?, ?it/s]"
      ]
     },
     "metadata": {},
     "output_type": "display_data"
    }
   ],
   "source": [
    "# Build APR files -- parallelize over 4 CPUs\n",
    "system.build_system(n_cpus=4, clean_files=True)"
   ]
  },
  {
   "cell_type": "markdown",
   "id": "6764b34a",
   "metadata": {},
   "source": [
    "## 03) Generate files for multiple host-guest complexes"
   ]
  },
  {
   "cell_type": "code",
   "execution_count": 9,
   "id": "64239f8e",
   "metadata": {},
   "outputs": [],
   "source": [
    "host_guest_codes = {\n",
    "    \"acd\": [\"bam\", \"cbu\"],\n",
    "    \"bcd\": [\"ben\", \"hex\"],\n",
    "}"
   ]
  },
  {
   "cell_type": "code",
   "execution_count": 11,
   "id": "4fa40b02",
   "metadata": {},
   "outputs": [
    {
     "data": {
      "application/vnd.jupyter.widget-view+json": {
       "model_id": "89f86a66a12d49c484b61bf949be46f8",
       "version_major": 2,
       "version_minor": 0
      },
      "text/plain": [
       "Host:   0%|          | 0/2 [00:00<?, ?it/s]"
      ]
     },
     "metadata": {},
     "output_type": "display_data"
    },
    {
     "data": {
      "application/vnd.jupyter.widget-view+json": {
       "model_id": "",
       "version_major": 2,
       "version_minor": 0
      },
      "text/plain": [
       "Guests:   0%|          | 0/2 [00:00<?, ?it/s]"
      ]
     },
     "metadata": {},
     "output_type": "display_data"
    },
    {
     "name": "stderr",
     "output_type": "stream",
     "text": [
      "WARNING:root:Encountered Structure, which does not store filename.\n",
      "WARNING:root:Encountered Structure, which does not store filename.\n",
      "WARNING:root:Encountered Structure, which does not store filename.\n",
      "WARNING:root:Encountered Structure, which does not store filename.\n",
      "WARNING:root:Encountered Structure, which does not store filename.\n",
      "WARNING:root:Encountered Structure, which does not store filename.\n",
      "WARNING:root:Encountered Structure, which does not store filename.\n",
      "WARNING:root:Encountered Structure, which does not store filename.\n",
      "WARNING:root:Encountered Structure, which does not store filename.\n",
      "WARNING:root:Encountered Structure, which does not store filename.\n",
      "WARNING:root:Encountered Structure, which does not store filename.\n",
      "WARNING:root:Encountered Structure, which does not store filename.\n",
      "WARNING:root:Encountered Structure, which does not store filename.\n",
      "WARNING:root:Encountered Structure, which does not store filename.\n",
      "WARNING:root:Encountered Structure, which does not store filename.\n",
      "WARNING:root:Encountered Structure, which does not store filename.\n",
      "WARNING:root:Encountered Structure, which does not store filename.\n",
      "WARNING:root:Encountered Structure, which does not store filename.\n",
      "WARNING:root:Encountered Structure, which does not store filename.\n",
      "WARNING:root:Encountered Structure, which does not store filename.\n",
      "WARNING:root:Encountered Structure, which does not store filename.\n",
      "WARNING:root:Encountered Structure, which does not store filename.\n",
      "WARNING:root:Encountered Structure, which does not store filename.\n",
      "WARNING:root:Encountered Structure, which does not store filename.\n",
      "WARNING:root:Encountered Structure, which does not store filename.\n",
      "WARNING:root:Encountered Structure, which does not store filename.\n",
      "WARNING:root:Encountered Structure, which does not store filename.\n",
      "WARNING:root:Encountered Structure, which does not store filename.\n",
      "WARNING:root:Encountered Structure, which does not store filename.\n",
      "WARNING:root:Encountered Structure, which does not store filename.\n",
      "WARNING:root:Encountered Structure, which does not store filename.\n",
      "WARNING:root:Encountered Structure, which does not store filename.\n",
      "WARNING:root:Encountered Structure, which does not store filename.\n",
      "WARNING:root:Encountered Structure, which does not store filename.\n",
      "WARNING:root:Encountered Structure, which does not store filename.\n",
      "WARNING:root:Encountered Structure, which does not store filename.\n",
      "WARNING:root:Encountered Structure, which does not store filename.\n",
      "WARNING:root:Encountered Structure, which does not store filename.\n",
      "WARNING:root:Encountered Structure, which does not store filename.\n",
      "WARNING:root:Encountered Structure, which does not store filename.\n",
      "WARNING:root:Encountered Structure, which does not store filename.\n",
      "WARNING:root:Encountered Structure, which does not store filename.\n",
      "WARNING:root:Encountered Structure, which does not store filename.\n",
      "WARNING:root:Encountered Structure, which does not store filename.\n",
      "WARNING:root:Encountered Structure, which does not store filename.\n",
      "WARNING:root:Encountered Structure, which does not store filename.\n",
      "WARNING:root:Encountered Structure, which does not store filename.\n",
      "WARNING:root:Encountered Structure, which does not store filename.\n",
      "WARNING:root:Encountered Structure, which does not store filename.\n",
      "WARNING:root:Encountered Structure, which does not store filename.\n",
      "WARNING:root:Encountered Structure, which does not store filename.\n",
      "WARNING:root:Encountered Structure, which does not store filename.\n",
      "WARNING:root:Encountered Structure, which does not store filename.\n",
      "WARNING:root:Encountered Structure, which does not store filename.\n",
      "WARNING:root:Encountered Structure, which does not store filename.\n",
      "WARNING:root:Encountered Structure, which does not store filename.\n",
      "WARNING:root:Encountered Structure, which does not store filename.\n",
      "WARNING:root:Encountered Structure, which does not store filename.\n",
      "WARNING:root:Encountered Structure, which does not store filename.\n",
      "WARNING:root:Encountered Structure, which does not store filename.\n"
     ]
    },
    {
     "data": {
      "application/vnd.jupyter.widget-view+json": {
       "model_id": "",
       "version_major": 2,
       "version_minor": 0
      },
      "text/plain": [
       "Guests:   0%|          | 0/2 [00:00<?, ?it/s]"
      ]
     },
     "metadata": {},
     "output_type": "display_data"
    },
    {
     "name": "stderr",
     "output_type": "stream",
     "text": [
      "WARNING:root:Encountered Structure, which does not store filename.\n",
      "WARNING:root:Encountered Structure, which does not store filename.\n",
      "WARNING:root:Encountered Structure, which does not store filename.\n",
      "WARNING:root:Encountered Structure, which does not store filename.\n",
      "WARNING:root:Encountered Structure, which does not store filename.\n",
      "WARNING:root:Encountered Structure, which does not store filename.\n",
      "WARNING:root:Encountered Structure, which does not store filename.\n",
      "WARNING:root:Encountered Structure, which does not store filename.\n",
      "WARNING:root:Encountered Structure, which does not store filename.\n",
      "WARNING:root:Encountered Structure, which does not store filename.\n",
      "WARNING:root:Encountered Structure, which does not store filename.\n",
      "WARNING:root:Encountered Structure, which does not store filename.\n",
      "WARNING:root:Encountered Structure, which does not store filename.\n",
      "WARNING:root:Encountered Structure, which does not store filename.\n",
      "WARNING:root:Encountered Structure, which does not store filename.\n",
      "WARNING:root:Encountered Structure, which does not store filename.\n",
      "WARNING:root:Encountered Structure, which does not store filename.\n",
      "WARNING:root:Encountered Structure, which does not store filename.\n",
      "WARNING:root:Encountered Structure, which does not store filename.\n",
      "WARNING:root:Encountered Structure, which does not store filename.\n",
      "WARNING:root:Encountered Structure, which does not store filename.\n",
      "WARNING:root:Encountered Structure, which does not store filename.\n",
      "WARNING:root:Encountered Structure, which does not store filename.\n",
      "WARNING:root:Encountered Structure, which does not store filename.\n",
      "WARNING:root:Encountered Structure, which does not store filename.\n",
      "WARNING:root:Encountered Structure, which does not store filename.\n",
      "WARNING:root:Encountered Structure, which does not store filename.\n",
      "WARNING:root:Encountered Structure, which does not store filename.\n",
      "WARNING:root:Encountered Structure, which does not store filename.\n",
      "WARNING:root:Encountered Structure, which does not store filename.\n",
      "WARNING:root:Encountered Structure, which does not store filename.\n",
      "WARNING:root:Encountered Structure, which does not store filename.\n",
      "WARNING:root:Encountered Structure, which does not store filename.\n",
      "WARNING:root:Encountered Structure, which does not store filename.\n",
      "WARNING:root:Encountered Structure, which does not store filename.\n",
      "WARNING:root:Encountered Structure, which does not store filename.\n",
      "WARNING:root:Encountered Structure, which does not store filename.\n",
      "WARNING:root:Encountered Structure, which does not store filename.\n",
      "WARNING:root:Encountered Structure, which does not store filename.\n",
      "WARNING:root:Encountered Structure, which does not store filename.\n",
      "WARNING:root:Encountered Structure, which does not store filename.\n",
      "WARNING:root:Encountered Structure, which does not store filename.\n",
      "WARNING:root:Encountered Structure, which does not store filename.\n",
      "WARNING:root:Encountered Structure, which does not store filename.\n",
      "WARNING:root:Encountered Structure, which does not store filename.\n",
      "WARNING:root:Encountered Structure, which does not store filename.\n",
      "WARNING:root:Encountered Structure, which does not store filename.\n",
      "WARNING:root:Encountered Structure, which does not store filename.\n",
      "WARNING:root:Encountered Structure, which does not store filename.\n",
      "WARNING:root:Encountered Structure, which does not store filename.\n",
      "WARNING:root:Encountered Structure, which does not store filename.\n",
      "WARNING:root:Encountered Structure, which does not store filename.\n",
      "WARNING:root:Encountered Structure, which does not store filename.\n",
      "WARNING:root:Encountered Structure, which does not store filename.\n",
      "WARNING:root:Encountered Structure, which does not store filename.\n",
      "WARNING:root:Encountered Structure, which does not store filename.\n",
      "WARNING:root:Encountered Structure, which does not store filename.\n",
      "WARNING:root:Encountered Structure, which does not store filename.\n",
      "WARNING:root:Encountered Structure, which does not store filename.\n",
      "WARNING:root:Encountered Structure, which does not store filename.\n"
     ]
    }
   ],
   "source": [
    "for host in tqdm(host_guest_codes, desc=\"Host\"):\n",
    "    for guest in tqdm(host_guest_codes[host], desc=\"Guests\", leave=False):\n",
    "        system = BuildTaproomAPR(\n",
    "            host_code=host,\n",
    "            guest_code=guest,\n",
    "            n_water=None,\n",
    "            force_field=force_field,\n",
    "            build_folder=f\"{host}-{guest}/build_files\",\n",
    "            working_folder=f\"{host}-{guest}/simulations\",\n",
    "            disable_progress=True,\n",
    "        )\n",
    "        system.build_system(n_cpus=4)"
   ]
  },
  {
   "cell_type": "code",
   "execution_count": null,
   "id": "78e85ce0",
   "metadata": {},
   "outputs": [],
   "source": []
  }
 ],
 "metadata": {
  "kernelspec": {
   "display_name": "Python 3 (ipykernel)",
   "language": "python",
   "name": "python3"
  },
  "language_info": {
   "codemirror_mode": {
    "name": "ipython",
    "version": 3
   },
   "file_extension": ".py",
   "mimetype": "text/x-python",
   "name": "python",
   "nbconvert_exporter": "python",
   "pygments_lexer": "ipython3",
   "version": "3.9.13"
  }
 },
 "nbformat": 4,
 "nbformat_minor": 5
}
