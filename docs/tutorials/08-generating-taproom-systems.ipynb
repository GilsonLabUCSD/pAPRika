{
 "cells": [
  {
   "cell_type": "code",
   "execution_count": 1,
   "id": "4fa4e04a-c418-46d6-b4c0-92c4f20a484a",
   "metadata": {},
   "outputs": [
    {
     "name": "stderr",
     "output_type": "stream",
     "text": [
      "LICENSE: Could not open license file \"oe_license.txt\" in local directory\n",
      "LICENSE: N.B. OE_LICENSE environment variable is not set\n",
      "LICENSE: N.B. OE_DIR environment variable is not set\n",
      "LICENSE: No product keys!\n",
      "LICENSE: No product keys!\n",
      "LICENSE: No product keys!\n",
      "The OpenEye Toolkits are found to be installed but not licensed and therefore will not be used.\n",
      "The OpenEye Toolkits require a (free for academics) license, see https://docs.eyesopen.com/toolkits/python/quickstart-python/license.html\n",
      "LICENSE: No product keys!\n",
      "Warning on use of the timeseries module: If the inherent timescales of the system are long compared to those being analyzed, this statistical inefficiency may be an underestimate.  The estimate presumes the use of many statistically independent samples.  Tests should be performed to assess whether this condition is satisfied.   Be cautious in the interpretation of the data.\n",
      "Warning: importing 'simtk.openmm' is deprecated.  Import 'openmm' instead.\n"
     ]
    },
    {
     "data": {
      "application/vnd.jupyter.widget-view+json": {
       "model_id": "61ce7d2e2022466cb18b85a279cb6b52",
       "version_major": 2,
       "version_minor": 0
      },
      "text/plain": []
     },
     "metadata": {},
     "output_type": "display_data"
    }
   ],
   "source": [
    "import os\n",
    "import warnings\n",
    "\n",
    "warnings.filterwarnings(action=\"ignore\")\n",
    "\n",
    "from openff.toolkit.typing.engines.smirnoff import ForceField\n",
    "from pkg_resources import resource_filename\n",
    "from tqdm.auto import tqdm\n",
    "\n",
    "from paprika.build.system.taproom import BuildTaproomAPR"
   ]
  },
  {
   "cell_type": "code",
   "execution_count": 2,
   "id": "e9e0c9bd-1771-4c52-9c46-b5ece3d8c7c2",
   "metadata": {},
   "outputs": [],
   "source": [
    "os.environ[\"INTERCHANGE_EXPERIMENTAL\"] = \"1\""
   ]
  },
  {
   "cell_type": "markdown",
   "id": "e5140dbf",
   "metadata": {},
   "source": [
    "* The `BuildTaproomAPR` class requires the OpenFF-Interchange modules. Install in your conda environment with:\n",
    "\n",
    "`conda install -c conda-forge openff-interchange`"
   ]
  },
  {
   "cell_type": "markdown",
   "id": "ac82a11a",
   "metadata": {},
   "source": [
    "## 01) Build System in explicit solvent"
   ]
  },
  {
   "cell_type": "code",
   "execution_count": 3,
   "id": "b8c3ab15",
   "metadata": {},
   "outputs": [],
   "source": [
    "# Define force field (OpenFF)\n",
    "force_field = ForceField(\"openff-2.0.0.offxml\")"
   ]
  },
  {
   "cell_type": "code",
   "execution_count": 4,
   "id": "50986520",
   "metadata": {},
   "outputs": [],
   "source": [
    "system = BuildTaproomAPR(\n",
    "    host_code=\"bcd\",\n",
    "    guest_code=\"hex\",\n",
    "    n_water=3000,\n",
    "    force_field=force_field,\n",
    "    working_folder=\"explicit_solvent\",\n",
    "    disable_progress=False,\n",
    ")"
   ]
  },
  {
   "cell_type": "code",
   "execution_count": 5,
   "id": "2c92a6bc",
   "metadata": {
    "tags": []
   },
   "outputs": [
    {
     "data": {
      "application/vnd.jupyter.widget-view+json": {
       "model_id": "a34b780a4b4243da857665d4bcd0ecec",
       "version_major": 2,
       "version_minor": 0
      },
      "text/plain": [
       "  0%|          | 0/46 [00:00<?, ?it/s]"
      ]
     },
     "metadata": {},
     "output_type": "display_data"
    },
    {
     "name": "stderr",
     "output_type": "stream",
     "text": [
      "Warning on use of the timeseries module: If the inherent timescales of the system are long compared to those being analyzed, this statistical inefficiency may be an underestimate.  The estimate presumes the use of many statistically independent samples.  Tests should be performed to assess whether this condition is satisfied.   Be cautious in the interpretation of the data.\n",
      "<frozen importlib._bootstrap>:228: RuntimeWarning: scipy._lib.messagestream.MessageStream size changed, may indicate binary incompatibility. Expected 56 from C header, got 64 from PyObject\n",
      "Warning on use of the timeseries module: If the inherent timescales of the system are long compared to those being analyzed, this statistical inefficiency may be an underestimate.  The estimate presumes the use of many statistically independent samples.  Tests should be performed to assess whether this condition is satisfied.   Be cautious in the interpretation of the data.\n",
      "<frozen importlib._bootstrap>:228: RuntimeWarning: scipy._lib.messagestream.MessageStream size changed, may indicate binary incompatibility. Expected 56 from C header, got 64 from PyObject\n",
      "Warning on use of the timeseries module: If the inherent timescales of the system are long compared to those being analyzed, this statistical inefficiency may be an underestimate.  The estimate presumes the use of many statistically independent samples.  Tests should be performed to assess whether this condition is satisfied.   Be cautious in the interpretation of the data.\n",
      "Warning: importing 'simtk.openmm' is deprecated.  Import 'openmm' instead.\n",
      "<frozen importlib._bootstrap>:228: RuntimeWarning: scipy._lib.messagestream.MessageStream size changed, may indicate binary incompatibility. Expected 56 from C header, got 64 from PyObject\n",
      "Warning on use of the timeseries module: If the inherent timescales of the system are long compared to those being analyzed, this statistical inefficiency may be an underestimate.  The estimate presumes the use of many statistically independent samples.  Tests should be performed to assess whether this condition is satisfied.   Be cautious in the interpretation of the data.\n",
      "Warning: importing 'simtk.openmm' is deprecated.  Import 'openmm' instead.\n",
      "<frozen importlib._bootstrap>:228: RuntimeWarning: scipy._lib.messagestream.MessageStream size changed, may indicate binary incompatibility. Expected 56 from C header, got 64 from PyObject\n",
      "LICENSE: Could not open license file \"oe_license.txt\" in local directory\n",
      "LICENSE: N.B. OE_LICENSE environment variable is not set\n",
      "LICENSE: N.B. OE_DIR environment variable is not set\n",
      "LICENSE: No product keys!\n",
      "LICENSE: No product keys!\n",
      "LICENSE: No product keys!\n",
      "LICENSE: No product keys!\n",
      "The OpenEye Toolkits are found to be installed but not licensed and therefore will not be used.\n",
      "The OpenEye Toolkits require a (free for academics) license, see https://docs.eyesopen.com/toolkits/python/quickstart-python/license.html\n",
      "Warning: importing 'simtk.openmm' is deprecated.  Import 'openmm' instead.\n",
      "LICENSE: Could not open license file \"oe_license.txt\" in local directory\n",
      "LICENSE: N.B. OE_LICENSE environment variable is not set\n",
      "LICENSE: N.B. OE_DIR environment variable is not set\n",
      "LICENSE: No product keys!\n",
      "LICENSE: No product keys!\n",
      "LICENSE: No product keys!\n",
      "Warning: importing 'simtk.openmm' is deprecated.  Import 'openmm' instead.\n",
      "LICENSE: No product keys!\n",
      "The OpenEye Toolkits are found to be installed but not licensed and therefore will not be used.\n",
      "The OpenEye Toolkits require a (free for academics) license, see https://docs.eyesopen.com/toolkits/python/quickstart-python/license.html\n",
      "LICENSE: Could not open license file \"oe_license.txt\" in local directory\n",
      "LICENSE: N.B. OE_LICENSE environment variable is not set\n",
      "LICENSE: N.B. OE_DIR environment variable is not set\n",
      "LICENSE: No product keys!\n",
      "LICENSE: No product keys!\n",
      "LICENSE: No product keys!\n",
      "LICENSE: No product keys!\n",
      "The OpenEye Toolkits are found to be installed but not licensed and therefore will not be used.\n",
      "The OpenEye Toolkits require a (free for academics) license, see https://docs.eyesopen.com/toolkits/python/quickstart-python/license.html\n",
      "LICENSE: Could not open license file \"oe_license.txt\" in local directory\n",
      "LICENSE: N.B. OE_LICENSE environment variable is not set\n",
      "LICENSE: N.B. OE_DIR environment variable is not set\n",
      "LICENSE: No product keys!\n",
      "LICENSE: No product keys!\n",
      "LICENSE: No product keys!\n",
      "LICENSE: No product keys!\n",
      "The OpenEye Toolkits are found to be installed but not licensed and therefore will not be used.\n",
      "The OpenEye Toolkits require a (free for academics) license, see https://docs.eyesopen.com/toolkits/python/quickstart-python/license.html\n",
      "/Users/jsetiadi/opt/anaconda3/envs/paprika-dev/lib/python3.9/site-packages/openff/interchange/_experimental.py:35: UserWarning: Interchange object combination is experimental and likely to produce strange results. Any workflow using this method is not guaranteed to be suitable for production. Use with extreme caution and thoroughly validate results!\n",
      "  return func(*args, **kwargs)\n",
      "/Users/jsetiadi/opt/anaconda3/envs/paprika-dev/lib/python3.9/site-packages/openff/interchange/_experimental.py:35: UserWarning: Interchange object combination is experimental and likely to produce strange results. Any workflow using this method is not guaranteed to be suitable for production. Use with extreme caution and thoroughly validate results!\n",
      "  return func(*args, **kwargs)\n",
      "/Users/jsetiadi/opt/anaconda3/envs/paprika-dev/lib/python3.9/site-packages/openff/interchange/_experimental.py:35: UserWarning: Interchange object combination is experimental and likely to produce strange results. Any workflow using this method is not guaranteed to be suitable for production. Use with extreme caution and thoroughly validate results!\n",
      "  return func(*args, **kwargs)\n",
      "/Users/jsetiadi/opt/anaconda3/envs/paprika-dev/lib/python3.9/site-packages/openff/interchange/_experimental.py:35: UserWarning: Interchange object combination is experimental and likely to produce strange results. Any workflow using this method is not guaranteed to be suitable for production. Use with extreme caution and thoroughly validate results!\n",
      "  return func(*args, **kwargs)\n",
      "/Users/jsetiadi/opt/anaconda3/envs/paprika-dev/lib/python3.9/site-packages/openff/interchange/components/interchange.py:844: UserWarning: Setting positions to None because one or both objects added together were missing positions.\n",
      "  warnings.warn(\n",
      "/Users/jsetiadi/opt/anaconda3/envs/paprika-dev/lib/python3.9/site-packages/openff/interchange/components/interchange.py:844: UserWarning: Setting positions to None because one or both objects added together were missing positions.\n",
      "  warnings.warn(\n",
      "/Users/jsetiadi/opt/anaconda3/envs/paprika-dev/lib/python3.9/site-packages/openff/interchange/components/interchange.py:844: UserWarning: Setting positions to None because one or both objects added together were missing positions.\n",
      "  warnings.warn(\n",
      "/Users/jsetiadi/opt/anaconda3/envs/paprika-dev/lib/python3.9/site-packages/openff/interchange/components/interchange.py:844: UserWarning: Setting positions to None because one or both objects added together were missing positions.\n",
      "  warnings.warn(\n"
     ]
    },
    {
     "data": {
      "application/vnd.jupyter.widget-view+json": {
       "model_id": "e60193dde26d4eee918037f8300d7367",
       "version_major": 2,
       "version_minor": 0
      },
      "text/plain": [
       "  0%|          | 0/15 [00:00<?, ?it/s]"
      ]
     },
     "metadata": {},
     "output_type": "display_data"
    },
    {
     "data": {
      "application/vnd.jupyter.widget-view+json": {
       "model_id": "2671d71b2f0f40d8b6724b5e228d60ce",
       "version_major": 2,
       "version_minor": 0
      },
      "text/plain": [
       "  0%|          | 0/46 [00:00<?, ?it/s]"
      ]
     },
     "metadata": {},
     "output_type": "display_data"
    },
    {
     "data": {
      "application/vnd.jupyter.widget-view+json": {
       "model_id": "f154c1725a6a49eba82ffde6f2966186",
       "version_major": 2,
       "version_minor": 0
      },
      "text/plain": [
       "  0%|          | 0/15 [00:00<?, ?it/s]"
      ]
     },
     "metadata": {},
     "output_type": "display_data"
    },
    {
     "data": {
      "application/vnd.jupyter.widget-view+json": {
       "model_id": "9dd0d6617abc4b5b823f8616299a25bb",
       "version_major": 2,
       "version_minor": 0
      },
      "text/plain": [
       "  0%|          | 0/15 [00:00<?, ?it/s]"
      ]
     },
     "metadata": {},
     "output_type": "display_data"
    },
    {
     "name": "stderr",
     "output_type": "stream",
     "text": [
      "WARNING:root:Encountered Structure, which does not store filename.\n",
      "WARNING:root:Encountered Structure, which does not store filename.\n",
      "WARNING:root:Encountered Structure, which does not store filename.\n",
      "WARNING:root:Encountered Structure, which does not store filename.\n",
      "WARNING:root:Encountered Structure, which does not store filename.\n",
      "WARNING:root:Encountered Structure, which does not store filename.\n"
     ]
    },
    {
     "data": {
      "application/vnd.jupyter.widget-view+json": {
       "model_id": "6cdea4e5c3704184927a82cee5ab9a8b",
       "version_major": 2,
       "version_minor": 0
      },
      "text/plain": [
       "  0%|          | 0/15 [00:00<?, ?it/s]"
      ]
     },
     "metadata": {},
     "output_type": "display_data"
    },
    {
     "name": "stderr",
     "output_type": "stream",
     "text": [
      "WARNING:root:Encountered Structure, which does not store filename.\n",
      "WARNING:root:Encountered Structure, which does not store filename.\n",
      "WARNING:root:Encountered Structure, which does not store filename.\n",
      "WARNING:root:Encountered Structure, which does not store filename.\n",
      "WARNING:root:Encountered Structure, which does not store filename.\n",
      "WARNING:root:Encountered Structure, which does not store filename.\n"
     ]
    },
    {
     "data": {
      "application/vnd.jupyter.widget-view+json": {
       "model_id": "d4699034b0c0404b95ec767fc87a4210",
       "version_major": 2,
       "version_minor": 0
      },
      "text/plain": [
       "  0%|          | 0/15 [00:00<?, ?it/s]"
      ]
     },
     "metadata": {},
     "output_type": "display_data"
    },
    {
     "name": "stderr",
     "output_type": "stream",
     "text": [
      "WARNING:root:Encountered Structure, which does not store filename.\n",
      "WARNING:root:Encountered Structure, which does not store filename.\n",
      "WARNING:root:Encountered Structure, which does not store filename.\n",
      "WARNING:root:Encountered Structure, which does not store filename.\n",
      "WARNING:root:Encountered Structure, which does not store filename.\n",
      "WARNING:root:Encountered Structure, which does not store filename.\n"
     ]
    },
    {
     "data": {
      "application/vnd.jupyter.widget-view+json": {
       "model_id": "b59dfe7ecd0a45f28d5becc7db5908ce",
       "version_major": 2,
       "version_minor": 0
      },
      "text/plain": [
       "  0%|          | 0/46 [00:00<?, ?it/s]"
      ]
     },
     "metadata": {},
     "output_type": "display_data"
    },
    {
     "name": "stderr",
     "output_type": "stream",
     "text": [
      "WARNING:root:Encountered Structure, which does not store filename.\n",
      "WARNING:root:Encountered Structure, which does not store filename.\n",
      "WARNING:root:Encountered Structure, which does not store filename.\n",
      "WARNING:root:Encountered Structure, which does not store filename.\n",
      "WARNING:root:Encountered Structure, which does not store filename.\n",
      "WARNING:root:Encountered Structure, which does not store filename.\n"
     ]
    },
    {
     "data": {
      "application/vnd.jupyter.widget-view+json": {
       "model_id": "14d7a0a100b6420d94995dffbaa98caf",
       "version_major": 2,
       "version_minor": 0
      },
      "text/plain": [
       "  0%|          | 0/46 [00:00<?, ?it/s]"
      ]
     },
     "metadata": {},
     "output_type": "display_data"
    },
    {
     "name": "stderr",
     "output_type": "stream",
     "text": [
      "WARNING:root:Encountered Structure, which does not store filename.\n",
      "WARNING:root:Encountered Structure, which does not store filename.\n",
      "WARNING:root:Encountered Structure, which does not store filename.\n",
      "WARNING:root:Encountered Structure, which does not store filename.\n",
      "WARNING:root:Encountered Structure, which does not store filename.\n",
      "WARNING:root:Encountered Structure, which does not store filename.\n"
     ]
    },
    {
     "data": {
      "application/vnd.jupyter.widget-view+json": {
       "model_id": "279153e7188a485aba43293c7204e539",
       "version_major": 2,
       "version_minor": 0
      },
      "text/plain": [
       "  0%|          | 0/15 [00:00<?, ?it/s]"
      ]
     },
     "metadata": {},
     "output_type": "display_data"
    }
   ],
   "source": [
    "# Build APR files -- parallelize over 4 CPUs\n",
    "system.build_system(n_cpus=4, clean_files=True)"
   ]
  },
  {
   "cell_type": "markdown",
   "id": "0bae63d4-0ef7-4b99-8cb0-27ce90694bef",
   "metadata": {},
   "source": [
    "## 02) Build System in implicit solvent"
   ]
  },
  {
   "cell_type": "code",
   "execution_count": 6,
   "id": "cde8cd8e",
   "metadata": {},
   "outputs": [],
   "source": [
    "# Define force field (OpenFF)\n",
    "gbsa = resource_filename(\n",
    "    \"openff.toolkit\",\n",
    "    os.path.join(\"data\", \"test_forcefields\", \"GBSA_OBC2-1.0.offxml\"),\n",
    ")\n",
    "force_field = ForceField(\"openff-2.0.0.offxml\", gbsa)"
   ]
  },
  {
   "cell_type": "code",
   "execution_count": 7,
   "id": "57d2f8af-9a34-4395-9b72-aaea82c0b7d6",
   "metadata": {},
   "outputs": [],
   "source": [
    "system = BuildTaproomAPR(\n",
    "    host_code=\"acd\",\n",
    "    guest_code=\"bam\",\n",
    "    n_water=None, #<-- Set this to None to build system without water molecules\n",
    "    force_field=force_field,\n",
    "    working_folder=\"implicit_solvent\",\n",
    "    disable_progress=False,\n",
    ")"
   ]
  },
  {
   "cell_type": "code",
   "execution_count": 8,
   "id": "04dbf25d-01cd-4bbd-b8e3-93576869edc4",
   "metadata": {},
   "outputs": [
    {
     "data": {
      "application/vnd.jupyter.widget-view+json": {
       "model_id": "d591dc780fd54b77af9194779893874b",
       "version_major": 2,
       "version_minor": 0
      },
      "text/plain": [
       "  0%|          | 0/46 [00:00<?, ?it/s]"
      ]
     },
     "metadata": {},
     "output_type": "display_data"
    },
    {
     "data": {
      "application/vnd.jupyter.widget-view+json": {
       "model_id": "b46e350fae79469c8fe2bcf0e162305d",
       "version_major": 2,
       "version_minor": 0
      },
      "text/plain": [
       "  0%|          | 0/15 [00:00<?, ?it/s]"
      ]
     },
     "metadata": {},
     "output_type": "display_data"
    },
    {
     "data": {
      "application/vnd.jupyter.widget-view+json": {
       "model_id": "ddf0769669984debadbefe190f55604f",
       "version_major": 2,
       "version_minor": 0
      },
      "text/plain": [
       "  0%|          | 0/46 [00:00<?, ?it/s]"
      ]
     },
     "metadata": {},
     "output_type": "display_data"
    },
    {
     "data": {
      "application/vnd.jupyter.widget-view+json": {
       "model_id": "d2590d4315d34d93b98fb47c42322efa",
       "version_major": 2,
       "version_minor": 0
      },
      "text/plain": [
       "  0%|          | 0/15 [00:00<?, ?it/s]"
      ]
     },
     "metadata": {},
     "output_type": "display_data"
    },
    {
     "data": {
      "application/vnd.jupyter.widget-view+json": {
       "model_id": "54fe2e5469134d1ca9614762f0b22d88",
       "version_major": 2,
       "version_minor": 0
      },
      "text/plain": [
       "  0%|          | 0/15 [00:00<?, ?it/s]"
      ]
     },
     "metadata": {},
     "output_type": "display_data"
    },
    {
     "name": "stderr",
     "output_type": "stream",
     "text": [
      "WARNING:root:Encountered Structure, which does not store filename.\n",
      "WARNING:root:Encountered Structure, which does not store filename.\n",
      "WARNING:root:Encountered Structure, which does not store filename.\n",
      "WARNING:root:Encountered Structure, which does not store filename.\n",
      "WARNING:root:Encountered Structure, which does not store filename.\n",
      "WARNING:root:Encountered Structure, which does not store filename.\n"
     ]
    },
    {
     "data": {
      "application/vnd.jupyter.widget-view+json": {
       "model_id": "af06f67277924263ae9daa9e773ac5ba",
       "version_major": 2,
       "version_minor": 0
      },
      "text/plain": [
       "  0%|          | 0/15 [00:00<?, ?it/s]"
      ]
     },
     "metadata": {},
     "output_type": "display_data"
    },
    {
     "name": "stderr",
     "output_type": "stream",
     "text": [
      "WARNING:root:Encountered Structure, which does not store filename.\n",
      "WARNING:root:Encountered Structure, which does not store filename.\n",
      "WARNING:root:Encountered Structure, which does not store filename.\n",
      "WARNING:root:Encountered Structure, which does not store filename.\n",
      "WARNING:root:Encountered Structure, which does not store filename.\n",
      "WARNING:root:Encountered Structure, which does not store filename.\n"
     ]
    },
    {
     "data": {
      "application/vnd.jupyter.widget-view+json": {
       "model_id": "5371bacaa4094ea98bd33e64817b0820",
       "version_major": 2,
       "version_minor": 0
      },
      "text/plain": [
       "  0%|          | 0/15 [00:00<?, ?it/s]"
      ]
     },
     "metadata": {},
     "output_type": "display_data"
    },
    {
     "name": "stderr",
     "output_type": "stream",
     "text": [
      "WARNING:root:Encountered Structure, which does not store filename.\n",
      "WARNING:root:Encountered Structure, which does not store filename.\n",
      "WARNING:root:Encountered Structure, which does not store filename.\n",
      "WARNING:root:Encountered Structure, which does not store filename.\n",
      "WARNING:root:Encountered Structure, which does not store filename.\n",
      "WARNING:root:Encountered Structure, which does not store filename.\n"
     ]
    },
    {
     "data": {
      "application/vnd.jupyter.widget-view+json": {
       "model_id": "eec351bc51394e27affd30945a960a6a",
       "version_major": 2,
       "version_minor": 0
      },
      "text/plain": [
       "  0%|          | 0/46 [00:00<?, ?it/s]"
      ]
     },
     "metadata": {},
     "output_type": "display_data"
    },
    {
     "name": "stderr",
     "output_type": "stream",
     "text": [
      "WARNING:root:Encountered Structure, which does not store filename.\n",
      "WARNING:root:Encountered Structure, which does not store filename.\n",
      "WARNING:root:Encountered Structure, which does not store filename.\n",
      "WARNING:root:Encountered Structure, which does not store filename.\n",
      "WARNING:root:Encountered Structure, which does not store filename.\n",
      "WARNING:root:Encountered Structure, which does not store filename.\n"
     ]
    },
    {
     "data": {
      "application/vnd.jupyter.widget-view+json": {
       "model_id": "9d01adff2f0a4f8fa8c3fc8cedae04b2",
       "version_major": 2,
       "version_minor": 0
      },
      "text/plain": [
       "  0%|          | 0/46 [00:00<?, ?it/s]"
      ]
     },
     "metadata": {},
     "output_type": "display_data"
    },
    {
     "name": "stderr",
     "output_type": "stream",
     "text": [
      "WARNING:root:Encountered Structure, which does not store filename.\n",
      "WARNING:root:Encountered Structure, which does not store filename.\n",
      "WARNING:root:Encountered Structure, which does not store filename.\n",
      "WARNING:root:Encountered Structure, which does not store filename.\n",
      "WARNING:root:Encountered Structure, which does not store filename.\n",
      "WARNING:root:Encountered Structure, which does not store filename.\n"
     ]
    },
    {
     "data": {
      "application/vnd.jupyter.widget-view+json": {
       "model_id": "8df34eafc2d446249997447aa911f602",
       "version_major": 2,
       "version_minor": 0
      },
      "text/plain": [
       "  0%|          | 0/15 [00:00<?, ?it/s]"
      ]
     },
     "metadata": {},
     "output_type": "display_data"
    }
   ],
   "source": [
    "# Build APR files -- parallelize over 4 CPUs\n",
    "system.build_system(n_cpus=4, clean_files=True)"
   ]
  },
  {
   "cell_type": "markdown",
   "id": "6764b34a",
   "metadata": {},
   "source": [
    "## 03) Generate files for multiple host-guest complexes"
   ]
  },
  {
   "cell_type": "code",
   "execution_count": 9,
   "id": "64239f8e",
   "metadata": {},
   "outputs": [],
   "source": [
    "host_guest_codes = {\n",
    "    \"acd\": [\"bam\", \"cbu\"],\n",
    "    \"bcd\": [\"ben\", \"hex\"],\n",
    "}"
   ]
  },
  {
   "cell_type": "code",
   "execution_count": 10,
   "id": "4fa40b02",
   "metadata": {},
   "outputs": [
    {
     "data": {
      "application/vnd.jupyter.widget-view+json": {
       "model_id": "89f741a6f65a4b85a06c7a71cfc7945f",
       "version_major": 2,
       "version_minor": 0
      },
      "text/plain": [
       "Host:   0%|          | 0/2 [00:00<?, ?it/s]"
      ]
     },
     "metadata": {},
     "output_type": "display_data"
    },
    {
     "data": {
      "application/vnd.jupyter.widget-view+json": {
       "model_id": "",
       "version_major": 2,
       "version_minor": 0
      },
      "text/plain": [
       "Guests:   0%|          | 0/2 [00:00<?, ?it/s]"
      ]
     },
     "metadata": {},
     "output_type": "display_data"
    },
    {
     "name": "stderr",
     "output_type": "stream",
     "text": [
      "WARNING:root:Encountered Structure, which does not store filename.\n",
      "WARNING:root:Encountered Structure, which does not store filename.\n",
      "WARNING:root:Encountered Structure, which does not store filename.\n",
      "WARNING:root:Encountered Structure, which does not store filename.\n",
      "WARNING:root:Encountered Structure, which does not store filename.\n",
      "WARNING:root:Encountered Structure, which does not store filename.\n",
      "WARNING:root:Encountered Structure, which does not store filename.\n",
      "WARNING:root:Encountered Structure, which does not store filename.\n",
      "WARNING:root:Encountered Structure, which does not store filename.\n",
      "WARNING:root:Encountered Structure, which does not store filename.\n",
      "WARNING:root:Encountered Structure, which does not store filename.\n",
      "WARNING:root:Encountered Structure, which does not store filename.\n",
      "WARNING:root:Encountered Structure, which does not store filename.\n",
      "WARNING:root:Encountered Structure, which does not store filename.\n",
      "WARNING:root:Encountered Structure, which does not store filename.\n",
      "WARNING:root:Encountered Structure, which does not store filename.\n",
      "WARNING:root:Encountered Structure, which does not store filename.\n",
      "WARNING:root:Encountered Structure, which does not store filename.\n",
      "WARNING:root:Encountered Structure, which does not store filename.\n",
      "WARNING:root:Encountered Structure, which does not store filename.\n",
      "WARNING:root:Encountered Structure, which does not store filename.\n",
      "WARNING:root:Encountered Structure, which does not store filename.\n",
      "WARNING:root:Encountered Structure, which does not store filename.\n",
      "WARNING:root:Encountered Structure, which does not store filename.\n",
      "WARNING:root:Encountered Structure, which does not store filename.\n",
      "WARNING:root:Encountered Structure, which does not store filename.\n",
      "WARNING:root:Encountered Structure, which does not store filename.\n",
      "WARNING:root:Encountered Structure, which does not store filename.\n",
      "WARNING:root:Encountered Structure, which does not store filename.\n",
      "WARNING:root:Encountered Structure, which does not store filename.\n",
      "WARNING:root:Encountered Structure, which does not store filename.\n",
      "WARNING:root:Encountered Structure, which does not store filename.\n",
      "WARNING:root:Encountered Structure, which does not store filename.\n",
      "WARNING:root:Encountered Structure, which does not store filename.\n",
      "WARNING:root:Encountered Structure, which does not store filename.\n",
      "WARNING:root:Encountered Structure, which does not store filename.\n",
      "WARNING:root:Encountered Structure, which does not store filename.\n",
      "WARNING:root:Encountered Structure, which does not store filename.\n",
      "WARNING:root:Encountered Structure, which does not store filename.\n",
      "WARNING:root:Encountered Structure, which does not store filename.\n",
      "WARNING:root:Encountered Structure, which does not store filename.\n",
      "WARNING:root:Encountered Structure, which does not store filename.\n",
      "WARNING:root:Encountered Structure, which does not store filename.\n",
      "WARNING:root:Encountered Structure, which does not store filename.\n",
      "WARNING:root:Encountered Structure, which does not store filename.\n",
      "WARNING:root:Encountered Structure, which does not store filename.\n",
      "WARNING:root:Encountered Structure, which does not store filename.\n",
      "WARNING:root:Encountered Structure, which does not store filename.\n",
      "WARNING:root:Encountered Structure, which does not store filename.\n",
      "WARNING:root:Encountered Structure, which does not store filename.\n",
      "WARNING:root:Encountered Structure, which does not store filename.\n",
      "WARNING:root:Encountered Structure, which does not store filename.\n",
      "WARNING:root:Encountered Structure, which does not store filename.\n",
      "WARNING:root:Encountered Structure, which does not store filename.\n",
      "WARNING:root:Encountered Structure, which does not store filename.\n",
      "WARNING:root:Encountered Structure, which does not store filename.\n",
      "WARNING:root:Encountered Structure, which does not store filename.\n",
      "WARNING:root:Encountered Structure, which does not store filename.\n",
      "WARNING:root:Encountered Structure, which does not store filename.\n",
      "WARNING:root:Encountered Structure, which does not store filename.\n"
     ]
    },
    {
     "data": {
      "application/vnd.jupyter.widget-view+json": {
       "model_id": "",
       "version_major": 2,
       "version_minor": 0
      },
      "text/plain": [
       "Guests:   0%|          | 0/2 [00:00<?, ?it/s]"
      ]
     },
     "metadata": {},
     "output_type": "display_data"
    },
    {
     "name": "stderr",
     "output_type": "stream",
     "text": [
      "WARNING:root:Encountered Structure, which does not store filename.\n",
      "WARNING:root:Encountered Structure, which does not store filename.\n",
      "WARNING:root:Encountered Structure, which does not store filename.\n",
      "WARNING:root:Encountered Structure, which does not store filename.\n",
      "WARNING:root:Encountered Structure, which does not store filename.\n",
      "WARNING:root:Encountered Structure, which does not store filename.\n",
      "WARNING:root:Encountered Structure, which does not store filename.\n",
      "WARNING:root:Encountered Structure, which does not store filename.\n",
      "WARNING:root:Encountered Structure, which does not store filename.\n",
      "WARNING:root:Encountered Structure, which does not store filename.\n",
      "WARNING:root:Encountered Structure, which does not store filename.\n",
      "WARNING:root:Encountered Structure, which does not store filename.\n",
      "WARNING:root:Encountered Structure, which does not store filename.\n",
      "WARNING:root:Encountered Structure, which does not store filename.\n",
      "WARNING:root:Encountered Structure, which does not store filename.\n",
      "WARNING:root:Encountered Structure, which does not store filename.\n",
      "WARNING:root:Encountered Structure, which does not store filename.\n",
      "WARNING:root:Encountered Structure, which does not store filename.\n",
      "WARNING:root:Encountered Structure, which does not store filename.\n",
      "WARNING:root:Encountered Structure, which does not store filename.\n",
      "WARNING:root:Encountered Structure, which does not store filename.\n",
      "WARNING:root:Encountered Structure, which does not store filename.\n",
      "WARNING:root:Encountered Structure, which does not store filename.\n",
      "WARNING:root:Encountered Structure, which does not store filename.\n",
      "WARNING:root:Encountered Structure, which does not store filename.\n",
      "WARNING:root:Encountered Structure, which does not store filename.\n",
      "WARNING:root:Encountered Structure, which does not store filename.\n",
      "WARNING:root:Encountered Structure, which does not store filename.\n",
      "WARNING:root:Encountered Structure, which does not store filename.\n",
      "WARNING:root:Encountered Structure, which does not store filename.\n",
      "WARNING:root:Encountered Structure, which does not store filename.\n",
      "WARNING:root:Encountered Structure, which does not store filename.\n",
      "WARNING:root:Encountered Structure, which does not store filename.\n",
      "WARNING:root:Encountered Structure, which does not store filename.\n",
      "WARNING:root:Encountered Structure, which does not store filename.\n",
      "WARNING:root:Encountered Structure, which does not store filename.\n",
      "WARNING:root:Encountered Structure, which does not store filename.\n",
      "WARNING:root:Encountered Structure, which does not store filename.\n",
      "WARNING:root:Encountered Structure, which does not store filename.\n",
      "WARNING:root:Encountered Structure, which does not store filename.\n",
      "WARNING:root:Encountered Structure, which does not store filename.\n",
      "WARNING:root:Encountered Structure, which does not store filename.\n",
      "WARNING:root:Encountered Structure, which does not store filename.\n",
      "WARNING:root:Encountered Structure, which does not store filename.\n",
      "WARNING:root:Encountered Structure, which does not store filename.\n",
      "WARNING:root:Encountered Structure, which does not store filename.\n",
      "WARNING:root:Encountered Structure, which does not store filename.\n",
      "WARNING:root:Encountered Structure, which does not store filename.\n",
      "WARNING:root:Encountered Structure, which does not store filename.\n",
      "WARNING:root:Encountered Structure, which does not store filename.\n",
      "WARNING:root:Encountered Structure, which does not store filename.\n",
      "WARNING:root:Encountered Structure, which does not store filename.\n",
      "WARNING:root:Encountered Structure, which does not store filename.\n",
      "WARNING:root:Encountered Structure, which does not store filename.\n",
      "WARNING:root:Encountered Structure, which does not store filename.\n",
      "WARNING:root:Encountered Structure, which does not store filename.\n",
      "WARNING:root:Encountered Structure, which does not store filename.\n",
      "WARNING:root:Encountered Structure, which does not store filename.\n",
      "WARNING:root:Encountered Structure, which does not store filename.\n",
      "WARNING:root:Encountered Structure, which does not store filename.\n"
     ]
    }
   ],
   "source": [
    "for host in tqdm(host_guest_codes, desc=\"Host\"):\n",
    "    for guest in tqdm(host_guest_codes[host], desc=\"Guests\", leave=False):\n",
    "        system = BuildTaproomAPR(\n",
    "            host_code=host,\n",
    "            guest_code=guest,\n",
    "            n_water=None,\n",
    "            force_field=force_field,\n",
    "            build_folder=f\"{host}-{guest}/build_files\",\n",
    "            working_folder=f\"{host}-{guest}/simulations\",\n",
    "            disable_progress=True,\n",
    "        )\n",
    "        system.build_system(n_cpus=4)"
   ]
  },
  {
   "cell_type": "code",
   "execution_count": null,
   "id": "78e85ce0",
   "metadata": {},
   "outputs": [],
   "source": []
  }
 ],
 "metadata": {
  "kernelspec": {
   "display_name": "Python 3 (ipykernel)",
   "language": "python",
   "name": "python3"
  },
  "language_info": {
   "codemirror_mode": {
    "name": "ipython",
    "version": 3
   },
   "file_extension": ".py",
   "mimetype": "text/x-python",
   "name": "python",
   "nbconvert_exporter": "python",
   "pygments_lexer": "ipython3",
   "version": "3.9.13"
  }
 },
 "nbformat": 4,
 "nbformat_minor": 5
}
