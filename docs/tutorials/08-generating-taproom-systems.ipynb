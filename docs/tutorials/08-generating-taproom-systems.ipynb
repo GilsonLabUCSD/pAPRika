{
 "cells": [
  {
   "cell_type": "code",
   "execution_count": 1,
   "id": "4fa4e04a-c418-46d6-b4c0-92c4f20a484a",
   "metadata": {
    "tags": []
   },
   "outputs": [
    {
     "name": "stderr",
     "output_type": "stream",
     "text": [
      "Warning on use of the timeseries module: If the inherent timescales of the system are long compared to those being analyzed, this statistical inefficiency may be an underestimate.  The estimate presumes the use of many statistically independent samples.  Tests should be performed to assess whether this condition is satisfied.   Be cautious in the interpretation of the data.\n",
      "Warning: importing 'simtk.openmm' is deprecated.  Import 'openmm' instead.\n"
     ]
    },
    {
     "data": {
      "application/vnd.jupyter.widget-view+json": {
       "model_id": "47b1081dcb974a35aa9bddce1369a3fe",
       "version_major": 2,
       "version_minor": 0
      },
      "text/plain": []
     },
     "metadata": {},
     "output_type": "display_data"
    }
   ],
   "source": [
    "import os\n",
    "import warnings\n",
    "\n",
    "warnings.filterwarnings(action=\"ignore\")\n",
    "\n",
    "from openff.toolkit.typing.engines.smirnoff import ForceField\n",
    "from paprika.build.system.taproom import BuildTaproomAPR\n",
    "from pkg_resources import resource_filename\n",
    "from tqdm.auto import tqdm"
   ]
  },
  {
   "cell_type": "code",
   "execution_count": 2,
   "id": "e9e0c9bd-1771-4c52-9c46-b5ece3d8c7c2",
   "metadata": {
    "tags": []
   },
   "outputs": [],
   "source": [
    "os.environ[\"INTERCHANGE_EXPERIMENTAL\"] = \"1\""
   ]
  },
  {
   "cell_type": "markdown",
   "id": "e5140dbf",
   "metadata": {},
   "source": [
    "* The `BuildTaproomAPR` class requires the OpenFF-Interchange modules. Install in your conda environment with:\n",
    "\n",
    "`conda install -c conda-forge openff-interchange`"
   ]
  },
  {
   "cell_type": "markdown",
   "id": "ac82a11a",
   "metadata": {},
   "source": [
    "## 01) Build System in explicit solvent"
   ]
  },
  {
   "cell_type": "code",
   "execution_count": 3,
   "id": "b8c3ab15",
   "metadata": {
    "tags": []
   },
   "outputs": [],
   "source": [
    "# Define force field (OpenFF)\n",
    "force_field = ForceField(\"openff-2.0.0.offxml\")"
   ]
  },
  {
   "cell_type": "code",
   "execution_count": 4,
   "id": "50986520",
   "metadata": {
    "tags": []
   },
   "outputs": [],
   "source": [
    "system = BuildTaproomAPR(\n",
    "    host_code=\"acd\",\n",
    "    guest_code=\"bam\",\n",
    "    n_water=2200,\n",
    "    force_field=force_field,\n",
    "    working_folder=\"explicit_solvent\",\n",
    "    disable_progress=False,\n",
    ")"
   ]
  },
  {
   "cell_type": "code",
   "execution_count": 5,
   "id": "2c92a6bc",
   "metadata": {
    "tags": []
   },
   "outputs": [
    {
     "data": {
      "application/vnd.jupyter.widget-view+json": {
       "model_id": "e3b27b4bae714b358f040b2b13253819",
       "version_major": 2,
       "version_minor": 0
      },
      "text/plain": [
       "generating files `pull-s`:   0%|          | 0/46 [00:00<?, ?it/s]"
      ]
     },
     "metadata": {},
     "output_type": "display_data"
    },
    {
     "name": "stderr",
     "output_type": "stream",
     "text": [
      "Warning on use of the timeseries module: If the inherent timescales of the system are long compared to those being analyzed, this statistical inefficiency may be an underestimate.  The estimate presumes the use of many statistically independent samples.  Tests should be performed to assess whether this condition is satisfied.   Be cautious in the interpretation of the data.\n",
      "<frozen importlib._bootstrap>:241: RuntimeWarning: scipy._lib.messagestream.MessageStream size changed, may indicate binary incompatibility. Expected 56 from C header, got 64 from PyObject\n",
      "Warning on use of the timeseries module: If the inherent timescales of the system are long compared to those being analyzed, this statistical inefficiency may be an underestimate.  The estimate presumes the use of many statistically independent samples.  Tests should be performed to assess whether this condition is satisfied.   Be cautious in the interpretation of the data.\n",
      "<frozen importlib._bootstrap>:241: RuntimeWarning: scipy._lib.messagestream.MessageStream size changed, may indicate binary incompatibility. Expected 56 from C header, got 64 from PyObject\n",
      "Warning on use of the timeseries module: If the inherent timescales of the system are long compared to those being analyzed, this statistical inefficiency may be an underestimate.  The estimate presumes the use of many statistically independent samples.  Tests should be performed to assess whether this condition is satisfied.   Be cautious in the interpretation of the data.\n",
      "Warning: importing 'simtk.openmm' is deprecated.  Import 'openmm' instead.\n",
      "<frozen importlib._bootstrap>:241: RuntimeWarning: scipy._lib.messagestream.MessageStream size changed, may indicate binary incompatibility. Expected 56 from C header, got 64 from PyObject\n",
      "Warning on use of the timeseries module: If the inherent timescales of the system are long compared to those being analyzed, this statistical inefficiency may be an underestimate.  The estimate presumes the use of many statistically independent samples.  Tests should be performed to assess whether this condition is satisfied.   Be cautious in the interpretation of the data.\n",
      "<frozen importlib._bootstrap>:241: RuntimeWarning: scipy._lib.messagestream.MessageStream size changed, may indicate binary incompatibility. Expected 56 from C header, got 64 from PyObject\n",
      "Warning: importing 'simtk.openmm' is deprecated.  Import 'openmm' instead.\n",
      "Warning: importing 'simtk.openmm' is deprecated.  Import 'openmm' instead.\n",
      "Warning on use of the timeseries module: If the inherent timescales of the system are long compared to those being analyzed, this statistical inefficiency may be an underestimate.  The estimate presumes the use of many statistically independent samples.  Tests should be performed to assess whether this condition is satisfied.   Be cautious in the interpretation of the data.\n",
      "<frozen importlib._bootstrap>:241: RuntimeWarning: scipy._lib.messagestream.MessageStream size changed, may indicate binary incompatibility. Expected 56 from C header, got 64 from PyObject\n",
      "Warning: importing 'simtk.openmm' is deprecated.  Import 'openmm' instead.\n",
      "Warning on use of the timeseries module: If the inherent timescales of the system are long compared to those being analyzed, this statistical inefficiency may be an underestimate.  The estimate presumes the use of many statistically independent samples.  Tests should be performed to assess whether this condition is satisfied.   Be cautious in the interpretation of the data.\n",
      "<frozen importlib._bootstrap>:241: RuntimeWarning: scipy._lib.messagestream.MessageStream size changed, may indicate binary incompatibility. Expected 56 from C header, got 64 from PyObject\n",
      "Warning: importing 'simtk.openmm' is deprecated.  Import 'openmm' instead.\n",
      "Warning: importing 'simtk.openmm' is deprecated.  Import 'openmm' instead.\n",
      "Warning: Cannot perform Hydrogen sampling with GPU-Omega: GPU-Omega disabled.\n",
      "Warning: Cannot perform Hydrogen sampling with GPU-Omega: GPU-Omega disabled.\n",
      "Warning: Cannot perform Hydrogen sampling with GPU-Omega: GPU-Omega disabled.\n",
      "Warning: Cannot perform Hydrogen sampling with GPU-Omega: GPU-Omega disabled.\n",
      "Warning: Cannot perform Hydrogen sampling with GPU-Omega: GPU-Omega disabled.\n",
      "Warning: Cannot perform Hydrogen sampling with GPU-Omega: GPU-Omega disabled.\n",
      "/home/jsetiadi/mambaforge/envs/paprika-dev/lib/python3.10/site-packages/openff/interchange/_experimental.py:35: UserWarning: Interchange object combination is experimental and likely to produce strange results. Any workflow using this method is not guaranteed to be suitable for production. Use with extreme caution and thoroughly validate results!\n",
      "  return func(*args, **kwargs)\n",
      "/home/jsetiadi/mambaforge/envs/paprika-dev/lib/python3.10/site-packages/openff/interchange/_experimental.py:35: UserWarning: Interchange object combination is experimental and likely to produce strange results. Any workflow using this method is not guaranteed to be suitable for production. Use with extreme caution and thoroughly validate results!\n",
      "  return func(*args, **kwargs)\n",
      "/home/jsetiadi/mambaforge/envs/paprika-dev/lib/python3.10/site-packages/openff/interchange/_experimental.py:35: UserWarning: Interchange object combination is experimental and likely to produce strange results. Any workflow using this method is not guaranteed to be suitable for production. Use with extreme caution and thoroughly validate results!\n",
      "  return func(*args, **kwargs)\n",
      "/home/jsetiadi/mambaforge/envs/paprika-dev/lib/python3.10/site-packages/openff/interchange/_experimental.py:35: UserWarning: Interchange object combination is experimental and likely to produce strange results. Any workflow using this method is not guaranteed to be suitable for production. Use with extreme caution and thoroughly validate results!\n",
      "  return func(*args, **kwargs)\n",
      "/home/jsetiadi/mambaforge/envs/paprika-dev/lib/python3.10/site-packages/openff/interchange/_experimental.py:35: UserWarning: Interchange object combination is experimental and likely to produce strange results. Any workflow using this method is not guaranteed to be suitable for production. Use with extreme caution and thoroughly validate results!\n",
      "  return func(*args, **kwargs)\n",
      "/home/jsetiadi/mambaforge/envs/paprika-dev/lib/python3.10/site-packages/openff/interchange/_experimental.py:35: UserWarning: Interchange object combination is experimental and likely to produce strange results. Any workflow using this method is not guaranteed to be suitable for production. Use with extreme caution and thoroughly validate results!\n",
      "  return func(*args, **kwargs)\n",
      "/home/jsetiadi/mambaforge/envs/paprika-dev/lib/python3.10/site-packages/openff/interchange/components/interchange.py:832: UserWarning: Setting positions to None because one or both objects added together were missing positions.\n",
      "  warnings.warn(\n",
      "/home/jsetiadi/mambaforge/envs/paprika-dev/lib/python3.10/site-packages/openff/interchange/components/interchange.py:832: UserWarning: Setting positions to None because one or both objects added together were missing positions.\n",
      "  warnings.warn(\n",
      "/home/jsetiadi/mambaforge/envs/paprika-dev/lib/python3.10/site-packages/openff/interchange/components/interchange.py:832: UserWarning: Setting positions to None because one or both objects added together were missing positions.\n",
      "  warnings.warn(\n",
      "/home/jsetiadi/mambaforge/envs/paprika-dev/lib/python3.10/site-packages/openff/interchange/components/interchange.py:832: UserWarning: Setting positions to None because one or both objects added together were missing positions.\n",
      "  warnings.warn(\n",
      "/home/jsetiadi/mambaforge/envs/paprika-dev/lib/python3.10/site-packages/openff/interchange/components/interchange.py:832: UserWarning: Setting positions to None because one or both objects added together were missing positions.\n",
      "  warnings.warn(\n",
      "/home/jsetiadi/mambaforge/envs/paprika-dev/lib/python3.10/site-packages/openff/interchange/components/interchange.py:832: UserWarning: Setting positions to None because one or both objects added together were missing positions.\n",
      "  warnings.warn(\n"
     ]
    },
    {
     "data": {
      "application/vnd.jupyter.widget-view+json": {
       "model_id": "919f7689e3e34e6381937ee69b0aa79f",
       "version_major": 2,
       "version_minor": 0
      },
      "text/plain": [
       "generating files `attach-s`:   0%|          | 0/15 [00:00<?, ?it/s]"
      ]
     },
     "metadata": {},
     "output_type": "display_data"
    },
    {
     "data": {
      "application/vnd.jupyter.widget-view+json": {
       "model_id": "990a958cbe0f4f32810ec323b898f9c5",
       "version_major": 2,
       "version_minor": 0
      },
      "text/plain": [
       "generating files `pull-p`:   0%|          | 0/46 [00:00<?, ?it/s]"
      ]
     },
     "metadata": {},
     "output_type": "display_data"
    },
    {
     "data": {
      "application/vnd.jupyter.widget-view+json": {
       "model_id": "5c2f99f09f794969a9260b1f01c43317",
       "version_major": 2,
       "version_minor": 0
      },
      "text/plain": [
       "generating files `attach-p`:   0%|          | 0/15 [00:00<?, ?it/s]"
      ]
     },
     "metadata": {},
     "output_type": "display_data"
    },
    {
     "name": "stderr",
     "output_type": "stream",
     "text": [
      "Warning: Cannot perform Hydrogen sampling with GPU-Omega: GPU-Omega disabled.\n"
     ]
    },
    {
     "data": {
      "application/vnd.jupyter.widget-view+json": {
       "model_id": "564d849053fe491599df3098bbf5bb57",
       "version_major": 2,
       "version_minor": 0
      },
      "text/plain": [
       "generating files `release`:   0%|          | 0/15 [00:00<?, ?it/s]"
      ]
     },
     "metadata": {},
     "output_type": "display_data"
    },
    {
     "name": "stderr",
     "output_type": "stream",
     "text": [
      "WARNING:root:Encountered Structure, which does not store filename.\n",
      "WARNING:root:Encountered Structure, which does not store filename.\n",
      "WARNING:root:Encountered Structure, which does not store filename.\n",
      "WARNING:root:Encountered Structure, which does not store filename.\n",
      "WARNING:root:Encountered Structure, which does not store filename.\n",
      "WARNING:root:Encountered Structure, which does not store filename.\n"
     ]
    },
    {
     "data": {
      "application/vnd.jupyter.widget-view+json": {
       "model_id": "035ed20f806947bfb2d9f0042e498ed6",
       "version_major": 2,
       "version_minor": 0
      },
      "text/plain": [
       "applying restraints `attach-s`:   0%|          | 0/15 [00:00<?, ?it/s]"
      ]
     },
     "metadata": {},
     "output_type": "display_data"
    },
    {
     "name": "stderr",
     "output_type": "stream",
     "text": [
      "WARNING:root:Encountered Structure, which does not store filename.\n",
      "WARNING:root:Encountered Structure, which does not store filename.\n",
      "WARNING:root:Encountered Structure, which does not store filename.\n",
      "WARNING:root:Encountered Structure, which does not store filename.\n",
      "WARNING:root:Encountered Structure, which does not store filename.\n",
      "WARNING:root:Encountered Structure, which does not store filename.\n"
     ]
    },
    {
     "data": {
      "application/vnd.jupyter.widget-view+json": {
       "model_id": "df1e7977cf534bec8f209cc2a9c44c77",
       "version_major": 2,
       "version_minor": 0
      },
      "text/plain": [
       "applying restraints `attach-p`:   0%|          | 0/15 [00:00<?, ?it/s]"
      ]
     },
     "metadata": {},
     "output_type": "display_data"
    },
    {
     "name": "stderr",
     "output_type": "stream",
     "text": [
      "WARNING:root:Encountered Structure, which does not store filename.\n",
      "WARNING:root:Encountered Structure, which does not store filename.\n",
      "WARNING:root:Encountered Structure, which does not store filename.\n",
      "WARNING:root:Encountered Structure, which does not store filename.\n",
      "WARNING:root:Encountered Structure, which does not store filename.\n",
      "WARNING:root:Encountered Structure, which does not store filename.\n"
     ]
    },
    {
     "data": {
      "application/vnd.jupyter.widget-view+json": {
       "model_id": "95f2b662fec74ba4aa0d264dfbf28358",
       "version_major": 2,
       "version_minor": 0
      },
      "text/plain": [
       "applying restraints `pull-s`:   0%|          | 0/46 [00:00<?, ?it/s]"
      ]
     },
     "metadata": {},
     "output_type": "display_data"
    },
    {
     "name": "stderr",
     "output_type": "stream",
     "text": [
      "WARNING:root:Encountered Structure, which does not store filename.\n",
      "WARNING:root:Encountered Structure, which does not store filename.\n",
      "WARNING:root:Encountered Structure, which does not store filename.\n",
      "WARNING:root:Encountered Structure, which does not store filename.\n",
      "WARNING:root:Encountered Structure, which does not store filename.\n",
      "WARNING:root:Encountered Structure, which does not store filename.\n"
     ]
    },
    {
     "data": {
      "application/vnd.jupyter.widget-view+json": {
       "model_id": "cf7e4739229c49daa423c23019f279ce",
       "version_major": 2,
       "version_minor": 0
      },
      "text/plain": [
       "applying restraints `pull-p`:   0%|          | 0/46 [00:00<?, ?it/s]"
      ]
     },
     "metadata": {},
     "output_type": "display_data"
    },
    {
     "name": "stderr",
     "output_type": "stream",
     "text": [
      "WARNING:root:Encountered Structure, which does not store filename.\n",
      "WARNING:root:Encountered Structure, which does not store filename.\n",
      "WARNING:root:Encountered Structure, which does not store filename.\n",
      "WARNING:root:Encountered Structure, which does not store filename.\n",
      "WARNING:root:Encountered Structure, which does not store filename.\n",
      "WARNING:root:Encountered Structure, which does not store filename.\n"
     ]
    },
    {
     "data": {
      "application/vnd.jupyter.widget-view+json": {
       "model_id": "7adfdc51d26d48449488089e92c538c3",
       "version_major": 2,
       "version_minor": 0
      },
      "text/plain": [
       "applying restraints `release`:   0%|          | 0/15 [00:00<?, ?it/s]"
      ]
     },
     "metadata": {},
     "output_type": "display_data"
    }
   ],
   "source": [
    "# Build APR files -- parallelize over 4 CPUs\n",
    "system.build_system(n_cpus=6, clean_files=True)"
   ]
  },
  {
   "cell_type": "markdown",
   "id": "0bae63d4-0ef7-4b99-8cb0-27ce90694bef",
   "metadata": {},
   "source": [
    "## 02) Build System in implicit solvent"
   ]
  },
  {
   "cell_type": "code",
   "execution_count": 6,
   "id": "cde8cd8e",
   "metadata": {},
   "outputs": [],
   "source": [
    "# Define force field (OpenFF)\n",
    "gbsa = resource_filename(\n",
    "    \"openff.toolkit\",\n",
    "    os.path.join(\"data\", \"test_forcefields\", \"GBSA_OBC2-1.0.offxml\"),\n",
    ")\n",
    "force_field = ForceField(\"openff-2.0.0.offxml\", gbsa)"
   ]
  },
  {
   "cell_type": "code",
   "execution_count": 7,
   "id": "57d2f8af-9a34-4395-9b72-aaea82c0b7d6",
   "metadata": {},
   "outputs": [],
   "source": [
    "system = BuildTaproomAPR(\n",
    "    host_code=\"acd\",\n",
    "    guest_code=\"bam\",\n",
    "    n_water=None,  # <-- Set to None to build system in vacuum\n",
    "    force_field=force_field,\n",
    "    working_folder=\"implicit_solvent\",\n",
    "    disable_progress=False,\n",
    ")"
   ]
  },
  {
   "cell_type": "code",
   "execution_count": 8,
   "id": "04dbf25d-01cd-4bbd-b8e3-93576869edc4",
   "metadata": {},
   "outputs": [
    {
     "data": {
      "application/vnd.jupyter.widget-view+json": {
       "model_id": "7a7e4f12dad643f7b73f82a2411b359c",
       "version_major": 2,
       "version_minor": 0
      },
      "text/plain": [
       "generating files `pull-s`:   0%|          | 0/46 [00:00<?, ?it/s]"
      ]
     },
     "metadata": {},
     "output_type": "display_data"
    },
    {
     "data": {
      "application/vnd.jupyter.widget-view+json": {
       "model_id": "40dc1a3b85154a0a87fa343d14a88fc9",
       "version_major": 2,
       "version_minor": 0
      },
      "text/plain": [
       "generating files `attach-s`:   0%|          | 0/15 [00:00<?, ?it/s]"
      ]
     },
     "metadata": {},
     "output_type": "display_data"
    },
    {
     "data": {
      "application/vnd.jupyter.widget-view+json": {
       "model_id": "355db9818bef4f01a6e9d312d69296cf",
       "version_major": 2,
       "version_minor": 0
      },
      "text/plain": [
       "generating files `pull-p`:   0%|          | 0/46 [00:00<?, ?it/s]"
      ]
     },
     "metadata": {},
     "output_type": "display_data"
    },
    {
     "data": {
      "application/vnd.jupyter.widget-view+json": {
       "model_id": "7fe628971652464ea0a096c3936251d8",
       "version_major": 2,
       "version_minor": 0
      },
      "text/plain": [
       "generating files `attach-p`:   0%|          | 0/15 [00:00<?, ?it/s]"
      ]
     },
     "metadata": {},
     "output_type": "display_data"
    },
    {
     "data": {
      "application/vnd.jupyter.widget-view+json": {
       "model_id": "d39c67ec537345ebbf0abc7004f0c3c9",
       "version_major": 2,
       "version_minor": 0
      },
      "text/plain": [
       "generating files `release`:   0%|          | 0/15 [00:00<?, ?it/s]"
      ]
     },
     "metadata": {},
     "output_type": "display_data"
    },
    {
     "name": "stderr",
     "output_type": "stream",
     "text": [
      "WARNING:root:Encountered Structure, which does not store filename.\n",
      "WARNING:root:Encountered Structure, which does not store filename.\n",
      "WARNING:root:Encountered Structure, which does not store filename.\n",
      "WARNING:root:Encountered Structure, which does not store filename.\n",
      "WARNING:root:Encountered Structure, which does not store filename.\n",
      "WARNING:root:Encountered Structure, which does not store filename.\n"
     ]
    },
    {
     "data": {
      "application/vnd.jupyter.widget-view+json": {
       "model_id": "90b6b25a9e704bccbb391fd5b97bfb7d",
       "version_major": 2,
       "version_minor": 0
      },
      "text/plain": [
       "applying restraints `attach-s`:   0%|          | 0/15 [00:00<?, ?it/s]"
      ]
     },
     "metadata": {},
     "output_type": "display_data"
    },
    {
     "name": "stderr",
     "output_type": "stream",
     "text": [
      "WARNING:root:Encountered Structure, which does not store filename.\n",
      "WARNING:root:Encountered Structure, which does not store filename.\n",
      "WARNING:root:Encountered Structure, which does not store filename.\n",
      "WARNING:root:Encountered Structure, which does not store filename.\n",
      "WARNING:root:Encountered Structure, which does not store filename.\n",
      "WARNING:root:Encountered Structure, which does not store filename.\n"
     ]
    },
    {
     "data": {
      "application/vnd.jupyter.widget-view+json": {
       "model_id": "1f4f49f2b3be4d3297dd5b938c65a013",
       "version_major": 2,
       "version_minor": 0
      },
      "text/plain": [
       "applying restraints `attach-p`:   0%|          | 0/15 [00:00<?, ?it/s]"
      ]
     },
     "metadata": {},
     "output_type": "display_data"
    },
    {
     "name": "stderr",
     "output_type": "stream",
     "text": [
      "WARNING:root:Encountered Structure, which does not store filename.\n",
      "WARNING:root:Encountered Structure, which does not store filename.\n",
      "WARNING:root:Encountered Structure, which does not store filename.\n",
      "WARNING:root:Encountered Structure, which does not store filename.\n",
      "WARNING:root:Encountered Structure, which does not store filename.\n",
      "WARNING:root:Encountered Structure, which does not store filename.\n"
     ]
    },
    {
     "data": {
      "application/vnd.jupyter.widget-view+json": {
       "model_id": "90f798531cd54f99bada41df4698ec73",
       "version_major": 2,
       "version_minor": 0
      },
      "text/plain": [
       "applying restraints `pull-s`:   0%|          | 0/46 [00:00<?, ?it/s]"
      ]
     },
     "metadata": {},
     "output_type": "display_data"
    },
    {
     "name": "stderr",
     "output_type": "stream",
     "text": [
      "WARNING:root:Encountered Structure, which does not store filename.\n",
      "WARNING:root:Encountered Structure, which does not store filename.\n",
      "WARNING:root:Encountered Structure, which does not store filename.\n",
      "WARNING:root:Encountered Structure, which does not store filename.\n",
      "WARNING:root:Encountered Structure, which does not store filename.\n",
      "WARNING:root:Encountered Structure, which does not store filename.\n"
     ]
    },
    {
     "data": {
      "application/vnd.jupyter.widget-view+json": {
       "model_id": "4ad4bb4d6c9748babf66e6495bc4584c",
       "version_major": 2,
       "version_minor": 0
      },
      "text/plain": [
       "applying restraints `pull-p`:   0%|          | 0/46 [00:00<?, ?it/s]"
      ]
     },
     "metadata": {},
     "output_type": "display_data"
    },
    {
     "name": "stderr",
     "output_type": "stream",
     "text": [
      "WARNING:root:Encountered Structure, which does not store filename.\n",
      "WARNING:root:Encountered Structure, which does not store filename.\n",
      "WARNING:root:Encountered Structure, which does not store filename.\n",
      "WARNING:root:Encountered Structure, which does not store filename.\n",
      "WARNING:root:Encountered Structure, which does not store filename.\n",
      "WARNING:root:Encountered Structure, which does not store filename.\n"
     ]
    },
    {
     "data": {
      "application/vnd.jupyter.widget-view+json": {
       "model_id": "4517e330636b42a4bd9a765c4a448e03",
       "version_major": 2,
       "version_minor": 0
      },
      "text/plain": [
       "applying restraints `release`:   0%|          | 0/15 [00:00<?, ?it/s]"
      ]
     },
     "metadata": {},
     "output_type": "display_data"
    }
   ],
   "source": [
    "# Build APR files -- parallelize over 4 CPUs\n",
    "system.build_system(n_cpus=6, clean_files=True)"
   ]
  },
  {
   "cell_type": "markdown",
   "id": "6764b34a",
   "metadata": {},
   "source": [
    "## 03) Generate files for multiple host-guest complexes"
   ]
  },
  {
   "cell_type": "code",
   "execution_count": 9,
   "id": "64239f8e",
   "metadata": {},
   "outputs": [],
   "source": [
    "host_guest_codes = {\n",
    "    \"acd\": [\"bam\", \"cbu\"],\n",
    "    \"bcd\": [\"ben\", \"hex\"],\n",
    "}"
   ]
  },
  {
   "cell_type": "code",
   "execution_count": 10,
   "id": "4fa40b02",
   "metadata": {},
   "outputs": [
    {
     "data": {
      "application/vnd.jupyter.widget-view+json": {
       "model_id": "ccdda9c3b43245928283f2269b761c97",
       "version_major": 2,
       "version_minor": 0
      },
      "text/plain": [
       "Host:   0%|          | 0/2 [00:00<?, ?it/s]"
      ]
     },
     "metadata": {},
     "output_type": "display_data"
    },
    {
     "data": {
      "application/vnd.jupyter.widget-view+json": {
       "model_id": "",
       "version_major": 2,
       "version_minor": 0
      },
      "text/plain": [
       "Guests:   0%|          | 0/2 [00:00<?, ?it/s]"
      ]
     },
     "metadata": {},
     "output_type": "display_data"
    },
    {
     "name": "stderr",
     "output_type": "stream",
     "text": [
      "WARNING:root:Encountered Structure, which does not store filename.\n",
      "WARNING:root:Encountered Structure, which does not store filename.\n",
      "WARNING:root:Encountered Structure, which does not store filename.\n",
      "WARNING:root:Encountered Structure, which does not store filename.\n",
      "WARNING:root:Encountered Structure, which does not store filename.\n",
      "WARNING:root:Encountered Structure, which does not store filename.\n",
      "WARNING:root:Encountered Structure, which does not store filename.\n",
      "WARNING:root:Encountered Structure, which does not store filename.\n",
      "WARNING:root:Encountered Structure, which does not store filename.\n",
      "WARNING:root:Encountered Structure, which does not store filename.\n",
      "WARNING:root:Encountered Structure, which does not store filename.\n",
      "WARNING:root:Encountered Structure, which does not store filename.\n",
      "WARNING:root:Encountered Structure, which does not store filename.\n",
      "WARNING:root:Encountered Structure, which does not store filename.\n",
      "WARNING:root:Encountered Structure, which does not store filename.\n",
      "WARNING:root:Encountered Structure, which does not store filename.\n",
      "WARNING:root:Encountered Structure, which does not store filename.\n",
      "WARNING:root:Encountered Structure, which does not store filename.\n",
      "WARNING:root:Encountered Structure, which does not store filename.\n",
      "WARNING:root:Encountered Structure, which does not store filename.\n",
      "WARNING:root:Encountered Structure, which does not store filename.\n",
      "WARNING:root:Encountered Structure, which does not store filename.\n",
      "WARNING:root:Encountered Structure, which does not store filename.\n",
      "WARNING:root:Encountered Structure, which does not store filename.\n",
      "WARNING:root:Encountered Structure, which does not store filename.\n",
      "WARNING:root:Encountered Structure, which does not store filename.\n",
      "WARNING:root:Encountered Structure, which does not store filename.\n",
      "WARNING:root:Encountered Structure, which does not store filename.\n",
      "WARNING:root:Encountered Structure, which does not store filename.\n",
      "WARNING:root:Encountered Structure, which does not store filename.\n",
      "WARNING:root:Encountered Structure, which does not store filename.\n",
      "WARNING:root:Encountered Structure, which does not store filename.\n",
      "WARNING:root:Encountered Structure, which does not store filename.\n",
      "WARNING:root:Encountered Structure, which does not store filename.\n",
      "WARNING:root:Encountered Structure, which does not store filename.\n",
      "WARNING:root:Encountered Structure, which does not store filename.\n",
      "WARNING:root:Encountered Structure, which does not store filename.\n",
      "WARNING:root:Encountered Structure, which does not store filename.\n",
      "WARNING:root:Encountered Structure, which does not store filename.\n",
      "WARNING:root:Encountered Structure, which does not store filename.\n",
      "WARNING:root:Encountered Structure, which does not store filename.\n",
      "WARNING:root:Encountered Structure, which does not store filename.\n",
      "WARNING:root:Encountered Structure, which does not store filename.\n",
      "WARNING:root:Encountered Structure, which does not store filename.\n",
      "WARNING:root:Encountered Structure, which does not store filename.\n",
      "WARNING:root:Encountered Structure, which does not store filename.\n",
      "WARNING:root:Encountered Structure, which does not store filename.\n",
      "WARNING:root:Encountered Structure, which does not store filename.\n",
      "WARNING:root:Encountered Structure, which does not store filename.\n",
      "WARNING:root:Encountered Structure, which does not store filename.\n",
      "WARNING:root:Encountered Structure, which does not store filename.\n",
      "WARNING:root:Encountered Structure, which does not store filename.\n",
      "WARNING:root:Encountered Structure, which does not store filename.\n",
      "WARNING:root:Encountered Structure, which does not store filename.\n",
      "WARNING:root:Encountered Structure, which does not store filename.\n",
      "WARNING:root:Encountered Structure, which does not store filename.\n",
      "WARNING:root:Encountered Structure, which does not store filename.\n",
      "WARNING:root:Encountered Structure, which does not store filename.\n",
      "WARNING:root:Encountered Structure, which does not store filename.\n",
      "WARNING:root:Encountered Structure, which does not store filename.\n"
     ]
    },
    {
     "data": {
      "application/vnd.jupyter.widget-view+json": {
       "model_id": "",
       "version_major": 2,
       "version_minor": 0
      },
      "text/plain": [
       "Guests:   0%|          | 0/2 [00:00<?, ?it/s]"
      ]
     },
     "metadata": {},
     "output_type": "display_data"
    },
    {
     "name": "stderr",
     "output_type": "stream",
     "text": [
      "WARNING:root:Encountered Structure, which does not store filename.\n",
      "WARNING:root:Encountered Structure, which does not store filename.\n",
      "WARNING:root:Encountered Structure, which does not store filename.\n",
      "WARNING:root:Encountered Structure, which does not store filename.\n",
      "WARNING:root:Encountered Structure, which does not store filename.\n",
      "WARNING:root:Encountered Structure, which does not store filename.\n",
      "WARNING:root:Encountered Structure, which does not store filename.\n",
      "WARNING:root:Encountered Structure, which does not store filename.\n",
      "WARNING:root:Encountered Structure, which does not store filename.\n",
      "WARNING:root:Encountered Structure, which does not store filename.\n",
      "WARNING:root:Encountered Structure, which does not store filename.\n",
      "WARNING:root:Encountered Structure, which does not store filename.\n",
      "WARNING:root:Encountered Structure, which does not store filename.\n",
      "WARNING:root:Encountered Structure, which does not store filename.\n",
      "WARNING:root:Encountered Structure, which does not store filename.\n",
      "WARNING:root:Encountered Structure, which does not store filename.\n",
      "WARNING:root:Encountered Structure, which does not store filename.\n",
      "WARNING:root:Encountered Structure, which does not store filename.\n",
      "WARNING:root:Encountered Structure, which does not store filename.\n",
      "WARNING:root:Encountered Structure, which does not store filename.\n",
      "WARNING:root:Encountered Structure, which does not store filename.\n",
      "WARNING:root:Encountered Structure, which does not store filename.\n",
      "WARNING:root:Encountered Structure, which does not store filename.\n",
      "WARNING:root:Encountered Structure, which does not store filename.\n",
      "WARNING:root:Encountered Structure, which does not store filename.\n",
      "WARNING:root:Encountered Structure, which does not store filename.\n",
      "WARNING:root:Encountered Structure, which does not store filename.\n",
      "WARNING:root:Encountered Structure, which does not store filename.\n",
      "WARNING:root:Encountered Structure, which does not store filename.\n",
      "WARNING:root:Encountered Structure, which does not store filename.\n",
      "WARNING:root:Encountered Structure, which does not store filename.\n",
      "WARNING:root:Encountered Structure, which does not store filename.\n",
      "WARNING:root:Encountered Structure, which does not store filename.\n",
      "WARNING:root:Encountered Structure, which does not store filename.\n",
      "WARNING:root:Encountered Structure, which does not store filename.\n",
      "WARNING:root:Encountered Structure, which does not store filename.\n",
      "WARNING:root:Encountered Structure, which does not store filename.\n",
      "WARNING:root:Encountered Structure, which does not store filename.\n",
      "WARNING:root:Encountered Structure, which does not store filename.\n",
      "WARNING:root:Encountered Structure, which does not store filename.\n",
      "WARNING:root:Encountered Structure, which does not store filename.\n",
      "WARNING:root:Encountered Structure, which does not store filename.\n",
      "WARNING:root:Encountered Structure, which does not store filename.\n",
      "WARNING:root:Encountered Structure, which does not store filename.\n",
      "WARNING:root:Encountered Structure, which does not store filename.\n",
      "WARNING:root:Encountered Structure, which does not store filename.\n",
      "WARNING:root:Encountered Structure, which does not store filename.\n",
      "WARNING:root:Encountered Structure, which does not store filename.\n",
      "WARNING:root:Encountered Structure, which does not store filename.\n",
      "WARNING:root:Encountered Structure, which does not store filename.\n",
      "WARNING:root:Encountered Structure, which does not store filename.\n",
      "WARNING:root:Encountered Structure, which does not store filename.\n",
      "WARNING:root:Encountered Structure, which does not store filename.\n",
      "WARNING:root:Encountered Structure, which does not store filename.\n",
      "WARNING:root:Encountered Structure, which does not store filename.\n",
      "WARNING:root:Encountered Structure, which does not store filename.\n",
      "WARNING:root:Encountered Structure, which does not store filename.\n",
      "WARNING:root:Encountered Structure, which does not store filename.\n",
      "WARNING:root:Encountered Structure, which does not store filename.\n",
      "WARNING:root:Encountered Structure, which does not store filename.\n"
     ]
    }
   ],
   "source": [
    "for host in tqdm(host_guest_codes, desc=\"Host\"):\n",
    "    for guest in tqdm(host_guest_codes[host], desc=\"Guests\", leave=False):\n",
    "        system = BuildTaproomAPR(\n",
    "            host_code=host,\n",
    "            guest_code=guest,\n",
    "            n_water=None,\n",
    "            force_field=force_field,\n",
    "            build_folder=f\"{host}-{guest}/build_files\",\n",
    "            working_folder=f\"{host}-{guest}/simulations\",\n",
    "            disable_progress=True,\n",
    "        )\n",
    "        system.build_system(n_cpus=6)"
   ]
  },
  {
   "cell_type": "code",
   "execution_count": null,
   "id": "78e85ce0",
   "metadata": {},
   "outputs": [],
   "source": []
  }
 ],
 "metadata": {
  "kernelspec": {
   "display_name": "Python 3 (ipykernel)",
   "language": "python",
   "name": "python3"
  },
  "language_info": {
   "codemirror_mode": {
    "name": "ipython",
    "version": 3
   },
   "file_extension": ".py",
   "mimetype": "text/x-python",
   "name": "python",
   "nbconvert_exporter": "python",
   "pygments_lexer": "ipython3",
   "version": "3.10.6"
  }
 },
 "nbformat": 4,
 "nbformat_minor": 5
}
