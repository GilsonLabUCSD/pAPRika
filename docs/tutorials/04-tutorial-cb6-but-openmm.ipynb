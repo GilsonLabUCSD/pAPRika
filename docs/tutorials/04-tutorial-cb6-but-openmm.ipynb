{
 "cells": [
  {
   "cell_type": "markdown",
   "metadata": {},
   "source": [
    "# pAPRika tutorial 4 - APR/OpenMM\n",
    "\n",
    "In this tutorial, we will perform APR calculations for butane (BUT)--cucurbit[6]uril (CB6). This is a repeat of [tutorial 1](01-tutorial-cb6-but.ipynb) using `OpenMM` instead of `AMBER` as the simulation engine. We will go through the process of converting APR restraints constructed with *pAPRika* and `AMBER` structure files to an `OpenMM` system. \n",
    "\n",
    "🔵 Since we have a prepared the host-guest-dummy setup from the first tutorial, we will skip the initial `tleap` steps and go right into initializing the restraints."
   ]
  },
  {
   "cell_type": "markdown",
   "metadata": {
    "pycharm": {
     "name": "#%% md\n"
    }
   },
   "source": [
    "## Initialize"
   ]
  },
  {
   "cell_type": "code",
   "execution_count": 1,
   "metadata": {},
   "outputs": [],
   "source": [
    "import os\n",
    "import json\n",
    "import shutil\n",
    "import numpy as np\n",
    "import parmed as pmd"
   ]
  },
  {
   "cell_type": "markdown",
   "metadata": {},
   "source": [
    "Initialize logger"
   ]
  },
  {
   "cell_type": "code",
   "execution_count": 2,
   "metadata": {},
   "outputs": [],
   "source": [
    "import logging\n",
    "from importlib import reload\n",
    "reload(logging)\n",
    "\n",
    "logger = logging.getLogger()\n",
    "logging.basicConfig(\n",
    "    format='%(asctime)s %(message)s',\n",
    "    datefmt='%Y-%m-%d %I:%M:%S %p',\n",
    "    level=logging.INFO\n",
    ")"
   ]
  },
  {
   "cell_type": "markdown",
   "metadata": {},
   "source": [
    "### Define names\n",
    "We will store the files created in this tutorial in a folder called `openmm` so we don't mix files with the previous tutorial."
   ]
  },
  {
   "cell_type": "code",
   "execution_count": 3,
   "metadata": {},
   "outputs": [],
   "source": [
    "base_name = \"cb6-but-dum\"\n",
    "work_dir = \"openmm\"\n",
    "complex_dir = \"complex\""
   ]
  },
  {
   "cell_type": "markdown",
   "metadata": {
    "pycharm": {
     "name": "#%% md\n"
    }
   },
   "source": [
    "## Generate APR Restraints\n",
    "*NOTE*: The only difference here is to set `amber_index` to `False` since `OpenMM` atom numbering starts from 0."
   ]
  },
  {
   "cell_type": "markdown",
   "metadata": {},
   "source": [
    "### Define anchor atoms\n",
    "See [tutorial 1](01-tutorial-cb6-but.ipynb) for the choice of selection"
   ]
  },
  {
   "cell_type": "code",
   "execution_count": 4,
   "metadata": {},
   "outputs": [],
   "source": [
    "# Guest atoms\n",
    "G1 = \":BUT@C\"\n",
    "G2 = \":BUT@C3\"\n",
    "\n",
    "# Host atoms\n",
    "H1 = \":CB6@C\"\n",
    "H2 = \":CB6@C31\"\n",
    "H3 = \":CB6@C18\"\n",
    "\n",
    "# Dummy atoms\n",
    "D1 = \":DM1\"\n",
    "D2 = \":DM2\"\n",
    "D3 = \":DM3\""
   ]
  },
  {
   "cell_type": "markdown",
   "metadata": {},
   "source": [
    "### Determine the number of windows\n",
    "Before we add the restraints, it is helpful to set the $\\lambda$ fractions that control the strength of the force constants during attach and release, and to define the distances for the pulling phase.\n",
    "\n",
    "The attach fractions go from 0 to 1 and we place more points at the bottom of the range to sample the curvature of $dU/d \\lambda$. Next, we generally apply a distance restraint until the guest is ~18 Angstroms away from the host, in increments of 0.4 Angstroms. This distance should be at least twice the Lennard-Jones cutoff in the system. These values have worked well for us, but this is one aspect that should be carefully checked for new systems."
   ]
  },
  {
   "cell_type": "code",
   "execution_count": 5,
   "metadata": {},
   "outputs": [
    {
     "name": "stderr",
     "output_type": "stream",
     "text": [
      "2020-08-19 10:30:19 PM There are [15, 18, 0] windows in this attach-pull-release calculation.\n"
     ]
    }
   ],
   "source": [
    "attach_string = \"0.00 0.40 0.80 1.60 2.40 4.00 5.50 8.65 11.80 18.10 24.40 37.00 49.60 74.80 100.00\"\n",
    "attach_fractions = [float(i) / 100 for i in attach_string.split()]\n",
    "\n",
    "initial_distance = 6.0\n",
    "pull_distances = np.arange(0.0 + initial_distance, 18.0 + initial_distance, 1.0)\n",
    "\n",
    "release_fractions = []\n",
    "\n",
    "windows = [len(attach_fractions), len(pull_distances), len(release_fractions)]\n",
    "logging.info(f\"There are {windows} windows in this attach-pull-release calculation.\")"
   ]
  },
  {
   "cell_type": "markdown",
   "metadata": {},
   "source": [
    "### Load complex structure"
   ]
  },
  {
   "cell_type": "code",
   "execution_count": 7,
   "metadata": {},
   "outputs": [],
   "source": [
    "structure = pmd.load_file(\n",
    "    os.path.join(complex_dir, f\"{base_name}.prmtop\"),\n",
    "    os.path.join(complex_dir, f\"{base_name}.rst7\"),\n",
    "    structure = True,\n",
    ") "
   ]
  },
  {
   "cell_type": "markdown",
   "metadata": {
    "pycharm": {
     "name": "#%% md\n"
    }
   },
   "source": [
    "### Host Static Restraints\n",
    "See [tutorial 1](01-tutorial-cb6-but.ipynb#host_static) for an explanation of the static restraints"
   ]
  },
  {
   "cell_type": "code",
   "execution_count": null,
   "metadata": {
    "pycharm": {
     "name": "#%%\n"
    }
   },
   "outputs": [],
   "source": [
    "import paprika.restraints as restraints"
   ]
  },
  {
   "cell_type": "code",
   "execution_count": 8,
   "metadata": {
    "pycharm": {
     "name": "#%%\n"
    }
   },
   "outputs": [],
   "source": [
    "static_restraints = []"
   ]
  },
  {
   "cell_type": "code",
   "execution_count": 9,
   "metadata": {
    "pycharm": {
     "name": "#%%\n"
    }
   },
   "outputs": [],
   "source": [
    "r = restraints.static_DAT_restraint(restraint_mask_list = [D1, H1],\n",
    "                                    num_window_list = windows,\n",
    "                                    ref_structure = structure,\n",
    "                                    force_constant = 5.0,\n",
    "                                    amber_index=False)\n",
    "\n",
    "static_restraints.append(r)"
   ]
  },
  {
   "cell_type": "code",
   "execution_count": 10,
   "metadata": {
    "pycharm": {
     "name": "#%%\n"
    }
   },
   "outputs": [],
   "source": [
    "r = restraints.static_DAT_restraint(restraint_mask_list = [D2, D1, H1],\n",
    "                                    num_window_list = windows,\n",
    "                                    ref_structure = structure,\n",
    "                                    force_constant = 100.0,\n",
    "                                    amber_index=False)\n",
    "\n",
    "static_restraints.append(r)"
   ]
  },
  {
   "cell_type": "code",
   "execution_count": 11,
   "metadata": {
    "pycharm": {
     "name": "#%%\n"
    }
   },
   "outputs": [],
   "source": [
    "r = restraints.static_DAT_restraint(restraint_mask_list = [D3, D2, D1, H1],\n",
    "                                    num_window_list = windows,\n",
    "                                    ref_structure = structure,\n",
    "                                    force_constant = 100.0,\n",
    "                                    amber_index=False)\n",
    "\n",
    "static_restraints.append(r)"
   ]
  },
  {
   "cell_type": "code",
   "execution_count": 12,
   "metadata": {
    "pycharm": {
     "name": "#%%\n"
    }
   },
   "outputs": [],
   "source": [
    "r = restraints.static_DAT_restraint(restraint_mask_list = [D1, H1, H2],\n",
    "                                    num_window_list = windows,\n",
    "                                    ref_structure = structure,\n",
    "                                    force_constant = 100.0,\n",
    "                                    amber_index=False)\n",
    "\n",
    "static_restraints.append(r)"
   ]
  },
  {
   "cell_type": "code",
   "execution_count": 13,
   "metadata": {
    "pycharm": {
     "name": "#%%\n"
    }
   },
   "outputs": [],
   "source": [
    "r = restraints.static_DAT_restraint(restraint_mask_list = [D2, D1, H1, H2],\n",
    "                                    num_window_list = windows,\n",
    "                                    ref_structure = structure,\n",
    "                                    force_constant = 100.0,\n",
    "                                    amber_index=False)\n",
    "\n",
    "static_restraints.append(r)"
   ]
  },
  {
   "cell_type": "code",
   "execution_count": 14,
   "metadata": {
    "pycharm": {
     "name": "#%%\n"
    }
   },
   "outputs": [],
   "source": [
    "r = restraints.static_DAT_restraint(restraint_mask_list = [D1, H1, H2, H3],\n",
    "                                    num_window_list = windows,\n",
    "                                    ref_structure = structure,\n",
    "                                    force_constant = 100.0,\n",
    "                                    amber_index=False)\n",
    "\n",
    "static_restraints.append(r)"
   ]
  },
  {
   "cell_type": "markdown",
   "metadata": {
    "pycharm": {
     "name": "#%% md\n"
    }
   },
   "source": [
    "### Guest translational and rotational restraints\n",
    "See [tutorial 1](01-tutorial-cb6-but.ipynb#guest) for an explanation of the guest restraints"
   ]
  },
  {
   "cell_type": "code",
   "execution_count": 15,
   "metadata": {
    "pycharm": {
     "name": "#%%\n"
    }
   },
   "outputs": [],
   "source": [
    "guest_restraints = []"
   ]
  },
  {
   "cell_type": "code",
   "execution_count": 16,
   "metadata": {
    "pycharm": {
     "name": "#%%\n"
    }
   },
   "outputs": [],
   "source": [
    "r = restraints.DAT_restraint()\n",
    "r.mask1 = D1\n",
    "r.mask2 = G1\n",
    "r.topology = structure\n",
    "r.auto_apr = True\n",
    "r.continuous_apr = True\n",
    "r.amber_index = False\n",
    "\n",
    "r.attach[\"target\"] = pull_distances[0]          # Angstroms\n",
    "r.attach[\"fraction_list\"] = attach_fractions\n",
    "r.attach[\"fc_final\"] = 5.0                      # kcal/mol/Angstroms**2\n",
    "\n",
    "r.pull[\"target_final\"] = 24.0                   # Angstroms\n",
    "r.pull[\"num_windows\"] = windows[1]\n",
    "\n",
    "r.initialize()\n",
    "guest_restraints.append(r)"
   ]
  },
  {
   "cell_type": "code",
   "execution_count": 17,
   "metadata": {
    "pycharm": {
     "name": "#%%\n"
    }
   },
   "outputs": [],
   "source": [
    "r = restraints.DAT_restraint()\n",
    "r.mask1 = D2\n",
    "r.mask2 = D1\n",
    "r.mask3 = G1\n",
    "r.topology = structure\n",
    "r.auto_apr = True\n",
    "r.continuous_apr = True\n",
    "r.amber_index = False\n",
    "\n",
    "r.attach[\"target\"] = 180.0                      # Degrees\n",
    "r.attach[\"fraction_list\"] = attach_fractions\n",
    "r.attach[\"fc_final\"] = 100.0                    # kcal/mol/radian**2\n",
    "\n",
    "r.pull[\"target_final\"] = 180.0                  # Degrees\n",
    "r.pull[\"num_windows\"] = windows[1]\n",
    "\n",
    "r.initialize()\n",
    "guest_restraints.append(r)"
   ]
  },
  {
   "cell_type": "code",
   "execution_count": 18,
   "metadata": {
    "pycharm": {
     "name": "#%%\n"
    }
   },
   "outputs": [],
   "source": [
    "r = restraints.DAT_restraint()\n",
    "r.mask1 = D1\n",
    "r.mask2 = G1\n",
    "r.mask3 = G2\n",
    "r.topology = structure\n",
    "r.auto_apr = True\n",
    "r.continuous_apr = True\n",
    "r.amber_index = False\n",
    "\n",
    "r.attach[\"target\"] = 180.0                      # Degrees\n",
    "r.attach[\"fraction_list\"] = attach_fractions\n",
    "r.attach[\"fc_final\"] = 100.0                    # kcal/mol/radian**2\n",
    "\n",
    "r.pull[\"target_final\"] = 180.0                  # Degrees\n",
    "r.pull[\"num_windows\"] = windows[1]\n",
    "\n",
    "r.initialize()\n",
    "guest_restraints.append(r)"
   ]
  },
  {
   "cell_type": "markdown",
   "metadata": {
    "pycharm": {
     "name": "#%% md\n"
    }
   },
   "source": [
    "### Create APR windows\n",
    "We use the guest restraints to create a list of windows with the appropriate names and then create the directories."
   ]
  },
  {
   "cell_type": "code",
   "execution_count": 19,
   "metadata": {},
   "outputs": [],
   "source": [
    "from paprika.restraints.restraints import create_window_list"
   ]
  },
  {
   "cell_type": "code",
   "execution_count": 20,
   "metadata": {
    "pycharm": {
     "name": "#%%\n"
    }
   },
   "outputs": [
    {
     "name": "stderr",
     "output_type": "stream",
     "text": [
      "2020-08-19 10:30:19 PM Restraints appear to be consistent\n"
     ]
    }
   ],
   "source": [
    "window_list = create_window_list(guest_restraints)"
   ]
  },
  {
   "cell_type": "code",
   "execution_count": 21,
   "metadata": {},
   "outputs": [],
   "source": [
    "for window in window_list:\n",
    "    folder = os.path.join(work_dir, window)\n",
    "    if not os.path.isdir(folder):\n",
    "        os.makedirs(os.path.join(work_dir, window))"
   ]
  },
  {
   "cell_type": "markdown",
   "metadata": {
    "pycharm": {
     "name": "#%% md\n"
    }
   },
   "source": [
    "## Prepare host-guest system"
   ]
  },
  {
   "cell_type": "markdown",
   "metadata": {
    "pycharm": {
     "name": "#%% md\n"
    }
   },
   "source": [
    "### Translate guest molecule\n",
    "For the attach windows, we will use the initial, bound coordinates for the host-guest complex. Only the force constants change during this phase, so a single set of coordinates is sufficient. For the pull windows, we will translate the guest to the target value of the restraint before solvation, and for the release windows, we will use the coordinates from the final pull window."
   ]
  },
  {
   "cell_type": "code",
   "execution_count": 22,
   "metadata": {
    "pycharm": {
     "name": "#%%\n"
    }
   },
   "outputs": [
    {
     "name": "stderr",
     "output_type": "stream",
     "text": [
      "2020-08-19 10:30:19 PM In window p000 we will translate the guest 0.0 Angstroms.\n",
      "2020-08-19 10:30:19 PM In window p001 we will translate the guest 1.1 Angstroms.\n",
      "2020-08-19 10:30:19 PM In window p002 we will translate the guest 2.1 Angstroms.\n",
      "2020-08-19 10:30:19 PM In window p003 we will translate the guest 3.2 Angstroms.\n",
      "2020-08-19 10:30:19 PM In window p004 we will translate the guest 4.2 Angstroms.\n",
      "2020-08-19 10:30:19 PM In window p005 we will translate the guest 5.3 Angstroms.\n",
      "2020-08-19 10:30:19 PM In window p006 we will translate the guest 6.4 Angstroms.\n",
      "2020-08-19 10:30:19 PM In window p007 we will translate the guest 7.4 Angstroms.\n",
      "2020-08-19 10:30:19 PM In window p008 we will translate the guest 8.5 Angstroms.\n",
      "2020-08-19 10:30:19 PM In window p009 we will translate the guest 9.5 Angstroms.\n",
      "2020-08-19 10:30:19 PM In window p010 we will translate the guest 10.6 Angstroms.\n",
      "2020-08-19 10:30:19 PM In window p011 we will translate the guest 11.6 Angstroms.\n",
      "2020-08-19 10:30:19 PM In window p012 we will translate the guest 12.7 Angstroms.\n",
      "2020-08-19 10:30:19 PM In window p013 we will translate the guest 13.8 Angstroms.\n",
      "2020-08-19 10:30:19 PM In window p014 we will translate the guest 14.8 Angstroms.\n",
      "2020-08-19 10:30:19 PM In window p015 we will translate the guest 15.9 Angstroms.\n",
      "2020-08-19 10:30:19 PM In window p016 we will translate the guest 16.9 Angstroms.\n",
      "2020-08-19 10:30:19 PM In window p017 we will translate the guest 18.0 Angstroms.\n"
     ]
    }
   ],
   "source": [
    "for window in window_list:\n",
    "    if window[0] == \"a\":\n",
    "        shutil.copy(os.path.join(complex_dir, f\"{base_name}.prmtop\"),\n",
    "                    os.path.join(work_dir, window, f\"{base_name}.prmtop\"))\n",
    "        shutil.copy(os.path.join(complex_dir, f\"{base_name}.rst7\"),\n",
    "                    os.path.join(work_dir, window, f\"{base_name}.rst7\"))\n",
    "\n",
    "    elif window[0] == \"p\":\n",
    "        structure = pmd.load_file(\n",
    "            os.path.join(complex_dir, f\"{base_name}.prmtop\"), \n",
    "            os.path.join(complex_dir, f\"{base_name}.rst7\"), \n",
    "            structure = True\n",
    "        )\n",
    "        target_difference = guest_restraints[0].phase['pull']['targets'][int(window[1:])] -\\\n",
    "                            guest_restraints[0].pull['target_initial']\n",
    "        logging.info(f\"In window {window} we will translate the guest {target_difference.magnitude:0.1f}.\")\n",
    "        \n",
    "        for atom in structure.atoms:\n",
    "            if atom.residue.name == \"BUT\":\n",
    "                atom.xz += target_difference.magnitude\n",
    "                \n",
    "        structure.save(os.path.join(work_dir, window, f\"{base_name}.prmtop\"), overwrite=True)\n",
    "        structure.save(os.path.join(work_dir, window, f\"{base_name}.rst7\"), overwrite=True)"
   ]
  },
  {
   "cell_type": "markdown",
   "metadata": {
    "pycharm": {
     "name": "#%% md\n"
    }
   },
   "source": [
    "### Create OpenMM system and apply restraints"
   ]
  },
  {
   "cell_type": "markdown",
   "metadata": {},
   "source": [
    "Here, we will convert the *AMBER* `*.prmtop` & `*.rst7` to an *OpenMM* system object for each window and convert it to a *XML* file. The Generalized Born Implicit Solvent model we will use is `HCT`, which is equivalent to `igb=1` in *AMBER*. Afterwords, we will apply restraints on the dummy atoms using `apply_positional_restraints` and the static & guest restraints with `apply_dat_restraint`. "
   ]
  },
  {
   "cell_type": "code",
   "execution_count": 23,
   "metadata": {},
   "outputs": [],
   "source": [
    "import openmm.unit as unit\n",
    "import openmm.app as app\n",
    "import openmm as openmm\n",
    "\n",
    "from paprika.restraints.utils import parse_window\n",
    "from paprika.restraints.openmm import apply_positional_restraints, apply_dat_restraint"
   ]
  },
  {
   "cell_type": "code",
   "execution_count": 24,
   "metadata": {
    "pycharm": {
     "name": "#%%\n"
    }
   },
   "outputs": [
    {
     "name": "stderr",
     "output_type": "stream",
     "text": [
      "2020-08-19 10:30:19 PM Creating XML for in window a000\n",
      "2020-08-19 10:30:19 PM Creating XML for in window a001\n",
      "2020-08-19 10:30:19 PM Creating XML for in window a002\n",
      "2020-08-19 10:30:19 PM Creating XML for in window a003\n",
      "2020-08-19 10:30:19 PM Creating XML for in window a004\n",
      "2020-08-19 10:30:19 PM Creating XML for in window a005\n",
      "2020-08-19 10:30:19 PM Creating XML for in window a006\n",
      "2020-08-19 10:30:20 PM Creating XML for in window a007\n",
      "2020-08-19 10:30:20 PM Creating XML for in window a008\n",
      "2020-08-19 10:30:20 PM Creating XML for in window a009\n",
      "2020-08-19 10:30:20 PM Creating XML for in window a010\n",
      "2020-08-19 10:30:20 PM Creating XML for in window a011\n",
      "2020-08-19 10:30:20 PM Creating XML for in window a012\n",
      "2020-08-19 10:30:20 PM Creating XML for in window a013\n",
      "2020-08-19 10:30:20 PM Creating XML for in window p000\n",
      "2020-08-19 10:30:20 PM Creating XML for in window p001\n",
      "2020-08-19 10:30:20 PM Creating XML for in window p002\n",
      "2020-08-19 10:30:20 PM Creating XML for in window p003\n",
      "2020-08-19 10:30:20 PM Creating XML for in window p004\n",
      "2020-08-19 10:30:20 PM Creating XML for in window p005\n",
      "2020-08-19 10:30:20 PM Creating XML for in window p006\n",
      "2020-08-19 10:30:20 PM Creating XML for in window p007\n",
      "2020-08-19 10:30:20 PM Creating XML for in window p008\n",
      "2020-08-19 10:30:20 PM Creating XML for in window p009\n",
      "2020-08-19 10:30:20 PM Creating XML for in window p010\n",
      "2020-08-19 10:30:20 PM Creating XML for in window p011\n",
      "2020-08-19 10:30:20 PM Creating XML for in window p012\n",
      "2020-08-19 10:30:20 PM Creating XML for in window p013\n",
      "2020-08-19 10:30:20 PM Creating XML for in window p014\n",
      "2020-08-19 10:30:20 PM Creating XML for in window p015\n",
      "2020-08-19 10:30:20 PM Creating XML for in window p016\n",
      "2020-08-19 10:30:20 PM Creating XML for in window p017\n"
     ]
    }
   ],
   "source": [
    "for window in window_list:\n",
    "    # Current window\n",
    "    folder = os.path.join(work_dir, window)\n",
    "    window_number, phase = parse_window(window)\n",
    "    logging.info(f\"Creating XML for in window {window}\")    \n",
    "    \n",
    "    # Load Amber\n",
    "    prmtop = app.AmberPrmtopFile(os.path.join(folder, f'{base_name}.prmtop'))\n",
    "    inpcrd = app.AmberInpcrdFile(os.path.join(folder, f'{base_name}.rst7'))\n",
    "    \n",
    "    # Create PDB file\n",
    "    with open(os.path.join(folder, 'system.pdb'), 'w') as file:\n",
    "        app.PDBFile.writeFile(prmtop.topology, inpcrd.positions, file, keepIds=True)\n",
    "    \n",
    "    # Create an OpenMM system from the Amber topology\n",
    "    system = prmtop.createSystem(\n",
    "        nonbondedMethod=app.NoCutoff,\n",
    "        constraints=app.HBonds,\n",
    "        implicitSolvent=app.HCT,\n",
    "    )\n",
    "\n",
    "    # Apply positional restraints on the dummy atoms\n",
    "    apply_positional_restraints(os.path.join(folder, 'system.pdb'), system, force_group=15)\n",
    "\n",
    "    # Apply host static restraints\n",
    "    for restraint in static_restraints:\n",
    "        apply_dat_restraint(system, restraint, phase, window_number, force_group=10)\n",
    "    \n",
    "    # Apply guest restraints\n",
    "    for restraint in guest_restraints:\n",
    "        apply_dat_restraint(system, restraint, phase, window_number, force_group=11)\n",
    "    \n",
    "    # Save OpenMM system to XML file\n",
    "    system_xml = openmm.XmlSerializer.serialize(system)\n",
    "    with open(os.path.join(folder, 'system.xml'), 'w') as file:\n",
    "        file.write(system_xml)"
   ]
  },
  {
   "cell_type": "markdown",
   "metadata": {},
   "source": [
    "## Simulation"
   ]
  },
  {
   "cell_type": "markdown",
   "metadata": {},
   "source": [
    "For this part, you need to have `OpenMM` installed and by default the simulations will run on the CPU. See the `OpenMM` documentation if you want to run the simulation on the GPU. We will set the integrator time step to 1 fs with a total of 50,000 steps for production run and the temperature is set to 300 K."
   ]
  },
  {
   "cell_type": "markdown",
   "metadata": {},
   "source": [
    "### Energy Minimization"
   ]
  },
  {
   "cell_type": "code",
   "execution_count": 25,
   "metadata": {},
   "outputs": [
    {
     "name": "stderr",
     "output_type": "stream",
     "text": [
      "2020-08-19 10:30:20 PM Running minimization in window a000...\n",
      "2020-08-19 10:30:21 PM Running minimization in window a001...\n",
      "2020-08-19 10:30:21 PM Running minimization in window a002...\n",
      "2020-08-19 10:30:21 PM Running minimization in window a003...\n",
      "2020-08-19 10:30:21 PM Running minimization in window a004...\n",
      "2020-08-19 10:30:21 PM Running minimization in window a005...\n",
      "2020-08-19 10:30:21 PM Running minimization in window a006...\n",
      "2020-08-19 10:30:21 PM Running minimization in window a007...\n",
      "2020-08-19 10:30:22 PM Running minimization in window a008...\n",
      "2020-08-19 10:30:22 PM Running minimization in window a009...\n",
      "2020-08-19 10:30:22 PM Running minimization in window a010...\n",
      "2020-08-19 10:30:22 PM Running minimization in window a011...\n",
      "2020-08-19 10:30:22 PM Running minimization in window a012...\n",
      "2020-08-19 10:30:22 PM Running minimization in window a013...\n",
      "2020-08-19 10:30:22 PM Running minimization in window p000...\n",
      "2020-08-19 10:30:23 PM Running minimization in window p001...\n",
      "2020-08-19 10:30:23 PM Running minimization in window p002...\n",
      "2020-08-19 10:30:23 PM Running minimization in window p003...\n",
      "2020-08-19 10:30:23 PM Running minimization in window p004...\n",
      "2020-08-19 10:30:23 PM Running minimization in window p005...\n",
      "2020-08-19 10:30:23 PM Running minimization in window p006...\n",
      "2020-08-19 10:30:24 PM Running minimization in window p007...\n",
      "2020-08-19 10:30:24 PM Running minimization in window p008...\n",
      "2020-08-19 10:30:24 PM Running minimization in window p009...\n",
      "2020-08-19 10:30:24 PM Running minimization in window p010...\n",
      "2020-08-19 10:30:24 PM Running minimization in window p011...\n",
      "2020-08-19 10:30:24 PM Running minimization in window p012...\n",
      "2020-08-19 10:30:24 PM Running minimization in window p013...\n",
      "2020-08-19 10:30:25 PM Running minimization in window p014...\n",
      "2020-08-19 10:30:25 PM Running minimization in window p015...\n",
      "2020-08-19 10:30:25 PM Running minimization in window p016...\n",
      "2020-08-19 10:30:25 PM Running minimization in window p017...\n"
     ]
    }
   ],
   "source": [
    "for window in window_list:\n",
    "    folder = os.path.join(work_dir, window)\n",
    "    logging.info(f\"Running minimization in window {window}...\")\n",
    "    \n",
    "    # Load XML and input coordinates\n",
    "    with open(os.path.join(folder, 'system.xml'), 'r') as file:\n",
    "        system = openmm.XmlSerializer.deserialize(file.read())\n",
    "    coords = app.PDBFile(os.path.join(folder, 'system.pdb'))\n",
    "    \n",
    "    # Integrator\n",
    "    integrator = openmm.LangevinIntegrator(300 * unit.kelvin, 1.0 / unit.picoseconds, 1.0 * unit.femtoseconds)\n",
    "\n",
    "    # Simulation Object\n",
    "    simulation = app.Simulation(coords.topology, system, integrator)\n",
    "    simulation.context.setPositions(coords.positions)\n",
    "    \n",
    "    # Minimize Energy\n",
    "    simulation.minimizeEnergy(tolerance=1.0*unit.kilojoules_per_mole, maxIterations=5000)\n",
    "    \n",
    "    # Save final coordinates\n",
    "    positions = simulation.context.getState(getPositions=True).getPositions()\n",
    "    with open(os.path.join(folder, 'minimized.pdb'), 'w') as file:\n",
    "        app.PDBFile.writeFile(simulation.topology, positions, file, keepIds=True)"
   ]
  },
  {
   "cell_type": "markdown",
   "metadata": {},
   "source": [
    "* Here we will skip the equilibration step and go straight to production!"
   ]
  },
  {
   "cell_type": "markdown",
   "metadata": {},
   "source": [
    "### Production Run"
   ]
  },
  {
   "cell_type": "code",
   "execution_count": 26,
   "metadata": {},
   "outputs": [
    {
     "name": "stderr",
     "output_type": "stream",
     "text": [
      "2020-08-19 10:30:25 PM Running production in window a000...\n",
      "2020-08-19 10:30:28 PM Running production in window a001...\n",
      "2020-08-19 10:30:31 PM Running production in window a002...\n",
      "2020-08-19 10:30:33 PM Running production in window a003...\n",
      "2020-08-19 10:30:36 PM Running production in window a004...\n",
      "2020-08-19 10:30:39 PM Running production in window a005...\n",
      "2020-08-19 10:30:42 PM Running production in window a006...\n",
      "2020-08-19 10:30:45 PM Running production in window a007...\n",
      "2020-08-19 10:30:47 PM Running production in window a008...\n",
      "2020-08-19 10:30:50 PM Running production in window a009...\n",
      "2020-08-19 10:30:53 PM Running production in window a010...\n",
      "2020-08-19 10:30:56 PM Running production in window a011...\n",
      "2020-08-19 10:30:59 PM Running production in window a012...\n",
      "2020-08-19 10:31:01 PM Running production in window a013...\n",
      "2020-08-19 10:31:04 PM Running production in window p000...\n",
      "2020-08-19 10:31:07 PM Running production in window p001...\n",
      "2020-08-19 10:31:10 PM Running production in window p002...\n",
      "2020-08-19 10:31:13 PM Running production in window p003...\n",
      "2020-08-19 10:31:15 PM Running production in window p004...\n",
      "2020-08-19 10:31:18 PM Running production in window p005...\n",
      "2020-08-19 10:31:21 PM Running production in window p006...\n",
      "2020-08-19 10:31:24 PM Running production in window p007...\n",
      "2020-08-19 10:31:26 PM Running production in window p008...\n",
      "2020-08-19 10:31:29 PM Running production in window p009...\n",
      "2020-08-19 10:31:32 PM Running production in window p010...\n",
      "2020-08-19 10:31:35 PM Running production in window p011...\n",
      "2020-08-19 10:31:38 PM Running production in window p012...\n",
      "2020-08-19 10:31:40 PM Running production in window p013...\n",
      "2020-08-19 10:31:43 PM Running production in window p014...\n",
      "2020-08-19 10:31:46 PM Running production in window p015...\n",
      "2020-08-19 10:31:49 PM Running production in window p016...\n",
      "2020-08-19 10:31:52 PM Running production in window p017...\n"
     ]
    }
   ],
   "source": [
    "for window in window_list:\n",
    "    folder = os.path.join(work_dir, window)\n",
    "    logging.info(f\"Running production in window {window}...\")\n",
    "    \n",
    "    # Load XML and input coordinates\n",
    "    with open(os.path.join(folder, 'system.xml'), 'r') as file:\n",
    "        system = openmm.XmlSerializer.deserialize(file.read())\n",
    "    coords = app.PDBFile(os.path.join(folder, 'minimized.pdb'))\n",
    "    \n",
    "    # Integrator\n",
    "    integrator = openmm.LangevinIntegrator(300 * unit.kelvin, 1.0 / unit.picoseconds, 1.0 * unit.femtoseconds)\n",
    "\n",
    "    # Reporters\n",
    "    dcd_reporter = app.DCDReporter(os.path.join(folder, 'production.dcd'), 500)\n",
    "    state_reporter = app.StateDataReporter(\n",
    "        os.path.join(folder, 'production.log'),\n",
    "        500,\n",
    "        step=True,\n",
    "        kineticEnergy=True,\n",
    "        potentialEnergy=True,\n",
    "        totalEnergy=True,\n",
    "        temperature=True,\n",
    "    )\n",
    "    \n",
    "    # Simulation Object\n",
    "    simulation = app.Simulation(coords.topology, system, integrator)\n",
    "    simulation.context.setPositions(coords.positions)\n",
    "    simulation.reporters.append(dcd_reporter)\n",
    "    simulation.reporters.append(state_reporter)\n",
    "    \n",
    "    # MD steps\n",
    "    simulation.step(50000)\n",
    "    \n",
    "    # Save final coordinates\n",
    "    positions = simulation.context.getState(getPositions=True).getPositions()\n",
    "    with open(os.path.join(folder, 'production.pdb'), 'w') as file:\n",
    "        app.PDBFile.writeFile(simulation.topology, positions, file, keepIds=True)"
   ]
  },
  {
   "cell_type": "markdown",
   "metadata": {},
   "source": [
    "## Analysis"
   ]
  },
  {
   "cell_type": "markdown",
   "metadata": {},
   "source": [
    "Once the simulation is completed, we can using the `analysis` module to determine the binding free energy. We supply the location of the parameter information, a string or list for the file names (wildcards supported), the location of the windows, and the restraints on the guest.\n",
    "\n",
    "In this example, we use the method `ti-block` which determines the free energy using **t**hermodynamic **i**integration and then estimates the standard error of the mean at each data point using blocking analysis. Bootstrapping it used to determine the uncertainty of the  full thermodynamic integral for each phase.\n",
    "\n",
    "After running `compute_free_energy()`, a dictionary called `results` will be populated, that contains the free energy and SEM for each phase of the simulation."
   ]
  },
  {
   "cell_type": "code",
   "execution_count": 27,
   "metadata": {},
   "outputs": [],
   "source": [
    "import paprika.analysis as analysis"
   ]
  },
  {
   "cell_type": "code",
   "execution_count": 28,
   "metadata": {},
   "outputs": [],
   "source": [
    "free_energy = analysis.fe_calc()\n",
    "free_energy.topology = \"system.pdb\"\n",
    "free_energy.trajectory = \"production.dcd\"\n",
    "free_energy.path = work_dir\n",
    "free_energy.restraint_list = guest_restraints\n",
    "free_energy.collect_data()\n",
    "free_energy.methods = ['ti-block']\n",
    "free_energy.ti_matrix = \"diagonal\"\n",
    "free_energy.boot_cycles = 1000\n",
    "free_energy.compute_free_energy()"
   ]
  },
  {
   "cell_type": "code",
   "execution_count": 29,
   "metadata": {},
   "outputs": [],
   "source": [
    "free_energy.compute_ref_state_work([\n",
    "    guest_restraints[0], guest_restraints[1], None, None,\n",
    "    guest_restraints[2], None\n",
    "])\n",
    "\n",
    "binding_affinity = -1 * (\n",
    "    free_energy.results[\"attach\"][\"ti-block\"][\"fe\"] + \\\n",
    "    free_energy.results[\"pull\"][\"ti-block\"][\"fe\"] + \\\n",
    "    free_energy.results[\"ref_state_work\"]\n",
    ")\n",
    "\n",
    "sem = np.sqrt(\n",
    "    free_energy.results[\"attach\"][\"ti-block\"][\"sem\"]**2 + \\\n",
    "    free_energy.results[\"pull\"][\"ti-block\"][\"sem\"]**2\n",
    ")"
   ]
  },
  {
   "cell_type": "code",
   "execution_count": 30,
   "metadata": {},
   "outputs": [
    {
     "name": "stdout",
     "output_type": "stream",
     "text": [
      "The binding affinity of butane to cucurbit[6]uril = -8.96 +/- 1.14 kcal/mol\n"
     ]
    }
   ],
   "source": [
    "print(f\"The binding affinity of butane to cucurbit[6]uril = {binding_affinity.magnitude:0.2f} +/- {sem.magnitude:0.2f} kcal/mol\")"
   ]
  },
  {
   "cell_type": "markdown",
   "metadata": {
    "pycharm": {
     "name": "#%% md\n"
    }
   },
   "source": [
    "The value above is very close to the value obtained from running the APR calculations with [Amber](01-tutorial-cb6-but.ipynb#results). "
   ]
  }
 ],
 "metadata": {
  "kernelspec": {
   "display_name": "Python 3",
   "language": "python",
   "name": "python3"
  },
  "language_info": {
   "codemirror_mode": {
    "name": "ipython",
    "version": 3
   },
   "file_extension": ".py",
   "mimetype": "text/x-python",
   "name": "python",
   "nbconvert_exporter": "python",
   "pygments_lexer": "ipython3",
   "version": "3.7.8"
  },
  "pycharm": {
   "stem_cell": {
    "cell_type": "raw",
    "metadata": {
     "collapsed": false
    },
    "source": []
   }
  }
 },
 "nbformat": 4,
 "nbformat_minor": 4
}
