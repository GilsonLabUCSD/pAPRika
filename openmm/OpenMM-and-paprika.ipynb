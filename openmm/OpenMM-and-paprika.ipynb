{
 "cells": [
  {
   "cell_type": "code",
   "execution_count": 1,
   "metadata": {
    "ExecuteTime": {
     "end_time": "2017-11-15T14:47:05.747896Z",
     "start_time": "2017-11-15T14:47:05.703848Z"
    },
    "collapsed": true
   },
   "outputs": [],
   "source": [
    "%load_ext autoreload\n",
    "%autoreload 2"
   ]
  },
  {
   "cell_type": "code",
   "execution_count": 2,
   "metadata": {
    "ExecuteTime": {
     "end_time": "2017-11-15T14:47:07.084592Z",
     "start_time": "2017-11-15T14:47:06.518247Z"
    },
    "collapsed": true
   },
   "outputs": [],
   "source": [
    "import numpy as np\n",
    "import os"
   ]
  },
  {
   "cell_type": "code",
   "execution_count": 3,
   "metadata": {
    "ExecuteTime": {
     "end_time": "2017-11-15T14:47:11.489412Z",
     "start_time": "2017-11-15T14:47:07.537346Z"
    },
    "collapsed": true
   },
   "outputs": [],
   "source": [
    "import mdtraj as md\n",
    "import parmed as pmd"
   ]
  },
  {
   "cell_type": "code",
   "execution_count": 4,
   "metadata": {
    "ExecuteTime": {
     "end_time": "2017-11-15T14:47:12.244844Z",
     "start_time": "2017-11-15T14:47:12.224886Z"
    },
    "collapsed": true
   },
   "outputs": [],
   "source": [
    "# OpenMM Imports\n",
    "import simtk.openmm as mm\n",
    "import simtk.openmm.app as app\n",
    "import simtk.unit as u"
   ]
  },
  {
   "cell_type": "code",
   "execution_count": 5,
   "metadata": {
    "ExecuteTime": {
     "end_time": "2017-11-15T14:47:13.376115Z",
     "start_time": "2017-11-15T14:47:13.359330Z"
    },
    "collapsed": true
   },
   "outputs": [],
   "source": [
    "from parmed import load_file, unit as u\n",
    "from parmed.openmm import StateDataReporter, NetCDFReporter"
   ]
  },
  {
   "cell_type": "code",
   "execution_count": 6,
   "metadata": {
    "ExecuteTime": {
     "end_time": "2017-11-15T14:47:16.134329Z",
     "start_time": "2017-11-15T14:47:15.639579Z"
    }
   },
   "outputs": [
    {
     "name": "stderr",
     "output_type": "stream",
     "text": [
      "2017-11-15 02:47:16 PM OpenMM support: Yes\n"
     ]
    }
   ],
   "source": [
    "from paprika import align, restraints, simulate, utils"
   ]
  },
  {
   "cell_type": "markdown",
   "metadata": {},
   "source": [
    "# Manual OpenMM run through..."
   ]
  },
  {
   "cell_type": "markdown",
   "metadata": {},
   "source": [
    "## System setup (standard OpenMM code)"
   ]
  },
  {
   "cell_type": "code",
   "execution_count": 32,
   "metadata": {
    "ExecuteTime": {
     "end_time": "2017-11-14T17:12:59.412207Z",
     "start_time": "2017-11-14T17:12:59.176423Z"
    }
   },
   "outputs": [
    {
     "name": "stdout",
     "output_type": "stream",
     "text": [
      "Creating OpenMM System\n"
     ]
    }
   ],
   "source": [
    "print('Creating OpenMM System')\n",
    "cb6_but = load_file('../test/cb6-but/vac.topo', '../test/cb6-but/vac.crds')\n",
    "system = cb6_but.createSystem(nonbondedMethod=app.NoCutoff,\n",
    "                               constraints=app.HBonds, implicitSolvent=app.GBn2,\n",
    "                               implicitSolventSaltConc=0.1*u.moles/u.liter,\n",
    ")\n",
    "\n",
    "# Create the integrator to do Langevin dynamics\n",
    "integrator = mm.LangevinIntegrator(\n",
    "                        300*u.kelvin,       # Temperature of heat bath\n",
    "                        1.0/u.picoseconds,  # Friction coefficient\n",
    "                        2.0*u.femtoseconds, # Time step\n",
    ")\n",
    "\n",
    "# Define the platform to use; CUDA, OpenCL, CPU, or Reference. Or do not specify\n",
    "# the platform to use the default (fastest) platform\n",
    "platform = mm.Platform.getPlatformByName('CUDA')\n",
    "prop = dict(CudaPrecision='mixed') # Use mixed single/double precision\n",
    "\n",
    "# Create the Simulation object\n",
    "sim = app.Simulation(cb6_but.topology, system, integrator, platform, prop)\n",
    "\n",
    "# Set the particle positions\n",
    "sim.context.setPositions(cb6_but.positions)"
   ]
  },
  {
   "cell_type": "markdown",
   "metadata": {},
   "source": [
    "## Minimize"
   ]
  },
  {
   "cell_type": "code",
   "execution_count": 15,
   "metadata": {
    "ExecuteTime": {
     "end_time": "2017-11-14T17:06:43.805655Z",
     "start_time": "2017-11-14T17:06:43.721947Z"
    }
   },
   "outputs": [
    {
     "name": "stdout",
     "output_type": "stream",
     "text": [
      "Minimizing energy\n"
     ]
    }
   ],
   "source": [
    "# Minimize the energy\n",
    "print('Minimizing energy')\n",
    "sim.minimizeEnergy(maxIterations=500)"
   ]
  },
  {
   "cell_type": "code",
   "execution_count": 16,
   "metadata": {
    "ExecuteTime": {
     "end_time": "2017-11-14T17:06:44.252579Z",
     "start_time": "2017-11-14T17:06:44.233606Z"
    }
   },
   "outputs": [
    {
     "name": "stdout",
     "output_type": "stream",
     "text": [
      "-3489.7370789646575 kJ/mol\n"
     ]
    }
   ],
   "source": [
    "st = sim.context.getState(getPositions=True,getEnergy=True)\n",
    "print(st.getPotentialEnergy())"
   ]
  },
  {
   "cell_type": "code",
   "execution_count": 17,
   "metadata": {
    "ExecuteTime": {
     "end_time": "2017-11-14T17:06:45.656408Z",
     "start_time": "2017-11-14T17:06:45.633062Z"
    },
    "collapsed": true
   },
   "outputs": [],
   "source": [
    "sim.reporters.append(app.PDBReporter('minimized_structure.pdb', 1))\n",
    "sim.step(1)"
   ]
  },
  {
   "cell_type": "code",
   "execution_count": 24,
   "metadata": {
    "ExecuteTime": {
     "end_time": "2017-11-14T17:08:31.922511Z",
     "start_time": "2017-11-14T17:08:31.880274Z"
    }
   },
   "outputs": [
    {
     "name": "stdout",
     "output_type": "stream",
     "text": [
      "RMSD = 0.00492 A\n"
     ]
    }
   ],
   "source": [
    "starting = md.load('vac.pdb')\n",
    "final = md.load('minimized_structure.pdb')\n",
    "print('RMSD = {0:1.5f} A'.format(md.rmsd(starting, final)[0]))"
   ]
  },
  {
   "cell_type": "markdown",
   "metadata": {},
   "source": [
    "# OpenMM with single atom restratints (from pAPRika)"
   ]
  },
  {
   "cell_type": "code",
   "execution_count": 139,
   "metadata": {
    "ExecuteTime": {
     "end_time": "2017-11-15T17:16:16.219458Z",
     "start_time": "2017-11-15T17:16:16.057642Z"
    }
   },
   "outputs": [
    {
     "name": "stderr",
     "output_type": "stream",
     "text": [
      "2017-11-15 05:16:16 PM Calculating attach targets and force constants...\n",
      "2017-11-15 05:16:16 PM Method #3\n",
      "2017-11-15 05:16:16 PM Calculating pull targets and force constants...\n",
      "2017-11-15 05:16:16 PM Method #1\n",
      "2017-11-15 05:16:16 PM Calculating release targets and force constants...\n",
      "2017-11-15 05:16:16 PM Method #1\n",
      "2017-11-15 05:16:16 PM Number of attach windows = 5\n",
      "2017-11-15 05:16:16 PM Number of pull windows = 11\n",
      "2017-11-15 05:16:16 PM Number of release windows = 5\n",
      "2017-11-15 05:16:16 PM Assigning atom indices ...\n",
      "2017-11-15 05:16:16 PM Loaded vac.pdb...\n",
      "2017-11-15 05:16:16 PM There are 1 atoms in the mask :CB6@O  ...\n",
      "2017-11-15 05:16:16 PM Loaded vac.pdb...\n",
      "2017-11-15 05:16:16 PM There are 1 atoms in the mask :BUT@C3  ...\n"
     ]
    }
   ],
   "source": [
    "rest1 = restraints.DAT_restraint()\n",
    "rest1.continuous_apr = True\n",
    "rest1.structure_file = 'vac.pdb'\n",
    "rest1.mask1 = ':CB6@O'\n",
    "rest1.mask2 = ':BUT@C3'\n",
    "rest1.attach['target'] = 3.0\n",
    "rest1.attach['fraction_list'] = [0.00, 0.04, 0.181, 0.496, 1.000]\n",
    "rest1.attach['fc_final'] = 5.0\n",
    "rest1.pull['fc'] = rest1.attach['fc_final']\n",
    "rest1.pull['target_initial'] = rest1.attach['target']\n",
    "rest1.pull['target_final'] = 10.0\n",
    "rest1.pull['num_windows'] = 11\n",
    "rest1.release['target'] = rest1.pull['target_final']\n",
    "rest1.release['num_windows'] = len(rest1.attach['fraction_list'])\n",
    "rest1.release['fc_initial'] = rest1.attach['fc_final']\n",
    "rest1.release['fc_final'] = rest1.attach['fc_final']\n",
    "rest1.initialize()"
   ]
  },
  {
   "cell_type": "code",
   "execution_count": 140,
   "metadata": {
    "ExecuteTime": {
     "end_time": "2017-11-15T17:16:16.607880Z",
     "start_time": "2017-11-15T17:16:16.535045Z"
    }
   },
   "outputs": [
    {
     "name": "stdout",
     "output_type": "stream",
     "text": [
      "Creating OpenMM System\n"
     ]
    }
   ],
   "source": [
    "print('Creating OpenMM System')\n",
    "cb6_but = load_file('../test/cb6-but/vac.topo', '../test/cb6-but/vac.crds')\n",
    "system = cb6_but.createSystem(nonbondedMethod=app.NoCutoff,\n",
    "                               constraints=app.HBonds, implicitSolvent=app.GBn2,\n",
    "                               implicitSolventSaltConc=0.1*u.moles/u.liter,\n",
    ")\n",
    "\n",
    "# Create the integrator to do Langevin dynamics\n",
    "integrator = mm.LangevinIntegrator(\n",
    "                        300*u.kelvin,       # Temperature of heat bath\n",
    "                        1.0/u.picoseconds,  # Friction coefficient\n",
    "                        2.0*u.femtoseconds, # Time step\n",
    ")\n",
    "\n",
    "# Define the platform to use; CUDA, OpenCL, CPU, or Reference. Or do not specify\n",
    "# the platform to use the default (fastest) platform\n",
    "platform = mm.Platform.getPlatformByName('CUDA')\n",
    "prop = dict(CudaPrecision='mixed') "
   ]
  },
  {
   "cell_type": "code",
   "execution_count": 141,
   "metadata": {
    "ExecuteTime": {
     "end_time": "2017-11-15T17:16:17.515087Z",
     "start_time": "2017-11-15T17:16:17.192886Z"
    }
   },
   "outputs": [
    {
     "name": "stdout",
     "output_type": "stream",
     "text": [
      "Trying to move 13 and 119 to 10.0 A with force constant 5.0 kcal/mol/A**2\n",
      "10.0 A 2092.050209205021 kJ/(nm**2 mol)\n"
     ]
    }
   ],
   "source": [
    "phase = 'pull'\n",
    "window = 10\n",
    "\n",
    "print('Trying to move {} and {} to {} A with force constant {} kcal/mol/A**2'.format(\n",
    "    rest1.index1[0],\n",
    "    rest1.index2[0],\n",
    "    rest1.phase[phase]['targets'][window],\n",
    "    rest1.phase[phase]['force_constants'][window]))\n",
    "\n",
    "bond_restraint = mm.CustomBondForce('k * (r - r_0)^2')\n",
    "bond_restraint.addPerBondParameter('k')\n",
    "bond_restraint.addPerBondParameter('r_0')\n",
    "\n",
    "r_0 = rest1.phase[phase]['targets'][window] * 0.1 * u.nanometers\n",
    "k  = rest1.phase[phase]['force_constants'][window] / 0.239 / 0.01 * u.kilojoules_per_mole/u.nanometers**2\n",
    "\n",
    "print(r0, k)\n",
    "\n",
    "bond_restraint.addBond(rest1.index1[0], rest1.index2[0],\n",
    "                       [r_0, k])\n",
    "\n",
    "system.addForce(bond_restraint)\n",
    "\n",
    "# Create the Simulation object\n",
    "sim = app.Simulation(cb6_but.topology, system, integrator, platform, prop)\n",
    "\n",
    "# Set the particle positions\n",
    "sim.context.setPositions(cb6_but.positions)"
   ]
  },
  {
   "cell_type": "code",
   "execution_count": 142,
   "metadata": {
    "ExecuteTime": {
     "end_time": "2017-11-15T17:16:18.967802Z",
     "start_time": "2017-11-15T17:16:18.472946Z"
    }
   },
   "outputs": [
    {
     "name": "stdout",
     "output_type": "stream",
     "text": [
      "Minimizing energy\n"
     ]
    }
   ],
   "source": [
    "# Minimize the energy\n",
    "print('Minimizing energy')\n",
    "sim.minimizeEnergy(maxIterations=500)"
   ]
  },
  {
   "cell_type": "code",
   "execution_count": 143,
   "metadata": {
    "ExecuteTime": {
     "end_time": "2017-11-15T17:16:20.047914Z",
     "start_time": "2017-11-15T17:16:20.010033Z"
    }
   },
   "outputs": [],
   "source": [
    "positions = sim.context.getState(getPositions=True).getPositions()\n",
    "app.PDBFile.writeFile(sim.topology, positions, open('minimized_with_restraint.pdb', 'w'))"
   ]
  },
  {
   "cell_type": "markdown",
   "metadata": {},
   "source": [
    "# OpenMM with a group restratint (from pAPRika)"
   ]
  },
  {
   "cell_type": "code",
   "execution_count": 69,
   "metadata": {
    "ExecuteTime": {
     "end_time": "2017-11-15T16:39:24.302230Z",
     "start_time": "2017-11-15T16:39:24.114259Z"
    }
   },
   "outputs": [
    {
     "name": "stderr",
     "output_type": "stream",
     "text": [
      "2017-11-15 04:39:24 PM Calculating attach targets and force constants...\n",
      "2017-11-15 04:39:24 PM Method #3\n",
      "2017-11-15 04:39:24 PM Calculating pull targets and force constants...\n",
      "2017-11-15 04:39:24 PM Method #1\n",
      "2017-11-15 04:39:24 PM Calculating release targets and force constants...\n",
      "2017-11-15 04:39:24 PM Method #1\n",
      "2017-11-15 04:39:24 PM Number of attach windows = 5\n",
      "2017-11-15 04:39:24 PM Number of pull windows = 11\n",
      "2017-11-15 04:39:24 PM Number of release windows = 5\n",
      "2017-11-15 04:39:24 PM Assigning atom indices ...\n",
      "2017-11-15 04:39:24 PM Loaded vac.pdb...\n",
      "2017-11-15 04:39:24 PM There are 1 atoms in the mask :CB6@O  ...\n",
      "2017-11-15 04:39:24 PM Loaded vac.pdb...\n",
      "2017-11-15 04:39:24 PM There are 4 atoms in the mask :BUT@C*  ...\n"
     ]
    }
   ],
   "source": [
    "rest1 = restraints.DAT_restraint()\n",
    "rest1.continuous_apr = True\n",
    "rest1.structure_file = 'vac.pdb'\n",
    "rest1.mask1 = ':CB6@O'\n",
    "rest1.mask2 = ':BUT@C*'\n",
    "rest1.attach['target'] = 3.0\n",
    "rest1.attach['fraction_list'] = [0.00, 0.04, 0.181, 0.496, 1.000]\n",
    "rest1.attach['fc_final'] = 5.0\n",
    "rest1.pull['fc'] = rest1.attach['fc_final']\n",
    "rest1.pull['target_initial'] = rest1.attach['target']\n",
    "rest1.pull['target_final'] = 10.0\n",
    "rest1.pull['num_windows'] = 11\n",
    "rest1.release['target'] = rest1.pull['target_final']\n",
    "rest1.release['num_windows'] = len(rest1.attach['fraction_list'])\n",
    "rest1.release['fc_initial'] = rest1.attach['fc_final']\n",
    "rest1.release['fc_final'] = rest1.attach['fc_final']\n",
    "rest1.initialize()"
   ]
  },
  {
   "cell_type": "code",
   "execution_count": 70,
   "metadata": {
    "ExecuteTime": {
     "end_time": "2017-11-15T16:39:24.375910Z",
     "start_time": "2017-11-15T16:39:24.303648Z"
    }
   },
   "outputs": [
    {
     "name": "stdout",
     "output_type": "stream",
     "text": [
      "Creating OpenMM System\n"
     ]
    }
   ],
   "source": [
    "print('Creating OpenMM System')\n",
    "cb6_but = load_file('../test/cb6-but/vac.topo', '../test/cb6-but/vac.crds')\n",
    "system = cb6_but.createSystem(nonbondedMethod=app.NoCutoff,\n",
    "                               constraints=app.HBonds, implicitSolvent=app.GBn2,\n",
    "                               implicitSolventSaltConc=0.1*u.moles/u.liter,\n",
    ")\n",
    "\n",
    "integrator = mm.LangevinIntegrator(\n",
    "                        300*u.kelvin,       # Temperature of heat bath\n",
    "                        1.0/u.picoseconds,  # Friction coefficient\n",
    "                        2.0*u.femtoseconds, # Time step\n",
    ")\n",
    "\n",
    "platform = mm.Platform.getPlatformByName('CUDA')\n",
    "prop = dict(CudaPrecision='mixed') "
   ]
  },
  {
   "cell_type": "code",
   "execution_count": 71,
   "metadata": {
    "ExecuteTime": {
     "end_time": "2017-11-15T16:39:24.560689Z",
     "start_time": "2017-11-15T16:39:24.451884Z"
    }
   },
   "outputs": [
    {
     "name": "stdout",
     "output_type": "stream",
     "text": [
      "Trying to move 13 and [109, 113, 115, 119] to 10.0 A with force constant 5.0 kcal/mol/A**2\n"
     ]
    }
   ],
   "source": [
    "phase = 'pull'\n",
    "window = 10\n",
    "\n",
    "print('Trying to move {} and {} to {} A with force constant {} kcal/mol/A**2'.format(\n",
    "    rest1.index1[0],\n",
    "    rest1.index2,\n",
    "    rest1.phase[phase]['targets'][window],\n",
    "    rest1.phase[phase]['force_constants'][window]))"
   ]
  },
  {
   "cell_type": "code",
   "execution_count": 72,
   "metadata": {
    "ExecuteTime": {
     "end_time": "2017-11-15T16:39:25.630128Z",
     "start_time": "2017-11-15T16:39:24.707755Z"
    }
   },
   "outputs": [
    {
     "name": "stdout",
     "output_type": "stream",
     "text": [
      "10.0 A 5.0 kcal/(A**2 mol)\n",
      "[13] [109, 113, 115, 119]\n",
      "0 1\n"
     ]
    }
   ],
   "source": [
    "bond_restraint = mm.CustomCentroidBondForce(2, 'k * (distance(g1, g2) - r_0)^2')\n",
    "bond_restraint.addPerBondParameter('k')\n",
    "bond_restraint.addPerBondParameter('r_0')\n",
    "\n",
    "r_0 = rest1.phase[phase]['targets'][window] * u.angstroms\n",
    "k  = rest1.phase[phase]['force_constants'][window] * u.kilocalories_per_mole/u.angstroms**2\n",
    "\n",
    "print(r0, k)\n",
    "\n",
    "g1 = bond_restraint.addGroup(rest1.index1)\n",
    "g2 = bond_restraint.addGroup(rest1.index2)\n",
    "\n",
    "print(rest1.index1, rest1.index2)\n",
    "\n",
    "print(g1, g2)\n",
    "\n",
    "bond_restraint.addBond([g1, g2],\n",
    "                       [r_0, k])\n",
    "\n",
    "system.addForce(bond_restraint)\n",
    "\n",
    "# Create the Simulation object\n",
    "sim = app.Simulation(cb6_but.topology, system, integrator, platform, prop)\n",
    "\n",
    "# Set the particle positions\n",
    "sim.context.setPositions(cb6_but.positions)"
   ]
  },
  {
   "cell_type": "code",
   "execution_count": 73,
   "metadata": {
    "ExecuteTime": {
     "end_time": "2017-11-15T16:39:25.875543Z",
     "start_time": "2017-11-15T16:39:25.631669Z"
    }
   },
   "outputs": [
    {
     "name": "stdout",
     "output_type": "stream",
     "text": [
      "Minimizing energy\n"
     ]
    }
   ],
   "source": [
    "# Minimize the energy\n",
    "print('Minimizing energy')\n",
    "sim.minimizeEnergy(maxIterations=500)"
   ]
  },
  {
   "cell_type": "code",
   "execution_count": 74,
   "metadata": {
    "ExecuteTime": {
     "end_time": "2017-11-15T16:39:25.897238Z",
     "start_time": "2017-11-15T16:39:25.877256Z"
    }
   },
   "outputs": [
    {
     "name": "stdout",
     "output_type": "stream",
     "text": [
      "4372767.572448878 kJ/mol\n"
     ]
    }
   ],
   "source": [
    "st = sim.context.getState(getPositions=True,getEnergy=True)\n",
    "print(st.getPotentialEnergy())"
   ]
  },
  {
   "cell_type": "code",
   "execution_count": 75,
   "metadata": {
    "ExecuteTime": {
     "end_time": "2017-11-15T16:39:47.366167Z",
     "start_time": "2017-11-15T16:39:25.898631Z"
    },
    "collapsed": true
   },
   "outputs": [],
   "source": [
    "# sim.reporters.append(app.PDBReporter('minimized_with_com_restraint.pdb', 1))\n",
    "sim.reporters.append(app.DCDReporter('tmp.dcd', 1))\n",
    "sim.step(10000)"
   ]
  },
  {
   "cell_type": "code",
   "execution_count": 76,
   "metadata": {
    "ExecuteTime": {
     "end_time": "2017-11-15T16:39:47.948428Z",
     "start_time": "2017-11-15T16:39:47.367645Z"
    }
   },
   "outputs": [
    {
     "ename": "ValueError",
     "evalue": "PDB Error: All MODELs must contain the same number of ATOMs",
     "output_type": "error",
     "traceback": [
      "\u001b[0;31m---------------------------------------------------------------------------\u001b[0m",
      "\u001b[0;31mValueError\u001b[0m                                Traceback (most recent call last)",
      "\u001b[0;32m<ipython-input-76-d4755bba9a45>\u001b[0m in \u001b[0;36m<module>\u001b[0;34m()\u001b[0m\n\u001b[1;32m      1\u001b[0m \u001b[0mstarting\u001b[0m \u001b[0;34m=\u001b[0m \u001b[0mmd\u001b[0m\u001b[0;34m.\u001b[0m\u001b[0mload\u001b[0m\u001b[0;34m(\u001b[0m\u001b[0;34m'vac.pdb'\u001b[0m\u001b[0;34m)\u001b[0m\u001b[0;34m\u001b[0m\u001b[0m\n\u001b[0;32m----> 2\u001b[0;31m \u001b[0mfinal\u001b[0m \u001b[0;34m=\u001b[0m \u001b[0mmd\u001b[0m\u001b[0;34m.\u001b[0m\u001b[0mload\u001b[0m\u001b[0;34m(\u001b[0m\u001b[0;34m'minimized_with_com_restraint.pdb'\u001b[0m\u001b[0;34m)\u001b[0m\u001b[0;34m\u001b[0m\u001b[0m\n\u001b[0m\u001b[1;32m      3\u001b[0m \u001b[0mprint\u001b[0m\u001b[0;34m(\u001b[0m\u001b[0;34m'RMSD = {0:1.5f} A'\u001b[0m\u001b[0;34m.\u001b[0m\u001b[0mformat\u001b[0m\u001b[0;34m(\u001b[0m\u001b[0mmd\u001b[0m\u001b[0;34m.\u001b[0m\u001b[0mrmsd\u001b[0m\u001b[0;34m(\u001b[0m\u001b[0mstarting\u001b[0m\u001b[0;34m,\u001b[0m \u001b[0mfinal\u001b[0m\u001b[0;34m)\u001b[0m\u001b[0;34m[\u001b[0m\u001b[0;36m0\u001b[0m\u001b[0;34m]\u001b[0m\u001b[0;34m)\u001b[0m\u001b[0;34m)\u001b[0m\u001b[0;34m\u001b[0m\u001b[0m\n",
      "\u001b[0;32m/home/dslochower/data/applications/anaconda3/lib/python3.6/site-packages/mdtraj/core/trajectory.py\u001b[0m in \u001b[0;36mload\u001b[0;34m(filename_or_filenames, discard_overlapping_frames, **kwargs)\u001b[0m\n\u001b[1;32m    428\u001b[0m         \u001b[0m_assert_files_or_dirs_exist\u001b[0m\u001b[0;34m(\u001b[0m\u001b[0mfilename_or_filenames\u001b[0m\u001b[0;34m)\u001b[0m\u001b[0;34m\u001b[0m\u001b[0m\n\u001b[1;32m    429\u001b[0m \u001b[0;34m\u001b[0m\u001b[0m\n\u001b[0;32m--> 430\u001b[0;31m     \u001b[0mvalue\u001b[0m \u001b[0;34m=\u001b[0m \u001b[0mloader\u001b[0m\u001b[0;34m(\u001b[0m\u001b[0mfilename\u001b[0m\u001b[0;34m,\u001b[0m \u001b[0;34m**\u001b[0m\u001b[0mkwargs\u001b[0m\u001b[0;34m)\u001b[0m\u001b[0;34m\u001b[0m\u001b[0m\n\u001b[0m\u001b[1;32m    431\u001b[0m     \u001b[0;32mreturn\u001b[0m \u001b[0mvalue\u001b[0m\u001b[0;34m\u001b[0m\u001b[0m\n\u001b[1;32m    432\u001b[0m \u001b[0;34m\u001b[0m\u001b[0m\n",
      "\u001b[0;32m/home/dslochower/data/applications/anaconda3/lib/python3.6/site-packages/mdtraj/formats/pdb/pdbfile.py\u001b[0m in \u001b[0;36mload_pdb\u001b[0;34m(filename, stride, atom_indices, frame, no_boxchk, standard_names)\u001b[0m\n\u001b[1;32m    151\u001b[0m \u001b[0;34m\u001b[0m\u001b[0m\n\u001b[1;32m    152\u001b[0m     \u001b[0mfilename\u001b[0m \u001b[0;34m=\u001b[0m \u001b[0mstr\u001b[0m\u001b[0;34m(\u001b[0m\u001b[0mfilename\u001b[0m\u001b[0;34m)\u001b[0m\u001b[0;34m\u001b[0m\u001b[0m\n\u001b[0;32m--> 153\u001b[0;31m     \u001b[0;32mwith\u001b[0m \u001b[0mPDBTrajectoryFile\u001b[0m\u001b[0;34m(\u001b[0m\u001b[0mfilename\u001b[0m\u001b[0;34m,\u001b[0m \u001b[0mstandard_names\u001b[0m\u001b[0;34m=\u001b[0m\u001b[0mstandard_names\u001b[0m\u001b[0;34m)\u001b[0m \u001b[0;32mas\u001b[0m \u001b[0mf\u001b[0m\u001b[0;34m:\u001b[0m\u001b[0;34m\u001b[0m\u001b[0m\n\u001b[0m\u001b[1;32m    154\u001b[0m         \u001b[0matom_slice\u001b[0m \u001b[0;34m=\u001b[0m \u001b[0mslice\u001b[0m\u001b[0;34m(\u001b[0m\u001b[0;32mNone\u001b[0m\u001b[0;34m)\u001b[0m \u001b[0;32mif\u001b[0m \u001b[0matom_indices\u001b[0m \u001b[0;32mis\u001b[0m \u001b[0;32mNone\u001b[0m \u001b[0;32melse\u001b[0m \u001b[0matom_indices\u001b[0m\u001b[0;34m\u001b[0m\u001b[0m\n\u001b[1;32m    155\u001b[0m         \u001b[0;32mif\u001b[0m \u001b[0mframe\u001b[0m \u001b[0;32mis\u001b[0m \u001b[0;32mnot\u001b[0m \u001b[0;32mNone\u001b[0m\u001b[0;34m:\u001b[0m\u001b[0;34m\u001b[0m\u001b[0m\n",
      "\u001b[0;32m/home/dslochower/data/applications/anaconda3/lib/python3.6/site-packages/mdtraj/formats/pdb/pdbfile.py\u001b[0m in \u001b[0;36m__init__\u001b[0;34m(self, filename, mode, force_overwrite, standard_names)\u001b[0m\n\u001b[1;32m    267\u001b[0m                 \u001b[0mself\u001b[0m\u001b[0;34m.\u001b[0m\u001b[0m_file\u001b[0m \u001b[0;34m=\u001b[0m \u001b[0mopen_maybe_zipped\u001b[0m\u001b[0;34m(\u001b[0m\u001b[0mfilename\u001b[0m\u001b[0;34m,\u001b[0m \u001b[0;34m'r'\u001b[0m\u001b[0;34m)\u001b[0m\u001b[0;34m\u001b[0m\u001b[0m\n\u001b[1;32m    268\u001b[0m \u001b[0;34m\u001b[0m\u001b[0m\n\u001b[0;32m--> 269\u001b[0;31m             \u001b[0mself\u001b[0m\u001b[0;34m.\u001b[0m\u001b[0m_read_models\u001b[0m\u001b[0;34m(\u001b[0m\u001b[0;34m)\u001b[0m\u001b[0;34m\u001b[0m\u001b[0m\n\u001b[0m\u001b[1;32m    270\u001b[0m         \u001b[0;32melif\u001b[0m \u001b[0mmode\u001b[0m \u001b[0;34m==\u001b[0m \u001b[0;34m'w'\u001b[0m\u001b[0;34m:\u001b[0m\u001b[0;34m\u001b[0m\u001b[0m\n\u001b[1;32m    271\u001b[0m             \u001b[0mself\u001b[0m\u001b[0;34m.\u001b[0m\u001b[0m_header_written\u001b[0m \u001b[0;34m=\u001b[0m \u001b[0;32mFalse\u001b[0m\u001b[0;34m\u001b[0m\u001b[0m\n",
      "\u001b[0;32m/home/dslochower/data/applications/anaconda3/lib/python3.6/site-packages/mdtraj/formats/pdb/pdbfile.py\u001b[0m in \u001b[0;36m_read_models\u001b[0;34m(self)\u001b[0m\n\u001b[1;32m    547\u001b[0m \u001b[0;34m\u001b[0m\u001b[0m\n\u001b[1;32m    548\u001b[0m         \u001b[0;32mif\u001b[0m \u001b[0;32mnot\u001b[0m \u001b[0mall\u001b[0m\u001b[0;34m(\u001b[0m\u001b[0mlen\u001b[0m\u001b[0;34m(\u001b[0m\u001b[0mf\u001b[0m\u001b[0;34m)\u001b[0m \u001b[0;34m==\u001b[0m \u001b[0mlen\u001b[0m\u001b[0;34m(\u001b[0m\u001b[0m_positions\u001b[0m\u001b[0;34m[\u001b[0m\u001b[0;36m0\u001b[0m\u001b[0;34m]\u001b[0m\u001b[0;34m)\u001b[0m \u001b[0;32mfor\u001b[0m \u001b[0mf\u001b[0m \u001b[0;32min\u001b[0m \u001b[0m_positions\u001b[0m\u001b[0;34m)\u001b[0m\u001b[0;34m:\u001b[0m\u001b[0;34m\u001b[0m\u001b[0m\n\u001b[0;32m--> 549\u001b[0;31m             \u001b[0;32mraise\u001b[0m \u001b[0mValueError\u001b[0m\u001b[0;34m(\u001b[0m\u001b[0;34m'PDB Error: All MODELs must contain the same number of ATOMs'\u001b[0m\u001b[0;34m)\u001b[0m\u001b[0;34m\u001b[0m\u001b[0m\n\u001b[0m\u001b[1;32m    550\u001b[0m \u001b[0;34m\u001b[0m\u001b[0m\n\u001b[1;32m    551\u001b[0m         \u001b[0mself\u001b[0m\u001b[0;34m.\u001b[0m\u001b[0m_positions\u001b[0m \u001b[0;34m=\u001b[0m \u001b[0mnp\u001b[0m\u001b[0;34m.\u001b[0m\u001b[0marray\u001b[0m\u001b[0;34m(\u001b[0m\u001b[0m_positions\u001b[0m\u001b[0;34m)\u001b[0m\u001b[0;34m\u001b[0m\u001b[0m\n",
      "\u001b[0;31mValueError\u001b[0m: PDB Error: All MODELs must contain the same number of ATOMs"
     ]
    }
   ],
   "source": [
    "starting = md.load('vac.pdb')\n",
    "final = md.load('minimized_with_com_restraint.pdb')\n",
    "print('RMSD = {0:1.5f} A'.format(md.rmsd(starting, final)[0]))"
   ]
  },
  {
   "cell_type": "code",
   "execution_count": null,
   "metadata": {
    "collapsed": true
   },
   "outputs": [],
   "source": []
  },
  {
   "cell_type": "code",
   "execution_count": null,
   "metadata": {
    "collapsed": true
   },
   "outputs": [],
   "source": []
  }
 ],
 "metadata": {
  "kernelspec": {
   "display_name": "Python 3",
   "language": "python",
   "name": "python3"
  },
  "language_info": {
   "codemirror_mode": {
    "name": "ipython",
    "version": 3
   },
   "file_extension": ".py",
   "mimetype": "text/x-python",
   "name": "python",
   "nbconvert_exporter": "python",
   "pygments_lexer": "ipython3",
   "version": "3.6.0"
  }
 },
 "nbformat": 4,
 "nbformat_minor": 2
}
