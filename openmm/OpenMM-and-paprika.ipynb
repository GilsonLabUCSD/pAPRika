{
 "cells": [
  {
   "cell_type": "code",
   "execution_count": 1,
   "metadata": {
    "ExecuteTime": {
     "end_time": "2017-11-15T14:47:05.747896Z",
     "start_time": "2017-11-15T14:47:05.703848Z"
    },
    "collapsed": true
   },
   "outputs": [],
   "source": [
    "%load_ext autoreload\n",
    "%autoreload 2"
   ]
  },
  {
   "cell_type": "code",
   "execution_count": 2,
   "metadata": {
    "ExecuteTime": {
     "end_time": "2017-11-15T14:47:07.084592Z",
     "start_time": "2017-11-15T14:47:06.518247Z"
    },
    "collapsed": true
   },
   "outputs": [],
   "source": [
    "import numpy as np\n",
    "import os"
   ]
  },
  {
   "cell_type": "code",
   "execution_count": 3,
   "metadata": {
    "ExecuteTime": {
     "end_time": "2017-11-15T14:47:11.489412Z",
     "start_time": "2017-11-15T14:47:07.537346Z"
    },
    "collapsed": true
   },
   "outputs": [],
   "source": [
    "import mdtraj as md\n",
    "import parmed as pmd"
   ]
  },
  {
   "cell_type": "code",
   "execution_count": 4,
   "metadata": {
    "ExecuteTime": {
     "end_time": "2017-11-15T14:47:12.244844Z",
     "start_time": "2017-11-15T14:47:12.224886Z"
    },
    "collapsed": true
   },
   "outputs": [],
   "source": [
    "# OpenMM Imports\n",
    "import simtk.openmm as mm\n",
    "import simtk.openmm.app as app\n",
    "import simtk.unit as u"
   ]
  },
  {
   "cell_type": "code",
   "execution_count": 5,
   "metadata": {
    "ExecuteTime": {
     "end_time": "2017-11-15T14:47:13.376115Z",
     "start_time": "2017-11-15T14:47:13.359330Z"
    },
    "collapsed": true
   },
   "outputs": [],
   "source": [
    "from parmed import load_file, unit as u\n",
    "from parmed.openmm import StateDataReporter, NetCDFReporter"
   ]
  },
  {
   "cell_type": "code",
   "execution_count": 6,
   "metadata": {
    "ExecuteTime": {
     "end_time": "2017-11-15T14:47:16.134329Z",
     "start_time": "2017-11-15T14:47:15.639579Z"
    }
   },
   "outputs": [
    {
     "name": "stderr",
     "output_type": "stream",
     "text": [
      "2017-11-15 02:47:16 PM OpenMM support: Yes\n"
     ]
    }
   ],
   "source": [
    "from paprika import align, restraints, simulate, utils"
   ]
  },
  {
   "cell_type": "markdown",
   "metadata": {},
   "source": [
    "# Manual OpenMM run through..."
   ]
  },
  {
   "cell_type": "markdown",
   "metadata": {},
   "source": [
    "## System setup (standard OpenMM code)"
   ]
  },
  {
   "cell_type": "code",
   "execution_count": 32,
   "metadata": {
    "ExecuteTime": {
     "end_time": "2017-11-14T17:12:59.412207Z",
     "start_time": "2017-11-14T17:12:59.176423Z"
    }
   },
   "outputs": [
    {
     "name": "stdout",
     "output_type": "stream",
     "text": [
      "Creating OpenMM System\n"
     ]
    }
   ],
   "source": [
    "print('Creating OpenMM System')\n",
    "cb6_but = load_file('../test/cb6-but/vac.topo', '../test/cb6-but/vac.crds')\n",
    "system = cb6_but.createSystem(nonbondedMethod=app.NoCutoff,\n",
    "                               constraints=app.HBonds, implicitSolvent=app.GBn2,\n",
    "                               implicitSolventSaltConc=0.1*u.moles/u.liter,\n",
    ")\n",
    "\n",
    "# Create the integrator to do Langevin dynamics\n",
    "integrator = mm.LangevinIntegrator(\n",
    "                        300*u.kelvin,       # Temperature of heat bath\n",
    "                        1.0/u.picoseconds,  # Friction coefficient\n",
    "                        2.0*u.femtoseconds, # Time step\n",
    ")\n",
    "\n",
    "# Define the platform to use; CUDA, OpenCL, CPU, or Reference. Or do not specify\n",
    "# the platform to use the default (fastest) platform\n",
    "platform = mm.Platform.getPlatformByName('CUDA')\n",
    "prop = dict(CudaPrecision='mixed') # Use mixed single/double precision\n",
    "\n",
    "# Create the Simulation object\n",
    "sim = app.Simulation(cb6_but.topology, system, integrator, platform, prop)\n",
    "\n",
    "# Set the particle positions\n",
    "sim.context.setPositions(cb6_but.positions)"
   ]
  },
  {
   "cell_type": "markdown",
   "metadata": {},
   "source": [
    "## Minimize"
   ]
  },
  {
   "cell_type": "code",
   "execution_count": 15,
   "metadata": {
    "ExecuteTime": {
     "end_time": "2017-11-14T17:06:43.805655Z",
     "start_time": "2017-11-14T17:06:43.721947Z"
    }
   },
   "outputs": [
    {
     "name": "stdout",
     "output_type": "stream",
     "text": [
      "Minimizing energy\n"
     ]
    }
   ],
   "source": [
    "# Minimize the energy\n",
    "print('Minimizing energy')\n",
    "sim.minimizeEnergy(maxIterations=500)"
   ]
  },
  {
   "cell_type": "code",
   "execution_count": 16,
   "metadata": {
    "ExecuteTime": {
     "end_time": "2017-11-14T17:06:44.252579Z",
     "start_time": "2017-11-14T17:06:44.233606Z"
    }
   },
   "outputs": [
    {
     "name": "stdout",
     "output_type": "stream",
     "text": [
      "-3489.7370789646575 kJ/mol\n"
     ]
    }
   ],
   "source": [
    "st = sim.context.getState(getPositions=True,getEnergy=True)\n",
    "print(st.getPotentialEnergy())"
   ]
  },
  {
   "cell_type": "code",
   "execution_count": 17,
   "metadata": {
    "ExecuteTime": {
     "end_time": "2017-11-14T17:06:45.656408Z",
     "start_time": "2017-11-14T17:06:45.633062Z"
    },
    "collapsed": true
   },
   "outputs": [],
   "source": [
    "sim.reporters.append(app.PDBReporter('minimized_structure.pdb', 1))\n",
    "sim.step(1)"
   ]
  },
  {
   "cell_type": "code",
   "execution_count": 24,
   "metadata": {
    "ExecuteTime": {
     "end_time": "2017-11-14T17:08:31.922511Z",
     "start_time": "2017-11-14T17:08:31.880274Z"
    }
   },
   "outputs": [
    {
     "name": "stdout",
     "output_type": "stream",
     "text": [
      "RMSD = 0.00492 A\n"
     ]
    }
   ],
   "source": [
    "starting = md.load('vac.pdb')\n",
    "final = md.load('minimized_structure.pdb')\n",
    "print('RMSD = {0:1.5f} A'.format(md.rmsd(starting, final)[0]))"
   ]
  },
  {
   "cell_type": "markdown",
   "metadata": {},
   "source": [
    "# OpenMM with single atom restratints (from pAPRika)"
   ]
  },
  {
   "cell_type": "code",
   "execution_count": 203,
   "metadata": {
    "ExecuteTime": {
     "end_time": "2017-11-16T10:42:52.670982Z",
     "start_time": "2017-11-16T10:42:52.339930Z"
    }
   },
   "outputs": [
    {
     "name": "stderr",
     "output_type": "stream",
     "text": [
      "2017-11-16 10:42:52 AM Calculating attach targets and force constants...\n",
      "2017-11-16 10:42:52 AM Method #3\n",
      "2017-11-16 10:42:52 AM Calculating pull targets and force constants...\n",
      "2017-11-16 10:42:52 AM Method #1\n",
      "2017-11-16 10:42:52 AM Calculating release targets and force constants...\n",
      "2017-11-16 10:42:52 AM Method #1\n",
      "2017-11-16 10:42:52 AM Number of attach windows = 5\n",
      "2017-11-16 10:42:52 AM Number of pull windows = 11\n",
      "2017-11-16 10:42:52 AM Number of release windows = 5\n",
      "2017-11-16 10:42:52 AM Assigning atom indices ...\n",
      "2017-11-16 10:42:52 AM Loaded vac.pdb...\n",
      "2017-11-16 10:42:52 AM There are 1 atoms in the mask :CB6@O  ...\n",
      "2017-11-16 10:42:52 AM Loaded vac.pdb...\n",
      "2017-11-16 10:42:52 AM There are 1 atoms in the mask :BUT@C3  ...\n"
     ]
    }
   ],
   "source": [
    "rest1 = restraints.DAT_restraint()\n",
    "rest1.continuous_apr = True\n",
    "rest1.structure_file = 'vac.pdb'\n",
    "rest1.mask1 = ':CB6@O'\n",
    "rest1.mask2 = ':BUT@C3'\n",
    "rest1.attach['target'] = 3.0\n",
    "rest1.attach['fraction_list'] = [0.00, 0.04, 0.181, 0.496, 1.000]\n",
    "rest1.attach['fc_final'] = 5.0\n",
    "rest1.pull['fc'] = rest1.attach['fc_final']\n",
    "rest1.pull['target_initial'] = rest1.attach['target']\n",
    "rest1.pull['target_final'] = 20.0\n",
    "rest1.pull['num_windows'] = 11\n",
    "rest1.release['target'] = rest1.pull['target_final']\n",
    "rest1.release['num_windows'] = len(rest1.attach['fraction_list'])\n",
    "rest1.release['fc_initial'] = rest1.attach['fc_final']\n",
    "rest1.release['fc_final'] = rest1.attach['fc_final']\n",
    "rest1.initialize()"
   ]
  },
  {
   "cell_type": "code",
   "execution_count": 204,
   "metadata": {
    "ExecuteTime": {
     "end_time": "2017-11-16T10:42:52.809759Z",
     "start_time": "2017-11-16T10:42:52.673448Z"
    }
   },
   "outputs": [
    {
     "name": "stdout",
     "output_type": "stream",
     "text": [
      "Creating OpenMM System\n"
     ]
    }
   ],
   "source": [
    "print('Creating OpenMM System')\n",
    "cb6_but = load_file('../test/cb6-but/vac.topo', '../test/cb6-but/vac.crds')\n",
    "system = cb6_but.createSystem(nonbondedMethod=app.NoCutoff,\n",
    "                               constraints=app.HBonds, implicitSolvent=app.GBn2,\n",
    "                               implicitSolventSaltConc=0.1*u.moles/u.liter,\n",
    ")\n",
    "\n",
    "# Create the integrator to do Langevin dynamics\n",
    "integrator = mm.LangevinIntegrator(\n",
    "                        300*u.kelvin,       # Temperature of heat bath\n",
    "                        1.0/u.picoseconds,  # Friction coefficient\n",
    "                        2.0*u.femtoseconds, # Time step\n",
    ")\n",
    "\n",
    "# Define the platform to use; CUDA, OpenCL, CPU, or Reference. Or do not specify\n",
    "# the platform to use the default (fastest) platform\n",
    "platform = mm.Platform.getPlatformByName('CUDA')\n",
    "prop = dict(CudaPrecision='mixed') "
   ]
  },
  {
   "cell_type": "code",
   "execution_count": 205,
   "metadata": {
    "ExecuteTime": {
     "end_time": "2017-11-16T10:42:53.511728Z",
     "start_time": "2017-11-16T10:42:52.812074Z"
    }
   },
   "outputs": [
    {
     "name": "stdout",
     "output_type": "stream",
     "text": [
      "Trying to move 13 and 119 to 20.0 A with force constant 5.0 kcal/mol/A**2\n",
      "2.0 nm 2092.050209205021 kJ/(nm**2 mol)\n"
     ]
    }
   ],
   "source": [
    "phase = 'pull'\n",
    "window = 10\n",
    "\n",
    "print('Trying to move {} and {} to {} A with force constant {} kcal/mol/A**2'.format(\n",
    "    rest1.index1[0],\n",
    "    rest1.index2[0],\n",
    "    rest1.phase[phase]['targets'][window],\n",
    "    rest1.phase[phase]['force_constants'][window]))\n",
    "\n",
    "bond_restraint = mm.CustomBondForce('k * (r - r_0)^2')\n",
    "bond_restraint.addPerBondParameter('k')\n",
    "bond_restraint.addPerBondParameter('r_0')\n",
    "\n",
    "r_0 = rest1.phase[phase]['targets'][window] * 0.1 * u.nanometers\n",
    "k  = rest1.phase[phase]['force_constants'][window] / 0.239 / 0.01 * u.kilojoules_per_mole/u.nanometers**2\n",
    "\n",
    "print(r_0, k)\n",
    "\n",
    "bond_restraint.addBond(rest1.index1[0], rest1.index2[0],\n",
    "                       [k, r_0])\n",
    "\n",
    "system.addForce(bond_restraint)\n",
    "\n",
    "# Create the Simulation object\n",
    "sim = app.Simulation(cb6_but.topology, system, integrator, platform, prop)\n",
    "\n",
    "# Set the particle positions\n",
    "sim.context.setPositions(cb6_but.positions)"
   ]
  },
  {
   "cell_type": "code",
   "execution_count": 206,
   "metadata": {
    "ExecuteTime": {
     "end_time": "2017-11-16T10:42:54.047462Z",
     "start_time": "2017-11-16T10:42:53.707209Z"
    }
   },
   "outputs": [
    {
     "name": "stdout",
     "output_type": "stream",
     "text": [
      "Minimizing energy\n"
     ]
    }
   ],
   "source": [
    "# Minimize the energy\n",
    "print('Minimizing energy')\n",
    "sim.minimizeEnergy(maxIterations=500)"
   ]
  },
  {
   "cell_type": "code",
   "execution_count": 207,
   "metadata": {
    "ExecuteTime": {
     "end_time": "2017-11-16T10:42:54.798501Z",
     "start_time": "2017-11-16T10:42:54.766859Z"
    }
   },
   "outputs": [],
   "source": [
    "positions = sim.context.getState(getPositions=True).getPositions()\n",
    "app.PDBFile.writeFile(sim.topology, positions, open('minimized_with_restraint.pdb', 'w'))"
   ]
  },
  {
   "cell_type": "markdown",
   "metadata": {},
   "source": [
    "# OpenMM with a group restratint (from pAPRika)"
   ]
  },
  {
   "cell_type": "code",
   "execution_count": 217,
   "metadata": {
    "ExecuteTime": {
     "end_time": "2017-11-16T10:45:29.492876Z",
     "start_time": "2017-11-16T10:45:29.314555Z"
    }
   },
   "outputs": [
    {
     "name": "stderr",
     "output_type": "stream",
     "text": [
      "2017-11-16 10:45:29 AM Calculating attach targets and force constants...\n",
      "2017-11-16 10:45:29 AM Method #3\n",
      "2017-11-16 10:45:29 AM Calculating pull targets and force constants...\n",
      "2017-11-16 10:45:29 AM Method #1\n",
      "2017-11-16 10:45:29 AM Calculating release targets and force constants...\n",
      "2017-11-16 10:45:29 AM Method #1\n",
      "2017-11-16 10:45:29 AM Number of attach windows = 5\n",
      "2017-11-16 10:45:29 AM Number of pull windows = 11\n",
      "2017-11-16 10:45:29 AM Number of release windows = 5\n",
      "2017-11-16 10:45:29 AM Assigning atom indices ...\n",
      "2017-11-16 10:45:29 AM Loaded vac.pdb...\n",
      "2017-11-16 10:45:29 AM There are 1 atoms in the mask :CB6@O  ...\n",
      "2017-11-16 10:45:29 AM Loaded vac.pdb...\n",
      "2017-11-16 10:45:29 AM There are 4 atoms in the mask :BUT@C*  ...\n"
     ]
    }
   ],
   "source": [
    "rest1 = restraints.DAT_restraint()\n",
    "rest1.continuous_apr = True\n",
    "rest1.structure_file = 'vac.pdb'\n",
    "rest1.mask1 = ':CB6@O'\n",
    "rest1.mask2 = ':BUT@C*'\n",
    "rest1.attach['target'] = 3.0\n",
    "rest1.attach['fraction_list'] = [0.00, 0.04, 0.181, 0.496, 1.000]\n",
    "rest1.attach['fc_final'] = 5.0\n",
    "rest1.pull['fc'] = rest1.attach['fc_final']\n",
    "rest1.pull['target_initial'] = rest1.attach['target']\n",
    "rest1.pull['target_final'] = 10.0\n",
    "rest1.pull['num_windows'] = 11\n",
    "rest1.release['target'] = rest1.pull['target_final']\n",
    "rest1.release['num_windows'] = len(rest1.attach['fraction_list'])\n",
    "rest1.release['fc_initial'] = rest1.attach['fc_final']\n",
    "rest1.release['fc_final'] = rest1.attach['fc_final']\n",
    "rest1.initialize()"
   ]
  },
  {
   "cell_type": "code",
   "execution_count": 223,
   "metadata": {
    "ExecuteTime": {
     "end_time": "2017-11-16T10:45:47.798569Z",
     "start_time": "2017-11-16T10:45:47.715562Z"
    }
   },
   "outputs": [
    {
     "name": "stdout",
     "output_type": "stream",
     "text": [
      "Creating OpenMM System\n"
     ]
    }
   ],
   "source": [
    "print('Creating OpenMM System')\n",
    "cb6_but = load_file('../test/cb6-but/vac.topo', '../test/cb6-but/vac.crds')\n",
    "system = cb6_but.createSystem(nonbondedMethod=app.NoCutoff,\n",
    "                               constraints=app.HBonds, implicitSolvent=app.GBn2,\n",
    "                               implicitSolventSaltConc=0.1*u.moles/u.liter,\n",
    ")\n",
    "\n",
    "integrator = mm.LangevinIntegrator(\n",
    "                        300*u.kelvin,       # Temperature of heat bath\n",
    "                        1.0/u.picoseconds,  # Friction coefficient\n",
    "                        2.0*u.femtoseconds, # Time step\n",
    ")\n",
    "\n",
    "platform = mm.Platform.getPlatformByName('CUDA')\n",
    "prop = dict(CudaPrecision='mixed') "
   ]
  },
  {
   "cell_type": "code",
   "execution_count": 224,
   "metadata": {
    "ExecuteTime": {
     "end_time": "2017-11-16T10:45:48.158920Z",
     "start_time": "2017-11-16T10:45:48.027842Z"
    }
   },
   "outputs": [
    {
     "name": "stdout",
     "output_type": "stream",
     "text": [
      "Trying to move 13 and [109, 113, 115, 119] to 10.0 A with force constant 5.0 kcal/mol/A**2\n"
     ]
    }
   ],
   "source": [
    "phase = 'pull'\n",
    "window = 10\n",
    "\n",
    "print('Trying to move {} and {} to {} A with force constant {} kcal/mol/A**2'.format(\n",
    "    rest1.index1[0],\n",
    "    rest1.index2,\n",
    "    rest1.phase[phase]['targets'][window],\n",
    "    rest1.phase[phase]['force_constants'][window]))"
   ]
  },
  {
   "cell_type": "code",
   "execution_count": 225,
   "metadata": {
    "ExecuteTime": {
     "end_time": "2017-11-16T10:45:48.779524Z",
     "start_time": "2017-11-16T10:45:48.235955Z"
    }
   },
   "outputs": [
    {
     "name": "stdout",
     "output_type": "stream",
     "text": [
      "10.0 A 5.0 kcal/(A**2 mol)\n",
      "[13] [109, 113, 115, 119]\n",
      "0 1\n"
     ]
    }
   ],
   "source": [
    "bond_restraint = mm.CustomCentroidBondForce(2, 'k * (distance(g1, g2) - r_0)^2')\n",
    "bond_restraint.addPerBondParameter('k')\n",
    "bond_restraint.addPerBondParameter('r_0')\n",
    "\n",
    "r_0 = rest1.phase[phase]['targets'][window] * u.angstroms\n",
    "k  = rest1.phase[phase]['force_constants'][window] * u.kilocalories_per_mole/u.angstroms**2\n",
    "\n",
    "print(r_0, k)\n",
    "\n",
    "g1 = bond_restraint.addGroup(rest1.index1)\n",
    "g2 = bond_restraint.addGroup(rest1.index2)\n",
    "\n",
    "print(rest1.index1, rest1.index2)\n",
    "\n",
    "print(g1, g2)\n",
    "\n",
    "bond_restraint.addBond([g1, g2],\n",
    "                       [k, r_0])\n",
    "\n",
    "system.addForce(bond_restraint)\n",
    "\n",
    "# Create the Simulation object\n",
    "sim = app.Simulation(cb6_but.topology, system, integrator, platform, prop)\n",
    "\n",
    "# Set the particle positions\n",
    "sim.context.setPositions(cb6_but.positions)"
   ]
  },
  {
   "cell_type": "code",
   "execution_count": 226,
   "metadata": {
    "ExecuteTime": {
     "end_time": "2017-11-16T10:45:49.357432Z",
     "start_time": "2017-11-16T10:45:48.782171Z"
    }
   },
   "outputs": [
    {
     "name": "stdout",
     "output_type": "stream",
     "text": [
      "Minimizing energy\n"
     ]
    }
   ],
   "source": [
    "# Minimize the energy\n",
    "print('Minimizing energy')\n",
    "sim.minimizeEnergy(maxIterations=500)"
   ]
  },
  {
   "cell_type": "code",
   "execution_count": 227,
   "metadata": {
    "ExecuteTime": {
     "end_time": "2017-11-16T10:45:50.188360Z",
     "start_time": "2017-11-16T10:45:50.144544Z"
    },
    "collapsed": true
   },
   "outputs": [],
   "source": [
    "positions = sim.context.getState(getPositions=True).getPositions()\n",
    "app.PDBFile.writeFile(sim.topology, positions, open('minimized_with_com_restraint.pdb', 'w'))"
   ]
  },
  {
   "cell_type": "code",
   "execution_count": 214,
   "metadata": {
    "ExecuteTime": {
     "end_time": "2017-11-16T10:44:51.337143Z",
     "start_time": "2017-11-16T10:44:29.185524Z"
    },
    "collapsed": true
   },
   "outputs": [],
   "source": [
    "# sim.reporters.append(app.PDBReporter('minimized_with_com_restraint.pdb', 1))\n",
    "# sim.reporters.append(app.DCDReporter('tmp.dcd', 1))\n",
    "# sim.step(10000)"
   ]
  },
  {
   "cell_type": "markdown",
   "metadata": {},
   "source": [
    "# OpenMM with two group restraints (from pAPRika)"
   ]
  },
  {
   "cell_type": "code",
   "execution_count": 237,
   "metadata": {
    "ExecuteTime": {
     "end_time": "2017-11-16T11:25:46.762822Z",
     "start_time": "2017-11-16T11:25:46.564109Z"
    }
   },
   "outputs": [
    {
     "name": "stderr",
     "output_type": "stream",
     "text": [
      "2017-11-16 11:25:46 AM Calculating attach targets and force constants...\n",
      "2017-11-16 11:25:46 AM Method #3\n",
      "2017-11-16 11:25:46 AM Calculating pull targets and force constants...\n",
      "2017-11-16 11:25:46 AM Method #1\n",
      "2017-11-16 11:25:46 AM Calculating release targets and force constants...\n",
      "2017-11-16 11:25:46 AM Method #1\n",
      "2017-11-16 11:25:46 AM Number of attach windows = 5\n",
      "2017-11-16 11:25:46 AM Number of pull windows = 11\n",
      "2017-11-16 11:25:46 AM Number of release windows = 5\n",
      "2017-11-16 11:25:46 AM Assigning atom indices ...\n",
      "2017-11-16 11:25:46 AM Loaded vac.pdb...\n",
      "2017-11-16 11:25:46 AM There are 108 atoms in the mask :CB6@*  ...\n",
      "2017-11-16 11:25:46 AM Loaded vac.pdb...\n",
      "2017-11-16 11:25:46 AM There are 14 atoms in the mask :BUT@*  ...\n"
     ]
    }
   ],
   "source": [
    "rest1 = restraints.DAT_restraint()\n",
    "rest1.continuous_apr = True\n",
    "rest1.structure_file = 'vac.pdb'\n",
    "rest1.mask1 = ':CB6@*'\n",
    "rest1.mask2 = ':BUT@*'\n",
    "rest1.attach['target'] = 3.0\n",
    "rest1.attach['fraction_list'] = [0.00, 0.04, 0.181, 0.496, 1.000]\n",
    "rest1.attach['fc_final'] = 5.0\n",
    "rest1.pull['fc'] = rest1.attach['fc_final']\n",
    "rest1.pull['target_initial'] = rest1.attach['target']\n",
    "rest1.pull['target_final'] = 10.0\n",
    "rest1.pull['num_windows'] = 11\n",
    "rest1.release['target'] = rest1.pull['target_final']\n",
    "rest1.release['num_windows'] = len(rest1.attach['fraction_list'])\n",
    "rest1.release['fc_initial'] = rest1.attach['fc_final']\n",
    "rest1.release['fc_final'] = rest1.attach['fc_final']\n",
    "rest1.initialize()"
   ]
  },
  {
   "cell_type": "code",
   "execution_count": 238,
   "metadata": {
    "ExecuteTime": {
     "end_time": "2017-11-16T11:25:47.303755Z",
     "start_time": "2017-11-16T11:25:47.231565Z"
    }
   },
   "outputs": [
    {
     "name": "stdout",
     "output_type": "stream",
     "text": [
      "Creating OpenMM System\n"
     ]
    }
   ],
   "source": [
    "print('Creating OpenMM System')\n",
    "cb6_but = load_file('../test/cb6-but/vac.topo', '../test/cb6-but/vac.crds')\n",
    "system = cb6_but.createSystem(nonbondedMethod=app.NoCutoff,\n",
    "                               constraints=app.HBonds, implicitSolvent=app.GBn2,\n",
    "                               implicitSolventSaltConc=0.1*u.moles/u.liter,\n",
    ")\n",
    "\n",
    "integrator = mm.LangevinIntegrator(\n",
    "                        300*u.kelvin,       # Temperature of heat bath\n",
    "                        1.0/u.picoseconds,  # Friction coefficient\n",
    "                        2.0*u.femtoseconds, # Time step\n",
    ")\n",
    "\n",
    "platform = mm.Platform.getPlatformByName('CUDA')\n",
    "prop = dict(CudaPrecision='mixed') "
   ]
  },
  {
   "cell_type": "code",
   "execution_count": 239,
   "metadata": {
    "ExecuteTime": {
     "end_time": "2017-11-16T11:25:49.256807Z",
     "start_time": "2017-11-16T11:25:49.219812Z"
    }
   },
   "outputs": [
    {
     "name": "stdout",
     "output_type": "stream",
     "text": [
      "Trying to move [1, 2, 3, 4, 5, 6, 7, 8, 9, 10, 11, 12, 13, 14, 15, 16, 17, 18, 19, 20, 21, 22, 23, 24, 25, 26, 27, 28, 29, 30, 31, 32, 33, 34, 35, 36, 37, 38, 39, 40, 41, 42, 43, 44, 45, 46, 47, 48, 49, 50, 51, 52, 53, 54, 55, 56, 57, 58, 59, 60, 61, 62, 63, 64, 65, 66, 67, 68, 69, 70, 71, 72, 73, 74, 75, 76, 77, 78, 79, 80, 81, 82, 83, 84, 85, 86, 87, 88, 89, 90, 91, 92, 93, 94, 95, 96, 97, 98, 99, 100, 101, 102, 103, 104, 105, 106, 107, 108] and [109, 110, 111, 112, 113, 114, 115, 116, 117, 118, 119, 120, 121, 122] to 10.0 A with force constant 5.0 kcal/mol/A**2\n"
     ]
    }
   ],
   "source": [
    "phase = 'pull'\n",
    "window = 10\n",
    "\n",
    "print('Trying to move {} and {} to {} A with force constant {} kcal/mol/A**2'.format(\n",
    "    rest1.index1,\n",
    "    rest1.index2,\n",
    "    rest1.phase[phase]['targets'][window],\n",
    "    rest1.phase[phase]['force_constants'][window]))"
   ]
  },
  {
   "cell_type": "code",
   "execution_count": 240,
   "metadata": {
    "ExecuteTime": {
     "end_time": "2017-11-16T11:25:51.710647Z",
     "start_time": "2017-11-16T11:25:51.303704Z"
    }
   },
   "outputs": [],
   "source": [
    "bond_restraint = mm.CustomCentroidBondForce(2, 'k * (distance(g1, g2) - r_0)^2')\n",
    "bond_restraint.addPerBondParameter('k')\n",
    "bond_restraint.addPerBondParameter('r_0')\n",
    "\n",
    "r_0 = rest1.phase[phase]['targets'][window] * u.angstroms\n",
    "k  = rest1.phase[phase]['force_constants'][window] * u.kilocalories_per_mole/u.angstroms**2\n",
    "\n",
    "g1 = bond_restraint.addGroup([i-1 for i in rest1.index1])\n",
    "g2 = bond_restraint.addGroup([i-1 for i in rest1.index2])\n",
    "\n",
    "\n",
    "bond_restraint.addBond([g1, g2],\n",
    "                       [k, r_0])\n",
    "\n",
    "system.addForce(bond_restraint)\n",
    "\n",
    "# Create the Simulation object\n",
    "sim = app.Simulation(cb6_but.topology, system, integrator, platform, prop)\n",
    "\n",
    "# Set the particle positions\n",
    "sim.context.setPositions(cb6_but.positions)"
   ]
  },
  {
   "cell_type": "code",
   "execution_count": 241,
   "metadata": {
    "ExecuteTime": {
     "end_time": "2017-11-16T11:25:55.730949Z",
     "start_time": "2017-11-16T11:25:55.539205Z"
    }
   },
   "outputs": [
    {
     "name": "stdout",
     "output_type": "stream",
     "text": [
      "Minimizing energy\n"
     ]
    }
   ],
   "source": [
    "# Minimize the energy\n",
    "print('Minimizing energy')\n",
    "sim.minimizeEnergy(maxIterations=500)"
   ]
  },
  {
   "cell_type": "code",
   "execution_count": 242,
   "metadata": {
    "ExecuteTime": {
     "end_time": "2017-11-16T11:26:05.184024Z",
     "start_time": "2017-11-16T11:26:05.142793Z"
    },
    "collapsed": true
   },
   "outputs": [],
   "source": [
    "positions = sim.context.getState(getPositions=True).getPositions()\n",
    "app.PDBFile.writeFile(sim.topology, positions, open('minimized_with_two_com_restraint.pdb', 'w'))"
   ]
  },
  {
   "cell_type": "code",
   "execution_count": null,
   "metadata": {
    "collapsed": true
   },
   "outputs": [],
   "source": []
  }
 ],
 "metadata": {
  "kernelspec": {
   "display_name": "Python 3",
   "language": "python",
   "name": "python3"
  },
  "language_info": {
   "codemirror_mode": {
    "name": "ipython",
    "version": 3
   },
   "file_extension": ".py",
   "mimetype": "text/x-python",
   "name": "python",
   "nbconvert_exporter": "python",
   "pygments_lexer": "ipython3",
   "version": "3.6.0"
  }
 },
 "nbformat": 4,
 "nbformat_minor": 2
}
