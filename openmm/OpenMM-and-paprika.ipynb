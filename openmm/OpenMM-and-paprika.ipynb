{
 "cells": [
  {
   "cell_type": "code",
   "execution_count": 1,
   "metadata": {
    "ExecuteTime": {
     "end_time": "2017-11-14T17:00:58.233226Z",
     "start_time": "2017-11-14T17:00:58.218965Z"
    },
    "collapsed": true
   },
   "outputs": [],
   "source": [
    "%load_ext autoreload\n",
    "%autoreload 2"
   ]
  },
  {
   "cell_type": "code",
   "execution_count": 4,
   "metadata": {
    "ExecuteTime": {
     "end_time": "2017-11-14T17:02:26.287419Z",
     "start_time": "2017-11-14T17:02:26.277059Z"
    },
    "collapsed": true
   },
   "outputs": [],
   "source": [
    "import numpy as np\n",
    "import os"
   ]
  },
  {
   "cell_type": "code",
   "execution_count": 7,
   "metadata": {
    "ExecuteTime": {
     "end_time": "2017-11-14T17:06:36.769452Z",
     "start_time": "2017-11-14T17:06:34.894014Z"
    }
   },
   "outputs": [],
   "source": [
    "import mdtraj as md\n",
    "import parmed as pmd"
   ]
  },
  {
   "cell_type": "code",
   "execution_count": 75,
   "metadata": {
    "ExecuteTime": {
     "end_time": "2017-11-14T17:39:30.096475Z",
     "start_time": "2017-11-14T17:39:30.077078Z"
    },
    "collapsed": true
   },
   "outputs": [],
   "source": [
    "# OpenMM Imports\n",
    "import simtk.openmm as mm\n",
    "import simtk.openmm.app as app\n",
    "import simtk.unit as u"
   ]
  },
  {
   "cell_type": "code",
   "execution_count": 9,
   "metadata": {
    "ExecuteTime": {
     "end_time": "2017-11-14T17:06:36.956995Z",
     "start_time": "2017-11-14T17:06:36.790609Z"
    },
    "collapsed": true
   },
   "outputs": [],
   "source": [
    "from parmed import load_file, unit as u\n",
    "from parmed.openmm import StateDataReporter, NetCDFReporter"
   ]
  },
  {
   "cell_type": "code",
   "execution_count": 10,
   "metadata": {
    "ExecuteTime": {
     "end_time": "2017-11-14T17:06:37.215441Z",
     "start_time": "2017-11-14T17:06:36.959243Z"
    }
   },
   "outputs": [
    {
     "name": "stderr",
     "output_type": "stream",
     "text": [
      "2017-11-14 05:06:37 PM OpenMM support: Yes\n"
     ]
    }
   ],
   "source": [
    "from paprika import align, restraints, simulate, utils"
   ]
  },
  {
   "cell_type": "markdown",
   "metadata": {},
   "source": [
    "# Manual OpenMM run through..."
   ]
  },
  {
   "cell_type": "markdown",
   "metadata": {},
   "source": [
    "## System setup (standard OpenMM code)"
   ]
  },
  {
   "cell_type": "code",
   "execution_count": 32,
   "metadata": {
    "ExecuteTime": {
     "end_time": "2017-11-14T17:12:59.412207Z",
     "start_time": "2017-11-14T17:12:59.176423Z"
    }
   },
   "outputs": [
    {
     "name": "stdout",
     "output_type": "stream",
     "text": [
      "Creating OpenMM System\n"
     ]
    }
   ],
   "source": [
    "print('Creating OpenMM System')\n",
    "cb6_but = load_file('../test/cb6-but/vac.topo', '../test/cb6-but/vac.crds')\n",
    "system = cb6_but.createSystem(nonbondedMethod=app.NoCutoff,\n",
    "                               constraints=app.HBonds, implicitSolvent=app.GBn2,\n",
    "                               implicitSolventSaltConc=0.1*u.moles/u.liter,\n",
    ")\n",
    "\n",
    "# Create the integrator to do Langevin dynamics\n",
    "integrator = mm.LangevinIntegrator(\n",
    "                        300*u.kelvin,       # Temperature of heat bath\n",
    "                        1.0/u.picoseconds,  # Friction coefficient\n",
    "                        2.0*u.femtoseconds, # Time step\n",
    ")\n",
    "\n",
    "# Define the platform to use; CUDA, OpenCL, CPU, or Reference. Or do not specify\n",
    "# the platform to use the default (fastest) platform\n",
    "platform = mm.Platform.getPlatformByName('CUDA')\n",
    "prop = dict(CudaPrecision='mixed') # Use mixed single/double precision\n",
    "\n",
    "# Create the Simulation object\n",
    "sim = app.Simulation(cb6_but.topology, system, integrator, platform, prop)\n",
    "\n",
    "# Set the particle positions\n",
    "sim.context.setPositions(cb6_but.positions)"
   ]
  },
  {
   "cell_type": "markdown",
   "metadata": {},
   "source": [
    "## Minimize"
   ]
  },
  {
   "cell_type": "code",
   "execution_count": 15,
   "metadata": {
    "ExecuteTime": {
     "end_time": "2017-11-14T17:06:43.805655Z",
     "start_time": "2017-11-14T17:06:43.721947Z"
    }
   },
   "outputs": [
    {
     "name": "stdout",
     "output_type": "stream",
     "text": [
      "Minimizing energy\n"
     ]
    }
   ],
   "source": [
    "# Minimize the energy\n",
    "print('Minimizing energy')\n",
    "sim.minimizeEnergy(maxIterations=500)"
   ]
  },
  {
   "cell_type": "code",
   "execution_count": 16,
   "metadata": {
    "ExecuteTime": {
     "end_time": "2017-11-14T17:06:44.252579Z",
     "start_time": "2017-11-14T17:06:44.233606Z"
    }
   },
   "outputs": [
    {
     "name": "stdout",
     "output_type": "stream",
     "text": [
      "-3489.7370789646575 kJ/mol\n"
     ]
    }
   ],
   "source": [
    "st = sim.context.getState(getPositions=True,getEnergy=True)\n",
    "print(st.getPotentialEnergy())"
   ]
  },
  {
   "cell_type": "code",
   "execution_count": 17,
   "metadata": {
    "ExecuteTime": {
     "end_time": "2017-11-14T17:06:45.656408Z",
     "start_time": "2017-11-14T17:06:45.633062Z"
    },
    "collapsed": true
   },
   "outputs": [],
   "source": [
    "sim.reporters.append(app.PDBReporter('minimized_structure.pdb', 1))\n",
    "sim.step(1)"
   ]
  },
  {
   "cell_type": "code",
   "execution_count": 24,
   "metadata": {
    "ExecuteTime": {
     "end_time": "2017-11-14T17:08:31.922511Z",
     "start_time": "2017-11-14T17:08:31.880274Z"
    }
   },
   "outputs": [
    {
     "name": "stdout",
     "output_type": "stream",
     "text": [
      "RMSD = 0.00492 A\n"
     ]
    }
   ],
   "source": [
    "starting = md.load('vac.pdb')\n",
    "final = md.load('minimized_structure.pdb')\n",
    "print('RMSD = {0:1.5f} A'.format(md.rmsd(starting, final)[0]))"
   ]
  },
  {
   "cell_type": "markdown",
   "metadata": {},
   "source": [
    "# OpenMM with single atom restratints (from pAPRika)"
   ]
  },
  {
   "cell_type": "code",
   "execution_count": 145,
   "metadata": {
    "ExecuteTime": {
     "end_time": "2017-11-14T17:51:46.003995Z",
     "start_time": "2017-11-14T17:51:45.842798Z"
    }
   },
   "outputs": [
    {
     "name": "stderr",
     "output_type": "stream",
     "text": [
      "2017-11-14 05:51:45 PM Calculating attach targets and force constants...\n",
      "2017-11-14 05:51:45 PM Method #3\n",
      "2017-11-14 05:51:45 PM Calculating pull targets and force constants...\n",
      "2017-11-14 05:51:45 PM Method #1\n",
      "2017-11-14 05:51:45 PM Calculating release targets and force constants...\n",
      "2017-11-14 05:51:45 PM Method #1\n",
      "2017-11-14 05:51:45 PM Number of attach windows = 5\n",
      "2017-11-14 05:51:45 PM Number of pull windows = 11\n",
      "2017-11-14 05:51:45 PM Number of release windows = 5\n",
      "2017-11-14 05:51:45 PM Assigning atom indices ...\n",
      "2017-11-14 05:51:45 PM Loaded vac.pdb...\n",
      "2017-11-14 05:51:45 PM There are 1 atoms in the mask :CB6@O  ...\n",
      "2017-11-14 05:51:45 PM Loaded vac.pdb...\n",
      "2017-11-14 05:51:46 PM There are 1 atoms in the mask :BUT@C3  ...\n"
     ]
    }
   ],
   "source": [
    "rest1 = restraints.DAT_restraint()\n",
    "rest1.continuous_apr = True\n",
    "rest1.structure_file = 'vac.pdb'\n",
    "rest1.mask1 = ':CB6@O'\n",
    "rest1.mask2 = ':BUT@C3'\n",
    "rest1.attach['target'] = 3.0\n",
    "rest1.attach['fraction_list'] = [0.00, 0.04, 0.181, 0.496, 1.000]\n",
    "rest1.attach['fc_final'] = 5.0\n",
    "rest1.pull['fc'] = rest1.attach['fc_final']\n",
    "rest1.pull['target_initial'] = rest1.attach['target']\n",
    "rest1.pull['target_final'] = 10.0\n",
    "rest1.pull['num_windows'] = 11\n",
    "rest1.release['target'] = rest1.pull['target_final']\n",
    "rest1.release['num_windows'] = len(rest1.attach['fraction_list'])\n",
    "rest1.release['fc_initial'] = rest1.attach['fc_final']\n",
    "rest1.release['fc_final'] = rest1.attach['fc_final']\n",
    "rest1.initialize()"
   ]
  },
  {
   "cell_type": "code",
   "execution_count": 146,
   "metadata": {
    "ExecuteTime": {
     "end_time": "2017-11-14T17:51:46.635054Z",
     "start_time": "2017-11-14T17:51:46.562330Z"
    }
   },
   "outputs": [
    {
     "name": "stdout",
     "output_type": "stream",
     "text": [
      "Creating OpenMM System\n"
     ]
    }
   ],
   "source": [
    "print('Creating OpenMM System')\n",
    "cb6_but = load_file('../test/cb6-but/vac.topo', '../test/cb6-but/vac.crds')\n",
    "system = cb6_but.createSystem(nonbondedMethod=app.NoCutoff,\n",
    "                               constraints=app.HBonds, implicitSolvent=app.GBn2,\n",
    "                               implicitSolventSaltConc=0.1*u.moles/u.liter,\n",
    ")\n",
    "\n",
    "# Create the integrator to do Langevin dynamics\n",
    "integrator = mm.LangevinIntegrator(\n",
    "                        300*u.kelvin,       # Temperature of heat bath\n",
    "                        1.0/u.picoseconds,  # Friction coefficient\n",
    "                        2.0*u.femtoseconds, # Time step\n",
    ")\n",
    "\n",
    "# Define the platform to use; CUDA, OpenCL, CPU, or Reference. Or do not specify\n",
    "# the platform to use the default (fastest) platform\n",
    "platform = mm.Platform.getPlatformByName('CUDA')\n",
    "prop = dict(CudaPrecision='mixed') "
   ]
  },
  {
   "cell_type": "code",
   "execution_count": 147,
   "metadata": {
    "ExecuteTime": {
     "end_time": "2017-11-14T17:51:47.597989Z",
     "start_time": "2017-11-14T17:51:47.317419Z"
    }
   },
   "outputs": [
    {
     "name": "stdout",
     "output_type": "stream",
     "text": [
      "Trying to move 13 and 119 to 10.0 A with force constant 5.0 kcal/mol/A**2\n",
      "10.0 A 5.0 kcal/(A**2 mol)\n"
     ]
    }
   ],
   "source": [
    "phase = 'pull'\n",
    "window = 10\n",
    "\n",
    "print('Trying to move {} and {} to {} A with force constant {} kcal/mol/A**2'.format(\n",
    "    rest1.index1[0],\n",
    "    rest1.index2[0],\n",
    "    rest1.phase[phase]['targets'][window],\n",
    "    rest1.phase[phase]['force_constants'][window]))\n",
    "\n",
    "bond_restraint = mm.CustomBondForce('k * (r - r_0)^2')\n",
    "bond_restraint.addPerBondParameter('k')\n",
    "bond_restraint.addPerBondParameter('r_0')\n",
    "\n",
    "r0 = rest1.phase[phase]['targets'][window] * u.angstroms\n",
    "k  = rest1.phase[phase]['force_constants'][window] * u.kilocalories_per_mole/u.angstroms**2\n",
    "\n",
    "print(r0, k)\n",
    "\n",
    "bond_restraint.addBond(rest1.index1[0], rest1.index2[0],\n",
    "                       [r0, k])\n",
    "\n",
    "system.addForce(bond_restraint)\n",
    "\n",
    "# These must be AFTER the restraints...\n",
    "\n",
    "\n",
    "# Create the Simulation object\n",
    "sim = app.Simulation(cb6_but.topology, system, integrator, platform, prop)\n",
    "\n",
    "# Set the particle positions\n",
    "sim.context.setPositions(cb6_but.positions)"
   ]
  },
  {
   "cell_type": "code",
   "execution_count": 148,
   "metadata": {
    "ExecuteTime": {
     "end_time": "2017-11-14T17:51:48.066902Z",
     "start_time": "2017-11-14T17:51:48.047687Z"
    }
   },
   "outputs": [],
   "source": [
    "# bond_restraint.addGroup(rest1.index1)\n",
    "# bond_restraint.addGroup(rest1.index2)\n",
    "# bond_restraint.addBond([0, 1], [500.0, 10.0])"
   ]
  },
  {
   "cell_type": "code",
   "execution_count": 149,
   "metadata": {
    "ExecuteTime": {
     "end_time": "2017-11-14T17:51:50.114063Z",
     "start_time": "2017-11-14T17:51:48.674585Z"
    }
   },
   "outputs": [
    {
     "name": "stdout",
     "output_type": "stream",
     "text": [
      "Minimizing energy\n"
     ]
    }
   ],
   "source": [
    "# Minimize the energy\n",
    "print('Minimizing energy')\n",
    "sim.minimizeEnergy(maxIterations=500)"
   ]
  },
  {
   "cell_type": "code",
   "execution_count": 150,
   "metadata": {
    "ExecuteTime": {
     "end_time": "2017-11-14T17:51:50.139646Z",
     "start_time": "2017-11-14T17:51:50.115981Z"
    }
   },
   "outputs": [
    {
     "name": "stdout",
     "output_type": "stream",
     "text": [
      "4350888.333659038 kJ/mol\n"
     ]
    }
   ],
   "source": [
    "st = sim.context.getState(getPositions=True,getEnergy=True)\n",
    "print(st.getPotentialEnergy())"
   ]
  },
  {
   "cell_type": "code",
   "execution_count": 151,
   "metadata": {
    "ExecuteTime": {
     "end_time": "2017-11-14T17:51:50.875737Z",
     "start_time": "2017-11-14T17:51:50.848318Z"
    }
   },
   "outputs": [],
   "source": [
    "sim.reporters.append(app.PDBReporter('minimized_with_restraint.pdb', 1))\n",
    "sim.step(1)"
   ]
  },
  {
   "cell_type": "code",
   "execution_count": 152,
   "metadata": {
    "ExecuteTime": {
     "end_time": "2017-11-14T17:51:51.744978Z",
     "start_time": "2017-11-14T17:51:51.713616Z"
    }
   },
   "outputs": [
    {
     "name": "stdout",
     "output_type": "stream",
     "text": [
      "RMSD = 1.41414 A\n"
     ]
    }
   ],
   "source": [
    "starting = md.load('vac.pdb')\n",
    "final = md.load('minimized_with_restraint.pdb')\n",
    "print('RMSD = {0:1.5f} A'.format(md.rmsd(starting, final)[0]))"
   ]
  },
  {
   "cell_type": "code",
   "execution_count": null,
   "metadata": {
    "collapsed": true
   },
   "outputs": [],
   "source": []
  }
 ],
 "metadata": {
  "kernelspec": {
   "display_name": "Python 3",
   "language": "python",
   "name": "python3"
  },
  "language_info": {
   "codemirror_mode": {
    "name": "ipython",
    "version": 3
   },
   "file_extension": ".py",
   "mimetype": "text/x-python",
   "name": "python",
   "nbconvert_exporter": "python",
   "pygments_lexer": "ipython3",
   "version": "3.6.0"
  }
 },
 "nbformat": 4,
 "nbformat_minor": 2
}
