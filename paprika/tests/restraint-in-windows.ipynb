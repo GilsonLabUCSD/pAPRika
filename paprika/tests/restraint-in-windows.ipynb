{
 "cells": [
  {
   "cell_type": "code",
   "execution_count": 10,
   "metadata": {
    "ExecuteTime": {
     "end_time": "2018-02-06T19:42:10.628991Z",
     "start_time": "2018-02-06T19:42:10.602287Z"
    }
   },
   "outputs": [
    {
     "name": "stdout",
     "output_type": "stream",
     "text": [
      "The autoreload extension is already loaded. To reload it, use:\n",
      "  %reload_ext autoreload\n"
     ]
    }
   ],
   "source": [
    "import unittest\n",
    "import warnings\n",
    "import numpy as np\n",
    "import logging as log\n",
    "import subprocess as sp\n",
    "import random as random\n",
    "import parmed as pmd\n",
    "import paprika\n",
    "from paprika.openmm_simulate import *\n",
    "from paprika.restraints import *\n",
    "from paprika.utils import HAS_OPENMM, decompose_openmm_energy\n",
    "\n",
    "%load_ext autoreload\n",
    "%autoreload 2"
   ]
  },
  {
   "cell_type": "code",
   "execution_count": 11,
   "metadata": {
    "ExecuteTime": {
     "end_time": "2018-02-06T19:42:11.753907Z",
     "start_time": "2018-02-06T19:42:11.725200Z"
    }
   },
   "outputs": [],
   "source": [
    "my_simulation = OpenMM_GB_simulation()\n",
    "my_simulation.topology = '../test/cb6-but/vac.topo'\n",
    "my_simulation.md['temperature'] = 300\n",
    "my_simulation.md['nonbonded_method'] = app.NoCutoff\n",
    "my_simulation.md['friction'] = 1/unit.picosecond\n",
    "my_simulation.md['timestep'] = 0.0005*unit.picoseconds\n",
    "my_simulation.md['constraints'] = None\n",
    "my_simulation.md['platform'] = 'Reference'\n",
    "my_simulation.md['precision'] = 'double'\n",
    "my_simulation.md['coordinates'] = '../test/cb6-but/vac.crds'\n",
    "my_simulation.md['steps'] = 10\n",
    "my_simulation.md['output'] = 'tmp.nc'"
   ]
  },
  {
   "cell_type": "code",
   "execution_count": 14,
   "metadata": {
    "ExecuteTime": {
     "end_time": "2018-02-06T19:42:35.402574Z",
     "start_time": "2018-02-06T19:42:35.250332Z"
    }
   },
   "outputs": [
    {
     "name": "stderr",
     "output_type": "stream",
     "text": [
      "2018-02-06 11:42:35 AM Calculating attach targets and force constants...\n",
      "2018-02-06 11:42:35 AM Attach, Method #1\n",
      "2018-02-06 11:42:35 AM Calculating pull targets and force constants...\n",
      "2018-02-06 11:42:35 AM Pull, Method #1\n",
      "2018-02-06 11:42:35 AM Calculating release targets and force constants...\n",
      "2018-02-06 11:42:35 AM Release, Method #1\n",
      "2018-02-06 11:42:35 AM Number of attach windows = 4\n",
      "2018-02-06 11:42:35 AM Number of pull windows = 4\n",
      "2018-02-06 11:42:35 AM Number of release windows = 4\n",
      "2018-02-06 11:42:35 AM Assigning atom indices...\n",
      "2018-02-06 11:42:35 AM Loaded ./cb6-but/cb6-but-notcentered.pdb...\n",
      "2018-02-06 11:42:35 AM There are 6 atoms in the mask :CB6@O,O2,O4,O6,O8,O10  ...\n",
      "2018-02-06 11:42:35 AM Loaded ./cb6-but/cb6-but-notcentered.pdb...\n",
      "2018-02-06 11:42:35 AM There are 1 atoms in the mask :BUT@C3  ...\n"
     ]
    }
   ],
   "source": [
    "rest1 = DAT_restraint()\n",
    "rest1.amber = True\n",
    "rest1.continuous_apr = False\n",
    "rest1.auto_apr = False\n",
    "rest1.topology = './cb6-but/cb6-but-notcentered.pdb'\n",
    "rest1.mask1 = ':CB6@O,O2,O4,O6,O8,O10'\n",
    "rest1.mask2 = ':BUT@C3'\n",
    "rest1.attach['target'] = 3.0\n",
    "rest1.attach['num_windows'] = 4\n",
    "rest1.attach['fc_initial'] = 0.0\n",
    "rest1.attach['fc_final'] = 3.0\n",
    "rest1.pull['fc'] = rest1.attach['fc_final']\n",
    "rest1.pull['num_windows'] = 4\n",
    "rest1.pull['target_initial'] = rest1.attach['target']\n",
    "rest1.pull['target_final'] = 6.0\n",
    "rest1.release['target'] = rest1.pull['target_final']\n",
    "rest1.release['num_windows'] = rest1.attach['num_windows']\n",
    "rest1.release['fc_initial'] = rest1.attach['fc_initial']\n",
    "rest1.release['fc_final'] = rest1.attach['fc_final']\n",
    "rest1.initialize()"
   ]
  },
  {
   "cell_type": "code",
   "execution_count": 142,
   "metadata": {
    "ExecuteTime": {
     "end_time": "2018-02-01T20:17:54.631807Z",
     "start_time": "2018-02-01T20:17:33.475889Z"
    }
   },
   "outputs": [
    {
     "name": "stderr",
     "output_type": "stream",
     "text": [
      "[autoreload of paprika.restraints failed: Traceback (most recent call last):\n",
      "  File \"/home/dslochower/data/applications/anaconda3/lib/python3.6/site-packages/IPython/extensions/autoreload.py\", line 247, in check\n",
      "    superreload(m, reload, self.old_objects)\n",
      "ValueError: __init__() requires a code object with 1 free vars, not 0\n",
      "]\n",
      "2018-02-01 08:17:33 PM Integrator random number seed: 42\n",
      "2018-02-01 08:17:33 PM Platform: Reference\n",
      "2018-02-01 08:17:44 PM Integrator random number seed: 42\n",
      "2018-02-01 08:17:44 PM Platform: Reference\n"
     ]
    },
    {
     "name": "stdout",
     "output_type": "stream",
     "text": [
      "-729.419987123009\n",
      "Adding restraints...\n",
      "22847.43843452656\n"
     ]
    }
   ],
   "source": [
    "forces = []\n",
    "for i in [0, 1]:\n",
    "    prmtop = app.AmberPrmtopFile('../test/cb6-but/vac.topo')\n",
    "    inpcrd = app.AmberInpcrdFile('../test/cb6-but/vac.crds')\n",
    "#     system = prmtop.createSystem(nonbondedMethod=app.NoCutoff, constraints=None)\n",
    "#     integrator = mm.LangevinIntegrator(300, 1/unit.picosecond,  0.0005*unit.picoseconds)\n",
    "#     simulation = app.Simulation(prmtop.topology, system, integrator, mm.Platform.getPlatformByName('Reference'))\n",
    "    \n",
    "    system = my_simulation.setup_system(my_simulation.md, seed=42)    \n",
    "    \n",
    "    if i:\n",
    "        print('Adding restraints...')\n",
    "        bond_restraint = mm.CustomBondForce('k * (r - r_0)^2')\n",
    "        bond_restraint.addPerBondParameter('k')\n",
    "        bond_restraint.addPerBondParameter('r_0')\n",
    "\n",
    "        r_0 = 10.5 * unit.nanometers\n",
    "        k = 1000 * unit.kilojoules_per_mole / unit.nanometers ** 2\n",
    "        bond_restraint.addBond(1, 100, [k, r_0])\n",
    "        system.addForce(bond_restraint)\n",
    "\n",
    "    simulation = my_simulation.setup_simulation(system, my_simulation.md)\n",
    "        \n",
    "    # simulation.context.setPositions(inpcrd.positions)\n",
    "    simulation.context.setVelocitiesToTemperature(300 * unit.kelvin, 42)\n",
    "    simulation.step(1000)\n",
    "    \n",
    "    omm_f = simulation.context.getState(getForces=True).getForces(asNumpy=True).value_in_unit(unit.kilocalories_per_mole/unit.angstroms)\n",
    "    forces.append(omm_f)\n",
    "\n",
    "    state = simulation.context.getState(getEnergy=True)\n",
    "    energy = state.getPotentialEnergy() / unit.kilocalories_per_mole\n",
    "    print(energy)"
   ]
  },
  {
   "cell_type": "code",
   "execution_count": 61,
   "metadata": {
    "ExecuteTime": {
     "end_time": "2018-02-01T17:18:35.487618Z",
     "start_time": "2018-02-01T17:18:35.454334Z"
    }
   },
   "outputs": [
    {
     "data": {
      "text/plain": [
       "<simtk.openmm.openmm.System; proxy of <Swig Object of type 'OpenMM::System *' at 0x7fe633b751b0> >"
      ]
     },
     "execution_count": 61,
     "metadata": {},
     "output_type": "execute_result"
    }
   ],
   "source": [
    "simulation.system"
   ]
  },
  {
   "cell_type": "code",
   "execution_count": 3,
   "metadata": {
    "ExecuteTime": {
     "end_time": "2018-02-02T16:38:45.318457Z",
     "start_time": "2018-02-02T16:38:45.152788Z"
    }
   },
   "outputs": [
    {
     "name": "stdout",
     "output_type": "stream",
     "text": [
      "Total energy = -641.2481\n",
      "Total energy = 23353.1320\n",
      "Restraint energy = 23931.3301\n",
      "Non-restraint energy = -578.1982\n"
     ]
    }
   ],
   "source": [
    "for restraint_on in [0, 1]:\n",
    "    energies = []\n",
    "    prmtop = app.AmberPrmtopFile('../test/cb6-but/vac.topo')\n",
    "    inpcrd = app.AmberInpcrdFile('../test/cb6-but/vac.crds')\n",
    "    system = prmtop.createSystem(nonbondedMethod=app.NoCutoff, constraints=None)\n",
    "    integrator = mm.LangevinIntegrator(300, 1/unit.picosecond,  0.0005*unit.picoseconds)\n",
    "\n",
    "    for force in system.getForces():\n",
    "        force.setForceGroup(10)\n",
    "    \n",
    "    if restraint_on:\n",
    "        bond_restraint = mm.CustomBondForce('k * (r - r_0)^2')\n",
    "        bond_restraint.addPerBondParameter('k')\n",
    "        bond_restraint.addPerBondParameter('r_0')\n",
    "\n",
    "        r_0 = 10.5 * unit.nanometers\n",
    "        k = 1000 * unit.kilojoules_per_mole / unit.nanometers ** 2\n",
    "        bond_restraint.addBond(1, 100, [k, r_0])\n",
    "        system.addForce(bond_restraint)\n",
    "        bond_restraint.setForceGroup(1)\n",
    "\n",
    "    simulation = app.Simulation(prmtop.topology, system, integrator, mm.Platform.getPlatformByName('Reference'))   \n",
    "\n",
    "    simulation.context.setPositions(inpcrd.positions)\n",
    "    simulation.context.setVelocitiesToTemperature(300 * unit.kelvin, 42)\n",
    "    simulation.step(10)\n",
    "    \n",
    "    total_state = simulation.context.getState(getEnergy=True)\n",
    "    total_energy = total_state.getPotentialEnergy() / unit.kilocalories_per_mole\n",
    "    \n",
    "    if restraint_on:\n",
    "        restraint_state = simulation.context.getState(getEnergy=True, groups={1})\n",
    "        restraint_energy = restraint_state.getPotentialEnergy() / unit.kilocalories_per_mole\n",
    "        \n",
    "        non_restraint_state = simulation.context.getState(getEnergy=True, groups={10})\n",
    "        non_restraint_energy = non_restraint_state.getPotentialEnergy() / unit.kilocalorie_per_mole\n",
    "    \n",
    "    print('Total energy = {0:4.4f}'.format(total_energy))\n",
    "    if restraint_on:\n",
    "        print('Restraint energy = {0:4.4f}'.format(restraint_energy))\n",
    "        print('Non-restraint energy = {0:4.4f}'.format(non_restraint_energy))"
   ]
  },
  {
   "cell_type": "code",
   "execution_count": 17,
   "metadata": {
    "ExecuteTime": {
     "end_time": "2018-02-06T19:43:09.502865Z",
     "start_time": "2018-02-06T19:43:09.273586Z"
    }
   },
   "outputs": [
    {
     "name": "stderr",
     "output_type": "stream",
     "text": [
      "2018-02-06 11:43:09 AM Integrator random number seed: 42\n",
      "2018-02-06 11:43:09 AM Added bond restraint between :CB6@O,O2,O4,O6,O8,O10 and :BUT@C3 with target value = 3.0 A and force constant = 3.0 kcal/(A**2 mol)\n",
      "2018-02-06 11:43:09 AM Platform: Reference\n"
     ]
    },
    {
     "name": "stdout",
     "output_type": "stream",
     "text": [
      "Total energy = -799.7242\n",
      "Restraint energy = 15.5837\n",
      "Non-restraint energy = -815.3078\n"
     ]
    }
   ],
   "source": [
    "system = my_simulation.setup_system(my_simulation.md, seed=42)    \n",
    "\n",
    "for force in system.getForces():\n",
    "    force.setForceGroup(10)\n",
    "\n",
    "    \n",
    "system = my_simulation.add_openmm_restraints(system, [rest1], phase='attach', window=3)\n",
    "    \n",
    "simulation = my_simulation.setup_simulation(system, my_simulation.md)\n",
    "simulation.step(10)\n",
    "\n",
    "total_state = simulation.context.getState(getEnergy=True)\n",
    "total_energy = total_state.getPotentialEnergy() / unit.kilocalories_per_mole\n",
    "\n",
    "restraint_state = simulation.context.getState(getEnergy=True, groups={1})\n",
    "restraint_energy = restraint_state.getPotentialEnergy() / unit.kilocalories_per_mole\n",
    "\n",
    "non_restraint_state = simulation.context.getState(getEnergy=True, groups={10})\n",
    "non_restraint_energy = non_restraint_state.getPotentialEnergy() / unit.kilocalorie_per_mole\n",
    "\n",
    "print('Total energy = {0:4.4f}'.format(total_energy))\n",
    "print('Restraint energy = {0:4.4f}'.format(restraint_energy))\n",
    "print('Non-restraint energy = {0:4.4f}'.format(non_restraint_energy))"
   ]
  },
  {
   "cell_type": "code",
   "execution_count": null,
   "metadata": {},
   "outputs": [],
   "source": []
  }
 ],
 "metadata": {
  "kernelspec": {
   "display_name": "Python [default]",
   "language": "python",
   "name": "python3"
  },
  "language_info": {
   "codemirror_mode": {
    "name": "ipython",
    "version": 3
   },
   "file_extension": ".py",
   "mimetype": "text/x-python",
   "name": "python",
   "nbconvert_exporter": "python",
   "pygments_lexer": "ipython3",
   "version": "3.6.4"
  }
 },
 "nbformat": 4,
 "nbformat_minor": 2
}
