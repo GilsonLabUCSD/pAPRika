{
 "cells": [
  {
   "cell_type": "code",
   "execution_count": 11,
   "metadata": {
    "ExecuteTime": {
     "end_time": "2018-02-01T11:47:01.773852Z",
     "start_time": "2018-02-01T11:47:01.751053Z"
    }
   },
   "outputs": [
    {
     "name": "stdout",
     "output_type": "stream",
     "text": [
      "The autoreload extension is already loaded. To reload it, use:\n",
      "  %reload_ext autoreload\n"
     ]
    }
   ],
   "source": [
    "import unittest\n",
    "import warnings\n",
    "import numpy as np\n",
    "import logging as log\n",
    "import subprocess as sp\n",
    "import random as random\n",
    "import parmed as pmd\n",
    "import paprika\n",
    "from paprika.openmm_simulate import *\n",
    "from paprika.restraints import *\n",
    "from paprika.utils import HAS_OPENMM, decompose_openmm_energy\n",
    "\n",
    "%load_ext autoreload\n",
    "%autoreload 2"
   ]
  },
  {
   "cell_type": "code",
   "execution_count": 98,
   "metadata": {
    "ExecuteTime": {
     "end_time": "2018-02-01T16:24:28.998194Z",
     "start_time": "2018-02-01T16:24:28.766632Z"
    },
    "scrolled": false
   },
   "outputs": [
    {
     "name": "stderr",
     "output_type": "stream",
     "text": [
      "2018-02-01 04:24:28 PM Integrator random number seed: 42\n",
      "2018-02-01 04:24:28 PM Platform: Reference\n",
      "2018-02-01 04:24:28 PM Velocity random number seed: 42\n",
      "2018-02-01 04:24:28 PM Running OpenMM MD...\n",
      "2018-02-01 04:24:28 PM MD completed.\n",
      "2018-02-01 04:24:28 PM [<simtk.openmm.openmm.HarmonicBondForce; proxy of <Swig Object of type 'OpenMM::HarmonicBondForce *' at 0x7fb86028a030> >, <simtk.openmm.openmm.HarmonicAngleForce; proxy of <Swig Object of type 'OpenMM::HarmonicAngleForce *' at 0x7fb86028a3c0> >, <simtk.openmm.openmm.PeriodicTorsionForce; proxy of <Swig Object of type 'OpenMM::PeriodicTorsionForce *' at 0x7fb86028a6c0> >, <simtk.openmm.openmm.NonbondedForce; proxy of <Swig Object of type 'OpenMM::NonbondedForce *' at 0x7fb86028a600> >, <simtk.openmm.openmm.CustomGBForce; proxy of <Swig Object of type 'OpenMM::CustomGBForce *' at 0x7fb86028a510> >, <simtk.openmm.openmm.CMMotionRemover; proxy of <Swig Object of type 'OpenMM::CMMotionRemover *' at 0x7fb86028a240> >]\n"
     ]
    },
    {
     "ename": "AttributeError",
     "evalue": "'OpenMM_GB_simulation' object has no attribute 'context'",
     "output_type": "error",
     "traceback": [
      "\u001b[0;31m---------------------------------------------------------------------------\u001b[0m",
      "\u001b[0;31mAttributeError\u001b[0m                            Traceback (most recent call last)",
      "\u001b[0;32m<ipython-input-98-82359fc8daef>\u001b[0m in \u001b[0;36m<module>\u001b[0;34m()\u001b[0m\n\u001b[1;32m     30\u001b[0m     \u001b[0masdf\u001b[0m \u001b[0;34m=\u001b[0m \u001b[0mmy_simulation\u001b[0m\u001b[0;34m.\u001b[0m\u001b[0mrun_md\u001b[0m\u001b[0;34m(\u001b[0m\u001b[0msimulation\u001b[0m\u001b[0;34m,\u001b[0m \u001b[0mseed\u001b[0m\u001b[0;34m=\u001b[0m\u001b[0;36m42\u001b[0m\u001b[0;34m,\u001b[0m \u001b[0msave\u001b[0m\u001b[0;34m=\u001b[0m\u001b[0;32mTrue\u001b[0m\u001b[0;34m)\u001b[0m\u001b[0;34m\u001b[0m\u001b[0m\n\u001b[1;32m     31\u001b[0m     \u001b[0mlog\u001b[0m\u001b[0;34m.\u001b[0m\u001b[0mdebug\u001b[0m\u001b[0;34m(\u001b[0m\u001b[0msystem\u001b[0m\u001b[0;34m.\u001b[0m\u001b[0mgetForces\u001b[0m\u001b[0;34m(\u001b[0m\u001b[0;34m)\u001b[0m\u001b[0;34m)\u001b[0m\u001b[0;34m\u001b[0m\u001b[0m\n\u001b[0;32m---> 32\u001b[0;31m     \u001b[0momm_f\u001b[0m \u001b[0;34m=\u001b[0m \u001b[0mmy_simulation\u001b[0m\u001b[0;34m.\u001b[0m\u001b[0mcontext\u001b[0m\u001b[0;34m.\u001b[0m\u001b[0mgetState\u001b[0m\u001b[0;34m(\u001b[0m\u001b[0mgetForces\u001b[0m\u001b[0;34m=\u001b[0m\u001b[0;32mTrue\u001b[0m\u001b[0;34m)\u001b[0m\u001b[0;34m.\u001b[0m\u001b[0mgetForces\u001b[0m\u001b[0;34m(\u001b[0m\u001b[0masNumpy\u001b[0m\u001b[0;34m=\u001b[0m\u001b[0;32mTrue\u001b[0m\u001b[0;34m)\u001b[0m\u001b[0;34m.\u001b[0m\u001b[0mvalue_in_unit\u001b[0m\u001b[0;34m(\u001b[0m\u001b[0mu\u001b[0m\u001b[0;34m.\u001b[0m\u001b[0mkilocalories_per_mole\u001b[0m\u001b[0;34m/\u001b[0m\u001b[0mu\u001b[0m\u001b[0;34m.\u001b[0m\u001b[0mangstroms\u001b[0m\u001b[0;34m)\u001b[0m\u001b[0;34m\u001b[0m\u001b[0m\n\u001b[0m\u001b[1;32m     33\u001b[0m     \u001b[0mforces\u001b[0m\u001b[0;34m.\u001b[0m\u001b[0mappend\u001b[0m\u001b[0;34m(\u001b[0m\u001b[0momm_f\u001b[0m\u001b[0;34m)\u001b[0m\u001b[0;34m\u001b[0m\u001b[0m\n\u001b[1;32m     34\u001b[0m \u001b[0;34m\u001b[0m\u001b[0m\n",
      "\u001b[0;31mAttributeError\u001b[0m: 'OpenMM_GB_simulation' object has no attribute 'context'"
     ]
    }
   ],
   "source": [
    "forces = []\n",
    "for i in [0, 1]:\n",
    "\n",
    "    my_simulation = OpenMM_GB_simulation()\n",
    "    my_simulation.topology = '../test/cb6-but/vac.topo'\n",
    "    my_simulation.md['platform'] = 'Reference'\n",
    "    my_simulation.md['coordinates'] = '../test/cb6-but/vac.crds'\n",
    "    my_simulation.md['steps'] = 10\n",
    "    my_simulation.md['output'] = 'tmp.nc'\n",
    "    simulation, system = my_simulation.setup_system(my_simulation.md, seed=42)\n",
    "    \n",
    "    if i:\n",
    "        print('Adding restraints...')\n",
    "\n",
    "        restraint = DAT_restraint()\n",
    "        restraint.structure_file = my_simulation.topology\n",
    "        restraint.mask1 = ':BUT@C1'\n",
    "        restraint.mask2 = ':CB6@C1'\n",
    "        restraint.attach['target'] = 15.0\n",
    "        restraint.attach['num_windows'] = 4\n",
    "        restraint.attach['fc_initial'] = 0.0\n",
    "        restraint.attach['fc_final'] = 30.0\n",
    "        restraint.auto_apr = False\n",
    "        restraint.initialize()\n",
    "\n",
    "        system = my_simulation.add_openmm_restraints(system, [restraint], phase='attach', window=3)\n",
    "        # log.debug(system.getForces())\n",
    "\n",
    "       \n",
    "    asdf = my_simulation.run_md(simulation, seed=42, save=True)\n",
    "    log.debug(system.getForces())\n",
    "    omm_f = my_simulation.context.getState(getForces=True).getForces(asNumpy=True).value_in_unit(u.kilocalories_per_mole/u.angstroms)\n",
    "    forces.append(omm_f)\n",
    "\n",
    "    state = my_simulation.context.getState(getEnergy=True)\n",
    "    energy = state.getPotentialEnergy() / unit.kilocalories_per_mole\n",
    "    print(energy)\n",
    "    # del my_simulation\n",
    "print(forces[1] - forces[0])"
   ]
  },
  {
   "cell_type": "code",
   "execution_count": null,
   "metadata": {
    "collapsed": true
   },
   "outputs": [],
   "source": []
  },
  {
   "cell_type": "code",
   "execution_count": null,
   "metadata": {
    "collapsed": true
   },
   "outputs": [],
   "source": []
  },
  {
   "cell_type": "code",
   "execution_count": null,
   "metadata": {
    "collapsed": true
   },
   "outputs": [],
   "source": []
  },
  {
   "cell_type": "code",
   "execution_count": null,
   "metadata": {
    "collapsed": true
   },
   "outputs": [],
   "source": []
  },
  {
   "cell_type": "code",
   "execution_count": 89,
   "metadata": {
    "ExecuteTime": {
     "end_time": "2018-02-01T14:50:43.466235Z",
     "start_time": "2018-02-01T14:50:43.021670Z"
    }
   },
   "outputs": [
    {
     "name": "stderr",
     "output_type": "stream",
     "text": [
      "2018-02-01 02:50:43 PM [<simtk.openmm.openmm.HarmonicBondForce; proxy of <Swig Object of type 'OpenMM::HarmonicBondForce *' at 0x7fb861e94ab0> >, <simtk.openmm.openmm.HarmonicAngleForce; proxy of <Swig Object of type 'OpenMM::HarmonicAngleForce *' at 0x7fb861cc78a0> >, <simtk.openmm.openmm.PeriodicTorsionForce; proxy of <Swig Object of type 'OpenMM::PeriodicTorsionForce *' at 0x7fb861cc7a50> >, <simtk.openmm.openmm.NonbondedForce; proxy of <Swig Object of type 'OpenMM::NonbondedForce *' at 0x7fb861cc7c90> >, <simtk.openmm.openmm.CMMotionRemover; proxy of <Swig Object of type 'OpenMM::CMMotionRemover *' at 0x7fb861cc7ed0> >, <simtk.openmm.openmm.CustomBondForce; proxy of <Swig Object of type 'OpenMM::CustomBondForce *' at 0x7fb861cc7cc0> >]\n"
     ]
    },
    {
     "name": "stdout",
     "output_type": "stream",
     "text": [
      "-640.8881309714086\n",
      "Adding restraints...\n",
      "-639.4468836853105\n",
      "[[ -1.03875795e+00  -2.20976841e-01  -6.53496455e-01]\n",
      " [ -1.15839643e+00  -2.47640044e+00   5.57668278e+00]\n",
      " [ -4.74130096e-01   5.69399718e-01   2.33002875e+00]\n",
      " [  3.56357431e+00  -9.31076466e-01  -1.70566915e+00]\n",
      " [  1.05287012e+00   3.14255016e-01  -9.20928991e-01]\n",
      " [  9.91901784e-01   3.67884408e+00  -3.95002330e-01]\n",
      " [  4.33472429e+00  -2.00538933e+00  -2.71655475e+00]\n",
      " [ -5.28012731e+00   1.34073187e+00  -3.10420488e+00]\n",
      " [ -3.74116691e+00  -2.34616693e+00   3.99144669e-02]\n",
      " [  2.08008135e-01   5.45337483e-03   8.04639208e+00]\n",
      " [  2.83169147e+00  -5.32787597e-01   2.02554090e+00]\n",
      " [ -2.51123371e+00  -6.36686227e-01  -4.31209380e+00]\n",
      " [ -7.16820832e-01   7.02752985e-01  -2.07366948e+00]\n",
      " [  9.96931628e-01   6.80550665e-01   2.78764343e+00]\n",
      " [  2.68111710e-01  -8.44974735e-01   1.20101045e-01]\n",
      " [  1.59596646e+00   3.00220806e+00   1.28244577e+00]\n",
      " [ -2.48783280e-01   3.38665303e-01  -4.37854223e+00]\n",
      " [  4.68311504e-01  -7.17283948e-01  -1.12023572e+00]\n",
      " [  2.53668087e+00  -2.19209823e+00   1.90597982e+00]\n",
      " [ -3.08701340e+00   8.00274766e-01   2.43893345e+00]\n",
      " [ -3.30704266e-01  -5.94681499e-01  -1.36975746e+00]\n",
      " [ -2.84130442e+00   1.00970289e+00  -8.95157287e-01]\n",
      " [ -8.08848679e-01   5.10522539e-01   2.46722715e-01]\n",
      " [  1.98650939e+00  -1.50160581e+00   1.81547646e-01]\n",
      " [  1.17552429e-01  -1.45239488e+00  -3.49437901e+00]\n",
      " [ -4.56857913e-01   1.91719599e+00  -1.59459324e+00]\n",
      " [  3.20453771e+00   1.45932178e+00   2.87136265e+00]\n",
      " [ -1.91983702e+00  -3.48497699e+00   1.19641700e+00]\n",
      " [  1.96403428e+00  -2.82150199e+00   2.37033529e+00]\n",
      " [ -5.74878372e-02   7.84621826e-01   1.62739933e+00]\n",
      " [ -8.53871266e-01   1.35546364e+00  -1.94268996e+00]\n",
      " [  3.24977424e-01   4.37827024e-01  -1.70949780e-01]\n",
      " [ -1.13336402e+00  -1.17386799e+00  -2.57050829e+00]\n",
      " [ -8.19125014e-01   2.66595171e-01   6.80641650e-02]\n",
      " [ -3.80005920e-01   1.48191079e+00   1.00268010e+00]\n",
      " [ -8.08516868e-01   1.85374025e+00   3.15467113e-01]\n",
      " [  1.19445276e+00  -3.21861658e+00  -3.38391515e+00]\n",
      " [ -2.39169023e+00  -4.68986095e-01  -1.78188039e-01]\n",
      " [  5.06601262e-01   1.50659891e+00  -8.62937825e-01]\n",
      " [  2.30754099e+00  -7.31233702e-01   3.90073803e+00]\n",
      " [ -4.27754175e-01   4.70359819e-01   1.42522548e+00]\n",
      " [  1.13316176e-02  -1.03259025e-02  -9.86304359e-01]\n",
      " [  1.61036656e+00   9.79443416e-02  -1.24280857e+00]\n",
      " [  2.16822216e+00   2.36390829e+00   3.88348352e+00]\n",
      " [  5.07727345e-01  -5.13493160e-02   2.85913181e+00]\n",
      " [  3.22192535e+00   1.44170383e-01  -3.63773347e+00]\n",
      " [ -3.06170286e+00  -9.82107446e-01  -4.37375878e+00]\n",
      " [ -1.52540991e+00  -5.10391057e-01  -1.91291932e+00]\n",
      " [  1.61537025e+00   4.95101571e-01   2.97590765e+00]\n",
      " [ -1.31805016e-01   3.06011432e-01   2.21672668e+00]\n",
      " [ -5.77370465e-01  -2.60304331e-01  -1.47907914e+00]\n",
      " [ -3.31206469e-01   6.08567494e-01  -7.44304810e-01]\n",
      " [ -9.57583874e-01  -1.81605165e-01  -5.94834829e-02]\n",
      " [ -8.31119468e-01   1.81931764e-01   1.08166974e+00]\n",
      " [ -1.25247658e+00   1.28063169e+00  -3.21027322e+00]\n",
      " [ -6.51018239e-01  -8.80573738e-01   2.43639797e-01]\n",
      " [ -1.13388275e+00  -1.52950600e+00   4.39648479e+00]\n",
      " [  1.79044318e+00  -3.13565867e-02  -1.49261994e+00]\n",
      " [  2.27822846e+00  -2.61349529e+00   4.55768169e-01]\n",
      " [  8.57913068e-01   1.98340254e+00  -5.13955956e-01]\n",
      " [ -5.59785721e+00  -2.54217196e-01  -1.10448220e+00]\n",
      " [  2.21447038e-01   1.54869814e+00   1.67278975e+00]\n",
      " [  3.60405150e+00  -9.69395603e-01   6.50830218e+00]\n",
      " [ -2.32424036e+00   1.34184219e+00  -3.13803585e+00]\n",
      " [ -6.33270420e-01  -1.09707019e+00  -1.29456239e+00]\n",
      " [  3.28179384e+00   3.15810600e+00  -6.09463458e+00]\n",
      " [ -8.26349450e-02   9.69397584e-01   1.93848863e+00]\n",
      " [ -6.93456433e-01  -1.74661139e+00   3.81092366e+00]\n",
      " [ -7.29494039e-01   9.45690742e-02  -2.18458584e+00]\n",
      " [ -1.16197766e+00   5.76826748e-01  -1.14160290e+00]\n",
      " [  2.35016351e-01   6.25707313e-01   1.13374308e+00]\n",
      " [ -5.23350314e-01  -1.01729658e+00  -1.87236716e-01]\n",
      " [ -2.73749259e+00  -8.08371931e-01  -2.35070993e+00]\n",
      " [ -4.89271729e-01   2.16798387e+00   3.30817209e+00]\n",
      " [  6.16247902e-01  -7.74286801e-02   1.35266488e+00]\n",
      " [ -3.48159087e-01  -1.35901523e+00   8.85360869e-01]\n",
      " [ -1.00754883e-01  -4.45323544e-01   1.73345395e-01]\n",
      " [  9.87239681e-01  -1.18568061e+00  -1.24067662e+00]\n",
      " [ -2.33634043e-01  -2.90949243e-01   3.47185951e-01]\n",
      " [  2.19776182e+00   2.62461739e+00  -2.82058040e+00]\n",
      " [  1.78557078e+00   5.21833263e+00   2.54561870e-01]\n",
      " [ -2.41808658e+00  -3.36268200e+00   1.20198559e+00]\n",
      " [  1.45332089e+00  -5.22999597e-01  -2.14171577e+00]\n",
      " [ -9.33556014e-01   1.08328945e+00  -2.46889098e+00]\n",
      " [ -8.04122114e-01   4.70760835e-01   1.92036622e+00]\n",
      " [  9.89544551e-01  -6.31896670e-01   2.39095437e+00]\n",
      " [ -2.08872169e-01  -6.49512255e-01  -1.06871006e+00]\n",
      " [  6.63429841e-01  -3.75822010e+00   3.83268286e-01]\n",
      " [  6.61249718e-01   1.12764589e+00   7.59804003e-01]\n",
      " [  1.24608456e-01   9.66579748e-01  -6.65635196e-01]\n",
      " [  3.02487458e+00  -1.61424715e+00  -2.58962473e+00]\n",
      " [ -2.85249051e+00   4.14037118e+00   7.94655115e-02]\n",
      " [ -2.00403977e+00   1.22333733e+00  -1.35300788e+00]\n",
      " [  1.85820970e+00   2.64160241e-01  -1.84821356e+00]\n",
      " [ -1.07919384e+00  -1.10885293e+00   9.08925973e-01]\n",
      " [  2.08252500e+00  -1.91873837e-01  -5.25307290e-01]\n",
      " [  1.17998406e+00   9.93720355e-01   2.40111031e+00]\n",
      " [ -1.75254326e+00  -1.06475039e+00   1.75962279e+00]\n",
      " [  1.64755821e+00  -4.36109796e+00  -1.74249096e-01]\n",
      " [  8.62748570e-01   3.60797213e+00  -4.73780262e+00]\n",
      " [  5.95661928e-01  -2.45594418e+00   1.90931623e+00]\n",
      " [  4.39552584e-01  -1.40329052e+00  -4.43001849e-01]\n",
      " [ -1.94557037e-01   2.85450419e-01  -2.73389559e-01]\n",
      " [ -1.81678673e-01   8.70023238e-01   2.91133789e-01]\n",
      " [  7.38605878e-01   4.38053840e-01   4.38678641e-01]\n",
      " [ -2.91418177e+00   1.48665741e+00  -1.44898621e+00]\n",
      " [ -1.16377478e-01  -2.12552477e-01   1.48989312e+00]\n",
      " [ -7.76038081e-01  -1.24675106e+00   1.59126008e+00]\n",
      " [  3.23562817e-01  -8.05487893e-01  -4.61999752e+00]\n",
      " [ -1.69244913e-01   6.31802531e-01  -6.92252585e-01]\n",
      " [ -3.85027335e-01   7.75184754e-01   5.53726867e-01]\n",
      " [ -6.02516101e-01  -1.73270088e+00   1.47639160e+00]\n",
      " [  2.64424520e+00   3.35591997e+00   7.24820783e+00]\n",
      " [ -3.04318412e+00  -2.74913448e+00  -7.09081136e-01]\n",
      " [  2.94898387e+00   3.31147541e+00  -1.71372772e+00]\n",
      " [  6.87779680e-01  -1.45516918e+00  -1.35033199e+00]\n",
      " [ -2.15934236e+00  -9.48622756e-01  -2.32915404e-01]\n",
      " [  3.52667618e-01  -1.09999734e-01  -4.29241982e-02]\n",
      " [ -1.07068690e+00  -2.79693760e+00   1.49504496e+00]\n",
      " [  5.40225823e-01   4.48026561e-02   4.91973711e-01]\n",
      " [  3.49889816e-01   2.77558393e+00  -1.84671886e+00]\n",
      " [ -3.54152360e-01  -2.90728899e-01  -4.87839187e-02]]\n"
     ]
    }
   ],
   "source": [
    "forces = []\n",
    "for i in [0, 1]:\n",
    "    prmtop = app.AmberPrmtopFile('../test/cb6-but/vac.topo')\n",
    "    inpcrd = app.AmberInpcrdFile('../test/cb6-but/vac.crds')\n",
    "    system = prmtop.createSystem(nonbondedMethod=app.NoCutoff, constraints=None)\n",
    "    integrator = mm.LangevinIntegrator(300, 1/u.picosecond,  0.0005*u.picoseconds)\n",
    "    simulation = app.Simulation(prmtop.topology, system, integrator)\n",
    "    simulation.context.setPositions(inpcrd.positions)\n",
    "    \n",
    "    if i:\n",
    "        print('Adding restraints...')\n",
    "        bond_restraint = mm.CustomBondForce('k * (r - r_0)**2')\n",
    "        bond_restraint.addPerBondParameter('k')\n",
    "        bond_restraint.addPerBondParameter('r_0')\n",
    "\n",
    "        r_0 = 1.5 * unit.nanometers\n",
    "        k = 100 * unit.kilojoules_per_mole / unit.nanometers ** 2\n",
    "        bond_restraint.addBond(1, 100, [k, r_0])\n",
    "        system.addForce(bond_restraint)\n",
    "\n",
    "        log.debug(system.getForces())\n",
    "\n",
    "    simulation.context.setVelocitiesToTemperature(300 * unit.kelvin, 42)\n",
    "    simulation.step(10)\n",
    "\n",
    "    omm_f = simulation.context.getState(getForces=True).getForces(asNumpy=True).value_in_unit(u.kilocalories_per_mole/u.angstroms)\n",
    "    forces.append(omm_f)\n",
    "\n",
    "    state = simulation.context.getState(getEnergy=True)\n",
    "    energy = state.getPotentialEnergy() / unit.kilocalories_per_mole\n",
    "    print(energy)\n",
    "    # del my_simulation\n",
    "print(forces[1] - forces[0])"
   ]
  },
  {
   "cell_type": "code",
   "execution_count": null,
   "metadata": {
    "collapsed": true
   },
   "outputs": [],
   "source": []
  },
  {
   "cell_type": "code",
   "execution_count": null,
   "metadata": {
    "collapsed": true
   },
   "outputs": [],
   "source": []
  },
  {
   "cell_type": "code",
   "execution_count": null,
   "metadata": {
    "collapsed": true
   },
   "outputs": [],
   "source": []
  },
  {
   "cell_type": "code",
   "execution_count": null,
   "metadata": {
    "collapsed": true
   },
   "outputs": [],
   "source": []
  },
  {
   "cell_type": "code",
   "execution_count": null,
   "metadata": {
    "collapsed": true
   },
   "outputs": [],
   "source": []
  },
  {
   "cell_type": "code",
   "execution_count": null,
   "metadata": {
    "collapsed": true
   },
   "outputs": [],
   "source": []
  },
  {
   "cell_type": "code",
   "execution_count": null,
   "metadata": {
    "collapsed": true
   },
   "outputs": [],
   "source": []
  },
  {
   "cell_type": "code",
   "execution_count": null,
   "metadata": {
    "collapsed": true
   },
   "outputs": [],
   "source": []
  },
  {
   "cell_type": "code",
   "execution_count": null,
   "metadata": {
    "collapsed": true
   },
   "outputs": [],
   "source": []
  },
  {
   "cell_type": "code",
   "execution_count": null,
   "metadata": {
    "collapsed": true
   },
   "outputs": [],
   "source": []
  },
  {
   "cell_type": "code",
   "execution_count": null,
   "metadata": {
    "collapsed": true
   },
   "outputs": [],
   "source": []
  },
  {
   "cell_type": "code",
   "execution_count": 15,
   "metadata": {
    "ExecuteTime": {
     "end_time": "2018-02-01T11:47:38.043743Z",
     "start_time": "2018-02-01T11:47:38.006882Z"
    }
   },
   "outputs": [
    {
     "name": "stdout",
     "output_type": "stream",
     "text": [
      "-770.6935717188372\n"
     ]
    }
   ],
   "source": [
    "print(energy)"
   ]
  },
  {
   "cell_type": "code",
   "execution_count": 24,
   "metadata": {
    "ExecuteTime": {
     "end_time": "2018-02-01T11:48:58.069484Z",
     "start_time": "2018-02-01T11:48:58.038377Z"
    },
    "collapsed": true
   },
   "outputs": [],
   "source": [
    "state = my_simulation.context.getState(getEnergy=True, getForces=True)"
   ]
  },
  {
   "cell_type": "code",
   "execution_count": 30,
   "metadata": {
    "ExecuteTime": {
     "end_time": "2018-02-01T11:55:56.358782Z",
     "start_time": "2018-02-01T11:55:56.312490Z"
    }
   },
   "outputs": [
    {
     "data": {
      "text/plain": [
       "defaultdict(float,\n",
       "            {'angle': 139.9506130443077,\n",
       "             'bond': 13.609467849964242,\n",
       "             'dihedral': 59.56193375504047,\n",
       "             'nonbonded': -983.8155863681499,\n",
       "             'total': -770.6935717188376})"
      ]
     },
     "execution_count": 30,
     "metadata": {},
     "output_type": "execute_result"
    }
   ],
   "source": [
    "energy_decomposition(parm, my_simulation.context)"
   ]
  },
  {
   "cell_type": "code",
   "execution_count": 72,
   "metadata": {
    "ExecuteTime": {
     "end_time": "2018-02-01T12:37:05.962126Z",
     "start_time": "2018-02-01T12:37:05.943394Z"
    },
    "collapsed": true
   },
   "outputs": [],
   "source": [
    "forces = my_simulation.context.getSystem().getForces()"
   ]
  },
  {
   "cell_type": "code",
   "execution_count": 73,
   "metadata": {
    "ExecuteTime": {
     "end_time": "2018-02-01T12:37:07.291836Z",
     "start_time": "2018-02-01T12:37:07.272248Z"
    }
   },
   "outputs": [
    {
     "data": {
      "text/plain": [
       "[<simtk.openmm.openmm.HarmonicBondForce; proxy of <Swig Object of type 'OpenMM::HarmonicBondForce *' at 0x7fb8623bb2d0> >,\n",
       " <simtk.openmm.openmm.HarmonicAngleForce; proxy of <Swig Object of type 'OpenMM::HarmonicAngleForce *' at 0x7fb8623bbf60> >,\n",
       " <simtk.openmm.openmm.PeriodicTorsionForce; proxy of <Swig Object of type 'OpenMM::PeriodicTorsionForce *' at 0x7fb8623bbae0> >,\n",
       " <simtk.openmm.openmm.NonbondedForce; proxy of <Swig Object of type 'OpenMM::NonbondedForce *' at 0x7fb8623bbba0> >,\n",
       " <simtk.openmm.openmm.CustomGBForce; proxy of <Swig Object of type 'OpenMM::CustomGBForce *' at 0x7fb8623bbed0> >,\n",
       " <simtk.openmm.openmm.CMMotionRemover; proxy of <Swig Object of type 'OpenMM::CMMotionRemover *' at 0x7fb8623bba50> >,\n",
       " <simtk.openmm.openmm.CustomCentroidBondForce; proxy of <Swig Object of type 'OpenMM::CustomCentroidBondForce *' at 0x7fb861e94db0> >]"
      ]
     },
     "execution_count": 73,
     "metadata": {},
     "output_type": "execute_result"
    }
   ],
   "source": [
    "forces"
   ]
  },
  {
   "cell_type": "code",
   "execution_count": 42,
   "metadata": {
    "ExecuteTime": {
     "end_time": "2018-02-01T12:23:05.344381Z",
     "start_time": "2018-02-01T12:23:05.321669Z"
    }
   },
   "outputs": [
    {
     "data": {
      "text/plain": [
       "['ANGLE_FORCE_GROUP',\n",
       " 'BOND_FORCE_GROUP',\n",
       " 'CMAP_FORCE_GROUP',\n",
       " 'DIHEDRAL_FORCE_GROUP',\n",
       " 'IMPROPER_FORCE_GROUP',\n",
       " 'LJ_depth',\n",
       " 'LJ_radius',\n",
       " 'LJ_types',\n",
       " 'NONBONDED_FORCE_GROUP',\n",
       " 'OUT_OF_PLANE_BEND_FORCE_GROUP',\n",
       " 'PI_TORSION_FORCE_GROUP',\n",
       " 'RB_TORSION_FORCE_GROUP',\n",
       " 'STRETCH_BEND_FORCE_GROUP',\n",
       " 'TORSION_TORSION_FORCE_GROUP',\n",
       " 'TRIGONAL_ANGLE_FORCE_GROUP',\n",
       " 'UREY_BRADLEY_FORCE_GROUP',\n",
       " '__add__',\n",
       " '__bool__',\n",
       " '__class__',\n",
       " '__copy__',\n",
       " '__delattr__',\n",
       " '__dict__',\n",
       " '__dir__',\n",
       " '__doc__',\n",
       " '__eq__',\n",
       " '__format__',\n",
       " '__ge__',\n",
       " '__getattribute__',\n",
       " '__getitem__',\n",
       " '__getstate__',\n",
       " '__gt__',\n",
       " '__hash__',\n",
       " '__iadd__',\n",
       " '__imul__',\n",
       " '__init__',\n",
       " '__init_subclass__',\n",
       " '__le__',\n",
       " '__lt__',\n",
       " '__module__',\n",
       " '__mul__',\n",
       " '__ne__',\n",
       " '__new__',\n",
       " '__nonzero__',\n",
       " '__reduce__',\n",
       " '__reduce_ex__',\n",
       " '__repr__',\n",
       " '__rmul__',\n",
       " '__setattr__',\n",
       " '__setstate__',\n",
       " '__sizeof__',\n",
       " '__str__',\n",
       " '__subclasshook__',\n",
       " '__weakref__',\n",
       " '_add_force_to_system',\n",
       " '_add_missing_13_14',\n",
       " '_add_standard_flags',\n",
       " '_box',\n",
       " '_check_section_lengths',\n",
       " '_combining_rule',\n",
       " '_coordinates',\n",
       " '_copy_lj_data',\n",
       " '_get_atom_collection_for_alternate_labels',\n",
       " '_get_gb_parameters',\n",
       " '_get_selection_array',\n",
       " '_label_alternates',\n",
       " '_load_angle_info',\n",
       " '_load_atoms_and_residues',\n",
       " '_load_bond_info',\n",
       " '_load_dihedral_info',\n",
       " '_load_extra_exclusions',\n",
       " '_modify_nonb_exceptions',\n",
       " '_ncopies',\n",
       " '_omm_geometric_force',\n",
       " '_omm_nbfixed_force',\n",
       " '_prune_empty_adjusts',\n",
       " '_prune_empty_angles',\n",
       " '_prune_empty_bonds',\n",
       " '_prune_empty_chiral_frames',\n",
       " '_prune_empty_cmaps',\n",
       " '_prune_empty_dihedrals',\n",
       " '_prune_empty_impropers',\n",
       " '_prune_empty_multipole_frames',\n",
       " '_prune_empty_out_of_plane_bends',\n",
       " '_prune_empty_pi_torsions',\n",
       " '_prune_empty_rb_torsions',\n",
       " '_prune_empty_stretch_bends',\n",
       " '_prune_empty_torsion_torsions',\n",
       " '_prune_empty_trigonal_angles',\n",
       " '_prune_empty_ureys',\n",
       " '_set_nonbonded_tables',\n",
       " '_topology',\n",
       " '_truncate_array',\n",
       " '_xfer_angle_info',\n",
       " '_xfer_atom_info',\n",
       " '_xfer_bond_info',\n",
       " '_xfer_dihedral_info',\n",
       " '_xfer_residue_info',\n",
       " 'acceptors',\n",
       " 'add_atom',\n",
       " 'add_atom_to_residue',\n",
       " 'add_flag',\n",
       " 'adjust_types',\n",
       " 'adjusts',\n",
       " 'amoeba',\n",
       " 'angle_types',\n",
       " 'angles',\n",
       " 'angles_inc_h',\n",
       " 'angles_without_h',\n",
       " 'assign_bonds',\n",
       " 'atoms',\n",
       " 'bond_types',\n",
       " 'bonds',\n",
       " 'bonds_inc_h',\n",
       " 'bonds_without_h',\n",
       " 'box',\n",
       " 'box_vectors',\n",
       " 'chamber',\n",
       " 'charge_flag',\n",
       " 'chiral_frames',\n",
       " 'cmap_types',\n",
       " 'cmaps',\n",
       " 'combining_rule',\n",
       " 'coordinates',\n",
       " 'copy',\n",
       " 'crdname',\n",
       " 'createSystem',\n",
       " 'delete_flag',\n",
       " 'dihedral_types',\n",
       " 'dihedrals',\n",
       " 'dihedrals_inc_h',\n",
       " 'dihedrals_without_h',\n",
       " 'donors',\n",
       " 'fill_LJ',\n",
       " 'flag_list',\n",
       " 'formats',\n",
       " 'from_rawdata',\n",
       " 'from_structure',\n",
       " 'get_box',\n",
       " 'get_coordinates',\n",
       " 'groups',\n",
       " 'has_1012',\n",
       " 'has_NBFIX',\n",
       " 'has_cmap',\n",
       " 'hasbox',\n",
       " 'hasvels',\n",
       " 'id_format',\n",
       " 'improper_types',\n",
       " 'impropers',\n",
       " 'initialize_topology',\n",
       " 'is_changed',\n",
       " 'join_dihedrals',\n",
       " 'load_atom_info',\n",
       " 'load_dataframe',\n",
       " 'load_pointers',\n",
       " 'load_rst7',\n",
       " 'load_structure',\n",
       " 'multipole_frames',\n",
       " 'name',\n",
       " 'nrexcl',\n",
       " 'omm_add_constraints',\n",
       " 'omm_angle_force',\n",
       " 'omm_bond_force',\n",
       " 'omm_cmap_force',\n",
       " 'omm_dihedral_force',\n",
       " 'omm_gbsa_force',\n",
       " 'omm_improper_force',\n",
       " 'omm_nonbonded_force',\n",
       " 'omm_out_of_plane_bend_force',\n",
       " 'omm_pi_torsion_force',\n",
       " 'omm_rb_torsion_force',\n",
       " 'omm_set_virtual_sites',\n",
       " 'omm_stretch_bend_force',\n",
       " 'omm_torsion_torsion_force',\n",
       " 'omm_trigonal_angle_force',\n",
       " 'omm_urey_bradley_force',\n",
       " 'out_of_plane_bend_types',\n",
       " 'out_of_plane_bends',\n",
       " 'parm_comments',\n",
       " 'parm_data',\n",
       " 'parse',\n",
       " 'pi_torsion_types',\n",
       " 'pi_torsions',\n",
       " 'pointers',\n",
       " 'positions',\n",
       " 'prune_empty_terms',\n",
       " 'ptr',\n",
       " 'rb_torsion_types',\n",
       " 'rb_torsions',\n",
       " 'rdparm',\n",
       " 'rdparm_old',\n",
       " 'rdparm_slow',\n",
       " 'recalculate_LJ',\n",
       " 'rediscover_molecules',\n",
       " 'remake_parm',\n",
       " 'residues',\n",
       " 'save',\n",
       " 'set_version',\n",
       " 'space_group',\n",
       " 'split',\n",
       " 'stretch_bend_types',\n",
       " 'stretch_bends',\n",
       " 'strip',\n",
       " 'symmetry',\n",
       " 'title',\n",
       " 'to_dataframe',\n",
       " 'topology',\n",
       " 'torsion_torsion_types',\n",
       " 'torsion_torsions',\n",
       " 'trigonal_angle_types',\n",
       " 'trigonal_angles',\n",
       " 'unchange',\n",
       " 'unknown_functional',\n",
       " 'update_dihedral_exclusions',\n",
       " 'urey_bradley_types',\n",
       " 'urey_bradleys',\n",
       " 'velocities',\n",
       " 'version',\n",
       " 'view',\n",
       " 'view_as',\n",
       " 'visualize',\n",
       " 'write_cif',\n",
       " 'write_parm',\n",
       " 'write_pdb',\n",
       " 'write_psf',\n",
       " 'write_rst7']"
      ]
     },
     "execution_count": 42,
     "metadata": {},
     "output_type": "execute_result"
    }
   ],
   "source": [
    "dir(parm)"
   ]
  },
  {
   "cell_type": "code",
   "execution_count": 44,
   "metadata": {
    "ExecuteTime": {
     "end_time": "2018-02-01T12:23:30.662724Z",
     "start_time": "2018-02-01T12:23:30.632378Z"
    },
    "collapsed": true
   },
   "outputs": [],
   "source": [
    "state = my_simulation.context.getState(getEnergy=True)"
   ]
  },
  {
   "cell_type": "code",
   "execution_count": 60,
   "metadata": {
    "ExecuteTime": {
     "end_time": "2018-02-01T12:27:31.178907Z",
     "start_time": "2018-02-01T12:27:31.159841Z"
    }
   },
   "outputs": [
    {
     "name": "stdout",
     "output_type": "stream",
     "text": [
      "-3224.58190\n"
     ]
    }
   ],
   "source": [
    "print('{0:5.5f}'.format(state.getPotentialEnergy()._value))"
   ]
  },
  {
   "cell_type": "markdown",
   "metadata": {},
   "source": [
    "# A Swails test"
   ]
  },
  {
   "cell_type": "code",
   "execution_count": 28,
   "metadata": {
    "ExecuteTime": {
     "end_time": "2018-02-01T11:54:55.360750Z",
     "start_time": "2018-02-01T11:54:55.290049Z"
    },
    "collapsed": true
   },
   "outputs": [],
   "source": [
    "from parmed import Structure, topologyobjects, load_file\n",
    "from parmed.exceptions import ParameterError\n",
    "from parmed.amber import AmberParm, ChamberParm, Rst7\n",
    "from parmed.openmm import load_topology, energy_decomposition_system\n",
    "import parmed.unit as u\n",
    "\n",
    "def energy_decomposition(parm, context):\n",
    "    from parmed.openmm.utils import energy_decomposition\n",
    "    ret = defaultdict(float)\n",
    "    for key, val in energy_decomposition(parm, context).items():\n",
    "        ret[key] = val\n",
    "    return ret\n",
    "\n",
    "parm = AmberParm('../test/cb6-but/vac.topo', '../test/cb6-but/vac.crds')\n",
    "parm.combining_rule\n",
    "system = parm.createSystem() # Default, no cutoff\n",
    "integrator = mm.VerletIntegrator(1.0*u.femtoseconds)\n",
    "CPU = mm.Platform.getPlatformByName('CPU')\n",
    "sim = app.Simulation(parm.topology, system, integrator, platform=CPU)\n",
    "sim.context.setPositions(parm.positions)\n",
    "energies = energy_decomposition(parm, sim.context)"
   ]
  },
  {
   "cell_type": "code",
   "execution_count": 18,
   "metadata": {
    "ExecuteTime": {
     "end_time": "2018-02-01T10:47:51.064547Z",
     "start_time": "2018-02-01T10:47:51.060957Z"
    }
   },
   "outputs": [
    {
     "data": {
      "text/plain": [
       "defaultdict(float,\n",
       "            {'angle': 109.44915017870449,\n",
       "             'bond': 11.411584696403484,\n",
       "             'dihedral': 52.95780165980911,\n",
       "             'nonbonded': -863.3976443701897,\n",
       "             'total': -689.5791078352727})"
      ]
     },
     "execution_count": 18,
     "metadata": {},
     "output_type": "execute_result"
    }
   ],
   "source": [
    "energies"
   ]
  },
  {
   "cell_type": "code",
   "execution_count": 21,
   "metadata": {
    "ExecuteTime": {
     "end_time": "2018-02-01T10:48:49.317313Z",
     "start_time": "2018-02-01T10:48:49.285972Z"
    }
   },
   "outputs": [
    {
     "data": {
      "text/plain": [
       "{'angle': 160.53479464512478,\n",
       " 'bond': 28.537264874081288,\n",
       " 'dihedral': 66.19491634127635,\n",
       " 'nonbonded': -978.8701450751796,\n",
       " 'total': -723.6031692146971}"
      ]
     },
     "execution_count": 21,
     "metadata": {},
     "output_type": "execute_result"
    }
   ],
   "source": [
    "decompose_openmm_energy(parm, my_simulation.context)"
   ]
  },
  {
   "cell_type": "code",
   "execution_count": 74,
   "metadata": {
    "ExecuteTime": {
     "end_time": "2018-02-01T12:37:13.145266Z",
     "start_time": "2018-02-01T12:37:13.112061Z"
    },
    "collapsed": true
   },
   "outputs": [],
   "source": [
    "omm_f = my_simulation.context.getState(getForces=True).getForces(asNumpy=True).value_in_unit(u.kilocalories_per_mole/u.angstroms)"
   ]
  },
  {
   "cell_type": "code",
   "execution_count": 27,
   "metadata": {
    "ExecuteTime": {
     "end_time": "2018-02-01T11:11:50.754434Z",
     "start_time": "2018-02-01T11:11:48.344969Z"
    },
    "collapsed": true
   },
   "outputs": [],
   "source": [
    "omm_e = pmd.openmm.energy_decomposition_system(parm, system)"
   ]
  },
  {
   "cell_type": "code",
   "execution_count": 29,
   "metadata": {
    "ExecuteTime": {
     "end_time": "2018-02-01T11:12:05.462649Z",
     "start_time": "2018-02-01T11:12:05.447145Z"
    }
   },
   "outputs": [
    {
     "ename": "NameError",
     "evalue": "name 'e' is not defined",
     "output_type": "error",
     "traceback": [
      "\u001b[0;31m---------------------------------------------------------------------------\u001b[0m",
      "\u001b[0;31mNameError\u001b[0m                                 Traceback (most recent call last)",
      "\u001b[0;32m<ipython-input-29-fef5e6a3b38c>\u001b[0m in \u001b[0;36m<module>\u001b[0;34m()\u001b[0m\n\u001b[1;32m      1\u001b[0m \u001b[0;32mfor\u001b[0m \u001b[0mname\u001b[0m\u001b[0;34m,\u001b[0m \u001b[0moe\u001b[0m \u001b[0;32min\u001b[0m \u001b[0momm_e\u001b[0m\u001b[0;34m:\u001b[0m\u001b[0;34m\u001b[0m\u001b[0m\n\u001b[1;32m      2\u001b[0m     \u001b[0;32mif\u001b[0m \u001b[0mname\u001b[0m \u001b[0;34m==\u001b[0m \u001b[0;34m'HarmonicBondForce'\u001b[0m\u001b[0;34m:\u001b[0m\u001b[0;34m\u001b[0m\u001b[0m\n\u001b[0;32m----> 3\u001b[0;31m         \u001b[0mterm\u001b[0m\u001b[0;34m,\u001b[0m \u001b[0mae\u001b[0m \u001b[0;34m=\u001b[0m \u001b[0;34m'Bond'\u001b[0m\u001b[0;34m,\u001b[0m \u001b[0me\u001b[0m\u001b[0;34m.\u001b[0m\u001b[0mbond\u001b[0m\u001b[0;34m\u001b[0m\u001b[0m\n\u001b[0m\u001b[1;32m      4\u001b[0m     \u001b[0;32melif\u001b[0m \u001b[0mname\u001b[0m \u001b[0;34m==\u001b[0m \u001b[0;34m'HarmonicAngleForce'\u001b[0m\u001b[0;34m:\u001b[0m\u001b[0;34m\u001b[0m\u001b[0m\n\u001b[1;32m      5\u001b[0m         \u001b[0mterm\u001b[0m\u001b[0;34m,\u001b[0m \u001b[0mae\u001b[0m \u001b[0;34m=\u001b[0m \u001b[0;34m'Angle'\u001b[0m\u001b[0;34m,\u001b[0m \u001b[0me\u001b[0m\u001b[0;34m.\u001b[0m\u001b[0mangle\u001b[0m\u001b[0;34m\u001b[0m\u001b[0m\n",
      "\u001b[0;31mNameError\u001b[0m: name 'e' is not defined"
     ]
    }
   ],
   "source": [
    "for name, oe in omm_e:\n",
    "    if name == 'HarmonicBondForce':\n",
    "        term, ae = 'Bond', e.bond\n",
    "    elif name == 'HarmonicAngleForce':\n",
    "        term, ae = 'Angle', e.angle\n",
    "    elif name == 'PeriodicTorsionForce':\n",
    "        term, ae = 'Dihedral', e.dihedral\n",
    "    elif name == 'NonbondedForce':\n",
    "        term, ae = 'Nonbonded', e.elec+e.vdw+e.elec_14+e.vdw_14\n",
    "    elif name in ('CustomGBForce', 'GBSAOBCForce'):\n",
    "        term, ae = 'GB', e.gb\n",
    "    else:\n",
    "        continue\n",
    "    total += oe\n",
    "    print('%-20s | %15.6f | %15.6f' % (term, ae, oe))\n",
    "print('%-20s | %15.6f | %15.6f' % ('Total', e.tot, total))\n",
    "print('-'*56)\n",
    "print('-'*56)"
   ]
  },
  {
   "cell_type": "code",
   "execution_count": 30,
   "metadata": {
    "ExecuteTime": {
     "end_time": "2018-02-01T11:33:56.625268Z",
     "start_time": "2018-02-01T11:33:56.621638Z"
    }
   },
   "outputs": [
    {
     "data": {
      "text/plain": [
       "[('HarmonicBondForce', 11.411568916467006),\n",
       " ('HarmonicAngleForce', 109.4491824325856),\n",
       " ('PeriodicTorsionForce', 52.95780213733279),\n",
       " ('NonbondedForce', -863.3975139240347),\n",
       " ('CMMotionRemover', 0.0)]"
      ]
     },
     "execution_count": 30,
     "metadata": {},
     "output_type": "execute_result"
    }
   ],
   "source": [
    "omm_e"
   ]
  },
  {
   "cell_type": "code",
   "execution_count": 32,
   "metadata": {
    "ExecuteTime": {
     "end_time": "2018-02-01T11:35:53.499222Z",
     "start_time": "2018-02-01T11:35:53.495121Z"
    }
   },
   "outputs": [
    {
     "data": {
      "text/plain": [
       "[<simtk.openmm.openmm.HarmonicBondForce; proxy of <Swig Object of type 'OpenMM::HarmonicBondForce *' at 0x7f0cb5f297b0> >,\n",
       " <simtk.openmm.openmm.HarmonicAngleForce; proxy of <Swig Object of type 'OpenMM::HarmonicAngleForce *' at 0x7f0cb5f29b40> >,\n",
       " <simtk.openmm.openmm.PeriodicTorsionForce; proxy of <Swig Object of type 'OpenMM::PeriodicTorsionForce *' at 0x7f0cb5f29de0> >,\n",
       " <simtk.openmm.openmm.NonbondedForce; proxy of <Swig Object of type 'OpenMM::NonbondedForce *' at 0x7f0cb5f294b0> >,\n",
       " <simtk.openmm.openmm.CMMotionRemover; proxy of <Swig Object of type 'OpenMM::CMMotionRemover *' at 0x7f0cb5f299f0> >]"
      ]
     },
     "execution_count": 32,
     "metadata": {},
     "output_type": "execute_result"
    }
   ],
   "source": [
    "system."
   ]
  },
  {
   "cell_type": "code",
   "execution_count": 75,
   "metadata": {
    "ExecuteTime": {
     "end_time": "2018-02-01T12:37:15.305439Z",
     "start_time": "2018-02-01T12:37:15.272008Z"
    },
    "scrolled": false
   },
   "outputs": [
    {
     "data": {
      "text/plain": [
       "array([[  5.14730713e+00,  -4.49318019e+01,  -9.02148899e+00],\n",
       "       [ -3.48326901e+00,   5.65181703e+00,  -3.83288455e+00],\n",
       "       [ -3.44723691e+00,   3.52626736e+01,   1.92801105e+01],\n",
       "       [ -1.85871839e+01,   1.27614088e+01,  -6.10363103e+00],\n",
       "       [  6.86853841e-01,   1.89601375e+00,  -7.01208848e+00],\n",
       "       [  1.10181206e+01,  -2.74130421e+00,  -1.17633966e+00],\n",
       "       [ -1.38680337e+01,   2.19669273e+01,   2.51785660e+01],\n",
       "       [  1.63927554e+01,   1.05661323e+01,   1.04091641e+01],\n",
       "       [ -2.86474993e+01,  -8.81544153e+00,   9.86825291e+00],\n",
       "       [ -5.47027596e+00,  -4.63402734e+01,  -7.76507851e+00],\n",
       "       [ -8.35479128e+00,  -1.09225328e+00,  -1.83735993e+00],\n",
       "       [  1.94824438e+01,  -2.89103968e+01,  -2.90174279e+01],\n",
       "       [  3.41656494e+00,   1.06471033e+01,  -2.35079372e+01],\n",
       "       [ -7.53008539e+00,   1.33530803e+01,   2.33926083e+01],\n",
       "       [  8.15380750e+00,  -2.22672435e+00,  -1.99862255e+00],\n",
       "       [  3.79333614e+00,  -2.98012121e-01,  -1.52757489e+00],\n",
       "       [  5.43264911e+00,  -3.24885618e+00,   1.69118828e+00],\n",
       "       [ -1.88583028e+00,   6.81187496e-01,  -5.33269437e+00],\n",
       "       [  1.83461185e+01,   1.23226990e+01,  -4.09639065e+01],\n",
       "       [  6.28972534e+01,  -2.41737267e+01,   1.36998533e+01],\n",
       "       [ -1.70960038e+00,  -1.23091585e+00,   4.20242814e-01],\n",
       "       [ -3.24412436e+01,   5.51094751e+00,   7.28275058e+00],\n",
       "       [ -6.86467331e+00,  -1.68586936e+01,   1.08189929e+01],\n",
       "       [ -7.40039551e+00,  -2.56871950e+00,   5.46282313e+00],\n",
       "       [ -1.53005689e+01,   2.20229459e+01,   2.09121749e+01],\n",
       "       [ -2.52672105e+01,   1.81526585e+01,   3.99980787e+00],\n",
       "       [ -2.96171691e+00,  -2.34297619e+01,  -8.09932061e+00],\n",
       "       [  1.74998211e+01,  -2.33990791e+01,  -4.24598596e+00],\n",
       "       [  1.71648590e+01,  -1.25896058e+01,   3.97082060e+00],\n",
       "       [  1.19401618e+00,  -8.15803955e+00,  -2.38554575e+01],\n",
       "       [ -1.25950147e+01,   2.32659054e+01,  -3.12129284e+01],\n",
       "       [ -7.80407985e+00,   6.03148417e+00,   1.78009075e+01],\n",
       "       [ -3.09142093e+00,  -3.53378033e+00,  -1.56735313e+00],\n",
       "       [  2.09516168e+00,   3.23586524e-01,   7.82243133e+00],\n",
       "       [ -7.29893030e+00,  -2.64501733e+00,   1.70765512e+00],\n",
       "       [  9.49344135e+00,   7.68906452e+00,   1.53254893e-01],\n",
       "       [  1.12894942e+01,  -6.07678535e+00,  -1.44031926e+01],\n",
       "       [  7.22870729e+00,   2.96512546e+01,   1.59775495e+01],\n",
       "       [ -2.90843787e+00,  -1.12748146e+01,  -1.81178369e+01],\n",
       "       [ -1.36850118e+01,  -9.94677194e+00,   7.56935815e+00],\n",
       "       [ -4.08186176e-01,  -1.30093753e+00,  -8.09937909e-01],\n",
       "       [ -1.02906639e+00,  -4.96522813e+00,  -5.62008144e+00],\n",
       "       [ -2.24114623e+01,  -9.82934090e+00,   5.37172642e+00],\n",
       "       [ -6.77731076e+00,   8.44956749e+00,   1.86208454e+01],\n",
       "       [  2.34909769e+01,  -8.36342118e+00,   1.63092175e+00],\n",
       "       [  9.92641100e+00,  -1.93168086e+01,   1.81812216e+01],\n",
       "       [  2.11314288e+01,  -3.60114518e-01,  -1.02644694e+01],\n",
       "       [  1.54992589e+01,   1.52245792e+01,  -3.41832901e+01],\n",
       "       [ -1.37209052e+01,   2.33197635e+00,  -4.83599286e+00],\n",
       "       [ -1.05300269e+01,  -1.38404640e+01,   2.86589322e+01],\n",
       "       [ -6.50901678e+00,   5.12947996e+00,  -2.06466001e+00],\n",
       "       [ -2.20956313e+00,  -1.69417170e+00,  -2.91093181e+00],\n",
       "       [  1.00940186e+00,  -4.08938754e+00,   1.65749809e+00],\n",
       "       [  1.24416342e+00,   6.41206229e+00,  -8.04104982e+00],\n",
       "       [ -2.11106609e+00,  -1.53546664e+01,   2.45757106e+00],\n",
       "       [ -7.67057522e+00,   2.79594851e+01,   1.10227524e+01],\n",
       "       [ -1.07628702e+01,   1.51843026e+01,  -6.35548666e+01],\n",
       "       [  9.09493024e+00,  -5.28816155e+00,   6.31956043e+00],\n",
       "       [ -4.37800426e+00,  -3.34708674e+00,   8.90739225e-01],\n",
       "       [  9.41328634e+00,  -7.80607591e+00,  -5.99007573e+00],\n",
       "       [ -1.36008804e+01,  -8.39900093e+00,   1.77018637e+01],\n",
       "       [ -1.44257083e+01,  -6.21905071e+00,   3.01792422e+01],\n",
       "       [  7.97749840e+00,   1.60071426e+01,  -2.91540534e+00],\n",
       "       [  6.46528813e+00,   1.42104811e+01,  -2.51273715e+01],\n",
       "       [  2.96433249e+01,   1.51031458e+00,   1.58196323e+01],\n",
       "       [ -3.58581965e+00,  -1.21499340e+01,   4.05236554e+01],\n",
       "       [ -1.90921870e+01,  -5.69807709e+00,  -2.83964285e+01],\n",
       "       [  5.00658482e-01,   6.53607432e+00,  -2.08428745e+01],\n",
       "       [ -2.30665987e+00,   1.33703679e+01,  -1.92768908e+00],\n",
       "       [  8.68470065e+00,  -4.85514246e+00,   9.77218797e+00],\n",
       "       [  2.29817761e+01,  -1.04214541e+01,   5.32487242e+00],\n",
       "       [ -1.01139036e+01,   3.72577402e+00,   9.14649059e-02],\n",
       "       [  5.75565356e-01,  -1.53150038e+01,  -8.53581901e+00],\n",
       "       [  3.42158799e+01,   2.57636654e+01,   2.08542521e+01],\n",
       "       [ -1.81215741e+01,  -2.74922473e+01,  -1.33593139e+01],\n",
       "       [  8.11368804e+00,   2.24836233e+01,   1.74298208e+01],\n",
       "       [  5.07948295e-01,  -1.25705098e+01,   4.64710202e-01],\n",
       "       [ -3.44638739e+00,  -5.21098244e+00,  -1.25160810e+01],\n",
       "       [  2.24613462e+01,   1.81180516e+01,  -1.05292315e+01],\n",
       "       [ -3.37858192e+01,   3.50603837e+00,   3.59453147e+01],\n",
       "       [ -1.10677570e+01,  -1.36840030e+00,   1.84657972e+01],\n",
       "       [ -4.71110354e+00,   1.89781149e+01,  -8.19863706e+00],\n",
       "       [  4.68193485e+00,   5.75371127e+00,  -2.06668456e+01],\n",
       "       [ -4.11667711e+01,  -5.58592947e+00,  -3.31401602e+00],\n",
       "       [  7.96648979e+00,  -1.61153715e+01,  -1.75149965e+01],\n",
       "       [  3.33195951e+01,  -9.97899622e+00,   3.68014220e+01],\n",
       "       [ -2.65272714e+00,  -1.98610060e+00,  -1.56592860e+00],\n",
       "       [  2.71362093e+00,   1.60621657e-02,   2.67672946e-01],\n",
       "       [  9.93708360e+00,   9.88250841e-01,   2.31478240e+00],\n",
       "       [ -6.14628374e+00,  -4.72446912e+00,   2.85026600e-01],\n",
       "       [ -1.91551991e+01,  -1.12277491e+00,   1.12854206e+01],\n",
       "       [  1.32530709e+01,   3.82697225e+00,   4.67591451e+00],\n",
       "       [ -1.20740211e+00,   1.85417930e+01,  -1.18835168e+01],\n",
       "       [  2.51810743e+01,   1.48180867e+01,  -1.90089955e-01],\n",
       "       [  1.02347402e+01,  -2.79951965e+00,   1.48091475e+01],\n",
       "       [  1.10024583e+00,   3.48397198e+00,  -4.04553164e+00],\n",
       "       [  1.32791335e+01,  -7.86547552e+00,  -1.61018165e+01],\n",
       "       [ -1.42840219e+01,   3.40938122e+00,   3.72491393e+01],\n",
       "       [ -4.93492034e+00,   1.84321804e+01,   4.60961810e+00],\n",
       "       [ -1.37693018e+01,  -1.00400459e+00,  -2.35396643e+01],\n",
       "       [ -1.12620467e+01,   1.66567585e+01,  -2.33249887e+01],\n",
       "       [ -6.29059348e+00,  -5.57920800e+00,   1.69114856e+01],\n",
       "       [  5.33855469e+00,  -3.25005227e+00,   1.12406866e+01],\n",
       "       [  1.68332482e-01,  -7.94703145e+00,  -2.13482859e+01],\n",
       "       [ -2.70448493e+00,   1.47960543e+01,  -3.61199611e+00],\n",
       "       [  3.07306986e-01,  -1.65460083e+00,   2.92837797e+00],\n",
       "       [ -5.85984931e+00,   7.51622772e+00,   1.73782137e+00],\n",
       "       [  1.09051486e+00,  -1.20025821e+01,  -1.76414149e+00],\n",
       "       [  1.76263171e+01,   1.84461237e+01,   3.19022102e+01],\n",
       "       [  2.33126091e+00,   3.88664546e+00,   6.79722729e-01],\n",
       "       [ -5.32224623e+00,  -5.35463424e-01,  -2.64051362e+00],\n",
       "       [ -3.52326796e+00,  -7.86000401e+00,  -1.01270497e+01],\n",
       "       [ -7.62984463e+00,  -2.49230213e+01,  -2.21555811e+01],\n",
       "       [  2.76975511e+00,  -4.36988478e+00,   4.20229076e-01],\n",
       "       [ -1.64550566e+00,   4.17269974e+01,  -1.13905132e+01],\n",
       "       [ -3.98853632e+00,  -3.00508161e+00,   7.96059676e+00],\n",
       "       [  1.33576318e+00,  -6.28729487e+00,   4.49534216e+00],\n",
       "       [ -1.59896117e+00,  -1.79714176e+00,  -2.99512152e+00],\n",
       "       [ -9.56633331e-01,  -6.91683791e+00,   9.48331110e+00],\n",
       "       [ -6.58105389e-01,  -2.54990322e+00,  -6.91335120e+00],\n",
       "       [  4.09790843e+00,  -1.59794151e+00,  -2.46841648e-01],\n",
       "       [ -2.26787992e+00,  -3.75207439e+00,   1.70308417e+00]])"
      ]
     },
     "execution_count": 75,
     "metadata": {},
     "output_type": "execute_result"
    }
   ],
   "source": [
    "omm_f"
   ]
  },
  {
   "cell_type": "code",
   "execution_count": 82,
   "metadata": {
    "ExecuteTime": {
     "end_time": "2018-02-01T14:42:55.458807Z",
     "start_time": "2018-02-01T14:42:55.439654Z"
    }
   },
   "outputs": [
    {
     "data": {
      "text/plain": [
       "<simtk.openmm.openmm.System; proxy of <Swig Object of type 'OpenMM::System *' at 0x7fb861cc7a20> >"
      ]
     },
     "execution_count": 82,
     "metadata": {},
     "output_type": "execute_result"
    }
   ],
   "source": [
    "system"
   ]
  },
  {
   "cell_type": "code",
   "execution_count": null,
   "metadata": {
    "collapsed": true
   },
   "outputs": [],
   "source": []
  }
 ],
 "metadata": {
  "kernelspec": {
   "display_name": "Python [default]",
   "language": "python",
   "name": "python3"
  },
  "language_info": {
   "codemirror_mode": {
    "name": "ipython",
    "version": 3
   },
   "file_extension": ".py",
   "mimetype": "text/x-python",
   "name": "python",
   "nbconvert_exporter": "python",
   "pygments_lexer": "ipython3",
   "version": "3.6.3"
  }
 },
 "nbformat": 4,
 "nbformat_minor": 2
}
