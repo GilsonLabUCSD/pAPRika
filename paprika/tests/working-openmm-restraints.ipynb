{
 "cells": [
  {
   "cell_type": "code",
   "execution_count": 2,
   "metadata": {
    "ExecuteTime": {
     "end_time": "2018-02-06T19:42:00.121242Z",
     "start_time": "2018-02-06T19:41:59.502684Z"
    }
   },
   "outputs": [
    {
     "name": "stderr",
     "output_type": "stream",
     "text": [
      "2018-02-06 11:41:59 AM OpenMM support: Yes\n"
     ]
    }
   ],
   "source": [
    "import unittest\n",
    "import warnings\n",
    "import numpy as np\n",
    "import logging as log\n",
    "import subprocess as sp\n",
    "import random as random\n",
    "import parmed as pmd\n",
    "import paprika\n",
    "from paprika.openmm_simulate import *\n",
    "from paprika.restraints import *\n",
    "from paprika.utils import HAS_OPENMM, decompose_openmm_energy\n",
    "\n",
    "%load_ext autoreload\n",
    "%autoreload 2"
   ]
  },
  {
   "cell_type": "code",
   "execution_count": 3,
   "metadata": {
    "ExecuteTime": {
     "end_time": "2018-02-06T19:42:02.007450Z",
     "start_time": "2018-02-06T19:42:01.978949Z"
    }
   },
   "outputs": [],
   "source": [
    "my_simulation = OpenMM_GB_simulation()\n",
    "my_simulation.topology = '../test/cb6-but/vac.topo'\n",
    "my_simulation.md['temperature'] = 300\n",
    "my_simulation.md['nonbonded_method'] = app.NoCutoff\n",
    "my_simulation.md['friction'] = 1/unit.picosecond\n",
    "my_simulation.md['timestep'] = 0.0005*unit.picoseconds\n",
    "my_simulation.md['constraints'] = None\n",
    "my_simulation.md['platform'] = 'Reference'\n",
    "my_simulation.md['precision'] = 'double'\n",
    "my_simulation.md['coordinates'] = '../test/cb6-but/vac.crds'\n",
    "my_simulation.md['steps'] = 10\n",
    "my_simulation.md['output'] = 'tmp.nc'"
   ]
  },
  {
   "cell_type": "code",
   "execution_count": null,
   "metadata": {},
   "outputs": [],
   "source": []
  },
  {
   "cell_type": "code",
   "execution_count": 142,
   "metadata": {
    "ExecuteTime": {
     "end_time": "2018-02-01T20:17:54.631807Z",
     "start_time": "2018-02-01T20:17:33.475889Z"
    }
   },
   "outputs": [
    {
     "name": "stderr",
     "output_type": "stream",
     "text": [
      "[autoreload of paprika.restraints failed: Traceback (most recent call last):\n",
      "  File \"/home/dslochower/data/applications/anaconda3/lib/python3.6/site-packages/IPython/extensions/autoreload.py\", line 247, in check\n",
      "    superreload(m, reload, self.old_objects)\n",
      "ValueError: __init__() requires a code object with 1 free vars, not 0\n",
      "]\n",
      "2018-02-01 08:17:33 PM Integrator random number seed: 42\n",
      "2018-02-01 08:17:33 PM Platform: Reference\n",
      "2018-02-01 08:17:44 PM Integrator random number seed: 42\n",
      "2018-02-01 08:17:44 PM Platform: Reference\n"
     ]
    },
    {
     "name": "stdout",
     "output_type": "stream",
     "text": [
      "-729.419987123009\n",
      "Adding restraints...\n",
      "22847.43843452656\n"
     ]
    }
   ],
   "source": [
    "forces = []\n",
    "for i in [0, 1]:\n",
    "    prmtop = app.AmberPrmtopFile('../test/cb6-but/vac.topo')\n",
    "    inpcrd = app.AmberInpcrdFile('../test/cb6-but/vac.crds')\n",
    "#     system = prmtop.createSystem(nonbondedMethod=app.NoCutoff, constraints=None)\n",
    "#     integrator = mm.LangevinIntegrator(300, 1/unit.picosecond,  0.0005*unit.picoseconds)\n",
    "#     simulation = app.Simulation(prmtop.topology, system, integrator, mm.Platform.getPlatformByName('Reference'))\n",
    "    \n",
    "    system = my_simulation.setup_system(my_simulation.md, seed=42)    \n",
    "    \n",
    "    if i:\n",
    "        print('Adding restraints...')\n",
    "        bond_restraint = mm.CustomBondForce('k * (r - r_0)^2')\n",
    "        bond_restraint.addPerBondParameter('k')\n",
    "        bond_restraint.addPerBondParameter('r_0')\n",
    "\n",
    "        r_0 = 10.5 * unit.nanometers\n",
    "        k = 1000 * unit.kilojoules_per_mole / unit.nanometers ** 2\n",
    "        bond_restraint.addBond(1, 100, [k, r_0])\n",
    "        system.addForce(bond_restraint)\n",
    "\n",
    "    simulation = my_simulation.setup_simulation(system, my_simulation.md)\n",
    "        \n",
    "    # simulation.context.setPositions(inpcrd.positions)\n",
    "    simulation.context.setVelocitiesToTemperature(300 * unit.kelvin, 42)\n",
    "    simulation.step(1000)\n",
    "    \n",
    "    omm_f = simulation.context.getState(getForces=True).getForces(asNumpy=True).value_in_unit(unit.kilocalories_per_mole/unit.angstroms)\n",
    "    forces.append(omm_f)\n",
    "\n",
    "    state = simulation.context.getState(getEnergy=True)\n",
    "    energy = state.getPotentialEnergy() / unit.kilocalories_per_mole\n",
    "    print(energy)"
   ]
  },
  {
   "cell_type": "code",
   "execution_count": 61,
   "metadata": {
    "ExecuteTime": {
     "end_time": "2018-02-01T17:18:35.487618Z",
     "start_time": "2018-02-01T17:18:35.454334Z"
    }
   },
   "outputs": [
    {
     "data": {
      "text/plain": [
       "<simtk.openmm.openmm.System; proxy of <Swig Object of type 'OpenMM::System *' at 0x7fe633b751b0> >"
      ]
     },
     "execution_count": 61,
     "metadata": {},
     "output_type": "execute_result"
    }
   ],
   "source": [
    "simulation.system"
   ]
  },
  {
   "cell_type": "code",
   "execution_count": 3,
   "metadata": {
    "ExecuteTime": {
     "end_time": "2018-02-02T16:38:45.318457Z",
     "start_time": "2018-02-02T16:38:45.152788Z"
    }
   },
   "outputs": [
    {
     "name": "stdout",
     "output_type": "stream",
     "text": [
      "Total energy = -641.2481\n",
      "Total energy = 23353.1320\n",
      "Restraint energy = 23931.3301\n",
      "Non-restraint energy = -578.1982\n"
     ]
    }
   ],
   "source": [
    "for restraint_on in [0, 1]:\n",
    "    energies = []\n",
    "    prmtop = app.AmberPrmtopFile('../test/cb6-but/vac.topo')\n",
    "    inpcrd = app.AmberInpcrdFile('../test/cb6-but/vac.crds')\n",
    "    system = prmtop.createSystem(nonbondedMethod=app.NoCutoff, constraints=None)\n",
    "    integrator = mm.LangevinIntegrator(300, 1/unit.picosecond,  0.0005*unit.picoseconds)\n",
    "\n",
    "    for force in system.getForces():\n",
    "        force.setForceGroup(10)\n",
    "    \n",
    "    if restraint_on:\n",
    "        bond_restraint = mm.CustomBondForce('k * (r - r_0)^2')\n",
    "        bond_restraint.addPerBondParameter('k')\n",
    "        bond_restraint.addPerBondParameter('r_0')\n",
    "\n",
    "        r_0 = 10.5 * unit.nanometers\n",
    "        k = 1000 * unit.kilojoules_per_mole / unit.nanometers ** 2\n",
    "        bond_restraint.addBond(1, 100, [k, r_0])\n",
    "        system.addForce(bond_restraint)\n",
    "        bond_restraint.setForceGroup(1)\n",
    "\n",
    "    simulation = app.Simulation(prmtop.topology, system, integrator, mm.Platform.getPlatformByName('Reference'))   \n",
    "\n",
    "    simulation.context.setPositions(inpcrd.positions)\n",
    "    simulation.context.setVelocitiesToTemperature(300 * unit.kelvin, 42)\n",
    "    simulation.step(10)\n",
    "    \n",
    "    total_state = simulation.context.getState(getEnergy=True)\n",
    "    total_energy = total_state.getPotentialEnergy() / unit.kilocalories_per_mole\n",
    "    \n",
    "    if restraint_on:\n",
    "        restraint_state = simulation.context.getState(getEnergy=True, groups={1})\n",
    "        restraint_energy = restraint_state.getPotentialEnergy() / unit.kilocalories_per_mole\n",
    "        \n",
    "        non_restraint_state = simulation.context.getState(getEnergy=True, groups={10})\n",
    "        non_restraint_energy = non_restraint_state.getPotentialEnergy() / unit.kilocalorie_per_mole\n",
    "    \n",
    "    print('Total energy = {0:4.4f}'.format(total_energy))\n",
    "    if restraint_on:\n",
    "        print('Restraint energy = {0:4.4f}'.format(restraint_energy))\n",
    "        print('Non-restraint energy = {0:4.4f}'.format(non_restraint_energy))"
   ]
  },
  {
   "cell_type": "code",
   "execution_count": 15,
   "metadata": {
    "ExecuteTime": {
     "end_time": "2018-02-02T16:51:56.642229Z",
     "start_time": "2018-02-02T16:51:56.623699Z"
    },
    "collapsed": true
   },
   "outputs": [],
   "source": [
    "tmp = simulation.context.getState(getEnergyC"
   ]
  },
  {
   "cell_type": "code",
   "execution_count": 16,
   "metadata": {
    "ExecuteTime": {
     "end_time": "2018-02-02T16:51:57.070811Z",
     "start_time": "2018-02-02T16:51:57.047533Z"
    }
   },
   "outputs": [
    {
     "ename": "TypeError",
     "evalue": "Parameter derivatives were not requested in getState() call, so are not available.",
     "output_type": "error",
     "traceback": [
      "\u001b[0;31m---------------------------------------------------------------------------\u001b[0m",
      "\u001b[0;31mTypeError\u001b[0m                                 Traceback (most recent call last)",
      "\u001b[0;32m<ipython-input-16-7bc70b5d630d>\u001b[0m in \u001b[0;36m<module>\u001b[0;34m()\u001b[0m\n\u001b[0;32m----> 1\u001b[0;31m \u001b[0mtmp\u001b[0m\u001b[0;34m.\u001b[0m\u001b[0mgetEnergyParameterDerivatives\u001b[0m\u001b[0;34m(\u001b[0m\u001b[0;34m)\u001b[0m\u001b[0;34m\u001b[0m\u001b[0m\n\u001b[0m",
      "\u001b[0;32m/home/dslochower/data/applications/anaconda3/lib/python3.6/site-packages/simtk/openmm/openmm.py\u001b[0m in \u001b[0;36mgetEnergyParameterDerivatives\u001b[0;34m(self)\u001b[0m\n\u001b[1;32m   1852\u001b[0m         the Forces that were told to compute it.\"\"\"\n\u001b[1;32m   1853\u001b[0m         \u001b[0;32mif\u001b[0m \u001b[0mself\u001b[0m\u001b[0;34m.\u001b[0m\u001b[0m_paramDerivMap\u001b[0m \u001b[0;32mis\u001b[0m \u001b[0;32mNone\u001b[0m\u001b[0;34m:\u001b[0m\u001b[0;34m\u001b[0m\u001b[0m\n\u001b[0;32m-> 1854\u001b[0;31m             \u001b[0;32mraise\u001b[0m \u001b[0mTypeError\u001b[0m\u001b[0;34m(\u001b[0m\u001b[0;34m'Parameter derivatives were not requested in getState() call, so are not available.'\u001b[0m\u001b[0;34m)\u001b[0m\u001b[0;34m\u001b[0m\u001b[0m\n\u001b[0m\u001b[1;32m   1855\u001b[0m         \u001b[0;32mreturn\u001b[0m \u001b[0mself\u001b[0m\u001b[0;34m.\u001b[0m\u001b[0m_paramDerivMap\u001b[0m\u001b[0;34m\u001b[0m\u001b[0m\n\u001b[1;32m   1856\u001b[0m \u001b[0;34m\u001b[0m\u001b[0m\n",
      "\u001b[0;31mTypeError\u001b[0m: Parameter derivatives were not requested in getState() call, so are not available."
     ]
    }
   ],
   "source": [
    "tmp.getEnergyParameterDerivatives()"
   ]
  },
  {
   "cell_type": "code",
   "execution_count": 146,
   "metadata": {
    "ExecuteTime": {
     "end_time": "2018-02-02T11:16:32.306247Z",
     "start_time": "2018-02-02T11:16:32.264773Z"
    }
   },
   "outputs": [
    {
     "data": {
      "text/plain": [
       "<Topology; 1 chains, 2 residues, 122 atoms, 139 bonds>"
      ]
     },
     "execution_count": 146,
     "metadata": {},
     "output_type": "execute_result"
    }
   ],
   "source": [
    "simulation.topology"
   ]
  },
  {
   "cell_type": "code",
   "execution_count": 128,
   "metadata": {
    "ExecuteTime": {
     "end_time": "2018-02-01T18:09:24.888064Z",
     "start_time": "2018-02-01T18:09:24.863081Z"
    }
   },
   "outputs": [
    {
     "ename": "KeyError",
     "evalue": "0",
     "output_type": "error",
     "traceback": [
      "\u001b[0;31m---------------------------------------------------------------------------\u001b[0m",
      "\u001b[0;31mKeyError\u001b[0m                                  Traceback (most recent call last)",
      "\u001b[0;32m<ipython-input-128-a0c598e71122>\u001b[0m in \u001b[0;36m<module>\u001b[0;34m()\u001b[0m\n\u001b[0;32m----> 1\u001b[0;31m \u001b[0mpmd\u001b[0m\u001b[0;34m.\u001b[0m\u001b[0mopenmm\u001b[0m\u001b[0;34m.\u001b[0m\u001b[0mutils\u001b[0m\u001b[0;34m.\u001b[0m\u001b[0menergy_decomposition\u001b[0m\u001b[0;34m(\u001b[0m\u001b[0mprmtop\u001b[0m\u001b[0;34m,\u001b[0m \u001b[0msimulation\u001b[0m\u001b[0;34m.\u001b[0m\u001b[0mcontext\u001b[0m\u001b[0;34m)\u001b[0m\u001b[0;34m\u001b[0m\u001b[0m\n\u001b[0m",
      "\u001b[0;32m/home/dslochower/data/applications/anaconda3/lib/python3.6/site-packages/parmed/openmm/utils.py\u001b[0m in \u001b[0;36menergy_decomposition\u001b[0;34m(structure, context, nrg)\u001b[0m\n\u001b[1;32m     41\u001b[0m     \u001b[0;32mfor\u001b[0m \u001b[0mforce\u001b[0m \u001b[0;32min\u001b[0m \u001b[0mcontext\u001b[0m\u001b[0;34m.\u001b[0m\u001b[0mgetSystem\u001b[0m\u001b[0;34m(\u001b[0m\u001b[0;34m)\u001b[0m\u001b[0;34m.\u001b[0m\u001b[0mgetForces\u001b[0m\u001b[0;34m(\u001b[0m\u001b[0;34m)\u001b[0m\u001b[0;34m:\u001b[0m\u001b[0;34m\u001b[0m\u001b[0m\n\u001b[1;32m     42\u001b[0m         \u001b[0mgp\u001b[0m \u001b[0;34m=\u001b[0m \u001b[0mforce\u001b[0m\u001b[0;34m.\u001b[0m\u001b[0mgetForceGroup\u001b[0m\u001b[0;34m(\u001b[0m\u001b[0;34m)\u001b[0m\u001b[0;34m\u001b[0m\u001b[0m\n\u001b[0;32m---> 43\u001b[0;31m         \u001b[0mforce_group_names\u001b[0m\u001b[0;34m[\u001b[0m\u001b[0mgp\u001b[0m\u001b[0;34m]\u001b[0m \u001b[0;34m=\u001b[0m \u001b[0mall_names\u001b[0m\u001b[0;34m[\u001b[0m\u001b[0mgp\u001b[0m\u001b[0;34m]\u001b[0m\u001b[0;34m\u001b[0m\u001b[0m\n\u001b[0m\u001b[1;32m     44\u001b[0m \u001b[0;34m\u001b[0m\u001b[0m\n\u001b[1;32m     45\u001b[0m     \u001b[0;32mfor\u001b[0m \u001b[0mgrp\u001b[0m\u001b[0;34m,\u001b[0m \u001b[0mname\u001b[0m \u001b[0;32min\u001b[0m \u001b[0miteritems\u001b[0m\u001b[0;34m(\u001b[0m\u001b[0mforce_group_names\u001b[0m\u001b[0;34m)\u001b[0m\u001b[0;34m:\u001b[0m\u001b[0;34m\u001b[0m\u001b[0m\n",
      "\u001b[0;31mKeyError\u001b[0m: 0"
     ]
    }
   ],
   "source": [
    "pmd.openmm.utils.energy_decomposition(prmtop, simulation.context)"
   ]
  },
  {
   "cell_type": "code",
   "execution_count": 125,
   "metadata": {
    "ExecuteTime": {
     "end_time": "2018-02-01T18:08:41.241481Z",
     "start_time": "2018-02-01T18:08:41.135201Z"
    },
    "collapsed": true
   },
   "outputs": [],
   "source": [
    "parm = pmd.amber.AmberParm('../test/cb6-but/vac.topo')"
   ]
  },
  {
   "cell_type": "code",
   "execution_count": 127,
   "metadata": {
    "ExecuteTime": {
     "end_time": "2018-02-01T18:08:54.418013Z",
     "start_time": "2018-02-01T18:08:54.399397Z"
    }
   },
   "outputs": [
    {
     "data": {
      "text/plain": [
       "<AmberParm 122 atoms; 2 residues; 139 bonds; parametrized>"
      ]
     },
     "execution_count": 127,
     "metadata": {},
     "output_type": "execute_result"
    }
   ],
   "source": [
    "parm"
   ]
  },
  {
   "cell_type": "code",
   "execution_count": 129,
   "metadata": {
    "ExecuteTime": {
     "end_time": "2018-02-01T18:10:13.203631Z",
     "start_time": "2018-02-01T18:10:13.182745Z"
    }
   },
   "outputs": [
    {
     "data": {
      "text/plain": [
       "{'bond': -641.6542515382795, 'total': -641.6542515382795}"
      ]
     },
     "execution_count": 129,
     "metadata": {},
     "output_type": "execute_result"
    }
   ],
   "source": [
    "pmd.openmm.utils.energy_decomposition(parm, simulation.context)"
   ]
  },
  {
   "cell_type": "code",
   "execution_count": 17,
   "metadata": {
    "ExecuteTime": {
     "end_time": "2018-02-04T20:56:47.377192Z",
     "start_time": "2018-02-04T20:56:47.359888Z"
    },
    "collapsed": true
   },
   "outputs": [],
   "source": [
    "import paprika\n",
    "from paprika.align import *\n",
    "from paprika.restraints import *\n",
    "from paprika.utils import *"
   ]
  },
  {
   "cell_type": "code",
   "execution_count": 22,
   "metadata": {
    "ExecuteTime": {
     "end_time": "2018-02-04T21:00:39.999532Z",
     "start_time": "2018-02-04T21:00:39.981641Z"
    }
   },
   "outputs": [
    {
     "data": {
      "text/plain": [
       "<function paprika.utils.index_from_mask>"
      ]
     },
     "execution_count": 22,
     "metadata": {},
     "output_type": "execute_result"
    }
   ],
   "source": [
    "index_from_mask"
   ]
  },
  {
   "cell_type": "code",
   "execution_count": null,
   "metadata": {
    "collapsed": true
   },
   "outputs": [],
   "source": []
  }
 ],
 "metadata": {
  "kernelspec": {
   "display_name": "Python [default]",
   "language": "python",
   "name": "python3"
  },
  "language_info": {
   "codemirror_mode": {
    "name": "ipython",
    "version": 3
   },
   "file_extension": ".py",
   "mimetype": "text/x-python",
   "name": "python",
   "nbconvert_exporter": "python",
   "pygments_lexer": "ipython3",
   "version": "3.6.4"
  }
 },
 "nbformat": 4,
 "nbformat_minor": 2
}
